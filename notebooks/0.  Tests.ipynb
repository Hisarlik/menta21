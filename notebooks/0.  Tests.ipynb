{
 "cells": [
  {
   "cell_type": "code",
   "execution_count": 1,
   "id": "small-instruction",
   "metadata": {},
   "outputs": [],
   "source": [
    "from sklearn.feature_extraction.text import TfidfVectorizer\n",
    "import pandas as pd"
   ]
  },
  {
   "cell_type": "code",
   "execution_count": 2,
   "id": "modular-camping",
   "metadata": {},
   "outputs": [],
   "source": [
    "corpus = [\n",
    "    \"Hello!. Your are the best, don't you ? .\",\n",
    "    \"Lou Reed is the best.\",\n",
    "    \"I like Python (data scientist), Java (Programming) and C.\"\n",
    "    \n",
    "    \n",
    "]"
   ]
  },
  {
   "cell_type": "code",
   "execution_count": 30,
   "id": "global-benefit",
   "metadata": {},
   "outputs": [],
   "source": [
    "corpus = [\n",
    "    \"1234567 ABCDEF G ZX\"\n",
    "   \n",
    "]"
   ]
  },
  {
   "cell_type": "code",
   "execution_count": 31,
   "id": "scenic-issue",
   "metadata": {},
   "outputs": [],
   "source": [
    "vectorizer = TfidfVectorizer(analyzer='char_wb', min_df=0.1, vocabulary=None, norm='l1', ngram_range=(1, 6))"
   ]
  },
  {
   "cell_type": "code",
   "execution_count": 32,
   "id": "adolescent-charm",
   "metadata": {},
   "outputs": [],
   "source": [
    "X = vectorizer.fit_transform(corpus)"
   ]
  },
  {
   "cell_type": "code",
   "execution_count": 33,
   "id": "grand-secretary",
   "metadata": {},
   "outputs": [
    {
     "data": {
      "text/plain": [
       "[' ',\n",
       " ' 1',\n",
       " ' 12',\n",
       " ' 123',\n",
       " ' 1234',\n",
       " ' 12345',\n",
       " ' a',\n",
       " ' ab',\n",
       " ' abc',\n",
       " ' abcd',\n",
       " ' abcde',\n",
       " ' g',\n",
       " ' g ',\n",
       " ' z',\n",
       " ' zx',\n",
       " ' zx ',\n",
       " '1',\n",
       " '12',\n",
       " '123',\n",
       " '1234',\n",
       " '12345',\n",
       " '123456',\n",
       " '2',\n",
       " '23',\n",
       " '234',\n",
       " '2345',\n",
       " '23456',\n",
       " '234567',\n",
       " '3',\n",
       " '34',\n",
       " '345',\n",
       " '3456',\n",
       " '34567',\n",
       " '34567 ',\n",
       " '4',\n",
       " '45',\n",
       " '456',\n",
       " '4567',\n",
       " '4567 ',\n",
       " '5',\n",
       " '56',\n",
       " '567',\n",
       " '567 ',\n",
       " '6',\n",
       " '67',\n",
       " '67 ',\n",
       " '7',\n",
       " '7 ',\n",
       " 'a',\n",
       " 'ab',\n",
       " 'abc',\n",
       " 'abcd',\n",
       " 'abcde',\n",
       " 'abcdef',\n",
       " 'b',\n",
       " 'bc',\n",
       " 'bcd',\n",
       " 'bcde',\n",
       " 'bcdef',\n",
       " 'bcdef ',\n",
       " 'c',\n",
       " 'cd',\n",
       " 'cde',\n",
       " 'cdef',\n",
       " 'cdef ',\n",
       " 'd',\n",
       " 'de',\n",
       " 'def',\n",
       " 'def ',\n",
       " 'e',\n",
       " 'ef',\n",
       " 'ef ',\n",
       " 'f',\n",
       " 'f ',\n",
       " 'g',\n",
       " 'g ',\n",
       " 'x',\n",
       " 'x ',\n",
       " 'z',\n",
       " 'zx',\n",
       " 'zx ']"
      ]
     },
     "execution_count": 33,
     "metadata": {},
     "output_type": "execute_result"
    }
   ],
   "source": [
    "vectorizer.get_feature_names()"
   ]
  },
  {
   "cell_type": "code",
   "execution_count": 8,
   "id": "consolidated-saturn",
   "metadata": {},
   "outputs": [],
   "source": [
    "dense = X.toarray()"
   ]
  },
  {
   "cell_type": "code",
   "execution_count": 9,
   "id": "fifth-platform",
   "metadata": {},
   "outputs": [
    {
     "data": {
      "text/plain": [
       "array([[0.54270061, 0.64105545, 0.54270061, 0.        , 0.        ,\n",
       "        0.        ],\n",
       "       [0.        , 1.        , 0.        , 0.        , 0.        ,\n",
       "        0.        ],\n",
       "       [0.        , 0.20440549, 0.        , 0.        , 0.69217714,\n",
       "        0.69217714]])"
      ]
     },
     "execution_count": 9,
     "metadata": {},
     "output_type": "execute_result"
    }
   ],
   "source": [
    "dense"
   ]
  },
  {
   "cell_type": "code",
   "execution_count": 11,
   "id": "completed-bouquet",
   "metadata": {},
   "outputs": [],
   "source": [
    "vectorizer = TfidfVectorizer(max_features=3000, analyzer='char',\n",
    "                                 ngram_range=(4, 4))"
   ]
  },
  {
   "cell_type": "code",
   "execution_count": 12,
   "id": "million-district",
   "metadata": {},
   "outputs": [
    {
     "data": {
      "text/plain": [
       "TfidfVectorizer(analyzer='char', max_features=3000, ngram_range=(4, 4))"
      ]
     },
     "execution_count": 12,
     "metadata": {},
     "output_type": "execute_result"
    }
   ],
   "source": [
    "vectorizer.fit(corpus)"
   ]
  },
  {
   "cell_type": "code",
   "execution_count": 13,
   "id": "conventional-boundary",
   "metadata": {},
   "outputs": [],
   "source": [
    "transform = vectorizer.transform(corpus)"
   ]
  },
  {
   "cell_type": "code",
   "execution_count": 17,
   "id": "warming-carrier",
   "metadata": {},
   "outputs": [],
   "source": [
    "dense = transform.toarray()"
   ]
  },
  {
   "cell_type": "code",
   "execution_count": 18,
   "id": "educational-collection",
   "metadata": {},
   "outputs": [
    {
     "data": {
      "text/plain": [
       "(3, 102)"
      ]
     },
     "execution_count": 18,
     "metadata": {},
     "output_type": "execute_result"
    }
   ],
   "source": [
    "dense.shape"
   ]
  },
  {
   "cell_type": "code",
   "execution_count": 20,
   "id": "small-lemon",
   "metadata": {},
   "outputs": [
    {
     "data": {
      "text/plain": [
       "[' (da',\n",
       " ' (pr',\n",
       " ' ? .',\n",
       " ' and',\n",
       " ' are',\n",
       " ' bes',\n",
       " ' don',\n",
       " ' is ',\n",
       " ' jav',\n",
       " ' lik',\n",
       " ' pyt',\n",
       " ' ree',\n",
       " ' sci',\n",
       " ' the',\n",
       " ' you',\n",
       " '!. y',\n",
       " \"'t y\",\n",
       " '(dat',\n",
       " '(pro',\n",
       " ') an',\n",
       " '), j',\n",
       " ', do',\n",
       " ', ja',\n",
       " '. yo',\n",
       " 'a (p',\n",
       " 'a sc',\n",
       " 'ammi',\n",
       " 'and ',\n",
       " 'are ',\n",
       " 'ata ',\n",
       " 'ava ',\n",
       " 'best',\n",
       " 'cien',\n",
       " 'd c.',\n",
       " 'd is',\n",
       " 'data',\n",
       " \"don'\",\n",
       " 'e be',\n",
       " 'e py',\n",
       " 'e th',\n",
       " 'ed i',\n",
       " 'eed ',\n",
       " 'ello',\n",
       " 'enti',\n",
       " 'est,',\n",
       " 'est.',\n",
       " 'g) a',\n",
       " 'gram',\n",
       " 'he b',\n",
       " 'hell',\n",
       " 'hon ',\n",
       " 'i li',\n",
       " 'ient',\n",
       " 'ike ',\n",
       " 'ing)',\n",
       " 'is t',\n",
       " 'ist)',\n",
       " 'java',\n",
       " 'ke p',\n",
       " 'like',\n",
       " 'llo!',\n",
       " 'lo!.',\n",
       " 'lou ',\n",
       " 'ming',\n",
       " 'mmin',\n",
       " 'n (d',\n",
       " \"n't \",\n",
       " 'nd c',\n",
       " 'ng) ',\n",
       " 'ntis',\n",
       " 'o!. ',\n",
       " 'ogra',\n",
       " 'on (',\n",
       " \"on't\",\n",
       " 'ou ?',\n",
       " 'ou r',\n",
       " 'our ',\n",
       " 'prog',\n",
       " 'pyth',\n",
       " 'r ar',\n",
       " 'ramm',\n",
       " 're t',\n",
       " 'reed',\n",
       " 'rogr',\n",
       " 's th',\n",
       " 'scie',\n",
       " 'st),',\n",
       " 'st, ',\n",
       " 't yo',\n",
       " 't), ',\n",
       " 't, d',\n",
       " 'ta s',\n",
       " 'the ',\n",
       " 'thon',\n",
       " 'tist',\n",
       " 'u ? ',\n",
       " 'u re',\n",
       " 'ur a',\n",
       " 'va (',\n",
       " 'you ',\n",
       " 'your',\n",
       " 'ytho']"
      ]
     },
     "execution_count": 20,
     "metadata": {},
     "output_type": "execute_result"
    }
   ],
   "source": [
    "vectorizer.get_feature_names()"
   ]
  },
  {
   "cell_type": "code",
   "execution_count": null,
   "id": "colonial-matthew",
   "metadata": {},
   "outputs": [],
   "source": []
  }
 ],
 "metadata": {
  "kernelspec": {
   "display_name": "Python 3",
   "language": "python",
   "name": "python3"
  },
  "language_info": {
   "codemirror_mode": {
    "name": "ipython",
    "version": 3
   },
   "file_extension": ".py",
   "mimetype": "text/x-python",
   "name": "python",
   "nbconvert_exporter": "python",
   "pygments_lexer": "ipython3",
   "version": "3.8.5"
  }
 },
 "nbformat": 4,
 "nbformat_minor": 5
}

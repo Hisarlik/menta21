{
 "cells": [
  {
   "cell_type": "code",
   "execution_count": 17,
   "id": "excess-intermediate",
   "metadata": {},
   "outputs": [],
   "source": [
    "import pandas as pd\n",
    "import numpy as np"
   ]
  },
  {
   "cell_type": "code",
   "execution_count": 18,
   "id": "coordinate-plane",
   "metadata": {},
   "outputs": [],
   "source": [
    "path_training_small_truth = \"../data/pan20-authorship-verification-training-small-truth2.jsonl\"\n",
    "path_training_small = \"../data/pan20-authorship-verification-training-small2.jsonl\"\n"
   ]
  },
  {
   "cell_type": "code",
   "execution_count": 19,
   "id": "gothic-survey",
   "metadata": {},
   "outputs": [],
   "source": [
    "truth = pd.read_json(path_training_small_truth, lines=True)\n",
    "small = pd.read_json(path_training_small, lines=True)"
   ]
  },
  {
   "cell_type": "code",
   "execution_count": 20,
   "id": "moderate-pilot",
   "metadata": {},
   "outputs": [],
   "source": [
    "truth_train = truth[:5200]\n",
    "small_train = small[:5200]\n",
    "truth_test = truth[52000:]\n",
    "small_test = small[52000:]"
   ]
  },
  {
   "cell_type": "code",
   "execution_count": 21,
   "id": "blessed-invalid",
   "metadata": {},
   "outputs": [
    {
     "data": {
      "text/plain": [
       "(id         d39bede2-f27d-57eb-bc79-a45717809c67\n",
       " same                                      False\n",
       " authors                      [4501822, 8896037]\n",
       " Name: 52000, dtype: object,\n",
       " id                      d39bede2-f27d-57eb-bc79-a45717809c67\n",
       " fandoms               [Elder Scroll series, Powerpuff Girls]\n",
       " pair       [The justicar started to ride toward her and i...\n",
       " Name: 52000, dtype: object)"
      ]
     },
     "execution_count": 21,
     "metadata": {},
     "output_type": "execute_result"
    }
   ],
   "source": [
    "truth_test.iloc[0], small_test.iloc[0]"
   ]
  },
  {
   "cell_type": "code",
   "execution_count": 22,
   "id": "assured-pittsburgh",
   "metadata": {},
   "outputs": [],
   "source": [
    "truth_train.to_json(\"../data/test/truth_train.jsonl\", orient='records', lines=True)\n",
    "small_train.to_json(\"../data/test/small_train.jsonl\", orient='records', lines=True)\n",
    "truth_test.to_json(\"../data/test/truth_test.jsonl\", orient='records', lines=True)\n",
    "small_test.to_json(\"../data/test/small_test.jsonl\", orient='records', lines=True)"
   ]
  },
  {
   "cell_type": "code",
   "execution_count": null,
   "id": "controlled-employer",
   "metadata": {},
   "outputs": [],
   "source": []
  },
  {
   "cell_type": "code",
   "execution_count": null,
   "id": "accurate-tomorrow",
   "metadata": {},
   "outputs": [],
   "source": []
  }
 ],
 "metadata": {
  "kernelspec": {
   "display_name": "Python 3",
   "language": "python",
   "name": "python3"
  },
  "language_info": {
   "codemirror_mode": {
    "name": "ipython",
    "version": 3
   },
   "file_extension": ".py",
   "mimetype": "text/x-python",
   "name": "python",
   "nbconvert_exporter": "python",
   "pygments_lexer": "ipython3",
   "version": "3.8.5"
  }
 },
 "nbformat": 4,
 "nbformat_minor": 5
}

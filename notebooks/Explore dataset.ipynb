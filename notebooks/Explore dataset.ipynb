{
 "cells": [
  {
   "cell_type": "code",
   "execution_count": 38,
   "metadata": {},
   "outputs": [],
   "source": [
    "import pandas as pd\n",
    "import numpy as np\n",
    "from sklearn.feature_extraction.text import TfidfVectorizer\n",
    "from sklearn.linear_model import LogisticRegression\n",
    "from sklearn.model_selection import train_test_split\n",
    "from sklearn.metrics import f1_score\n",
    "import string\n"
   ]
  },
  {
   "cell_type": "code",
   "execution_count": 2,
   "metadata": {},
   "outputs": [],
   "source": [
    "path_training_small_truth = \"../data/pan20-authorship-verification-training-small/pan20-authorship-verification-training-small-truth.jsonl\"\n",
    "path_training_small = \"../data/pan20-authorship-verification-training-small/pan20-authorship-verification-training-small.jsonl\""
   ]
  },
  {
   "cell_type": "code",
   "execution_count": 3,
   "metadata": {},
   "outputs": [],
   "source": [
    "df_texts = pd.read_json(path_training_small, lines=True)"
   ]
  },
  {
   "cell_type": "code",
   "execution_count": 4,
   "metadata": {},
   "outputs": [],
   "source": [
    "df_truth = pd.read_json(path_training_small_truth, lines=True)"
   ]
  },
  {
   "cell_type": "code",
   "execution_count": 5,
   "metadata": {},
   "outputs": [],
   "source": [
    "df_join_training_data = pd.concat([df_truth, df_texts], axis=1).reindex(df_truth.index)"
   ]
  },
  {
   "cell_type": "code",
   "execution_count": 6,
   "metadata": {},
   "outputs": [
    {
     "data": {
      "text/html": [
       "<div>\n",
       "<style scoped>\n",
       "    .dataframe tbody tr th:only-of-type {\n",
       "        vertical-align: middle;\n",
       "    }\n",
       "\n",
       "    .dataframe tbody tr th {\n",
       "        vertical-align: top;\n",
       "    }\n",
       "\n",
       "    .dataframe thead th {\n",
       "        text-align: right;\n",
       "    }\n",
       "</style>\n",
       "<table border=\"1\" class=\"dataframe\">\n",
       "  <thead>\n",
       "    <tr style=\"text-align: right;\">\n",
       "      <th></th>\n",
       "      <th>id</th>\n",
       "      <th>same</th>\n",
       "      <th>authors</th>\n",
       "      <th>id</th>\n",
       "      <th>fandoms</th>\n",
       "      <th>pair</th>\n",
       "    </tr>\n",
       "  </thead>\n",
       "  <tbody>\n",
       "    <tr>\n",
       "      <th>0</th>\n",
       "      <td>6cced668-6e51-5212-873c-717f2bc91ce6</td>\n",
       "      <td>True</td>\n",
       "      <td>[1446633, 1446633]</td>\n",
       "      <td>6cced668-6e51-5212-873c-717f2bc91ce6</td>\n",
       "      <td>[Guardians of Ga'Hoole, Hetalia - Axis Powers]</td>\n",
       "      <td>[I shift a bit, warily letting my eyes dart fr...</td>\n",
       "    </tr>\n",
       "    <tr>\n",
       "      <th>1</th>\n",
       "      <td>3c6c188a-db28-59aa-8c09-3d0f799ff579</td>\n",
       "      <td>True</td>\n",
       "      <td>[1446633, 1446633]</td>\n",
       "      <td>3c6c188a-db28-59aa-8c09-3d0f799ff579</td>\n",
       "      <td>[Guardians of Ga'Hoole, Warriors]</td>\n",
       "      <td>[I shift a bit, warily letting my eyes dart fr...</td>\n",
       "    </tr>\n",
       "    <tr>\n",
       "      <th>2</th>\n",
       "      <td>b0cfa94f-c9ec-5aa5-8331-a5a249b664cf</td>\n",
       "      <td>True</td>\n",
       "      <td>[1446633, 1446633]</td>\n",
       "      <td>b0cfa94f-c9ec-5aa5-8331-a5a249b664cf</td>\n",
       "      <td>[Guardians of Ga'Hoole, Xiaolin Showdown]</td>\n",
       "      <td>[A single tear escaped me as I left. I did hav...</td>\n",
       "    </tr>\n",
       "    <tr>\n",
       "      <th>3</th>\n",
       "      <td>e6e86e73-9a7b-58f2-a652-a17b4a1bcabf</td>\n",
       "      <td>True</td>\n",
       "      <td>[1446633, 1446633]</td>\n",
       "      <td>e6e86e73-9a7b-58f2-a652-a17b4a1bcabf</td>\n",
       "      <td>[Hetalia - Axis Powers, Warriors]</td>\n",
       "      <td>[\"Ja.\" Ludwig kept his gaze upon her, solidly....</td>\n",
       "    </tr>\n",
       "    <tr>\n",
       "      <th>4</th>\n",
       "      <td>4fe541af-912e-5a86-81a5-94c6d3891509</td>\n",
       "      <td>True</td>\n",
       "      <td>[1446633, 1446633]</td>\n",
       "      <td>4fe541af-912e-5a86-81a5-94c6d3891509</td>\n",
       "      <td>[Hetalia - Axis Powers, Xiaolin Showdown]</td>\n",
       "      <td>[And he did. Slowly, hesitantly...but coming f...</td>\n",
       "    </tr>\n",
       "  </tbody>\n",
       "</table>\n",
       "</div>"
      ],
      "text/plain": [
       "                                     id  same             authors  \\\n",
       "0  6cced668-6e51-5212-873c-717f2bc91ce6  True  [1446633, 1446633]   \n",
       "1  3c6c188a-db28-59aa-8c09-3d0f799ff579  True  [1446633, 1446633]   \n",
       "2  b0cfa94f-c9ec-5aa5-8331-a5a249b664cf  True  [1446633, 1446633]   \n",
       "3  e6e86e73-9a7b-58f2-a652-a17b4a1bcabf  True  [1446633, 1446633]   \n",
       "4  4fe541af-912e-5a86-81a5-94c6d3891509  True  [1446633, 1446633]   \n",
       "\n",
       "                                     id  \\\n",
       "0  6cced668-6e51-5212-873c-717f2bc91ce6   \n",
       "1  3c6c188a-db28-59aa-8c09-3d0f799ff579   \n",
       "2  b0cfa94f-c9ec-5aa5-8331-a5a249b664cf   \n",
       "3  e6e86e73-9a7b-58f2-a652-a17b4a1bcabf   \n",
       "4  4fe541af-912e-5a86-81a5-94c6d3891509   \n",
       "\n",
       "                                          fandoms  \\\n",
       "0  [Guardians of Ga'Hoole, Hetalia - Axis Powers]   \n",
       "1               [Guardians of Ga'Hoole, Warriors]   \n",
       "2       [Guardians of Ga'Hoole, Xiaolin Showdown]   \n",
       "3               [Hetalia - Axis Powers, Warriors]   \n",
       "4       [Hetalia - Axis Powers, Xiaolin Showdown]   \n",
       "\n",
       "                                                pair  \n",
       "0  [I shift a bit, warily letting my eyes dart fr...  \n",
       "1  [I shift a bit, warily letting my eyes dart fr...  \n",
       "2  [A single tear escaped me as I left. I did hav...  \n",
       "3  [\"Ja.\" Ludwig kept his gaze upon her, solidly....  \n",
       "4  [And he did. Slowly, hesitantly...but coming f...  "
      ]
     },
     "execution_count": 6,
     "metadata": {},
     "output_type": "execute_result"
    }
   ],
   "source": [
    "df_join_training_data.head()"
   ]
  },
  {
   "cell_type": "code",
   "execution_count": 7,
   "metadata": {},
   "outputs": [],
   "source": [
    "df_join_training_data = df_join_training_data.loc[:,~df_join_training_data.columns.duplicated()]"
   ]
  },
  {
   "cell_type": "code",
   "execution_count": 8,
   "metadata": {},
   "outputs": [
    {
     "data": {
      "text/html": [
       "<div>\n",
       "<style scoped>\n",
       "    .dataframe tbody tr th:only-of-type {\n",
       "        vertical-align: middle;\n",
       "    }\n",
       "\n",
       "    .dataframe tbody tr th {\n",
       "        vertical-align: top;\n",
       "    }\n",
       "\n",
       "    .dataframe thead th {\n",
       "        text-align: right;\n",
       "    }\n",
       "</style>\n",
       "<table border=\"1\" class=\"dataframe\">\n",
       "  <thead>\n",
       "    <tr style=\"text-align: right;\">\n",
       "      <th></th>\n",
       "      <th>id</th>\n",
       "      <th>same</th>\n",
       "      <th>authors</th>\n",
       "      <th>fandoms</th>\n",
       "      <th>pair</th>\n",
       "    </tr>\n",
       "  </thead>\n",
       "  <tbody>\n",
       "    <tr>\n",
       "      <th>0</th>\n",
       "      <td>6cced668-6e51-5212-873c-717f2bc91ce6</td>\n",
       "      <td>True</td>\n",
       "      <td>[1446633, 1446633]</td>\n",
       "      <td>[Guardians of Ga'Hoole, Hetalia - Axis Powers]</td>\n",
       "      <td>[I shift a bit, warily letting my eyes dart fr...</td>\n",
       "    </tr>\n",
       "    <tr>\n",
       "      <th>1</th>\n",
       "      <td>3c6c188a-db28-59aa-8c09-3d0f799ff579</td>\n",
       "      <td>True</td>\n",
       "      <td>[1446633, 1446633]</td>\n",
       "      <td>[Guardians of Ga'Hoole, Warriors]</td>\n",
       "      <td>[I shift a bit, warily letting my eyes dart fr...</td>\n",
       "    </tr>\n",
       "    <tr>\n",
       "      <th>2</th>\n",
       "      <td>b0cfa94f-c9ec-5aa5-8331-a5a249b664cf</td>\n",
       "      <td>True</td>\n",
       "      <td>[1446633, 1446633]</td>\n",
       "      <td>[Guardians of Ga'Hoole, Xiaolin Showdown]</td>\n",
       "      <td>[A single tear escaped me as I left. I did hav...</td>\n",
       "    </tr>\n",
       "    <tr>\n",
       "      <th>3</th>\n",
       "      <td>e6e86e73-9a7b-58f2-a652-a17b4a1bcabf</td>\n",
       "      <td>True</td>\n",
       "      <td>[1446633, 1446633]</td>\n",
       "      <td>[Hetalia - Axis Powers, Warriors]</td>\n",
       "      <td>[\"Ja.\" Ludwig kept his gaze upon her, solidly....</td>\n",
       "    </tr>\n",
       "    <tr>\n",
       "      <th>4</th>\n",
       "      <td>4fe541af-912e-5a86-81a5-94c6d3891509</td>\n",
       "      <td>True</td>\n",
       "      <td>[1446633, 1446633]</td>\n",
       "      <td>[Hetalia - Axis Powers, Xiaolin Showdown]</td>\n",
       "      <td>[And he did. Slowly, hesitantly...but coming f...</td>\n",
       "    </tr>\n",
       "  </tbody>\n",
       "</table>\n",
       "</div>"
      ],
      "text/plain": [
       "                                     id  same             authors  \\\n",
       "0  6cced668-6e51-5212-873c-717f2bc91ce6  True  [1446633, 1446633]   \n",
       "1  3c6c188a-db28-59aa-8c09-3d0f799ff579  True  [1446633, 1446633]   \n",
       "2  b0cfa94f-c9ec-5aa5-8331-a5a249b664cf  True  [1446633, 1446633]   \n",
       "3  e6e86e73-9a7b-58f2-a652-a17b4a1bcabf  True  [1446633, 1446633]   \n",
       "4  4fe541af-912e-5a86-81a5-94c6d3891509  True  [1446633, 1446633]   \n",
       "\n",
       "                                          fandoms  \\\n",
       "0  [Guardians of Ga'Hoole, Hetalia - Axis Powers]   \n",
       "1               [Guardians of Ga'Hoole, Warriors]   \n",
       "2       [Guardians of Ga'Hoole, Xiaolin Showdown]   \n",
       "3               [Hetalia - Axis Powers, Warriors]   \n",
       "4       [Hetalia - Axis Powers, Xiaolin Showdown]   \n",
       "\n",
       "                                                pair  \n",
       "0  [I shift a bit, warily letting my eyes dart fr...  \n",
       "1  [I shift a bit, warily letting my eyes dart fr...  \n",
       "2  [A single tear escaped me as I left. I did hav...  \n",
       "3  [\"Ja.\" Ludwig kept his gaze upon her, solidly....  \n",
       "4  [And he did. Slowly, hesitantly...but coming f...  "
      ]
     },
     "execution_count": 8,
     "metadata": {},
     "output_type": "execute_result"
    }
   ],
   "source": [
    "df_join_training_data.head()"
   ]
  },
  {
   "cell_type": "code",
   "execution_count": 9,
   "metadata": {},
   "outputs": [
    {
     "data": {
      "text/plain": [
       "id         object\n",
       "same         bool\n",
       "authors    object\n",
       "fandoms    object\n",
       "pair       object\n",
       "dtype: object"
      ]
     },
     "execution_count": 9,
     "metadata": {},
     "output_type": "execute_result"
    }
   ],
   "source": [
    "df_join_training_data.dtypes"
   ]
  },
  {
   "cell_type": "code",
   "execution_count": 10,
   "metadata": {},
   "outputs": [],
   "source": [
    "text = df_join_training_data.loc[0].pair"
   ]
  },
  {
   "cell_type": "code",
   "execution_count": 11,
   "metadata": {},
   "outputs": [
    {
     "data": {
      "text/plain": [
       "(list, 2)"
      ]
     },
     "execution_count": 11,
     "metadata": {},
     "output_type": "execute_result"
    }
   ],
   "source": [
    "type(text), len(text)"
   ]
  },
  {
   "cell_type": "code",
   "execution_count": 12,
   "metadata": {},
   "outputs": [],
   "source": [
    "df_join_training_data[['text1','text2']] = pd.DataFrame(df_join_training_data.pair.tolist(), index= df_join_training_data.index)\n",
    "df_join_training_data[['author1','author2']] = pd.DataFrame(df_join_training_data.authors.tolist(), index= df_join_training_data.index)"
   ]
  },
  {
   "cell_type": "code",
   "execution_count": 13,
   "metadata": {},
   "outputs": [],
   "source": [
    "df_join_training_data = df_join_training_data.drop(columns=[\"pair\", \"fandoms\",\"authors\"])"
   ]
  },
  {
   "cell_type": "code",
   "execution_count": 14,
   "metadata": {},
   "outputs": [
    {
     "data": {
      "text/html": [
       "<div>\n",
       "<style scoped>\n",
       "    .dataframe tbody tr th:only-of-type {\n",
       "        vertical-align: middle;\n",
       "    }\n",
       "\n",
       "    .dataframe tbody tr th {\n",
       "        vertical-align: top;\n",
       "    }\n",
       "\n",
       "    .dataframe thead th {\n",
       "        text-align: right;\n",
       "    }\n",
       "</style>\n",
       "<table border=\"1\" class=\"dataframe\">\n",
       "  <thead>\n",
       "    <tr style=\"text-align: right;\">\n",
       "      <th></th>\n",
       "      <th>id</th>\n",
       "      <th>same</th>\n",
       "      <th>text1</th>\n",
       "      <th>text2</th>\n",
       "      <th>author1</th>\n",
       "      <th>author2</th>\n",
       "    </tr>\n",
       "  </thead>\n",
       "  <tbody>\n",
       "    <tr>\n",
       "      <th>0</th>\n",
       "      <td>6cced668-6e51-5212-873c-717f2bc91ce6</td>\n",
       "      <td>True</td>\n",
       "      <td>I shift a bit, warily letting my eyes dart fro...</td>\n",
       "      <td>\"All will become one with Russia,\" he said, al...</td>\n",
       "      <td>1446633</td>\n",
       "      <td>1446633</td>\n",
       "    </tr>\n",
       "    <tr>\n",
       "      <th>1</th>\n",
       "      <td>3c6c188a-db28-59aa-8c09-3d0f799ff579</td>\n",
       "      <td>True</td>\n",
       "      <td>I shift a bit, warily letting my eyes dart fro...</td>\n",
       "      <td>Suddenly, a piece of ice falls into the pit of...</td>\n",
       "      <td>1446633</td>\n",
       "      <td>1446633</td>\n",
       "    </tr>\n",
       "    <tr>\n",
       "      <th>2</th>\n",
       "      <td>b0cfa94f-c9ec-5aa5-8331-a5a249b664cf</td>\n",
       "      <td>True</td>\n",
       "      <td>A single tear escaped me as I left. I did have...</td>\n",
       "      <td>got the Yang yoyo.\" Kimiko pulled the other ha...</td>\n",
       "      <td>1446633</td>\n",
       "      <td>1446633</td>\n",
       "    </tr>\n",
       "    <tr>\n",
       "      <th>3</th>\n",
       "      <td>e6e86e73-9a7b-58f2-a652-a17b4a1bcabf</td>\n",
       "      <td>True</td>\n",
       "      <td>\"Ja.\" Ludwig kept his gaze upon her, solidly. ...</td>\n",
       "      <td>SilverGray lll...YellowRagged llll...GrayMilli...</td>\n",
       "      <td>1446633</td>\n",
       "      <td>1446633</td>\n",
       "    </tr>\n",
       "    <tr>\n",
       "      <th>4</th>\n",
       "      <td>4fe541af-912e-5a86-81a5-94c6d3891509</td>\n",
       "      <td>True</td>\n",
       "      <td>And he did. Slowly, hesitantly...but coming fr...</td>\n",
       "      <td>\"Let\"s go,\" Raimondo said and then started in ...</td>\n",
       "      <td>1446633</td>\n",
       "      <td>1446633</td>\n",
       "    </tr>\n",
       "    <tr>\n",
       "      <th>...</th>\n",
       "      <td>...</td>\n",
       "      <td>...</td>\n",
       "      <td>...</td>\n",
       "      <td>...</td>\n",
       "      <td>...</td>\n",
       "      <td>...</td>\n",
       "    </tr>\n",
       "    <tr>\n",
       "      <th>52596</th>\n",
       "      <td>3926a1bd-6d33-5513-a694-12d7590443d4</td>\n",
       "      <td>False</td>\n",
       "      <td>Enjoy! And time stands still beneath the air o...</td>\n",
       "      <td>\"That a challenge, dick?\" Austin smirks back a...</td>\n",
       "      <td>1940652</td>\n",
       "      <td>4353578</td>\n",
       "    </tr>\n",
       "    <tr>\n",
       "      <th>52597</th>\n",
       "      <td>17227d87-a3cb-5aca-b5fd-bb642e88b030</td>\n",
       "      <td>False</td>\n",
       "      <td>\"I forgive you,\" she blurted out looking strai...</td>\n",
       "      <td>This is a KNB fanfic. KNB doesn\"t belong to me...</td>\n",
       "      <td>2581924</td>\n",
       "      <td>5085069</td>\n",
       "    </tr>\n",
       "    <tr>\n",
       "      <th>52598</th>\n",
       "      <td>0332dcaa-7230-508b-badb-820f9d8eebaa</td>\n",
       "      <td>False</td>\n",
       "      <td>\"What? Why? What\"s happening? Where are we goi...</td>\n",
       "      <td>At the moment, Chris\" position on the swing se...</td>\n",
       "      <td>4819080</td>\n",
       "      <td>6983686</td>\n",
       "    </tr>\n",
       "    <tr>\n",
       "      <th>52599</th>\n",
       "      <td>f5e4884a-13fd-51fb-a880-053d6655d59a</td>\n",
       "      <td>False</td>\n",
       "      <td>\"Gah!\" I growled. \"I need a password to access...</td>\n",
       "      <td>As you can see a lot of things has happened si...</td>\n",
       "      <td>6070317</td>\n",
       "      <td>4369540</td>\n",
       "    </tr>\n",
       "    <tr>\n",
       "      <th>52600</th>\n",
       "      <td>900c4a19-e22b-59fd-9cc7-8490919b1696</td>\n",
       "      <td>False</td>\n",
       "      <td>Chica heard a noise below her and saw Golden F...</td>\n",
       "      <td>\"I\"m fine. It\"s just . . . I can\"t believe Dal...</td>\n",
       "      <td>5412915</td>\n",
       "      <td>4594479</td>\n",
       "    </tr>\n",
       "  </tbody>\n",
       "</table>\n",
       "<p>52601 rows × 6 columns</p>\n",
       "</div>"
      ],
      "text/plain": [
       "                                         id   same  \\\n",
       "0      6cced668-6e51-5212-873c-717f2bc91ce6   True   \n",
       "1      3c6c188a-db28-59aa-8c09-3d0f799ff579   True   \n",
       "2      b0cfa94f-c9ec-5aa5-8331-a5a249b664cf   True   \n",
       "3      e6e86e73-9a7b-58f2-a652-a17b4a1bcabf   True   \n",
       "4      4fe541af-912e-5a86-81a5-94c6d3891509   True   \n",
       "...                                     ...    ...   \n",
       "52596  3926a1bd-6d33-5513-a694-12d7590443d4  False   \n",
       "52597  17227d87-a3cb-5aca-b5fd-bb642e88b030  False   \n",
       "52598  0332dcaa-7230-508b-badb-820f9d8eebaa  False   \n",
       "52599  f5e4884a-13fd-51fb-a880-053d6655d59a  False   \n",
       "52600  900c4a19-e22b-59fd-9cc7-8490919b1696  False   \n",
       "\n",
       "                                                   text1  \\\n",
       "0      I shift a bit, warily letting my eyes dart fro...   \n",
       "1      I shift a bit, warily letting my eyes dart fro...   \n",
       "2      A single tear escaped me as I left. I did have...   \n",
       "3      \"Ja.\" Ludwig kept his gaze upon her, solidly. ...   \n",
       "4      And he did. Slowly, hesitantly...but coming fr...   \n",
       "...                                                  ...   \n",
       "52596  Enjoy! And time stands still beneath the air o...   \n",
       "52597  \"I forgive you,\" she blurted out looking strai...   \n",
       "52598  \"What? Why? What\"s happening? Where are we goi...   \n",
       "52599  \"Gah!\" I growled. \"I need a password to access...   \n",
       "52600  Chica heard a noise below her and saw Golden F...   \n",
       "\n",
       "                                                   text2  author1  author2  \n",
       "0      \"All will become one with Russia,\" he said, al...  1446633  1446633  \n",
       "1      Suddenly, a piece of ice falls into the pit of...  1446633  1446633  \n",
       "2      got the Yang yoyo.\" Kimiko pulled the other ha...  1446633  1446633  \n",
       "3      SilverGray lll...YellowRagged llll...GrayMilli...  1446633  1446633  \n",
       "4      \"Let\"s go,\" Raimondo said and then started in ...  1446633  1446633  \n",
       "...                                                  ...      ...      ...  \n",
       "52596  \"That a challenge, dick?\" Austin smirks back a...  1940652  4353578  \n",
       "52597  This is a KNB fanfic. KNB doesn\"t belong to me...  2581924  5085069  \n",
       "52598  At the moment, Chris\" position on the swing se...  4819080  6983686  \n",
       "52599  As you can see a lot of things has happened si...  6070317  4369540  \n",
       "52600  \"I\"m fine. It\"s just . . . I can\"t believe Dal...  5412915  4594479  \n",
       "\n",
       "[52601 rows x 6 columns]"
      ]
     },
     "execution_count": 14,
     "metadata": {},
     "output_type": "execute_result"
    }
   ],
   "source": [
    "df_join_training_data"
   ]
  },
  {
   "cell_type": "code",
   "execution_count": 15,
   "metadata": {},
   "outputs": [],
   "source": [
    "df_join_training_data.to_csv(\"../data/temp/data.csv\", index=False)"
   ]
  },
  {
   "cell_type": "code",
   "execution_count": 16,
   "metadata": {},
   "outputs": [],
   "source": [
    "## Load csv"
   ]
  },
  {
   "cell_type": "code",
   "execution_count": 17,
   "metadata": {},
   "outputs": [],
   "source": [
    "df_join_training_data = pd.read_csv(\"../data/temp/data.csv\")"
   ]
  },
  {
   "cell_type": "code",
   "execution_count": 18,
   "metadata": {},
   "outputs": [
    {
     "data": {
      "text/html": [
       "<div>\n",
       "<style scoped>\n",
       "    .dataframe tbody tr th:only-of-type {\n",
       "        vertical-align: middle;\n",
       "    }\n",
       "\n",
       "    .dataframe tbody tr th {\n",
       "        vertical-align: top;\n",
       "    }\n",
       "\n",
       "    .dataframe thead th {\n",
       "        text-align: right;\n",
       "    }\n",
       "</style>\n",
       "<table border=\"1\" class=\"dataframe\">\n",
       "  <thead>\n",
       "    <tr style=\"text-align: right;\">\n",
       "      <th></th>\n",
       "      <th>id</th>\n",
       "      <th>same</th>\n",
       "      <th>text1</th>\n",
       "      <th>text2</th>\n",
       "      <th>author1</th>\n",
       "      <th>author2</th>\n",
       "    </tr>\n",
       "  </thead>\n",
       "  <tbody>\n",
       "    <tr>\n",
       "      <th>0</th>\n",
       "      <td>6cced668-6e51-5212-873c-717f2bc91ce6</td>\n",
       "      <td>True</td>\n",
       "      <td>I shift a bit, warily letting my eyes dart fro...</td>\n",
       "      <td>\"All will become one with Russia,\" he said, al...</td>\n",
       "      <td>1446633</td>\n",
       "      <td>1446633</td>\n",
       "    </tr>\n",
       "    <tr>\n",
       "      <th>1</th>\n",
       "      <td>3c6c188a-db28-59aa-8c09-3d0f799ff579</td>\n",
       "      <td>True</td>\n",
       "      <td>I shift a bit, warily letting my eyes dart fro...</td>\n",
       "      <td>Suddenly, a piece of ice falls into the pit of...</td>\n",
       "      <td>1446633</td>\n",
       "      <td>1446633</td>\n",
       "    </tr>\n",
       "    <tr>\n",
       "      <th>2</th>\n",
       "      <td>b0cfa94f-c9ec-5aa5-8331-a5a249b664cf</td>\n",
       "      <td>True</td>\n",
       "      <td>A single tear escaped me as I left. I did have...</td>\n",
       "      <td>got the Yang yoyo.\" Kimiko pulled the other ha...</td>\n",
       "      <td>1446633</td>\n",
       "      <td>1446633</td>\n",
       "    </tr>\n",
       "    <tr>\n",
       "      <th>3</th>\n",
       "      <td>e6e86e73-9a7b-58f2-a652-a17b4a1bcabf</td>\n",
       "      <td>True</td>\n",
       "      <td>\"Ja.\" Ludwig kept his gaze upon her, solidly. ...</td>\n",
       "      <td>SilverGray lll...YellowRagged llll...GrayMilli...</td>\n",
       "      <td>1446633</td>\n",
       "      <td>1446633</td>\n",
       "    </tr>\n",
       "    <tr>\n",
       "      <th>4</th>\n",
       "      <td>4fe541af-912e-5a86-81a5-94c6d3891509</td>\n",
       "      <td>True</td>\n",
       "      <td>And he did. Slowly, hesitantly...but coming fr...</td>\n",
       "      <td>\"Let\"s go,\" Raimondo said and then started in ...</td>\n",
       "      <td>1446633</td>\n",
       "      <td>1446633</td>\n",
       "    </tr>\n",
       "    <tr>\n",
       "      <th>...</th>\n",
       "      <td>...</td>\n",
       "      <td>...</td>\n",
       "      <td>...</td>\n",
       "      <td>...</td>\n",
       "      <td>...</td>\n",
       "      <td>...</td>\n",
       "    </tr>\n",
       "    <tr>\n",
       "      <th>52596</th>\n",
       "      <td>3926a1bd-6d33-5513-a694-12d7590443d4</td>\n",
       "      <td>False</td>\n",
       "      <td>Enjoy! And time stands still beneath the air o...</td>\n",
       "      <td>\"That a challenge, dick?\" Austin smirks back a...</td>\n",
       "      <td>1940652</td>\n",
       "      <td>4353578</td>\n",
       "    </tr>\n",
       "    <tr>\n",
       "      <th>52597</th>\n",
       "      <td>17227d87-a3cb-5aca-b5fd-bb642e88b030</td>\n",
       "      <td>False</td>\n",
       "      <td>\"I forgive you,\" she blurted out looking strai...</td>\n",
       "      <td>This is a KNB fanfic. KNB doesn\"t belong to me...</td>\n",
       "      <td>2581924</td>\n",
       "      <td>5085069</td>\n",
       "    </tr>\n",
       "    <tr>\n",
       "      <th>52598</th>\n",
       "      <td>0332dcaa-7230-508b-badb-820f9d8eebaa</td>\n",
       "      <td>False</td>\n",
       "      <td>\"What? Why? What\"s happening? Where are we goi...</td>\n",
       "      <td>At the moment, Chris\" position on the swing se...</td>\n",
       "      <td>4819080</td>\n",
       "      <td>6983686</td>\n",
       "    </tr>\n",
       "    <tr>\n",
       "      <th>52599</th>\n",
       "      <td>f5e4884a-13fd-51fb-a880-053d6655d59a</td>\n",
       "      <td>False</td>\n",
       "      <td>\"Gah!\" I growled. \"I need a password to access...</td>\n",
       "      <td>As you can see a lot of things has happened si...</td>\n",
       "      <td>6070317</td>\n",
       "      <td>4369540</td>\n",
       "    </tr>\n",
       "    <tr>\n",
       "      <th>52600</th>\n",
       "      <td>900c4a19-e22b-59fd-9cc7-8490919b1696</td>\n",
       "      <td>False</td>\n",
       "      <td>Chica heard a noise below her and saw Golden F...</td>\n",
       "      <td>\"I\"m fine. It\"s just . . . I can\"t believe Dal...</td>\n",
       "      <td>5412915</td>\n",
       "      <td>4594479</td>\n",
       "    </tr>\n",
       "  </tbody>\n",
       "</table>\n",
       "<p>52601 rows × 6 columns</p>\n",
       "</div>"
      ],
      "text/plain": [
       "                                         id   same  \\\n",
       "0      6cced668-6e51-5212-873c-717f2bc91ce6   True   \n",
       "1      3c6c188a-db28-59aa-8c09-3d0f799ff579   True   \n",
       "2      b0cfa94f-c9ec-5aa5-8331-a5a249b664cf   True   \n",
       "3      e6e86e73-9a7b-58f2-a652-a17b4a1bcabf   True   \n",
       "4      4fe541af-912e-5a86-81a5-94c6d3891509   True   \n",
       "...                                     ...    ...   \n",
       "52596  3926a1bd-6d33-5513-a694-12d7590443d4  False   \n",
       "52597  17227d87-a3cb-5aca-b5fd-bb642e88b030  False   \n",
       "52598  0332dcaa-7230-508b-badb-820f9d8eebaa  False   \n",
       "52599  f5e4884a-13fd-51fb-a880-053d6655d59a  False   \n",
       "52600  900c4a19-e22b-59fd-9cc7-8490919b1696  False   \n",
       "\n",
       "                                                   text1  \\\n",
       "0      I shift a bit, warily letting my eyes dart fro...   \n",
       "1      I shift a bit, warily letting my eyes dart fro...   \n",
       "2      A single tear escaped me as I left. I did have...   \n",
       "3      \"Ja.\" Ludwig kept his gaze upon her, solidly. ...   \n",
       "4      And he did. Slowly, hesitantly...but coming fr...   \n",
       "...                                                  ...   \n",
       "52596  Enjoy! And time stands still beneath the air o...   \n",
       "52597  \"I forgive you,\" she blurted out looking strai...   \n",
       "52598  \"What? Why? What\"s happening? Where are we goi...   \n",
       "52599  \"Gah!\" I growled. \"I need a password to access...   \n",
       "52600  Chica heard a noise below her and saw Golden F...   \n",
       "\n",
       "                                                   text2  author1  author2  \n",
       "0      \"All will become one with Russia,\" he said, al...  1446633  1446633  \n",
       "1      Suddenly, a piece of ice falls into the pit of...  1446633  1446633  \n",
       "2      got the Yang yoyo.\" Kimiko pulled the other ha...  1446633  1446633  \n",
       "3      SilverGray lll...YellowRagged llll...GrayMilli...  1446633  1446633  \n",
       "4      \"Let\"s go,\" Raimondo said and then started in ...  1446633  1446633  \n",
       "...                                                  ...      ...      ...  \n",
       "52596  \"That a challenge, dick?\" Austin smirks back a...  1940652  4353578  \n",
       "52597  This is a KNB fanfic. KNB doesn\"t belong to me...  2581924  5085069  \n",
       "52598  At the moment, Chris\" position on the swing se...  4819080  6983686  \n",
       "52599  As you can see a lot of things has happened si...  6070317  4369540  \n",
       "52600  \"I\"m fine. It\"s just . . . I can\"t believe Dal...  5412915  4594479  \n",
       "\n",
       "[52601 rows x 6 columns]"
      ]
     },
     "execution_count": 18,
     "metadata": {},
     "output_type": "execute_result"
    }
   ],
   "source": [
    "df_join_training_data"
   ]
  },
  {
   "cell_type": "code",
   "execution_count": 39,
   "metadata": {},
   "outputs": [],
   "source": [
    "texts = np.hstack([df_join_training_data['text1'].values, df_join_training_data['text2'].values])\n"
   ]
  },
  {
   "cell_type": "code",
   "execution_count": 40,
   "metadata": {},
   "outputs": [],
   "source": [
    "vocab = \"!.?$()\""
   ]
  },
  {
   "cell_type": "code",
   "execution_count": 41,
   "metadata": {},
   "outputs": [],
   "source": [
    "vect = TfidfVectorizer(vocabulary=string.punctuation, analyzer='char')"
   ]
  },
  {
   "cell_type": "code",
   "execution_count": 42,
   "metadata": {},
   "outputs": [
    {
     "data": {
      "text/plain": [
       "TfidfVectorizer(analyzer='char',\n",
       "                vocabulary='!\"#$%&\\'()*+,-./:;<=>?@[\\\\]^_`{|}~')"
      ]
     },
     "execution_count": 42,
     "metadata": {},
     "output_type": "execute_result"
    }
   ],
   "source": [
    "vect.fit(texts)"
   ]
  },
  {
   "cell_type": "code",
   "execution_count": 43,
   "metadata": {},
   "outputs": [
    {
     "data": {
      "text/plain": [
       "32"
      ]
     },
     "execution_count": 43,
     "metadata": {},
     "output_type": "execute_result"
    }
   ],
   "source": [
    "len(vect.get_feature_names())"
   ]
  },
  {
   "cell_type": "code",
   "execution_count": 44,
   "metadata": {},
   "outputs": [],
   "source": [
    "dataset = df_join_training_data.sample(frac=1).reset_index(drop=True)\n"
   ]
  },
  {
   "cell_type": "code",
   "execution_count": 45,
   "metadata": {},
   "outputs": [],
   "source": [
    "text1_transform = vect.transform(dataset['text1'].values)"
   ]
  },
  {
   "cell_type": "code",
   "execution_count": 46,
   "metadata": {},
   "outputs": [],
   "source": [
    "text2_transform = vect.transform(dataset['text2'].values)"
   ]
  },
  {
   "cell_type": "code",
   "execution_count": 47,
   "metadata": {},
   "outputs": [],
   "source": [
    "X = text1_transform - text2_transform"
   ]
  },
  {
   "cell_type": "code",
   "execution_count": 48,
   "metadata": {},
   "outputs": [],
   "source": [
    "y = dataset['same'].values"
   ]
  },
  {
   "cell_type": "code",
   "execution_count": 49,
   "metadata": {},
   "outputs": [
    {
     "data": {
      "text/plain": [
       "((52601, 32), (52601,))"
      ]
     },
     "execution_count": 49,
     "metadata": {},
     "output_type": "execute_result"
    }
   ],
   "source": [
    "X.shape, y.shape"
   ]
  },
  {
   "cell_type": "code",
   "execution_count": 50,
   "metadata": {},
   "outputs": [],
   "source": [
    "X_train, X_test, y_train, y_test = train_test_split(X, y, test_size=0.2, random_state=13, stratify=y)"
   ]
  },
  {
   "cell_type": "code",
   "execution_count": 51,
   "metadata": {},
   "outputs": [],
   "source": [
    "clf = LogisticRegression()"
   ]
  },
  {
   "cell_type": "code",
   "execution_count": 52,
   "metadata": {},
   "outputs": [
    {
     "data": {
      "text/plain": [
       "LogisticRegression()"
      ]
     },
     "execution_count": 52,
     "metadata": {},
     "output_type": "execute_result"
    }
   ],
   "source": [
    "clf.fit(X_train, y_train)"
   ]
  },
  {
   "cell_type": "code",
   "execution_count": 53,
   "metadata": {},
   "outputs": [],
   "source": [
    "preds = clf.predict(X_test)"
   ]
  },
  {
   "cell_type": "code",
   "execution_count": 54,
   "metadata": {},
   "outputs": [
    {
     "data": {
      "text/plain": [
       "0.36739971162354534"
      ]
     },
     "execution_count": 54,
     "metadata": {},
     "output_type": "execute_result"
    }
   ],
   "source": [
    "f1_score(y_test, preds, average='macro')"
   ]
  },
  {
   "cell_type": "code",
   "execution_count": null,
   "metadata": {},
   "outputs": [],
   "source": []
  }
 ],
 "metadata": {
  "kernelspec": {
   "display_name": "Python 3",
   "language": "python",
   "name": "python3"
  },
  "language_info": {
   "codemirror_mode": {
    "name": "ipython",
    "version": 3
   },
   "file_extension": ".py",
   "mimetype": "text/x-python",
   "name": "python",
   "nbconvert_exporter": "python",
   "pygments_lexer": "ipython3",
   "version": "3.8.6"
  }
 },
 "nbformat": 4,
 "nbformat_minor": 2
}

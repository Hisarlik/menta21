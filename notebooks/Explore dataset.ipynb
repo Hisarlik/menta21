{
 "cells": [
  {
   "cell_type": "code",
   "execution_count": 1,
   "metadata": {},
   "outputs": [],
   "source": [
    "import pandas as pd\n",
    "import numpy as np\n",
    "from sklearn.feature_extraction.text import TfidfVectorizer\n",
    "from sklearn.linear_model import LogisticRegression\n",
    "from sklearn.model_selection import train_test_split\n",
    "from sklearn.metrics import f1_score\n",
    "import string\n"
   ]
  },
  {
   "cell_type": "code",
   "execution_count": 2,
   "metadata": {},
   "outputs": [],
   "source": [
    "path_training_small_truth = \"../data/pan20-authorship-verification-training-small/pan20-authorship-verification-training-small-truth.jsonl\"\n",
    "path_training_small = \"../data/pan20-authorship-verification-training-small/pan20-authorship-verification-training-small.jsonl\""
   ]
  },
  {
   "cell_type": "code",
   "execution_count": 3,
   "metadata": {},
   "outputs": [],
   "source": [
    "df_texts = pd.read_json(path_training_small, lines=True)"
   ]
  },
  {
   "cell_type": "code",
   "execution_count": 4,
   "metadata": {},
   "outputs": [],
   "source": [
    "df_truth = pd.read_json(path_training_small_truth, lines=True)"
   ]
  },
  {
   "cell_type": "code",
   "execution_count": 5,
   "metadata": {},
   "outputs": [],
   "source": [
    "df_join_training_data = pd.concat([df_truth, df_texts], axis=1).reindex(df_truth.index)"
   ]
  },
  {
   "cell_type": "code",
   "execution_count": 6,
   "metadata": {},
   "outputs": [
    {
     "data": {
      "text/html": [
       "<div>\n",
       "<style scoped>\n",
       "    .dataframe tbody tr th:only-of-type {\n",
       "        vertical-align: middle;\n",
       "    }\n",
       "\n",
       "    .dataframe tbody tr th {\n",
       "        vertical-align: top;\n",
       "    }\n",
       "\n",
       "    .dataframe thead th {\n",
       "        text-align: right;\n",
       "    }\n",
       "</style>\n",
       "<table border=\"1\" class=\"dataframe\">\n",
       "  <thead>\n",
       "    <tr style=\"text-align: right;\">\n",
       "      <th></th>\n",
       "      <th>id</th>\n",
       "      <th>same</th>\n",
       "      <th>authors</th>\n",
       "      <th>id</th>\n",
       "      <th>fandoms</th>\n",
       "      <th>pair</th>\n",
       "    </tr>\n",
       "  </thead>\n",
       "  <tbody>\n",
       "    <tr>\n",
       "      <th>0</th>\n",
       "      <td>6cced668-6e51-5212-873c-717f2bc91ce6</td>\n",
       "      <td>True</td>\n",
       "      <td>[1446633, 1446633]</td>\n",
       "      <td>6cced668-6e51-5212-873c-717f2bc91ce6</td>\n",
       "      <td>[Guardians of Ga'Hoole, Hetalia - Axis Powers]</td>\n",
       "      <td>[I shift a bit, warily letting my eyes dart fr...</td>\n",
       "    </tr>\n",
       "    <tr>\n",
       "      <th>1</th>\n",
       "      <td>3c6c188a-db28-59aa-8c09-3d0f799ff579</td>\n",
       "      <td>True</td>\n",
       "      <td>[1446633, 1446633]</td>\n",
       "      <td>3c6c188a-db28-59aa-8c09-3d0f799ff579</td>\n",
       "      <td>[Guardians of Ga'Hoole, Warriors]</td>\n",
       "      <td>[I shift a bit, warily letting my eyes dart fr...</td>\n",
       "    </tr>\n",
       "    <tr>\n",
       "      <th>2</th>\n",
       "      <td>b0cfa94f-c9ec-5aa5-8331-a5a249b664cf</td>\n",
       "      <td>True</td>\n",
       "      <td>[1446633, 1446633]</td>\n",
       "      <td>b0cfa94f-c9ec-5aa5-8331-a5a249b664cf</td>\n",
       "      <td>[Guardians of Ga'Hoole, Xiaolin Showdown]</td>\n",
       "      <td>[A single tear escaped me as I left. I did hav...</td>\n",
       "    </tr>\n",
       "    <tr>\n",
       "      <th>3</th>\n",
       "      <td>e6e86e73-9a7b-58f2-a652-a17b4a1bcabf</td>\n",
       "      <td>True</td>\n",
       "      <td>[1446633, 1446633]</td>\n",
       "      <td>e6e86e73-9a7b-58f2-a652-a17b4a1bcabf</td>\n",
       "      <td>[Hetalia - Axis Powers, Warriors]</td>\n",
       "      <td>[\"Ja.\" Ludwig kept his gaze upon her, solidly....</td>\n",
       "    </tr>\n",
       "    <tr>\n",
       "      <th>4</th>\n",
       "      <td>4fe541af-912e-5a86-81a5-94c6d3891509</td>\n",
       "      <td>True</td>\n",
       "      <td>[1446633, 1446633]</td>\n",
       "      <td>4fe541af-912e-5a86-81a5-94c6d3891509</td>\n",
       "      <td>[Hetalia - Axis Powers, Xiaolin Showdown]</td>\n",
       "      <td>[And he did. Slowly, hesitantly...but coming f...</td>\n",
       "    </tr>\n",
       "  </tbody>\n",
       "</table>\n",
       "</div>"
      ],
      "text/plain": [
       "                                     id  same             authors  \\\n",
       "0  6cced668-6e51-5212-873c-717f2bc91ce6  True  [1446633, 1446633]   \n",
       "1  3c6c188a-db28-59aa-8c09-3d0f799ff579  True  [1446633, 1446633]   \n",
       "2  b0cfa94f-c9ec-5aa5-8331-a5a249b664cf  True  [1446633, 1446633]   \n",
       "3  e6e86e73-9a7b-58f2-a652-a17b4a1bcabf  True  [1446633, 1446633]   \n",
       "4  4fe541af-912e-5a86-81a5-94c6d3891509  True  [1446633, 1446633]   \n",
       "\n",
       "                                     id  \\\n",
       "0  6cced668-6e51-5212-873c-717f2bc91ce6   \n",
       "1  3c6c188a-db28-59aa-8c09-3d0f799ff579   \n",
       "2  b0cfa94f-c9ec-5aa5-8331-a5a249b664cf   \n",
       "3  e6e86e73-9a7b-58f2-a652-a17b4a1bcabf   \n",
       "4  4fe541af-912e-5a86-81a5-94c6d3891509   \n",
       "\n",
       "                                          fandoms  \\\n",
       "0  [Guardians of Ga'Hoole, Hetalia - Axis Powers]   \n",
       "1               [Guardians of Ga'Hoole, Warriors]   \n",
       "2       [Guardians of Ga'Hoole, Xiaolin Showdown]   \n",
       "3               [Hetalia - Axis Powers, Warriors]   \n",
       "4       [Hetalia - Axis Powers, Xiaolin Showdown]   \n",
       "\n",
       "                                                pair  \n",
       "0  [I shift a bit, warily letting my eyes dart fr...  \n",
       "1  [I shift a bit, warily letting my eyes dart fr...  \n",
       "2  [A single tear escaped me as I left. I did hav...  \n",
       "3  [\"Ja.\" Ludwig kept his gaze upon her, solidly....  \n",
       "4  [And he did. Slowly, hesitantly...but coming f...  "
      ]
     },
     "execution_count": 6,
     "metadata": {},
     "output_type": "execute_result"
    }
   ],
   "source": [
    "df_join_training_data.head()"
   ]
  },
  {
   "cell_type": "code",
   "execution_count": 7,
   "metadata": {},
   "outputs": [],
   "source": [
    "df_join_training_data = df_join_training_data.loc[:,~df_join_training_data.columns.duplicated()]"
   ]
  },
  {
   "cell_type": "code",
   "execution_count": 8,
   "metadata": {},
   "outputs": [
    {
     "data": {
      "text/html": [
       "<div>\n",
       "<style scoped>\n",
       "    .dataframe tbody tr th:only-of-type {\n",
       "        vertical-align: middle;\n",
       "    }\n",
       "\n",
       "    .dataframe tbody tr th {\n",
       "        vertical-align: top;\n",
       "    }\n",
       "\n",
       "    .dataframe thead th {\n",
       "        text-align: right;\n",
       "    }\n",
       "</style>\n",
       "<table border=\"1\" class=\"dataframe\">\n",
       "  <thead>\n",
       "    <tr style=\"text-align: right;\">\n",
       "      <th></th>\n",
       "      <th>id</th>\n",
       "      <th>same</th>\n",
       "      <th>authors</th>\n",
       "      <th>fandoms</th>\n",
       "      <th>pair</th>\n",
       "    </tr>\n",
       "  </thead>\n",
       "  <tbody>\n",
       "    <tr>\n",
       "      <th>0</th>\n",
       "      <td>6cced668-6e51-5212-873c-717f2bc91ce6</td>\n",
       "      <td>True</td>\n",
       "      <td>[1446633, 1446633]</td>\n",
       "      <td>[Guardians of Ga'Hoole, Hetalia - Axis Powers]</td>\n",
       "      <td>[I shift a bit, warily letting my eyes dart fr...</td>\n",
       "    </tr>\n",
       "    <tr>\n",
       "      <th>1</th>\n",
       "      <td>3c6c188a-db28-59aa-8c09-3d0f799ff579</td>\n",
       "      <td>True</td>\n",
       "      <td>[1446633, 1446633]</td>\n",
       "      <td>[Guardians of Ga'Hoole, Warriors]</td>\n",
       "      <td>[I shift a bit, warily letting my eyes dart fr...</td>\n",
       "    </tr>\n",
       "    <tr>\n",
       "      <th>2</th>\n",
       "      <td>b0cfa94f-c9ec-5aa5-8331-a5a249b664cf</td>\n",
       "      <td>True</td>\n",
       "      <td>[1446633, 1446633]</td>\n",
       "      <td>[Guardians of Ga'Hoole, Xiaolin Showdown]</td>\n",
       "      <td>[A single tear escaped me as I left. I did hav...</td>\n",
       "    </tr>\n",
       "    <tr>\n",
       "      <th>3</th>\n",
       "      <td>e6e86e73-9a7b-58f2-a652-a17b4a1bcabf</td>\n",
       "      <td>True</td>\n",
       "      <td>[1446633, 1446633]</td>\n",
       "      <td>[Hetalia - Axis Powers, Warriors]</td>\n",
       "      <td>[\"Ja.\" Ludwig kept his gaze upon her, solidly....</td>\n",
       "    </tr>\n",
       "    <tr>\n",
       "      <th>4</th>\n",
       "      <td>4fe541af-912e-5a86-81a5-94c6d3891509</td>\n",
       "      <td>True</td>\n",
       "      <td>[1446633, 1446633]</td>\n",
       "      <td>[Hetalia - Axis Powers, Xiaolin Showdown]</td>\n",
       "      <td>[And he did. Slowly, hesitantly...but coming f...</td>\n",
       "    </tr>\n",
       "  </tbody>\n",
       "</table>\n",
       "</div>"
      ],
      "text/plain": [
       "                                     id  same             authors  \\\n",
       "0  6cced668-6e51-5212-873c-717f2bc91ce6  True  [1446633, 1446633]   \n",
       "1  3c6c188a-db28-59aa-8c09-3d0f799ff579  True  [1446633, 1446633]   \n",
       "2  b0cfa94f-c9ec-5aa5-8331-a5a249b664cf  True  [1446633, 1446633]   \n",
       "3  e6e86e73-9a7b-58f2-a652-a17b4a1bcabf  True  [1446633, 1446633]   \n",
       "4  4fe541af-912e-5a86-81a5-94c6d3891509  True  [1446633, 1446633]   \n",
       "\n",
       "                                          fandoms  \\\n",
       "0  [Guardians of Ga'Hoole, Hetalia - Axis Powers]   \n",
       "1               [Guardians of Ga'Hoole, Warriors]   \n",
       "2       [Guardians of Ga'Hoole, Xiaolin Showdown]   \n",
       "3               [Hetalia - Axis Powers, Warriors]   \n",
       "4       [Hetalia - Axis Powers, Xiaolin Showdown]   \n",
       "\n",
       "                                                pair  \n",
       "0  [I shift a bit, warily letting my eyes dart fr...  \n",
       "1  [I shift a bit, warily letting my eyes dart fr...  \n",
       "2  [A single tear escaped me as I left. I did hav...  \n",
       "3  [\"Ja.\" Ludwig kept his gaze upon her, solidly....  \n",
       "4  [And he did. Slowly, hesitantly...but coming f...  "
      ]
     },
     "execution_count": 8,
     "metadata": {},
     "output_type": "execute_result"
    }
   ],
   "source": [
    "df_join_training_data.head()"
   ]
  },
  {
   "cell_type": "code",
   "execution_count": 9,
   "metadata": {},
   "outputs": [
    {
     "data": {
      "text/plain": [
       "id         object\n",
       "same         bool\n",
       "authors    object\n",
       "fandoms    object\n",
       "pair       object\n",
       "dtype: object"
      ]
     },
     "execution_count": 9,
     "metadata": {},
     "output_type": "execute_result"
    }
   ],
   "source": [
    "df_join_training_data.dtypes"
   ]
  },
  {
   "cell_type": "code",
   "execution_count": 10,
   "metadata": {},
   "outputs": [],
   "source": [
    "text = df_join_training_data.loc[0].pair"
   ]
  },
  {
   "cell_type": "code",
   "execution_count": 11,
   "metadata": {},
   "outputs": [
    {
     "data": {
      "text/plain": [
       "(list, 2)"
      ]
     },
     "execution_count": 11,
     "metadata": {},
     "output_type": "execute_result"
    }
   ],
   "source": [
    "type(text), len(text)"
   ]
  },
  {
   "cell_type": "code",
   "execution_count": 12,
   "metadata": {},
   "outputs": [],
   "source": [
    "df_join_training_data[['text1','text2']] = pd.DataFrame(df_join_training_data.pair.tolist(), index= df_join_training_data.index)\n",
    "df_join_training_data[['author1','author2']] = pd.DataFrame(df_join_training_data.authors.tolist(), index= df_join_training_data.index)"
   ]
  },
  {
   "cell_type": "code",
   "execution_count": 13,
   "metadata": {},
   "outputs": [],
   "source": [
    "df_join_training_data = df_join_training_data.drop(columns=[\"pair\", \"fandoms\",\"authors\"])"
   ]
  },
  {
   "cell_type": "code",
   "execution_count": 14,
   "metadata": {},
   "outputs": [
    {
     "data": {
      "text/html": [
       "<div>\n",
       "<style scoped>\n",
       "    .dataframe tbody tr th:only-of-type {\n",
       "        vertical-align: middle;\n",
       "    }\n",
       "\n",
       "    .dataframe tbody tr th {\n",
       "        vertical-align: top;\n",
       "    }\n",
       "\n",
       "    .dataframe thead th {\n",
       "        text-align: right;\n",
       "    }\n",
       "</style>\n",
       "<table border=\"1\" class=\"dataframe\">\n",
       "  <thead>\n",
       "    <tr style=\"text-align: right;\">\n",
       "      <th></th>\n",
       "      <th>id</th>\n",
       "      <th>same</th>\n",
       "      <th>text1</th>\n",
       "      <th>text2</th>\n",
       "      <th>author1</th>\n",
       "      <th>author2</th>\n",
       "    </tr>\n",
       "  </thead>\n",
       "  <tbody>\n",
       "    <tr>\n",
       "      <th>0</th>\n",
       "      <td>6cced668-6e51-5212-873c-717f2bc91ce6</td>\n",
       "      <td>True</td>\n",
       "      <td>I shift a bit, warily letting my eyes dart fro...</td>\n",
       "      <td>\"All will become one with Russia,\" he said, al...</td>\n",
       "      <td>1446633</td>\n",
       "      <td>1446633</td>\n",
       "    </tr>\n",
       "    <tr>\n",
       "      <th>1</th>\n",
       "      <td>3c6c188a-db28-59aa-8c09-3d0f799ff579</td>\n",
       "      <td>True</td>\n",
       "      <td>I shift a bit, warily letting my eyes dart fro...</td>\n",
       "      <td>Suddenly, a piece of ice falls into the pit of...</td>\n",
       "      <td>1446633</td>\n",
       "      <td>1446633</td>\n",
       "    </tr>\n",
       "    <tr>\n",
       "      <th>2</th>\n",
       "      <td>b0cfa94f-c9ec-5aa5-8331-a5a249b664cf</td>\n",
       "      <td>True</td>\n",
       "      <td>A single tear escaped me as I left. I did have...</td>\n",
       "      <td>got the Yang yoyo.\" Kimiko pulled the other ha...</td>\n",
       "      <td>1446633</td>\n",
       "      <td>1446633</td>\n",
       "    </tr>\n",
       "    <tr>\n",
       "      <th>3</th>\n",
       "      <td>e6e86e73-9a7b-58f2-a652-a17b4a1bcabf</td>\n",
       "      <td>True</td>\n",
       "      <td>\"Ja.\" Ludwig kept his gaze upon her, solidly. ...</td>\n",
       "      <td>SilverGray lll...YellowRagged llll...GrayMilli...</td>\n",
       "      <td>1446633</td>\n",
       "      <td>1446633</td>\n",
       "    </tr>\n",
       "    <tr>\n",
       "      <th>4</th>\n",
       "      <td>4fe541af-912e-5a86-81a5-94c6d3891509</td>\n",
       "      <td>True</td>\n",
       "      <td>And he did. Slowly, hesitantly...but coming fr...</td>\n",
       "      <td>\"Let\"s go,\" Raimondo said and then started in ...</td>\n",
       "      <td>1446633</td>\n",
       "      <td>1446633</td>\n",
       "    </tr>\n",
       "    <tr>\n",
       "      <th>...</th>\n",
       "      <td>...</td>\n",
       "      <td>...</td>\n",
       "      <td>...</td>\n",
       "      <td>...</td>\n",
       "      <td>...</td>\n",
       "      <td>...</td>\n",
       "    </tr>\n",
       "    <tr>\n",
       "      <th>52596</th>\n",
       "      <td>3926a1bd-6d33-5513-a694-12d7590443d4</td>\n",
       "      <td>False</td>\n",
       "      <td>Enjoy! And time stands still beneath the air o...</td>\n",
       "      <td>\"That a challenge, dick?\" Austin smirks back a...</td>\n",
       "      <td>1940652</td>\n",
       "      <td>4353578</td>\n",
       "    </tr>\n",
       "    <tr>\n",
       "      <th>52597</th>\n",
       "      <td>17227d87-a3cb-5aca-b5fd-bb642e88b030</td>\n",
       "      <td>False</td>\n",
       "      <td>\"I forgive you,\" she blurted out looking strai...</td>\n",
       "      <td>This is a KNB fanfic. KNB doesn\"t belong to me...</td>\n",
       "      <td>2581924</td>\n",
       "      <td>5085069</td>\n",
       "    </tr>\n",
       "    <tr>\n",
       "      <th>52598</th>\n",
       "      <td>0332dcaa-7230-508b-badb-820f9d8eebaa</td>\n",
       "      <td>False</td>\n",
       "      <td>\"What? Why? What\"s happening? Where are we goi...</td>\n",
       "      <td>At the moment, Chris\" position on the swing se...</td>\n",
       "      <td>4819080</td>\n",
       "      <td>6983686</td>\n",
       "    </tr>\n",
       "    <tr>\n",
       "      <th>52599</th>\n",
       "      <td>f5e4884a-13fd-51fb-a880-053d6655d59a</td>\n",
       "      <td>False</td>\n",
       "      <td>\"Gah!\" I growled. \"I need a password to access...</td>\n",
       "      <td>As you can see a lot of things has happened si...</td>\n",
       "      <td>6070317</td>\n",
       "      <td>4369540</td>\n",
       "    </tr>\n",
       "    <tr>\n",
       "      <th>52600</th>\n",
       "      <td>900c4a19-e22b-59fd-9cc7-8490919b1696</td>\n",
       "      <td>False</td>\n",
       "      <td>Chica heard a noise below her and saw Golden F...</td>\n",
       "      <td>\"I\"m fine. It\"s just . . . I can\"t believe Dal...</td>\n",
       "      <td>5412915</td>\n",
       "      <td>4594479</td>\n",
       "    </tr>\n",
       "  </tbody>\n",
       "</table>\n",
       "<p>52601 rows × 6 columns</p>\n",
       "</div>"
      ],
      "text/plain": [
       "                                         id   same  \\\n",
       "0      6cced668-6e51-5212-873c-717f2bc91ce6   True   \n",
       "1      3c6c188a-db28-59aa-8c09-3d0f799ff579   True   \n",
       "2      b0cfa94f-c9ec-5aa5-8331-a5a249b664cf   True   \n",
       "3      e6e86e73-9a7b-58f2-a652-a17b4a1bcabf   True   \n",
       "4      4fe541af-912e-5a86-81a5-94c6d3891509   True   \n",
       "...                                     ...    ...   \n",
       "52596  3926a1bd-6d33-5513-a694-12d7590443d4  False   \n",
       "52597  17227d87-a3cb-5aca-b5fd-bb642e88b030  False   \n",
       "52598  0332dcaa-7230-508b-badb-820f9d8eebaa  False   \n",
       "52599  f5e4884a-13fd-51fb-a880-053d6655d59a  False   \n",
       "52600  900c4a19-e22b-59fd-9cc7-8490919b1696  False   \n",
       "\n",
       "                                                   text1  \\\n",
       "0      I shift a bit, warily letting my eyes dart fro...   \n",
       "1      I shift a bit, warily letting my eyes dart fro...   \n",
       "2      A single tear escaped me as I left. I did have...   \n",
       "3      \"Ja.\" Ludwig kept his gaze upon her, solidly. ...   \n",
       "4      And he did. Slowly, hesitantly...but coming fr...   \n",
       "...                                                  ...   \n",
       "52596  Enjoy! And time stands still beneath the air o...   \n",
       "52597  \"I forgive you,\" she blurted out looking strai...   \n",
       "52598  \"What? Why? What\"s happening? Where are we goi...   \n",
       "52599  \"Gah!\" I growled. \"I need a password to access...   \n",
       "52600  Chica heard a noise below her and saw Golden F...   \n",
       "\n",
       "                                                   text2  author1  author2  \n",
       "0      \"All will become one with Russia,\" he said, al...  1446633  1446633  \n",
       "1      Suddenly, a piece of ice falls into the pit of...  1446633  1446633  \n",
       "2      got the Yang yoyo.\" Kimiko pulled the other ha...  1446633  1446633  \n",
       "3      SilverGray lll...YellowRagged llll...GrayMilli...  1446633  1446633  \n",
       "4      \"Let\"s go,\" Raimondo said and then started in ...  1446633  1446633  \n",
       "...                                                  ...      ...      ...  \n",
       "52596  \"That a challenge, dick?\" Austin smirks back a...  1940652  4353578  \n",
       "52597  This is a KNB fanfic. KNB doesn\"t belong to me...  2581924  5085069  \n",
       "52598  At the moment, Chris\" position on the swing se...  4819080  6983686  \n",
       "52599  As you can see a lot of things has happened si...  6070317  4369540  \n",
       "52600  \"I\"m fine. It\"s just . . . I can\"t believe Dal...  5412915  4594479  \n",
       "\n",
       "[52601 rows x 6 columns]"
      ]
     },
     "execution_count": 14,
     "metadata": {},
     "output_type": "execute_result"
    }
   ],
   "source": [
    "df_join_training_data"
   ]
  },
  {
   "cell_type": "code",
   "execution_count": 15,
   "metadata": {},
   "outputs": [],
   "source": [
    "df_join_training_data.to_csv(\"../data/temp/data.csv\", index=False)"
   ]
  },
  {
   "cell_type": "code",
   "execution_count": 16,
   "metadata": {},
   "outputs": [],
   "source": [
    "## Load csv"
   ]
  },
  {
   "cell_type": "markdown",
   "metadata": {},
   "source": [
    "##### Word Punctuation feature"
   ]
  },
  {
   "cell_type": "code",
   "execution_count": 17,
   "metadata": {},
   "outputs": [],
   "source": [
    "df_join_training_data = pd.read_csv(\"../data/temp/data.csv\")"
   ]
  },
  {
   "cell_type": "code",
   "execution_count": 18,
   "metadata": {},
   "outputs": [
    {
     "data": {
      "text/html": [
       "<div>\n",
       "<style scoped>\n",
       "    .dataframe tbody tr th:only-of-type {\n",
       "        vertical-align: middle;\n",
       "    }\n",
       "\n",
       "    .dataframe tbody tr th {\n",
       "        vertical-align: top;\n",
       "    }\n",
       "\n",
       "    .dataframe thead th {\n",
       "        text-align: right;\n",
       "    }\n",
       "</style>\n",
       "<table border=\"1\" class=\"dataframe\">\n",
       "  <thead>\n",
       "    <tr style=\"text-align: right;\">\n",
       "      <th></th>\n",
       "      <th>id</th>\n",
       "      <th>same</th>\n",
       "      <th>text1</th>\n",
       "      <th>text2</th>\n",
       "      <th>author1</th>\n",
       "      <th>author2</th>\n",
       "    </tr>\n",
       "  </thead>\n",
       "  <tbody>\n",
       "    <tr>\n",
       "      <th>0</th>\n",
       "      <td>6cced668-6e51-5212-873c-717f2bc91ce6</td>\n",
       "      <td>True</td>\n",
       "      <td>I shift a bit, warily letting my eyes dart fro...</td>\n",
       "      <td>\"All will become one with Russia,\" he said, al...</td>\n",
       "      <td>1446633</td>\n",
       "      <td>1446633</td>\n",
       "    </tr>\n",
       "    <tr>\n",
       "      <th>1</th>\n",
       "      <td>3c6c188a-db28-59aa-8c09-3d0f799ff579</td>\n",
       "      <td>True</td>\n",
       "      <td>I shift a bit, warily letting my eyes dart fro...</td>\n",
       "      <td>Suddenly, a piece of ice falls into the pit of...</td>\n",
       "      <td>1446633</td>\n",
       "      <td>1446633</td>\n",
       "    </tr>\n",
       "    <tr>\n",
       "      <th>2</th>\n",
       "      <td>b0cfa94f-c9ec-5aa5-8331-a5a249b664cf</td>\n",
       "      <td>True</td>\n",
       "      <td>A single tear escaped me as I left. I did have...</td>\n",
       "      <td>got the Yang yoyo.\" Kimiko pulled the other ha...</td>\n",
       "      <td>1446633</td>\n",
       "      <td>1446633</td>\n",
       "    </tr>\n",
       "    <tr>\n",
       "      <th>3</th>\n",
       "      <td>e6e86e73-9a7b-58f2-a652-a17b4a1bcabf</td>\n",
       "      <td>True</td>\n",
       "      <td>\"Ja.\" Ludwig kept his gaze upon her, solidly. ...</td>\n",
       "      <td>SilverGray lll...YellowRagged llll...GrayMilli...</td>\n",
       "      <td>1446633</td>\n",
       "      <td>1446633</td>\n",
       "    </tr>\n",
       "    <tr>\n",
       "      <th>4</th>\n",
       "      <td>4fe541af-912e-5a86-81a5-94c6d3891509</td>\n",
       "      <td>True</td>\n",
       "      <td>And he did. Slowly, hesitantly...but coming fr...</td>\n",
       "      <td>\"Let\"s go,\" Raimondo said and then started in ...</td>\n",
       "      <td>1446633</td>\n",
       "      <td>1446633</td>\n",
       "    </tr>\n",
       "    <tr>\n",
       "      <th>...</th>\n",
       "      <td>...</td>\n",
       "      <td>...</td>\n",
       "      <td>...</td>\n",
       "      <td>...</td>\n",
       "      <td>...</td>\n",
       "      <td>...</td>\n",
       "    </tr>\n",
       "    <tr>\n",
       "      <th>52596</th>\n",
       "      <td>3926a1bd-6d33-5513-a694-12d7590443d4</td>\n",
       "      <td>False</td>\n",
       "      <td>Enjoy! And time stands still beneath the air o...</td>\n",
       "      <td>\"That a challenge, dick?\" Austin smirks back a...</td>\n",
       "      <td>1940652</td>\n",
       "      <td>4353578</td>\n",
       "    </tr>\n",
       "    <tr>\n",
       "      <th>52597</th>\n",
       "      <td>17227d87-a3cb-5aca-b5fd-bb642e88b030</td>\n",
       "      <td>False</td>\n",
       "      <td>\"I forgive you,\" she blurted out looking strai...</td>\n",
       "      <td>This is a KNB fanfic. KNB doesn\"t belong to me...</td>\n",
       "      <td>2581924</td>\n",
       "      <td>5085069</td>\n",
       "    </tr>\n",
       "    <tr>\n",
       "      <th>52598</th>\n",
       "      <td>0332dcaa-7230-508b-badb-820f9d8eebaa</td>\n",
       "      <td>False</td>\n",
       "      <td>\"What? Why? What\"s happening? Where are we goi...</td>\n",
       "      <td>At the moment, Chris\" position on the swing se...</td>\n",
       "      <td>4819080</td>\n",
       "      <td>6983686</td>\n",
       "    </tr>\n",
       "    <tr>\n",
       "      <th>52599</th>\n",
       "      <td>f5e4884a-13fd-51fb-a880-053d6655d59a</td>\n",
       "      <td>False</td>\n",
       "      <td>\"Gah!\" I growled. \"I need a password to access...</td>\n",
       "      <td>As you can see a lot of things has happened si...</td>\n",
       "      <td>6070317</td>\n",
       "      <td>4369540</td>\n",
       "    </tr>\n",
       "    <tr>\n",
       "      <th>52600</th>\n",
       "      <td>900c4a19-e22b-59fd-9cc7-8490919b1696</td>\n",
       "      <td>False</td>\n",
       "      <td>Chica heard a noise below her and saw Golden F...</td>\n",
       "      <td>\"I\"m fine. It\"s just . . . I can\"t believe Dal...</td>\n",
       "      <td>5412915</td>\n",
       "      <td>4594479</td>\n",
       "    </tr>\n",
       "  </tbody>\n",
       "</table>\n",
       "<p>52601 rows × 6 columns</p>\n",
       "</div>"
      ],
      "text/plain": [
       "                                         id   same  \\\n",
       "0      6cced668-6e51-5212-873c-717f2bc91ce6   True   \n",
       "1      3c6c188a-db28-59aa-8c09-3d0f799ff579   True   \n",
       "2      b0cfa94f-c9ec-5aa5-8331-a5a249b664cf   True   \n",
       "3      e6e86e73-9a7b-58f2-a652-a17b4a1bcabf   True   \n",
       "4      4fe541af-912e-5a86-81a5-94c6d3891509   True   \n",
       "...                                     ...    ...   \n",
       "52596  3926a1bd-6d33-5513-a694-12d7590443d4  False   \n",
       "52597  17227d87-a3cb-5aca-b5fd-bb642e88b030  False   \n",
       "52598  0332dcaa-7230-508b-badb-820f9d8eebaa  False   \n",
       "52599  f5e4884a-13fd-51fb-a880-053d6655d59a  False   \n",
       "52600  900c4a19-e22b-59fd-9cc7-8490919b1696  False   \n",
       "\n",
       "                                                   text1  \\\n",
       "0      I shift a bit, warily letting my eyes dart fro...   \n",
       "1      I shift a bit, warily letting my eyes dart fro...   \n",
       "2      A single tear escaped me as I left. I did have...   \n",
       "3      \"Ja.\" Ludwig kept his gaze upon her, solidly. ...   \n",
       "4      And he did. Slowly, hesitantly...but coming fr...   \n",
       "...                                                  ...   \n",
       "52596  Enjoy! And time stands still beneath the air o...   \n",
       "52597  \"I forgive you,\" she blurted out looking strai...   \n",
       "52598  \"What? Why? What\"s happening? Where are we goi...   \n",
       "52599  \"Gah!\" I growled. \"I need a password to access...   \n",
       "52600  Chica heard a noise below her and saw Golden F...   \n",
       "\n",
       "                                                   text2  author1  author2  \n",
       "0      \"All will become one with Russia,\" he said, al...  1446633  1446633  \n",
       "1      Suddenly, a piece of ice falls into the pit of...  1446633  1446633  \n",
       "2      got the Yang yoyo.\" Kimiko pulled the other ha...  1446633  1446633  \n",
       "3      SilverGray lll...YellowRagged llll...GrayMilli...  1446633  1446633  \n",
       "4      \"Let\"s go,\" Raimondo said and then started in ...  1446633  1446633  \n",
       "...                                                  ...      ...      ...  \n",
       "52596  \"That a challenge, dick?\" Austin smirks back a...  1940652  4353578  \n",
       "52597  This is a KNB fanfic. KNB doesn\"t belong to me...  2581924  5085069  \n",
       "52598  At the moment, Chris\" position on the swing se...  4819080  6983686  \n",
       "52599  As you can see a lot of things has happened si...  6070317  4369540  \n",
       "52600  \"I\"m fine. It\"s just . . . I can\"t believe Dal...  5412915  4594479  \n",
       "\n",
       "[52601 rows x 6 columns]"
      ]
     },
     "execution_count": 18,
     "metadata": {},
     "output_type": "execute_result"
    }
   ],
   "source": [
    "df_join_training_data"
   ]
  },
  {
   "cell_type": "code",
   "execution_count": 19,
   "metadata": {},
   "outputs": [],
   "source": [
    "texts = np.hstack([df_join_training_data['text1'].values, df_join_training_data['text2'].values])\n"
   ]
  },
  {
   "cell_type": "code",
   "execution_count": 20,
   "metadata": {},
   "outputs": [],
   "source": [
    "vocab = \"!.?$()\""
   ]
  },
  {
   "cell_type": "code",
   "execution_count": 21,
   "metadata": {},
   "outputs": [],
   "source": [
    "vect = TfidfVectorizer(vocabulary=string.punctuation, analyzer='char')"
   ]
  },
  {
   "cell_type": "code",
   "execution_count": 22,
   "metadata": {},
   "outputs": [
    {
     "data": {
      "text/plain": [
       "TfidfVectorizer(analyzer='char',\n",
       "                vocabulary='!\"#$%&\\'()*+,-./:;<=>?@[\\\\]^_`{|}~')"
      ]
     },
     "execution_count": 22,
     "metadata": {},
     "output_type": "execute_result"
    }
   ],
   "source": [
    "vect.fit(texts)"
   ]
  },
  {
   "cell_type": "code",
   "execution_count": 23,
   "metadata": {},
   "outputs": [
    {
     "data": {
      "text/plain": [
       "32"
      ]
     },
     "execution_count": 23,
     "metadata": {},
     "output_type": "execute_result"
    }
   ],
   "source": [
    "len(vect.get_feature_names())"
   ]
  },
  {
   "cell_type": "code",
   "execution_count": 24,
   "metadata": {},
   "outputs": [],
   "source": [
    "dataset = df_join_training_data.sample(frac=1).reset_index(drop=True)\n"
   ]
  },
  {
   "cell_type": "code",
   "execution_count": 25,
   "metadata": {},
   "outputs": [],
   "source": [
    "text1_transform = vect.transform(dataset['text1'].values)"
   ]
  },
  {
   "cell_type": "code",
   "execution_count": 26,
   "metadata": {},
   "outputs": [],
   "source": [
    "text2_transform = vect.transform(dataset['text2'].values)"
   ]
  },
  {
   "cell_type": "code",
   "execution_count": 27,
   "metadata": {},
   "outputs": [],
   "source": [
    "X = text1_transform - text2_transform"
   ]
  },
  {
   "cell_type": "code",
   "execution_count": 28,
   "metadata": {},
   "outputs": [],
   "source": [
    "y = dataset['same'].values"
   ]
  },
  {
   "cell_type": "code",
   "execution_count": 29,
   "metadata": {},
   "outputs": [
    {
     "data": {
      "text/plain": [
       "((52601, 32), (52601,))"
      ]
     },
     "execution_count": 29,
     "metadata": {},
     "output_type": "execute_result"
    }
   ],
   "source": [
    "X.shape, y.shape"
   ]
  },
  {
   "cell_type": "code",
   "execution_count": 30,
   "metadata": {},
   "outputs": [],
   "source": [
    "X_train, X_test, y_train, y_test = train_test_split(X, y, test_size=0.2, random_state=13, stratify=y)"
   ]
  },
  {
   "cell_type": "code",
   "execution_count": 31,
   "metadata": {},
   "outputs": [],
   "source": [
    "clf = LogisticRegression()"
   ]
  },
  {
   "cell_type": "code",
   "execution_count": 32,
   "metadata": {},
   "outputs": [
    {
     "data": {
      "text/plain": [
       "LogisticRegression()"
      ]
     },
     "execution_count": 32,
     "metadata": {},
     "output_type": "execute_result"
    }
   ],
   "source": [
    "clf.fit(X_train, y_train)"
   ]
  },
  {
   "cell_type": "code",
   "execution_count": 33,
   "metadata": {},
   "outputs": [],
   "source": [
    "preds = clf.predict(X_test)"
   ]
  },
  {
   "cell_type": "code",
   "execution_count": 34,
   "metadata": {},
   "outputs": [
    {
     "data": {
      "text/plain": [
       "0.36805121060573215"
      ]
     },
     "execution_count": 34,
     "metadata": {},
     "output_type": "execute_result"
    }
   ],
   "source": [
    "f1_score(y_test, preds, average='macro')"
   ]
  },
  {
   "cell_type": "markdown",
   "metadata": {},
   "source": [
    "##### n grams"
   ]
  },
  {
   "cell_type": "code",
   "execution_count": 35,
   "metadata": {},
   "outputs": [],
   "source": [
    "n_grams = 4"
   ]
  },
  {
   "cell_type": "code",
   "execution_count": 36,
   "metadata": {},
   "outputs": [
    {
     "data": {
      "text/plain": [
       "array(['I shift a bit, warily letting my eyes dart from one owl to the other -- but my eyes are trained on the Barn Owl the most. Like Hoole...so like Hoole... He turns a bit, and our eyes meet directly. I can\"t describe it...in this next moment, I don\"t look away, how awkward it seems. I stare into his eyes. They\"re like Hoole\"s... They are Barn Owl eyes, but Hoole\"s eyes. They\"re his eyes...Hoole\"s eyes... They hold that light of valor, justice, that one glow that I always made me feel my gizzard twitch in the bottom of my heart. Hoole... He never wanted me, did he? He loved me, but only who I was pretending to be. He never loved me, only Emerilla...lucky owl. I just wanted to belong -- because I was nothing -- and he gave me that. He was so fair, so kind...he gave me something even Kreeth could not. Mum and Da -- Ygryk and Pleek -- were supposed to be my parents. I was supposed to be their chick, Lutta. Yet they left me. They talked about me behind my back...I was a freak. My own parents loathed me. Oh, they tried, but they left in the end. They didn\"t love me. Kreeth used me. No one really loved me, or even looked at me normally. All I was was a freak, nothing at all. Then he came along. Him, Hoole. The only one who let me belong, looked at me with kindness in his gaze, not looking like I was a...monster... Why was I born? Not one person cared about me. I was just freak my parents didn\"t want, a weapon for auntie\"s uses, and a fake to my only love. He cared, but didn\"t know me. In the end, I was a monster to him too. Now I\"m back. And now I wonder... I suddenly stiffen as I think up to a thought. \"What happened?\" I shoot up and stare into those kind eyes. I trust him to answer. \"Please, who are you? Where am I? Where\"s...Where\"s\"--I choke up, but the question is already on my tongue--\"Hoole?\" My talons clench as the name leaves me. At once, I see sympathy clearly written over their faces. A pang enters my heart. Sympathy for me? A nothing? \"Lutta.\" Sweet words again, and I suddenly wonder how this Barn Owl knows my name. \"It\"s hard to explain, but please...\" \"Listen carefully.\" Everyone, including me, jumps as the Great Gray speaks -- in a rather booming voice -- for the first time. The Elf Owl frowns at him. The older Barn Owl gives him a quick nudge. Words tumble from the young Barn Owl\"s beak. \"Lutta, we read about you in legends. It\"s been a long time since you were... \"Well, you\"re at the Great Ga\"Hoole Tree, and it\"s been a long time since you were...\" His voice dies down as he hesitates. \"Dead,\" the older Barn Owl finishes. He says it with that sympathy shown in his eyes. \"It\"s been thousands of years from your time, and we read about you from some legends about some...events...\" He clears his throat, determined to go on. \"Coryn here\"--a gesture at the young Barn Owl--\"is the king. I\"m his uncle, Soren. This is Gylfie\"--a gesture at the Elf Owl, who nods in greeting--\"Twilight,\" the Great Gray, \"and Digger\"--what a funny looking Burrowing Owl. \"My uncle and his friends are called the Band,\" Coryn adds. I let this newfound information seep in. Thousands of years? Could this be possible? I was dead, right? It\"s been so long -- and...I was dead? How...? \"I have a GIZZARD!\" \"You do not have a gizzard, you fool! you idiot! I created you.\" \"You created me, but I created this gizzard!\" \"No!\" What is this? \"Emerilla?\" He turns as I change. He knows now...what am I to do? Dismay spreads through my body. He\"ll probably think I\"m a freak too, and he\"ll hate me. But I love him! In the next second, I\"m flying at him. Adrenline floods me as I feel...am I losing myself? This gref... He\"ll hate me now. I slam into him, and he flies backward. \"I love you!\" I want to scream. I want to scream those three words. To let him understand. I want to scream, \"I love you!\" Then, an enexpected blow to the back of my head. Pain. Unexpected pain. Then talons, stopping me in my tracks. Talons...digging into me, slashing everywhere. My vision spins to red. I\"m being ripped apart at the seams. Torn. No... Why are you...? I sink, and I fall apart, literally. My feathers fall off, as my body becomes a lump of darkness. A lump of feathers. I truly am nothing... You\"d expect a real body when one is torn by claws -- and yet...feathers only. My phantom gizzard lurches. \"Half-hags!\" \"I had to kill her.\" WHY? \"She pretended to be my Emerilla.\" Is that all! I\"m going to die like this! Just because I was an imposter! \"I knew from the start that something was not right about her. A blood deception she was -- a hagsfiend.\" Anger -- hot, seeping rage enters me. And cold feelings. Feeling that make me want to shed tears. \"No!\" I manage. \"Who are you?\" Who? Hoole...you accept me as someone? Hoole... \"I am nothing...and yet, I loved...\" I loved... \"Lutta?\" \"Hey! Are you all right?\" \"What\"s wrong? Lutta!\" I sink down as my mind spins. Then, I black out. All was dark except for the fluttering movement of wings -- brown wings. A Barn Owl shifted in the branches of the magnificent tree, her dark eyes gleaming as she looked into the hollow. How strange that she could get so close to the tree so easily. She was but a sillhouette against the branched skies. She eyed the hollow, and the inhabitants. Her son...too bad she would have to kill him. He would have made a fine pure owl, had he not inherited his uncle\"s stupid softness. She could just kill him, right there and then. How easy, that everything she had been working for for the last few months would just be completed now, so easily. She could easily snatch the ember, then swoop in and kill Coryn, his disgraceful uncle, and get her dear mate\"s -- rest his soul -- revenge. Then, kill those pathetic owls that were always around Soren, and anyone else she comes across in the tree, just for a bonus. It would be wonderful to see their pained, stupefied faces as she sank her claws through their feathers, one by one. Then she saw the hagsfiend, and her eyes widened in horror. I am the last! How is this possible? Why is she in that hollow! She could just kill her as well -- but her eyes caught something, and her gizzard twitched. No...she\"ll just stay back and observe. This hagsfiend could prove some use to her and... Sadistic impulse shot through Nyra\"s gizzard. The adoring gleam in the hagsfiend\"s eye as she stared at Nyroc. No, she\"ll wait. Nyra silently spread her wings and swooped into the night sky. She had plotting to do. PT: Please, enjoy :) I hope I can fill up some holes in the story as soon as I can. Though, they\"re there for suspense. Please review! Nothing, Yet A Love Never Dying PT: THANKS SO MUCH FOR READING, EVERYONE!! Enjoy! I have a little more to say: I know the last book already came out, and I\"ve finished it already. I\"m a little stunned, but in courtesy of those who have not yet finished it, I won\"t spoil it. However, despite the end, I\"m continuing the fic the way it is. I\"ve just noticed how much I\"ve been neglecting the story O.o Anyways, I was rather...displeased with a few stories stuck in the GoGH fandom, and while I was planning to leave it after finishing this fic, I might a few more fics for this. Not that I have hubris...I just...don\"t know...I just think I\"ll contribute to the fandom with a few fics of angst :D Anani Mouse Thank you, thank you so much :D -Head swells- Frosted Fate Yeah, poor Lutta D: Wish Hoole ended up with her. One of the Populace Oh...-sobs- Hi! :D FlamingSerpent Thanks! I\"m flattered x) True, Nyra\"s so important to the plot -- being sadistic and plotting revenge, among other things :) Hawkrain I\"m glad you\"re eager :D Thanks for reviewing and liking it! :) Lara-Van Thank you, thank you -bows- X) It\"s great that you think that; cheered me right up ;) The Great Tree I can make them hurt... My Mum and Da. I can make them feel the pain that they\"ve put on me. They can hurt, and I\"d be able to do it to them. A change in our positions is want I want so badly, and they\"d taste the bile they stuck in my throat. They left me...they left me, their chick Lutta. Theirs. I have the power now -- to make them hurt. I can make them hurt. I can make them hurt... \"Lutta!\" Stop slapping me. \"Lutta, wake up!\" Slap. Stop slapping me with your wing, it stings. Slap. Slap. \"WAKE UP, Lutta.\" Slap. Slap. Stop it! I\"m trying to-- \"Lutta, please!\" ...Hoole? Hoole\"s voice! I flick my eyelids open -- all four of them -- at the same time. Hoole? No, it\"s Coryn. Just Coryn. \"Lutta, are you all right?\" The way he looks at me...it\"s like Hoole. So much like Hoole. \"I\"m fine,\" I answer, and immediately scan my surroundings. Perhaps I have become overly paranoid with time, but I can\"t be sure. In any case, I can\"t let my guard down in this case; I could find myself dead in a second, just like that I died in an instant -- killed by Strix Strumajen. I shudder, remembering the memory of being ripped. Ripping, ripping, tearing, blood, pain-- Death. And then... Well, I don\"t want to think about what I don\"t remember. After that, there was nothing but a cluster of memories of what happened within death-- Falling. Falling... Floating...unraveling...flowing through the winds...becoming one with nature...then falling.... Falling, falling downwards, a curse uttered upon my kind: \"To hagsmire.\" Hagsmire, where the ones who have sinned within their lives went, for eternal damnation. Hagsmire, for hagsfiends, and...and... Nothings. Nothings -- they who mean nothing to the world, who should never have entered this life, this realm of breathing. Falling, agony, curses, darkness, cold hate. Those flaws of what life and death decide. And nothings. Nothings, like me. Nothing. Snap out of it. I don\"t want to remember. Of being one of the damned. And now I\"m back. Why? \"Lutta?\" -- and I look up. Hoole -- no, Coryn. Coryn, the Barn Owl. Unconsciously, I stare at him with huge eyes that deserve to pop out of their sockets. \"Yes?\" I say. Oh Coryn, please don\"t look at me like that. You look like Hoole, please, don\"t look sympathic...please don\"t...I want it but you don\"t have to give it. Can you not see that my heart has already been broken? \"Lutta,\" he says, softly, and gives me a tender nudge with his wing. \"Can you stand?\" I nod, because I cannot find myself shaking my head. \"Yes.\" Can my legs work? He steps back slightly, to give me room, and I try to remember how to use legs again. Now, I just...position them...and push upwards... A searing pain. My legs! They hurt! They hurt! Fall down again -- No, I can\"t. I can\"t fall; I\"ve told Coryn that I will stand, will be able, and I will not lie; not anymore; I have already lied and tricked Hoole, I will not do so again, not to any owl. Nor this owl. This owl, who stares with the eyes of a true king. A young king, but a wise one, and a good one. With difficulty, I stagger forward, out of the small nest. I feel the bark underneath my claws as I step on it; bark again, how it brings back thoughts of those days. It feels a bit unfamiliar, but I cannot forget bark. Such a thing is pathetic. I feel my legs quivering, wanting to give way, but no. No. I have said that I will stand. How they quiver! -- stop it. Stop quivering! I have said I will walk, and I will walk, even if this pain continues -- like fire searing at me, numbing in a way. I will not lie again. Deception has torn me once before; never again. I look at Coryn, see the concern in his eyes; he hesitates to step forward, wanting to help. No, I can do it. Please. Let me. I walk, a little faster, wanting my legs to stride. They work, a little better. I look at Coryn again, and I ask, \"Where am I?\" \"The Great Ga\"Hoole Tree.\" Silence. My breathe hitches quickly. \"The...\" I pause, mind spinning and reeling. The Tree? The Great Ga\"Hoole Tree, that was reigned over by...Hoole? \"Tree?\" The Tree. The Great Ga\"Hoole Tree. And my mind explodes. \"Th -- Then!\" I jump as I begin stuttering. \"The Ga\"Hoole Tree! I -- I don\"t belong here! I am nothing! I lo-- \"Hoole, he...NO! I am a disgrace! My presence is dirtying this tree!\" I back away, seeking some sort of exit. I don\"t belong here. No. I am defiling the Tree. How long has it been since the last time I was here? I deceived the good king, I nearly killed him -- he was a great king, and a great owl! I don\"t deserve to be here! How many good owls reside in this tree now, the Tree that was grown by -- as rumor says -- the sorrow and goodness of Hoole? I don\"t belong here! Coryn jumps now. Please, no! \"Lutta!\" he says, eyes flashing with some sort of fire that started. \"You are not!\" Not? But...Hoole! Hoole! -- please no! You--! I stare, transfixed, as I see Coryn change. I don\"t see Coryn anymore. I see...you. Hoole. Eyes, eyes that spoke of what you believed in. Your sense of love for those close to you, your fiery will that would see indiscrimation to the very end. I\"m sorry Hoole! I deceived you! I am everything you are not! -- and should not be! I am NOTHING! I back away, seeing Hoole. He steps forward, that look in his eyes-- \"You deserve to be here! You--\" I stumble backwards as I shriek, \"Hoole! Don\"t! Don\"t you understand!\" Now is my time to confess! I never told him that I was-- I\"m sorry Hoole. I\"m so sorry! \"Lutta!\" The owl before me is -- He\"s pleading! No, I don\"t deserve it! \"Lutta, you do! Just as any owl!\" My gizzard throbs, beating against its surroundings. I stare upwards, feeling it grow cold. \"NO! I DON\"T DESERVE TO BE HERE! I AM NOTHING! I -- DO -- NOT -- BELONG -- HERE! I AM...\" My gizzard gives a jerk. My throat fills with pebbles; \"Nothing....\" My words are choked. It\"s true. I am nothing. I don\"t deserve to be here, at the Great Tree. PT: Like? Hate? Please review. I hope to update soon. Fill up the plot holes, twist the story...you know. Nothing, Yet A Love Never Dying PT: I really need to update more often. xD -Shot- ...-looks out window- Well, I thought I\"d take some advantage. Now that I\"m in high school, and in the JROTC program, I\"ve joined the drill team that saps up all the members\" time. But as of this month practice has been cancelled until further notice. Now I have the energy and time for writing, so yeah -shrugs- FlamingSerpent I know, right? So sad...last book...oh the nostalgia.... PokemonKnight Yes, isn\"t that talent just so impressive? x) -shot- Thank you. silverrosetail Thank you, and thanks for the further information ^^ Hopefully, once this is pointed out, things will definitely unfold a little more. SamPD Mmhm...since I\"ve already replied to you... Crazydragonlord Thank you~! n_n I appreciate that. Move Again, Step By Step Nyra glanced down at the small bit of parchment in her right claw, squinting slightly to make out the ancient words. The Kraakish scrawled upon it was old, but young enough for her to translate. The general of the Pure Ones had to stop the glee that was bubbling upwards in her gizzard -- no, not yet, when this isn\"t confirmed to work -- but she allowed herself to flush slightly with success. For the sake of her sanity and her own feelings of encouragement. Success was near... Nearing... ...Bit -- by -- bit. \"Yes.\" A glint came to concentrated eyes. \"This is it.\" I look up. Consciousness is drifting back with a comforting steadiness. It comes kindly, but firmly. But I let it come. Hell. My body aches -- all of it, it aches and hurts and pinches itself. It\"s a twisted rag -- I\"m a twisted rag. Hoole. Coryn. Oh... I shouldn\"t be here. The thought is fire, or else ice. I shouldn\"t be here. I don\"t deserve to be here. My thoughts are taking flight from where they have left off. I don\"t deserve to be here. Of course I don\"t. I look around as my vision clears; he is not here...Coryn, was it? No one is here. My phantom gizzard -- phantom, yes... -- speaks...it sends a jolt of alarm. Warning. They have left me. They must have. Kind as they seemed to be, they must have left me here...in this hollow...perhaps wanting me to leave on my own, too disgusted to act. A saddening thought. They acknowledged me, though, and they were kind. Perhaps they saw through to something... But that\"s reality, is it not? -- of course, freak that I am; player of the confidant game that I am...an actor, nothing more. There is no real me. My grief has quieted. I should leave then -- it cracks my phantom gizzard in half -- this is the tree; and I am nothing. I shall leave then...go somewhere else to rot, quietly, for the peace. This tree has something...something...that revives Hoole\"s life. I wonder, then...if he is looking down here. I wonder what he is thinking. At least he is at peace. There is no me to disturb him, and I shall bother him no more in this tree. Hoole. I am sorry. I don\"t deserve any of your love. And I will not bother Coryn. He reminds me so much of you. I turn to face the opening of the hollow, veiled by lichen. Pretty. How alive. There is air outside; nighttime seeps through the fleshy fibers. Cool air, and a wide expanse. Shall I fly till the end of my miserable days? I shift; I can move. Then I can leave. There is no reason to stay here, of course...this is Hoole\"s home; I shall not taint it. Oh, it\"s silent -- I can\"t believe it took so long for me to notice it; my feathers are rustling -- I must look ugly -- and my feet shift. I can move. This is life. I am alive. Truly, truly alive. I cannot tell what exact state I am in, but I know I must be a mess. But outside I can release, can I not? Release, and perhaps become one with nature, earth or sky. There is a whole world out there, limitless. I can wander till the end of my days, past even the confinements of the land we owls know. Beyond the beyond the beyond. I fear no danger; in fact, the danger can come, and I shall not care if it kills me. I am an owl -- whatever I am -- with nothing to lose and nothing to gain. Then I am ready. I listen one more time, pause, before beginning the endless journey. Nothing. There is nothing but the hum of silence, scratching in cadence. I must be desperate to stay, as if I truly deserve it. I don\"t. I cannot stop thinking about this; I deserve nothing. I am nothing, after all. If I am damned to this line of reality for this whole retake at life, then so be it. Then, I will take my leave. Good riddance, then. My eyes mist. When I shake my head to clear the fog, I hop forward -- painful -- and I manage to walk. I can do this. There is the opening; I will go now. I must be cherishing the whisper of lush wind. I will go. I will go. With a shake of my ruffled feathers, I jump out, brush through the lichen that caresses my wings in farewell -- with pity? -- and snap my wings open. A prickling sensation. With a quick look downwards, as the world rushes in, I see the silver-gray plumage restored to my chest. A shapeshifter again. Coryn watched the candle before him splutter wetly, in its final throes of death. Though fire was life, it needed something to last. Something that helped it, hurled it onward. Without, it would die, die and scream. Then it would fall silent and blow out of existence. And that would be that. Died, and was dead. But undoubtedly, irrevocably, dead. How, then...how? -- how did a dead owl, undoubtedly gone for years upon years upon years...how could a dead owl rise, fresh and breathing, from the dead? This was illogical, and beyond the illogical itself. Of course there could be attempts to raise the dead, but...the body. And the sheer closeness to impossibility. Lutta, the owl of legend, was alive after being dead for so long. How...? Her body must have withered and become nothing but food for the earth to devour greedily. Though the beyond of the horizon of the logical was boundless, this was still... How, he mused. How. That was what he was pursuing. How? How? How? How had she returned to the earth? Was she an illusion? -- if so, she was something beyond illusion...she was too perfect to be something to be called a mere illusion. Coryn mused onward as he turned back to the sheafs of paper -- he had left Lutta for the pursuit of something...something that could shed its light upon the happenings. So long ago. Lutta. Was this a work of nachtmagen? There was that possibility, faded as the yellow craft was. Then who had performed it? Coryn could not grab it; he snatched at empty air. There was nothing to tell him. Nothing that anything could tell him, nor aid him. This was an enigma beyond most anagrams of matters. This was a mess. He had found her, Lutta, merely lying on some branch of the tree. And, through some urging of the gizzard, he had brought her back into the tree itself. This made little sense. He dived into another pool of thoughts. What if...? There was a bang; he jumped and turned. There was a curse of \"raccdrops!\" Twilight. Coryn called, one wing still laid flat over a book, \"What\"s going on?\" More cursing, followed by Gylfie\"s reprimands. There was a loud whirlwind of a flutter, and soon the whole Band was within the room! \"What?\" Coryn said loudly at the undignified relative of a heap before him. \"What\"s happened?\" Something shot through his gizzard. Soren spoke first, in a rushed but determined voice. \"She\"s gone!\" Another shot. Something like cold fear and wonder. \"She\"s gone!\" Gylfie wailed. \"Lutta\"s gone!\"',\n",
       "       'I shift a bit, warily letting my eyes dart from one owl to the other -- but my eyes are trained on the Barn Owl the most. Like Hoole...so like Hoole... He turns a bit, and our eyes meet directly. I can\"t describe it...in this next moment, I don\"t look away, how awkward it seems. I stare into his eyes. They\"re like Hoole\"s... They are Barn Owl eyes, but Hoole\"s eyes. They\"re his eyes...Hoole\"s eyes... They hold that light of valor, justice, that one glow that I always made me feel my gizzard twitch in the bottom of my heart. Hoole... He never wanted me, did he? He loved me, but only who I was pretending to be. He never loved me, only Emerilla...lucky owl. I just wanted to belong -- because I was nothing -- and he gave me that. He was so fair, so kind...he gave me something even Kreeth could not. Mum and Da -- Ygryk and Pleek -- were supposed to be my parents. I was supposed to be their chick, Lutta. Yet they left me. They talked about me behind my back...I was a freak. My own parents loathed me. Oh, they tried, but they left in the end. They didn\"t love me. Kreeth used me. No one really loved me, or even looked at me normally. All I was was a freak, nothing at all. Then he came along. Him, Hoole. The only one who let me belong, looked at me with kindness in his gaze, not looking like I was a...monster... Why was I born? Not one person cared about me. I was just freak my parents didn\"t want, a weapon for auntie\"s uses, and a fake to my only love. He cared, but didn\"t know me. In the end, I was a monster to him too. Now I\"m back. And now I wonder... I suddenly stiffen as I think up to a thought. \"What happened?\" I shoot up and stare into those kind eyes. I trust him to answer. \"Please, who are you? Where am I? Where\"s...Where\"s\"--I choke up, but the question is already on my tongue--\"Hoole?\" My talons clench as the name leaves me. At once, I see sympathy clearly written over their faces. A pang enters my heart. Sympathy for me? A nothing? \"Lutta.\" Sweet words again, and I suddenly wonder how this Barn Owl knows my name. \"It\"s hard to explain, but please...\" \"Listen carefully.\" Everyone, including me, jumps as the Great Gray speaks -- in a rather booming voice -- for the first time. The Elf Owl frowns at him. The older Barn Owl gives him a quick nudge. Words tumble from the young Barn Owl\"s beak. \"Lutta, we read about you in legends. It\"s been a long time since you were... \"Well, you\"re at the Great Ga\"Hoole Tree, and it\"s been a long time since you were...\" His voice dies down as he hesitates. \"Dead,\" the older Barn Owl finishes. He says it with that sympathy shown in his eyes. \"It\"s been thousands of years from your time, and we read about you from some legends about some...events...\" He clears his throat, determined to go on. \"Coryn here\"--a gesture at the young Barn Owl--\"is the king. I\"m his uncle, Soren. This is Gylfie\"--a gesture at the Elf Owl, who nods in greeting--\"Twilight,\" the Great Gray, \"and Digger\"--what a funny looking Burrowing Owl. \"My uncle and his friends are called the Band,\" Coryn adds. I let this newfound information seep in. Thousands of years? Could this be possible? I was dead, right? It\"s been so long -- and...I was dead? How...? \"I have a GIZZARD!\" \"You do not have a gizzard, you fool! you idiot! I created you.\" \"You created me, but I created this gizzard!\" \"No!\" What is this? \"Emerilla?\" He turns as I change. He knows now...what am I to do? Dismay spreads through my body. He\"ll probably think I\"m a freak too, and he\"ll hate me. But I love him! In the next second, I\"m flying at him. Adrenline floods me as I feel...am I losing myself? This gref... He\"ll hate me now. I slam into him, and he flies backward. \"I love you!\" I want to scream. I want to scream those three words. To let him understand. I want to scream, \"I love you!\" Then, an enexpected blow to the back of my head. Pain. Unexpected pain. Then talons, stopping me in my tracks. Talons...digging into me, slashing everywhere. My vision spins to red. I\"m being ripped apart at the seams. Torn. No... Why are you...? I sink, and I fall apart, literally. My feathers fall off, as my body becomes a lump of darkness. A lump of feathers. I truly am nothing... You\"d expect a real body when one is torn by claws -- and yet...feathers only. My phantom gizzard lurches. \"Half-hags!\" \"I had to kill her.\" WHY? \"She pretended to be my Emerilla.\" Is that all! I\"m going to die like this! Just because I was an imposter! \"I knew from the start that something was not right about her. A blood deception she was -- a hagsfiend.\" Anger -- hot, seeping rage enters me. And cold feelings. Feeling that make me want to shed tears. \"No!\" I manage. \"Who are you?\" Who? Hoole...you accept me as someone? Hoole... \"I am nothing...and yet, I loved...\" I loved... \"Lutta?\" \"Hey! Are you all right?\" \"What\"s wrong? Lutta!\" I sink down as my mind spins. Then, I black out. All was dark except for the fluttering movement of wings -- brown wings. A Barn Owl shifted in the branches of the magnificent tree, her dark eyes gleaming as she looked into the hollow. How strange that she could get so close to the tree so easily. She was but a sillhouette against the branched skies. She eyed the hollow, and the inhabitants. Her son...too bad she would have to kill him. He would have made a fine pure owl, had he not inherited his uncle\"s stupid softness. She could just kill him, right there and then. How easy, that everything she had been working for for the last few months would just be completed now, so easily. She could easily snatch the ember, then swoop in and kill Coryn, his disgraceful uncle, and get her dear mate\"s -- rest his soul -- revenge. Then, kill those pathetic owls that were always around Soren, and anyone else she comes across in the tree, just for a bonus. It would be wonderful to see their pained, stupefied faces as she sank her claws through their feathers, one by one. Then she saw the hagsfiend, and her eyes widened in horror. I am the last! How is this possible? Why is she in that hollow! She could just kill her as well -- but her eyes caught something, and her gizzard twitched. No...she\"ll just stay back and observe. This hagsfiend could prove some use to her and... Sadistic impulse shot through Nyra\"s gizzard. The adoring gleam in the hagsfiend\"s eye as she stared at Nyroc. No, she\"ll wait. Nyra silently spread her wings and swooped into the night sky. She had plotting to do. PT: Please, enjoy :) I hope I can fill up some holes in the story as soon as I can. Though, they\"re there for suspense. Please review! Nothing, Yet A Love Never Dying PT: THANKS SO MUCH FOR READING, EVERYONE!! Enjoy! I have a little more to say: I know the last book already came out, and I\"ve finished it already. I\"m a little stunned, but in courtesy of those who have not yet finished it, I won\"t spoil it. However, despite the end, I\"m continuing the fic the way it is. I\"ve just noticed how much I\"ve been neglecting the story O.o Anyways, I was rather...displeased with a few stories stuck in the GoGH fandom, and while I was planning to leave it after finishing this fic, I might a few more fics for this. Not that I have hubris...I just...don\"t know...I just think I\"ll contribute to the fandom with a few fics of angst :D Anani Mouse Thank you, thank you so much :D -Head swells- Frosted Fate Yeah, poor Lutta D: Wish Hoole ended up with her. One of the Populace Oh...-sobs- Hi! :D FlamingSerpent Thanks! I\"m flattered x) True, Nyra\"s so important to the plot -- being sadistic and plotting revenge, among other things :) Hawkrain I\"m glad you\"re eager :D Thanks for reviewing and liking it! :) Lara-Van Thank you, thank you -bows- X) It\"s great that you think that; cheered me right up ;) The Great Tree I can make them hurt... My Mum and Da. I can make them feel the pain that they\"ve put on me. They can hurt, and I\"d be able to do it to them. A change in our positions is want I want so badly, and they\"d taste the bile they stuck in my throat. They left me...they left me, their chick Lutta. Theirs. I have the power now -- to make them hurt. I can make them hurt. I can make them hurt... \"Lutta!\" Stop slapping me. \"Lutta, wake up!\" Slap. Stop slapping me with your wing, it stings. Slap. Slap. \"WAKE UP, Lutta.\" Slap. Slap. Stop it! I\"m trying to-- \"Lutta, please!\" ...Hoole? Hoole\"s voice! I flick my eyelids open -- all four of them -- at the same time. Hoole? No, it\"s Coryn. Just Coryn. \"Lutta, are you all right?\" The way he looks at me...it\"s like Hoole. So much like Hoole. \"I\"m fine,\" I answer, and immediately scan my surroundings. Perhaps I have become overly paranoid with time, but I can\"t be sure. In any case, I can\"t let my guard down in this case; I could find myself dead in a second, just like that I died in an instant -- killed by Strix Strumajen. I shudder, remembering the memory of being ripped. Ripping, ripping, tearing, blood, pain-- Death. And then... Well, I don\"t want to think about what I don\"t remember. After that, there was nothing but a cluster of memories of what happened within death-- Falling. Falling... Floating...unraveling...flowing through the winds...becoming one with nature...then falling.... Falling, falling downwards, a curse uttered upon my kind: \"To hagsmire.\" Hagsmire, where the ones who have sinned within their lives went, for eternal damnation. Hagsmire, for hagsfiends, and...and... Nothings. Nothings -- they who mean nothing to the world, who should never have entered this life, this realm of breathing. Falling, agony, curses, darkness, cold hate. Those flaws of what life and death decide. And nothings. Nothings, like me. Nothing. Snap out of it. I don\"t want to remember. Of being one of the damned. And now I\"m back. Why? \"Lutta?\" -- and I look up. Hoole -- no, Coryn. Coryn, the Barn Owl. Unconsciously, I stare at him with huge eyes that deserve to pop out of their sockets. \"Yes?\" I say. Oh Coryn, please don\"t look at me like that. You look like Hoole, please, don\"t look sympathic...please don\"t...I want it but you don\"t have to give it. Can you not see that my heart has already been broken? \"Lutta,\" he says, softly, and gives me a tender nudge with his wing. \"Can you stand?\" I nod, because I cannot find myself shaking my head. \"Yes.\" Can my legs work? He steps back slightly, to give me room, and I try to remember how to use legs again. Now, I just...position them...and push upwards... A searing pain. My legs! They hurt! They hurt! Fall down again -- No, I can\"t. I can\"t fall; I\"ve told Coryn that I will stand, will be able, and I will not lie; not anymore; I have already lied and tricked Hoole, I will not do so again, not to any owl. Nor this owl. This owl, who stares with the eyes of a true king. A young king, but a wise one, and a good one. With difficulty, I stagger forward, out of the small nest. I feel the bark underneath my claws as I step on it; bark again, how it brings back thoughts of those days. It feels a bit unfamiliar, but I cannot forget bark. Such a thing is pathetic. I feel my legs quivering, wanting to give way, but no. No. I have said that I will stand. How they quiver! -- stop it. Stop quivering! I have said I will walk, and I will walk, even if this pain continues -- like fire searing at me, numbing in a way. I will not lie again. Deception has torn me once before; never again. I look at Coryn, see the concern in his eyes; he hesitates to step forward, wanting to help. No, I can do it. Please. Let me. I walk, a little faster, wanting my legs to stride. They work, a little better. I look at Coryn again, and I ask, \"Where am I?\" \"The Great Ga\"Hoole Tree.\" Silence. My breathe hitches quickly. \"The...\" I pause, mind spinning and reeling. The Tree? The Great Ga\"Hoole Tree, that was reigned over by...Hoole? \"Tree?\" The Tree. The Great Ga\"Hoole Tree. And my mind explodes. \"Th -- Then!\" I jump as I begin stuttering. \"The Ga\"Hoole Tree! I -- I don\"t belong here! I am nothing! I lo-- \"Hoole, he...NO! I am a disgrace! My presence is dirtying this tree!\" I back away, seeking some sort of exit. I don\"t belong here. No. I am defiling the Tree. How long has it been since the last time I was here? I deceived the good king, I nearly killed him -- he was a great king, and a great owl! I don\"t deserve to be here! How many good owls reside in this tree now, the Tree that was grown by -- as rumor says -- the sorrow and goodness of Hoole? I don\"t belong here! Coryn jumps now. Please, no! \"Lutta!\" he says, eyes flashing with some sort of fire that started. \"You are not!\" Not? But...Hoole! Hoole! -- please no! You--! I stare, transfixed, as I see Coryn change. I don\"t see Coryn anymore. I see...you. Hoole. Eyes, eyes that spoke of what you believed in. Your sense of love for those close to you, your fiery will that would see indiscrimation to the very end. I\"m sorry Hoole! I deceived you! I am everything you are not! -- and should not be! I am NOTHING! I back away, seeing Hoole. He steps forward, that look in his eyes-- \"You deserve to be here! You--\" I stumble backwards as I shriek, \"Hoole! Don\"t! Don\"t you understand!\" Now is my time to confess! I never told him that I was-- I\"m sorry Hoole. I\"m so sorry! \"Lutta!\" The owl before me is -- He\"s pleading! No, I don\"t deserve it! \"Lutta, you do! Just as any owl!\" My gizzard throbs, beating against its surroundings. I stare upwards, feeling it grow cold. \"NO! I DON\"T DESERVE TO BE HERE! I AM NOTHING! I -- DO -- NOT -- BELONG -- HERE! I AM...\" My gizzard gives a jerk. My throat fills with pebbles; \"Nothing....\" My words are choked. It\"s true. I am nothing. I don\"t deserve to be here, at the Great Tree. PT: Like? Hate? Please review. I hope to update soon. Fill up the plot holes, twist the story...you know. Nothing, Yet A Love Never Dying PT: I really need to update more often. xD -Shot- ...-looks out window- Well, I thought I\"d take some advantage. Now that I\"m in high school, and in the JROTC program, I\"ve joined the drill team that saps up all the members\" time. But as of this month practice has been cancelled until further notice. Now I have the energy and time for writing, so yeah -shrugs- FlamingSerpent I know, right? So sad...last book...oh the nostalgia.... PokemonKnight Yes, isn\"t that talent just so impressive? x) -shot- Thank you. silverrosetail Thank you, and thanks for the further information ^^ Hopefully, once this is pointed out, things will definitely unfold a little more. SamPD Mmhm...since I\"ve already replied to you... Crazydragonlord Thank you~! n_n I appreciate that. Move Again, Step By Step Nyra glanced down at the small bit of parchment in her right claw, squinting slightly to make out the ancient words. The Kraakish scrawled upon it was old, but young enough for her to translate. The general of the Pure Ones had to stop the glee that was bubbling upwards in her gizzard -- no, not yet, when this isn\"t confirmed to work -- but she allowed herself to flush slightly with success. For the sake of her sanity and her own feelings of encouragement. Success was near... Nearing... ...Bit -- by -- bit. \"Yes.\" A glint came to concentrated eyes. \"This is it.\" I look up. Consciousness is drifting back with a comforting steadiness. It comes kindly, but firmly. But I let it come. Hell. My body aches -- all of it, it aches and hurts and pinches itself. It\"s a twisted rag -- I\"m a twisted rag. Hoole. Coryn. Oh... I shouldn\"t be here. The thought is fire, or else ice. I shouldn\"t be here. I don\"t deserve to be here. My thoughts are taking flight from where they have left off. I don\"t deserve to be here. Of course I don\"t. I look around as my vision clears; he is not here...Coryn, was it? No one is here. My phantom gizzard -- phantom, yes... -- speaks...it sends a jolt of alarm. Warning. They have left me. They must have. Kind as they seemed to be, they must have left me here...in this hollow...perhaps wanting me to leave on my own, too disgusted to act. A saddening thought. They acknowledged me, though, and they were kind. Perhaps they saw through to something... But that\"s reality, is it not? -- of course, freak that I am; player of the confidant game that I am...an actor, nothing more. There is no real me. My grief has quieted. I should leave then -- it cracks my phantom gizzard in half -- this is the tree; and I am nothing. I shall leave then...go somewhere else to rot, quietly, for the peace. This tree has something...something...that revives Hoole\"s life. I wonder, then...if he is looking down here. I wonder what he is thinking. At least he is at peace. There is no me to disturb him, and I shall bother him no more in this tree. Hoole. I am sorry. I don\"t deserve any of your love. And I will not bother Coryn. He reminds me so much of you. I turn to face the opening of the hollow, veiled by lichen. Pretty. How alive. There is air outside; nighttime seeps through the fleshy fibers. Cool air, and a wide expanse. Shall I fly till the end of my miserable days? I shift; I can move. Then I can leave. There is no reason to stay here, of course...this is Hoole\"s home; I shall not taint it. Oh, it\"s silent -- I can\"t believe it took so long for me to notice it; my feathers are rustling -- I must look ugly -- and my feet shift. I can move. This is life. I am alive. Truly, truly alive. I cannot tell what exact state I am in, but I know I must be a mess. But outside I can release, can I not? Release, and perhaps become one with nature, earth or sky. There is a whole world out there, limitless. I can wander till the end of my days, past even the confinements of the land we owls know. Beyond the beyond the beyond. I fear no danger; in fact, the danger can come, and I shall not care if it kills me. I am an owl -- whatever I am -- with nothing to lose and nothing to gain. Then I am ready. I listen one more time, pause, before beginning the endless journey. Nothing. There is nothing but the hum of silence, scratching in cadence. I must be desperate to stay, as if I truly deserve it. I don\"t. I cannot stop thinking about this; I deserve nothing. I am nothing, after all. If I am damned to this line of reality for this whole retake at life, then so be it. Then, I will take my leave. Good riddance, then. My eyes mist. When I shake my head to clear the fog, I hop forward -- painful -- and I manage to walk. I can do this. There is the opening; I will go now. I must be cherishing the whisper of lush wind. I will go. I will go. With a shake of my ruffled feathers, I jump out, brush through the lichen that caresses my wings in farewell -- with pity? -- and snap my wings open. A prickling sensation. With a quick look downwards, as the world rushes in, I see the silver-gray plumage restored to my chest. A shapeshifter again. Coryn watched the candle before him splutter wetly, in its final throes of death. Though fire was life, it needed something to last. Something that helped it, hurled it onward. Without, it would die, die and scream. Then it would fall silent and blow out of existence. And that would be that. Died, and was dead. But undoubtedly, irrevocably, dead. How, then...how? -- how did a dead owl, undoubtedly gone for years upon years upon years...how could a dead owl rise, fresh and breathing, from the dead? This was illogical, and beyond the illogical itself. Of course there could be attempts to raise the dead, but...the body. And the sheer closeness to impossibility. Lutta, the owl of legend, was alive after being dead for so long. How...? Her body must have withered and become nothing but food for the earth to devour greedily. Though the beyond of the horizon of the logical was boundless, this was still... How, he mused. How. That was what he was pursuing. How? How? How? How had she returned to the earth? Was she an illusion? -- if so, she was something beyond illusion...she was too perfect to be something to be called a mere illusion. Coryn mused onward as he turned back to the sheafs of paper -- he had left Lutta for the pursuit of something...something that could shed its light upon the happenings. So long ago. Lutta. Was this a work of nachtmagen? There was that possibility, faded as the yellow craft was. Then who had performed it? Coryn could not grab it; he snatched at empty air. There was nothing to tell him. Nothing that anything could tell him, nor aid him. This was an enigma beyond most anagrams of matters. This was a mess. He had found her, Lutta, merely lying on some branch of the tree. And, through some urging of the gizzard, he had brought her back into the tree itself. This made little sense. He dived into another pool of thoughts. What if...? There was a bang; he jumped and turned. There was a curse of \"raccdrops!\" Twilight. Coryn called, one wing still laid flat over a book, \"What\"s going on?\" More cursing, followed by Gylfie\"s reprimands. There was a loud whirlwind of a flutter, and soon the whole Band was within the room! \"What?\" Coryn said loudly at the undignified relative of a heap before him. \"What\"s happened?\" Something shot through his gizzard. Soren spoke first, in a rushed but determined voice. \"She\"s gone!\" Another shot. Something like cold fear and wonder. \"She\"s gone!\" Gylfie wailed. \"Lutta\"s gone!\"',\n",
       "       'A single tear escaped me as I left. I did have a gizzard. I did. Ice-cold talons clutched at me, dragging me to death. \"Hoole,\" I murmured as I left. I was sure that no one heard me, but I wanted him so much. It never will be. Oh, Hoole. As I disappeared forever, as I was dragged into the dark, a last thought escaped me. Hoole. \"Is she awake yet?\" Twilight muttered. \"No, not yet,\" Coryn replied. He touched the unconscious owl\"s face with a wing. He waited for her to stir. PT: Yup, that\"s all for now. I know, short, but the chapters will gradually grow bit by bit. I warn you, I have a happy talent for evilly placing cliffies down, as past readers have noticed. -Grins evilly- Nothing, Yet A Love Never Dying PT: I came back from Canada earlier this week. So, I decided to update! :D Unfortunately, I was signed up for a crap house that calls itself a summer school. With the amount of homework we\"re given, updates may be slower than usual. But I\"ve pretty much got this story planned out. I just need to decide on the amount of chapters this fic will have. FlamingSerpent MINE TOO! :D technologychic29 Yup :) Thanks. The Demonic Fox Yes, there will be four significant pairings in the plot: LuttaxHoole, LuttaxCoryn, CorynxKalo, and EmerillaxHoole. Some of the stuff is going to get angsty. Real angsty. Who Are You? \"Coryn! She\"s waking!\" Soren hooted. The unconscious owl before him shifted slightly, stirring. \"Finally!\" Twilight rolled his eyes as the Band and Coryn joined the Barn Owl. \"We\"ve waited for three straight days!\" \"I know!\" Soren replied, and shifted aside to let the others into Coryn\"s hollow. \"Tell me again,\" Gylfie said as she let Coryn get in front of her, \"why we\"ve waited for this one owl to stir?\" \"Because,\" Coryn said -- the unconscious owl shifted again -- \"I think she\"s...Lutta.\" \"She is a hagsfiend,\" Gylfie agreed. \"Definitely. But why do you think she is Lutta?\" Coryn gave a puzzled shrug. \"I don\"t know,\" he replied honestly. \"It\"s just something my gizzard tells me...\" \"You must be the only one with a sensitive gizzard then,\" Twilight put in, half joking, \"I don\"t feel anything at all. I think a certain Burrowing owl has...\" Coryn twittered slightly. \"Yes, turned it on.\" The five owls twittered with Coryn for a moment. \"Where\"s Otulissa?\" Twilight added. \"Hunting, I\"m afraid,\" Soren answered. \"Racdrops!\" Gylfie gave Twilight a nudge for his curse. \"She\"ll kill me for not telling her to come when the owl wakes up!\" \\'\"Well, we must all face her wrath later,\" Soren churred. \"Look!\" Coryn beckoned with his wing, and the others followed it. \"She\"s awake!\" I wonder...who are you? As I stirr, I can see shapes. Shapes? Owls, apparently. Who are you? What do you want with me? As I open my eyes -- have I been sleeping? -- I can see them staring at me. What is that expression on their faces? Twigs and something soft touch my being, the twigs crackling. I\"m in -- a nest? These owls, their sillhouettes are huge in my eyes. Is Hoole among them? Is Emerilla? Or -- my gizzard, be it real or not, gives a jerk -- even Strix Strumajen? But no...it can\"t be... My blurry eyes can see no spots -- none that are the ones blurring my vision. But blinking helps. Perhaps. I blink once, on this impulse. Then again...again...harder... Yes, blinking clear the spots of light in my sight. Once...twice...three times. Thrice. I blink a little more, a little harder, as my eyes start clearing up. By now, I can see -- a Barn owl...two, actually... There\"s a Burrowing owl, naked legs outstretched. There is also a -- I blink my eyes a little more, trying to focus them -- a small gray owl. I focus a little more, trying to focus more. It\"s an Elf owl. No wonder I had trouble seeing it; so small. There is one final one; I turn my gaze to him. I squint, but he\"s hard to see. I focus some more. It suddenly strikes me as curious; these owls are not saying anything. I lift a hooked talon, trembling -- quivering with caution. \"Who--\" I try to whisper, say something -- anything at all -- but my throat is dry. Invisible sand is stuck there. More alarmingly, I notice that the owls still aren\"t saying anything. Are they real at all--? No, they\"re warm. They\"re warm with the heat of life. None of them are cooling. I can feel it, from here, in this nest -- while they\"re standing a little ways around me. I try not to shrink back -- to look weak right now might provoke them to treat me roughly; I don\"t know if they are friend or foe yet -- as I already know that there is one of me, and more of them. I discover that they are now surrounding me. Suddenly, they\"re moving. Now, I really shrink back, as the Barn owl -- the smaller one, perhaps younger -- suddenly hands me a nut cup of some fluid. I don\"t know why, but I am suddenly taking it. Perhaps it is impulse. \"Drink it,\" the owl says kindly; he is a male, from the voice. \"You can speak.\" But...but -- but! -- I am a hagsfiend! Can they see that? I quickly glance down at my wing, not wishing to stare too long if I am to see the ugliness that Hoole had always detested. I force back tears as I see the thing I don\"t want to; nor ever want to see again. Long, dark sweeping feathers. Ragged. Intact, but with no visible half-hags. That is an improvement, but only slight. I am clearly a hagsfiend. They should hate me. As I look up again, the young Barn owl\"s eyes meet mine. And a strike of lightning buries itself into my heart. Those eyes...they\"re Hoole\"s! They are Barn owl eyes, pitch-black, dark without a trace of yellow. And yet...those eyes. They are Hoole\"s eyes. They gleam with kindness, justice. \"Go ahead, Lutta.\" Say my name again. Please! It sounds so sweet; you are acknowledging me! Only me! And you are being kind about it! You know me! Without another word, I swig down the nut cup\"s -- still clutched in my claws; liquid yet untouched -- contents. The sweetness of the juice, I have tasted it before. What, but I cannot remember? But, I must remember... But the sand in my throat is gone. I can speak clearly now -- hopefully. \"Wh-Who...are you?\" The question that I need to know the most right now. Who are you? PT: Yes, well. Lutta was so distracted by Coryn\"s eyes that she didn\"t really suspect the milkberry tea. Or anything, for that matter. I\"m hoping to keep this nice and slow :) I need to explain why she starts loving Coryn and everything. Please review. Nothing, Yet A Love Never Dying PT: I don\"t know if you count this as late or what, but thanks for the reviews! :D If I find the right time, I\"ll update the chapter after this :) Like, some time this month? Don\"t really ount on it, though. I\"ve started school this Tuesday, and I\"ve got to be a bit more serious because I\"m having my high school exams -- and I\"m taking tennis on Sundays. I turned 13 last month :) It feels weird; I\"m a teen at last... Anyways, yeah, I\"ll be busy...though I might find time, not sure yet... FlamingSerpent Heheh, I\"m happy :) Thanks! Ori-hime-Shinigami01 Glad you like it :D I\"ll try to! :3 Pinefur of DragonClan Lutta is AWESOME :) Lara-van :D! Thank you! Eater of Crayons Thank you ;) Same opinions here. I was SO mad when Strumajen killed Lutta xO These Fading Memories An unpleasant silence fills the air; it does not lift. The owls all look uneasy. I can\"t wait for an answer. What are they, waiting for a feather to float from the treetop to the ground until speaking? I shift a bit, warily letting my eyes dart from one owl to the other -- but my eyes are trained on the Barn Owl the most. Like Hoole...so like Hoole... He turns a bit, and our eyes meet directly. I can\"t describe it...in this next moment, I don\"t look away, how awkward it seems. I stare into his eyes. They\"re like Hoole\"s... They are Barn Owl eyes, but Hoole\"s eyes. They\"re his eyes...Hoole\"s eyes... They hold that light of valor, justice, that one glow that I always made me feel my gizzard twitch in the bottom of my heart. Hoole... He never wanted me, did he? He loved me, but only who I was pretending to be. He never loved me, only Emerilla...lucky owl. I just wanted to belong -- because I was nothing -- and he gave me that. He was so fair, so kind...he gave me something even Kreeth could not. Mum and Da -- Ygryk and Pleek -- were supposed to be my parents. I was supposed to be their chick, Lutta. Yet they left me. They talked about me behind my back...I was a freak. My own parents loathed me. Oh, they tried, but they left in the end. They didn\"t love me. Kreeth used me. No one really loved me, or even looked at me normally. All I was was a freak, nothing at all. Then he came along. Him, Hoole. The only one who let me belong, looked at me with kindness in his gaze, not looking like I was a...monster... Why was I born? Not one person cared about me. I was just freak my parents didn\"t want, a weapon for auntie\"s uses, and a fake to my only love. He cared, but didn\"t know me. In the end, I was a monster to him too. Now I\"m back. And now I wonder... I suddenly stiffen as I think up to a thought. \"What happened?\" I shoot up and stare into those kind eyes. I trust him to answer. \"Please, who are you? Where am I? Where\"s...Where\"s\"--I choke up, but the question is already on my tongue--\"Hoole?\" My talons clench as the name leaves me. At once, I see sympathy clearly written over their faces. A pang enters my heart. Sympathy for me? A nothing? \"Lutta.\" Sweet words again, and I suddenly wonder how this Barn Owl knows my name. \"It\"s hard to explain, but please...\" \"Listen carefully.\" Everyone, including me, jumps as the Great Gray speaks -- in a rather booming voice -- for the first time. The Elf Owl frowns at him. The older Barn Owl gives him a quick nudge. Words tumble from the young Barn Owl\"s beak. \"Lutta, we read about you in legends. It\"s been a long time since you were... \"Well, you\"re at the Great Ga\"Hoole Tree, and it\"s been a long time since you were...\" His voice dies down as he hesitates. \"Dead,\" the older Barn Owl finishes. He says it with that sympathy shown in his eyes. \"It\"s been thousands of years from your time, and we read about you from some legends about some...events...\" He clears his throat, determined to go on. \"Coryn here\"--a gesture at the young Barn Owl--\"is the king. I\"m his uncle, Soren. This is Gylfie\"--a gesture at the Elf Owl, who nods in greeting--\"Twilight,\" the Great Gray, \"and Digger\"--what a funny looking Burrowing Owl. \"My uncle and his friends are called the Band,\" Coryn adds. I let this newfound information seep in. Thousands of years? Could this be possible? I was dead, right? It\"s been so long -- and...I was dead? How...? \"I have a GIZZARD!\" \"You do not have a gizzard, you fool! you idiot! I created you.\" \"You created me, but I created this gizzard!\" \"No!\" What is this? \"Emerilla?\" He turns as I change. He knows now...what am I to do? Dismay spreads through my body. He\"ll probably think I\"m a freak too, and he\"ll hate me. But I love him! In the next second, I\"m flying at him. Adrenline floods me as I feel...am I losing myself? This gref... He\"ll hate me now. I slam into him, and he flies backward. \"I love you!\" I want to scream. I want to scream those three words. To let him understand. I want to scream, \"I love you!\" Then, an enexpected blow to the back of my head. Pain. Unexpected pain. Then talons, stopping me in my tracks. Talons...digging into me, slashing everywhere. My vision spins to red. I\"m being ripped apart at the seams. Torn. No... Why are you...? I sink, and I fall apart, literally. My feathers fall off, as my body becomes a lump of darkness. A lump of feathers. I truly am nothing... You\"d expect a real body when one is torn by claws -- and yet...feathers only. My phantom gizzard lurches. \"Half-hags!\" \"I had to kill her.\" WHY? \"She pretended to be my Emerilla.\" Is that all! I\"m going to die like this! Just because I was an imposter! \"I knew from the start that something was not right about her. A blood deception she was -- a hagsfiend.\" Anger -- hot, seeping rage enters me. And cold feelings. Feeling that make me want to shed tears. \"No!\" I manage. \"Who are you?\" Who? Hoole...you accept me as someone? Hoole... \"I am nothing...and yet, I loved...\" I loved... \"Lutta?\" \"Hey! Are you all right?\" \"What\"s wrong? Lutta!\" I sink down as my mind spins. Then, I black out. All was dark except for the fluttering movement of wings -- brown wings. A Barn Owl shifted in the branches of the magnificent tree, her dark eyes gleaming as she looked into the hollow. How strange that she could get so close to the tree so easily. She was but a sillhouette against the branched skies. She eyed the hollow, and the inhabitants. Her son...too bad she would have to kill him. He would have made a fine pure owl, had he not inherited his uncle\"s stupid softness. She could just kill him, right there and then. How easy, that everything she had been working for for the last few months would just be completed now, so easily. She could easily snatch the ember, then swoop in and kill Coryn, his disgraceful uncle, and get her dear mate\"s -- rest his soul -- revenge. Then, kill those pathetic owls that were always around Soren, and anyone else she comes across in the tree, just for a bonus. It would be wonderful to see their pained, stupefied faces as she sank her claws through their feathers, one by one. Then she saw the hagsfiend, and her eyes widened in horror. I am the last! How is this possible? Why is she in that hollow! She could just kill her as well -- but her eyes caught something, and her gizzard twitched. No...she\"ll just stay back and observe. This hagsfiend could prove some use to her and... Sadistic impulse shot through Nyra\"s gizzard. The adoring gleam in the hagsfiend\"s eye as she stared at Nyroc. No, she\"ll wait. Nyra silently spread her wings and swooped into the night sky. She had plotting to do. PT: Please, enjoy :) I hope I can fill up some holes in the story as soon as I can. Though, they\"re there for suspense. Please review! Nothing, Yet A Love Never Dying PT: THANKS SO MUCH FOR READING, EVERYONE!! Enjoy! I have a little more to say: I know the last book already came out, and I\"ve finished it already. I\"m a little stunned, but in courtesy of those who have not yet finished it, I won\"t spoil it. However, despite the end, I\"m continuing the fic the way it is. I\"ve just noticed how much I\"ve been neglecting the story O.o Anyways, I was rather...displeased with a few stories stuck in the GoGH fandom, and while I was planning to leave it after finishing this fic, I might a few more fics for this. Not that I have hubris...I just...don\"t know...I just think I\"ll contribute to the fandom with a few fics of angst :D Anani Mouse Thank you, thank you so much :D -Head swells- Frosted Fate Yeah, poor Lutta D: Wish Hoole ended up with her. One of the Populace Oh...-sobs- Hi! :D FlamingSerpent Thanks! I\"m flattered x) True, Nyra\"s so important to the plot -- being sadistic and plotting revenge, among other things :) Hawkrain I\"m glad you\"re eager :D Thanks for reviewing and liking it! :) Lara-Van Thank you, thank you -bows- X) It\"s great that you think that; cheered me right up ;) The Great Tree I can make them hurt... My Mum and Da. I can make them feel the pain that they\"ve put on me. They can hurt, and I\"d be able to do it to them. A change in our positions is want I want so badly, and they\"d taste the bile they stuck in my throat. They left me...they left me, their chick Lutta. Theirs. I have the power now -- to make them hurt. I can make them hurt. I can make them hurt... \"Lutta!\" Stop slapping me. \"Lutta, wake up!\" Slap. Stop slapping me with your wing, it stings. Slap. Slap. \"WAKE UP, Lutta.\" Slap. Slap. Stop it! I\"m trying to-- \"Lutta, please!\" ...Hoole? Hoole\"s voice! I flick my eyelids open -- all four of them -- at the same time. Hoole? No, it\"s Coryn. Just Coryn. \"Lutta, are you all right?\" The way he looks at me...it\"s like Hoole. So much like Hoole. \"I\"m fine,\" I answer, and immediately scan my surroundings. Perhaps I have become overly paranoid with time, but I can\"t be sure. In any case, I can\"t let my guard down in this case; I could find myself dead in a second, just like that I died in an instant -- killed by Strix Strumajen. I shudder, remembering the memory of being ripped. Ripping, ripping, tearing, blood, pain-- Death. And then... Well, I don\"t want to think about what I don\"t remember. After that, there was nothing but a cluster of memories of what happened within death-- Falling. Falling... Floating...unraveling...flowing through the winds...becoming one with nature...then falling.... Falling, falling downwards, a curse uttered upon my kind: \"To hagsmire.\" Hagsmire, where the ones who have sinned within their lives went, for eternal damnation. Hagsmire, for hagsfiends, and...and... Nothings. Nothings -- they who mean nothing to the world, who should never have entered this life, this realm of breathing. Falling, agony, curses, darkness, cold hate. Those flaws of what life and death decide. And nothings. Nothings, like me. Nothing. Snap out of it. I don\"t want to remember. Of being one of the damned. And now I\"m back. Why? \"Lutta?\" -- and I look up. Hoole -- no, Coryn. Coryn, the Barn Owl. Unconsciously, I stare at him with huge eyes that deserve to pop out of their sockets. \"Yes?\" I say. Oh Coryn, please don\"t look at me like that. You look like Hoole, please, don\"t look sympathic...please don\"t...I want it but you don\"t have to give it. Can you not see that my heart has already been broken? \"Lutta,\" he says, softly, and gives me a tender nudge with his wing. \"Can you stand?\" I nod, because I cannot find myself shaking my head. \"Yes.\" Can my legs work? He steps back slightly, to give me room, and I try to remember how to use legs again. Now, I just...position them...and push upwards... A searing pain. My legs! They hurt! They hurt! Fall down again -- No, I can\"t. I can\"t fall; I\"ve told Coryn that I will stand, will be able, and I will not lie; not anymore; I have already lied and tricked Hoole, I will not do so again, not to any owl. Nor this owl. This owl, who stares with the eyes of a true king. A young king, but a wise one, and a good one. With difficulty, I stagger forward, out of the small nest. I feel the bark underneath my claws as I step on it; bark again, how it brings back thoughts of those days. It feels a bit unfamiliar, but I cannot forget bark. Such a thing is pathetic. I feel my legs quivering, wanting to give way, but no. No. I have said that I will stand. How they quiver! -- stop it. Stop quivering! I have said I will walk, and I will walk, even if this pain continues -- like fire searing at me, numbing in a way. I will not lie again. Deception has torn me once before; never again. I look at Coryn, see the concern in his eyes; he hesitates to step forward, wanting to help. No, I can do it. Please. Let me. I walk, a little faster, wanting my legs to stride. They work, a little better. I look at Coryn again, and I ask, \"Where am I?\" \"The Great Ga\"Hoole Tree.\" Silence. My breathe hitches quickly. \"The...\" I pause, mind spinning and reeling. The Tree? The Great Ga\"Hoole Tree, that was reigned over by...Hoole? \"Tree?\" The Tree. The Great Ga\"Hoole Tree. And my mind explodes. \"Th -- Then!\" I jump as I begin stuttering. \"The Ga\"Hoole Tree! I -- I don\"t belong here! I am nothing! I lo-- \"Hoole, he...NO! I am a disgrace! My presence is dirtying this tree!\" I back away, seeking some sort of exit. I don\"t belong here. No. I am defiling the Tree. How long has it been since the last time I was here? I deceived the good king, I nearly killed him -- he was a great king, and a great owl! I don\"t deserve to be here! How many good owls reside in this tree now, the Tree that was grown by -- as rumor says -- the sorrow and goodness of Hoole? I don\"t belong here! Coryn jumps now. Please, no! \"Lutta!\" he says, eyes flashing with some sort of fire that started. \"You are not!\" Not? But...Hoole! Hoole! -- please no! You--! I stare, transfixed, as I see Coryn change. I don\"t see Coryn anymore. I see...you. Hoole. Eyes, eyes that spoke of what you believed in. Your sense of love for those close to you, your fiery will that would see indiscrimation to the very end. I\"m sorry Hoole! I deceived you! I am everything you are not! -- and should not be! I am NOTHING! I back away, seeing Hoole. He steps forward, that look in his eyes-- \"You deserve to be here! You--\" I stumble backwards as I shriek, \"Hoole! Don\"t! Don\"t you understand!\" Now is my time to confess! I never told him that I was-- I\"m sorry Hoole. I\"m so sorry! \"Lutta!\" The owl before me is -- He\"s pleading! No, I don\"t deserve it! \"Lutta, you do! Just as any owl!\" My gizzard throbs, beating against its surroundings. I stare upwards, feeling it grow cold. \"NO! I DON\"T DESERVE TO BE HERE! I AM NOTHING! I -- DO -- NOT -- BELONG -- HERE! I AM...\" My gizzard gives a jerk. My throat fills with pebbles; \"Nothing....\" My words are choked. It\"s true. I am nothing. I don\"t deserve to be here, at the Great Tree. PT: Like? Hate? Please review. I hope to update soon. Fill up the plot holes, twist the story...you know. Nothing, Yet A Love Never Dying PT: I really need to update more often. xD -Shot- ...-looks out window- Well, I thought I\"d take some advantage. Now that I\"m in high school, and in the JROTC program, I\"ve joined the drill team that saps up all the members\" time. But as of this month practice has been cancelled until further notice. Now I have the energy and time for writing, so yeah -shrugs-',\n",
       "       ...,\n",
       "       'At the moment, Chris\" position on the swing set gave him a perfect view of an alleyway between the high school main building and the gym. And what misfits should loiter in said alley other than Allen and his friends. Allen was currently \"dating\" a girl named Farrah. Chris knew her real name was Francis, but she introduced herself to everyone as Farrah, \"Like the actress,\" she\"d say. Her hair was jet black and frizzy; Chris wondered if she ever combed it. She must not, considering Allen\"s hand was tangled in her nappy locks while he attacked her face with his mouth. \"Gross,\" Chris muttered to himself. Next to the couple was Farrah\"s brother, Frank. Frank was too busy smoking -what Chris thought was a cigarette -and laughing to pay any attention to the pair. He was sharing the cigarette with the last boy of the group, Nathan. Nathan was older than the other three, and Chris remembered his father saying something about \"held back.\\' Chris didn\"t like Nathan one bit. On any given day, Allen might decide to pumble Chris, but if Nathan was there, Chris was sure to get a worse beating. As if by his own miserable luck, Nathan happened to turn in Chris\" direction. The two made eye contact: one sneered, the other gulped. By the grace of God, the bell rang and Chris ran inside. Happy Birthday to me, Chris hummed. In light of recent events, his special day seemed to be shaping up. Dad had pulled him out of school early to get ready for the party. He had also given Chris his present early: a brand new remote control race car. In the mail, Chris found a thick, red envelop addressed to him. He tore it open to find a birthday card sporting a colorful clown and balloons on the front. The contents of the card included a five dollar bill and a note which read as follows: My dearest Chris, Happy birthday, angel. I hope your day is filled with joy, fun, and well wishes. Your sister and I are doing fine. I decided we needed a small girls-only vacation. Do not worry about us; worry about your school work! Your father told me you\"re having a birthday party at the Pizzeria. I\"m so proud of you for conquering your fears. Perhaps - if we\"re able to -\"Chelli and I will stop by to wish you a happy birthday. If not, I will give you a call later on tonight. I love you, angel, Mom A smile slowly crept onto Chris\" lips. His plan had worked! Mom and \"Chelli were coming to his birthday party! He looked at the clock. It was 3:30 p.m. now and the party started at 4:30. He only had to wait one hour. He waited for Dad to return from Allen\"s football practice, fidgeting excitedly all the while. Time seemed to stand still. Finally, he heard the garage door open. He hopped up, gathered his shoes and ran to the door. He reached for the knob only to have the door flung open on him as Allen charged into the house. \"I told Farrah and the guys we\"d go see Robocop tonight,\" Allen moaned, \"I\"m not backing out for the twerp\"s lame party.\" \"You said the movie doesn\"t start until seven,\" Dad retorted as he followed Allen into the house. \"Your brother\"s party starts in thirty minutes. You can survive an hour and half with your brother, and then go to the movies. That way I\"ll know where you are; and, I know you won\"t be getting into trouble.\" \"I don\"t care if he comes,\" Chris pointed out. \"Well I do,\" Dad said ruffling Chris\" hair, \"Because it\"s family time. We haven\"t a lot of it lately, and I think it\"s time to change that.\" Chris looked up at his father and smiled. His father returned a genuine, abet tired, smile of his own. \"Now if you\"re so worried about it, call them now, and have them meet us at the pizzeria. If we don\"t leave soon we\"re going to be late.\" The three party-goers arrived at the restaurant right on time. The neon orange \"Welcome\" sign had a faintly eerie glow in the fast fading daylight. Chris eagerly scanned the parking lot looking for any sign of his mother or sister. Perhaps they are already inside. They walked into the restaurant, the familiar sights and smells brought back memories. Chris felt a knot forming in the pit of his stomach, but he pushed the negativity away. He wanted to show Mom how mature he could be. The same auburn-haired woman was still at the hostess station, except this time she was accompanied by a shorter, blonde whose bright smile only heightened Chris\" mood. \"Hi,\" she chirped. \"Welcome to Freddy Fazzbear\"s! How many?\" \"We had reservations for a party: \"Chris\",\" Dad replied. The blonde looked hesitantly at the brunette who wordlessly pointed at a paper of the counter, handed some menus to the blonde, and gave her a slight shove toward the party room. As they followed the hostess, Chris noted that the room looked almost exactly the same. On the stage, Bonnie, Fredbear, and Chica all stood playing their song. They were still creepy. But Chris was reminded of his plush Fredbear at home, and decided they weren\"t so bad. He scanned the restaurant once more. No sign of Mom. No sign of \"Chelli. An hour went by. Chris spent some time playing in the arcade, and then Dad had sat him down to cut his cake. Mom and \"Chelli were nowhere to be seen. Had he missed them? Surely not. Another hour passed; and, having lost interest in games, Chris sat at the table closest to the door, waiting. A voice over the loud speaker said the restaurant was closing in one hour. The crowd had already begun to thin. She\"s not coming. She lied. Allen was right... Chris thought back to the note bitterly. How could he have missed it? If she truly cared she would have called when he was there. She would have talked to him over the phone -not just sent a letter in the mail. She doesn\"t love you. She lied to you. Chris became angry at how easily he was duped. He balled up his shirt into his fists. I hate her, he mused. I hate her, I hate her -I hate them all. Angry tears sprang into his eyes, and he started to beat his fist against his pant leg repeating the mantra over and over in his head. He didn\"t notice the hostess slip past him toward the backroom with a concerned look on her face. He didn\"t see Dad disappear into the men\"s restroom. He didn\"t hear mechanized jingle when the door opened. And he didn\"t see Allen and his friends form an enclosed semi-circle around him. \"Wow, your brother really is a baby, isn\"t he?\" Nathan snickered. \"Oh, God. I knew he couldn\"t make a full day without crying,\" Allen grumbled in embarrassment, \"Lemme guess? One of them animatronics looked at you cross-eyed?\" Chris\" only response was to glare at his brother. Farrah let out a high pitched giggle and mimed wiping away tears. \"Hey kid,\" Frank chimed in, \"You ever gotten really close to one of those things?\" Nathan\"s face split into a sly smile, \"Gee. He looks so sad... I think he wants to give Fredbear a hug.\" The older boy lunged for Chris, grabbing his midsection before he could react. He kicked out, trying to hit something, anything. Farrah grabbed his right leg, Frank his left. Chris flailed his arms wildly before Allen pinned them to his chest. They began carrying him toward the stage. Fredbear and company grew larger by the second. \"No,\" he said hoarsely. \"Let me go.\" He continued to struggle. He tried to scream, but he was paralyzed with terror by the time they reached the edge of the stage. Fredbear\"s eyed Chris like a tasty treat, his mouth audibly whirred open and closed. Chris tried once more to scream. All that came out was a soft whimper. \"Hey guys,\" Nathan said whilst still holding Chris, \"I think he wants to give him a big kiss.\" He clambered onto the stage with Chris in tow. Chris was now nose to bow tie with Fredbear. With a grunt, Nathan tried to lift Chris and make him eye level with the animatronic. Chris\" fight or flight instincts finally kicked in. He began thrashing wildly. He reared back attempting to head-butt Nathan in the face. His head made contact with Nathan\"s face; and, Chris heard a sharp snap. Stars were forming in his vision, something wet and warm was matted in his hair. He pitched forward to try it again. Chris came up full force. Except this time his head made contact with something hard, something cold, and a hollow thud resonated. His vision swam. It was dark, but streams of light poured in around his peripherals. A cog wheel with a spring lock and key came into focus. Beyond the mechanism was a set of teeth; beyond that the stage and three smiling faces. His head was lodged in Fredbear\"s mouth. Chris tried desperately to pull his head out, but the bottom jaw was jammed making a faint ticking sound. \"Please,\" Chris breathed. The key slowly began to turn and the ticking sped up. Chris tried once more to free his trapped head: tears and snot streamed down his face. \"PLEASE,\" he screamed. The key wound faster. He gave another blood curdling scream. Then everything was silent. This is our final notice regarding the balance in account #: 8256 _ A total of $ 1, 598 is to be paid in full upon receipt on behalf of North Main Health System. If the remaining balance described above is not received within 30 days, we reserve the right to withhold a portion of your earnings until the previously specified conditions are met. Please verify that the following employment information is still correct: Tom crumpled the notice and tossed it in the waste bin by his desk. He never intended let it get to this point: to be so overwhelmed. He\"d done everything he possibly could\"ve, hadn\"t he? You could have saved them. Tom pressed his thumbs into his temples trying to jar the thought out of his head. He\"d played it over a million times: for himself, for the therapist, for the cops, and for the judge. The accident was not his fault. You weren\"t paying attention, Tommy boy. Were you drinking, Tommy? He\"d spent the past few years making up for it. Oh, yes he did. He spent countless hours at the Pizzeria, bending over backwards to get promoted so he could pay off the medical bills. When he wasn\"t at work, he volunteered at both the soup kitchen and the local boys\" home. Hell, he even dragged his sorry ass to Mass every Sunday. He didn\"t really believe in God anymore; but, Donna had. And maybe if he believed God would forgive him, she would forgive him, and, eventually, he could forgive himself. You\"ll never do that. Because of you, they\"re dead, Tommy boy. Because you\"re so damn selfish, you just had to have one more - \"Piss off,\" Tom muttered into his hands. \"Gee, I just came to say goodbye, but I can take a hint.\" Tom turned to find Megan standing in the door way to his office, purse under one arm, and her old uniform under the other. \"Not -not you. Sorry,\" he stuttered, \"I was... talking to myself.\" \"Hmm. Well I was going to burn this.\" She held up the uniform. \"But maybe now I\"ll put on a little straw doll with a picture of my face, and she can be your new work buddy.\" Tom gave her an exasperated look. He could tolerate Megan\"s sarcasm, but only to a point. More often than not she was borderline cruel; and, Tom had long lost the will to try to improve upon her personality flaws. He wasn\"t going to miss this girl on staff. And with his current mood, he just wanted her out of his office. \"Ha,\" he said robotically, \"I\"m sure the world of psychology shall thrive from your humor. Why don\"t I walk you out? I have to make sure your locker\"s been cleaned out anyway.\" He followed Megan out into the hallway, locking his office behind him out of force of habit. As they started walking toward the front of the restaurant, Tom felt like he was in a fog. Physically, he was present walking alongside Megan. Mentally, he was reliving that night, walking out of that Bar & Grill with his wife and son for the last time. About halfway down the hall, the new blonde hostess stepped out of the employee break room gathering her coat and purse. She looked mildly off-put; and, Megan picked up the scent of fresh meat. \"What\"s up, buttercup?\" she said. The girl looked at Megan with wide doe-eyes. \"There\"s some kid out there beating himself up. It\"s kind of weird.\" \"Awe, hey,\" Megan cooed, \"Cheer up, buttercup. It\"s only day one. You haven\"t gotten to the exciting part of cleaning vomit off the floor.\" Tom elbowed her sharply in the ribs. As it was he was already short on staff, and he didn\"t need Megan scaring off the newbie. \"Ignore her,\" he told the blonde, \"She has a poor sense of humor and a poor attitude about life. I\"m sure you\"ll do just fine as our new hostess-\" Tom\"s placating sentiment was cut short by a child\"s ear-splitting scream. He felt his stomach drop. Timmy, he thought. He felt his feet move on their own accord; and, before he could process it, Tom was running toward the origin of the scream. Just as he past the threshold of the party room, he heard a loud crack like a gunshot, followed by a muted crunch, and the plip-plop of falling liquid. His momentum carried him half-way through the room before he skidded to a stop, and took in the scene before him. Four teenagers -far older than the average clientele -stood on the main stage, their figures bathed in blue and yellow light. The three whose expressions he could see were mortified. The fourth\"s back was facing him. He appeared to be holding something -no someone -standing in a pool of blood. Please, God no. Not again. Tom turned to see Megan and the new girl 50 paces behind him gaping at the stage. \"Call the police,\" he screamed shrilly. The four teens turned at the sound of his voice. Then everything happened at once. The biggest boy leapt off the stage sprinting for the exit. Tom met him half-way, tackled him to the ground, and punched him once in the head for good measure. Two of the other teens took the opportunity to bolt past Tom and the boy. Megan pulled the nearest fire alarm. The new hostess raced to the phone behind her station. The fourth teen crumpled into a heap on the stage screaming and pulling at his hair. A man raced out of the restrooms and made a frantic leap for the stage where the body of a young boy hung limp in the jaws of Fredbear. The police arrived a full 30 minutes later. While they waited, the man -who Tom now identified as the boy\"s father -begged and pleaded with the three staff members to free his son\"s body. Tom tried to explain as calmly and coherently as he could that he wasn\"t sure how best to pry the animatronic\"s mouth open; and, since it was now a crime scene, he couldn\"t do anything until the police arrived. Allen sat in the corner silently crying, ignored by his father who Megan was trying desperately to keep calm. Tom paced back and forth at the foot of the stage, until the forensic examiner firmly told him to stop tracking through the evidence. The paramedics were eventually able to cut through the animatronics lower jaw, and place a sheet over the mangled child much to everyone\"s relief. About an hour passed before a detective began taking official witness statements. He started with Tom who recounted all he knew from the malfunctioning spring animatronics to when he arrived on scene. He then moved onto Allen. \"My name\"s Detective Perez. You want to tell me what happened here tonight, son,\" the detective asked gruffly. Allen continued to stare at his shoes, so Perez kneeled down in front of the boy and tried a different approach. \"What\"s your name?\" \"Allen.\" \"Do you know that boy up there Allen?\" He nodded slowly, \"He\"s my brother.\" \"Do you know who did this to him?\" \"My... my -me and my friends.\" \"Did you put him inside that robot?\" \"No... no -but I...\" \"You what, Allen?\" \"I helped them bring him on-stage.\" Allen burst into tears all over again. \"Okay. Do you know the young man we have in custody? Is he your friend?\" \"Yes.... His name\"s Nathan.\" \"Allen, what did Nathan do?\" \"He said... my brother wanted to... to kiss... Fredbear. He put him on the stage.\" \"How many of you were there, Allen?\"Allen held up four fingers. Perez nodded and made a note on his pad. \"Okay, Allen. We\"re going to have to take you down to the station. Ask you a few more questions,\" He motioned to one of the uniformed officers. \" I\"m going to go talk to your father now, okay?\" Allen nodded and Perez left to go talk to Dad. \"Hello, sir. I\"m sorry for your loss,\" Perez placed a comforting hand on the man\"s shoulder. The man shrugged it off. \"Would you kindly tell me your name, sir?\" \"Jim. Jim Douglas.\" \"Is that your son on the stage, Mr. Douglas?\" \"Yes. His name is Chris. Christopher Michael Douglas.\" \"Okay.\" Perez scribbled the information down in the notepad as Jim spoke, \"And, is this your other son in the corner over here-\" He motioned over to where the officer was hauling Allen off the floor. \"He\"s not my son! My son would never hurt his brother. Let alone-\" He broke down into gasping sobs and Megan tried once more to sooth the man. \"I\"m sorry,\" Allen choked out from afar, \"Dad, I\"m so sorry.\" \"No. You\"re not -He\"s not... my son.\" Tom looked from grieving father to son, his own heart torn. He mentioned to one of the officers that he was heading back to his office. Once there, Tom sat with his head in his hands and let out a choked sob. That\"s three now, Tommy boy. One little, two little, three little Indians... Tom awoke with a jolt. The clock read 5:00 a.m. He had only gotten back to his apartment and into bed about four hours ago, after the police had released the remaining witnesses from the pizzeria. He had tasked himself with closing up when everyone else left. Most of the blood had been cleaned off the stage, but a dark stain remained. Fredbear\"s muzzle was a hodgepodge of wires, sheared metal, blood and what Tom assumed was either hair or tissue. The animatronic\"s eyes followed Tom as he walked about the restaurant. For not the first time, Tom felt like the machine was staring into his soul. Before he left, Tom threw a blue tarp he found out back over the bear: nobody needed to see that when they came in on Monday. He rolled over pulling the covers over his head. Four little, five little, six little Indians... Tom opened his eyes again. He swore he heard a little kid singing. None of the neighbors had kids that he knew of; and, if they did, it was far too late for anyone to be awake. Mostly likely it was his imagination. Tom closed eyes, and drifted off. Four little boys going out to sea... There it was again. Tom peaked out from under the covers. Why was his bedroom door open? He always slept with it closed. He crawled out from his warm shelter and padded over to the door. Just as he was about to close it, he heard what sounded like soft breathing on the other side. Tom paused. He opened the door just enough to peer into the darkness, and began reaching for the hall light switch. A red herring swallowed one and then there were three. Tom jumped and hit the switch as fast as he could. Light flooded the short hallway. Nothing. Tom stepped out and looked into the living room. Nothing seemed out of place. Three little boys walking in the Zoo... It was coming from his bedroom. Tom hesitated before backing into the kitchen to get a knife. It sounded all too real to be his imagination. It sounded like a kid, but for all he knew it could be a squatter, some lunatic. Tonight he\"d seen what people are capable of, even children. Tom slowly made his way back to the bedroom, knife at the ready. He pushed the door open the rest of the way, and surveyed the room. A big bear hugged one and then there were two. The closet door bowed as if someone had pushed on it. Tom grabbed hold of the knob with one hand, and held the knife at chest level in the other. He counted to three and flung open the door: shirts, pants, tie rack, shoes. That was it. He closed the door firmly again. Two little boys sitting in the sun... The limerick echoed out of the adjoined bathroom. Tom shuffled over. He kicked the already ajar door open and met the glaze of his own reflection in the small, grimy vanity mirror. One got frizzled up and then there was one... Tom angled himself to face the shower while maintaining the safety of the door-jam between him and small bathroom. He braced himself, reached for the tub, and ripped open the shower curtain. Nothing: absolutely nothing. Tom caught sight of himself hugging the door-jam in the mirror. This was ridiculous. It was all in his head. One little boy left all alone... \"Shut up,\" he snarled. Tom slammed the bathroom door closed, stomped over to bedroom door, hit the light, and slammed that door as well. He threw the knife down on nightstand, then crawled back underneath the covers. He settled on his back, and closed his eyes in hopes of just a few more hours of sleep. \"He went and hung himself...\" Tom sat bolt upright when he heard the voice in his ear. At the foot of his bed, stood a little boy, ashen grey with a blood stained shirt and pants. In his left hand he held Tom\"s kitchen knife: in the right, a plush teddy bear with a purple nose. His head appeared to be split open, the right side crushed: bone, hair, and brain matter blended as one. His one good eye glared at Tom. He spoke again in a high clear voice. \"...and then there were none.\" Tom blinked and he was gone. Author\"s Note: Thank you to everyone who has been following this story! I know this is the Epilogue, but the tale is far from over... If you liked \"The Monsters Are Real []\" keep an eye out for the sequel, \"I Once Tried to Fight the Devil with a Sword.\" Also, if you want to read the poem which inspired the titles for these pieces, follow the link: /P6t11X-1R',\n",
       "       'As you can see a lot of things has happened since then for instance, her forgetting all about it and her flirting with other dimwits like Dallas, and me bullying her just because I can\"t express my feelings. So if she honestly thinks that I\"m going to let her go on that stupid date without me ruining it. She thought wrong. There was chapter 8 for you! Thanks for reading! I hate when I write about Austin and Ally fighting a lot but the next chapter will be the one my favorite one to write! Author\"s Notes: Cupcake Art: Thanks for loving it! xRainbowNinjax: I know that was another one of my favorite chapters to write. itzelbonilla: Thanks for liking the last chapter! queenc1: I can\"t wait for them to get together too and don\"t worry she will. Thanks for reviewing! CabbieLoverSAC22: I love the kiss scene too but don\"t worry I think you\"re going to like the next chapter and thanks for loving the last chapter. Isazu: Thanks! You finally got the day he did that so I hope you like it! AusllyGirlLover: You just put a smile on my face thanks so much for loving it! And thank you for calling me an awesome writer I nearly cried. lol Danielle: Don\"t worry I will. ashray4: I know it was kinda long but I\"m glad you liked it! holly: Don\"t worry, he\"s not mean to her because he wants to, he actually is really nice to her but thanks for reviewing! Herewriting307: Thank you so much! I will! panga1imaginluv: Aww thank you! I\"m so glad you like this one! IlikeBubblegum: Thanks! Sadly, she doesn\"t but she soon will! :) And thanks to all the guest that commented! Please Review! :D Hey there again! The chapter most of you been waiting for is finally here! Kinda of! lol I can\"t believe I have 100 reviews already and they\"re not even together yet! Thank you so much! I\"m giving you all virtual hugs! Enjoy! Ally\"s P.O.V. It was officially the night most of my dreams would come true. I didn\"t want to go to school today cause I didn\"t want any drama or trouble with Austin to affect my perfect date with Dallas. He was coming over here tomorrow to work on that stupid project in Chemistry but tonight I was going to have fun and finally be happy and of course Trish was here finding me an outfit to wear and doing my hair and make-up. \"I can\"t believe my date with Dallas is finally here!\" I said excitedly as Trish was curling my hair. \"Yeah, it\"s so exciting!\" she said bitterly. I instantly knew something was wrong. \"What\"s wrong?\" I asked her getting out of my seat. \"Nothing.\" she sighed. \"Trish, I\"ve known you since kindergarten...obviously there\"s something wrong.\" \"It\"s just that, I never really liked the idea of you and Dallas together, I mean I\"ll be happy if you\"re happy but you seem to be a lot more happier when you\"re with Austin.\" she explained now sitting on my bed. Oh great! Now she\"s on Austin\"s side now! I thought she was my best friend! \"Okay! What\"s with everyone\"s affliction with me going out with Dallas?!\" I said annoyed. \"Nothing Ally, it just seems that he\"s dated a lot of girls and none of his relationships ever last long.\" she said. \"And what makes you think this won\"t last long?!\" I said getting pissed off. \"Ally, calm down. I was just offering my opinion.\" she said sitting me down on the bed. I felt bad that was being mean to her. \"I\"m sorry Trish! I\"m just nervous a little, that\"s all.\" I explained to her. \"It\"s okay, don\"t worry about it!\" she said smiling and hugging me. \"Do you want to spend the night when I get back? My Dad is still out of town!\" I asked her nicely. \"Nah, I have a bunch of things to do. But definitely tell me everything that happens when you get back.\" she said smiling. \"Will do!\" I assured her. Her phone then beeped off and I wanted to look at who it was so I leaned over her shoulder until she saw me and got up quickly looking nervous. \"Who is that? Not to be nosy or anything.\" I reasoned. \"Um...it\"s no one...just no one! Gotta go Ally, bye!\" she said nervously and running out of my room and out of the door. What was that all about?! I shrugged the thought off and suddenly the bell rang and I immediately ran to the door out of my room to get it. As I got downstairs I almost tripped on the last step but regain my balance and opened the front door to see Dallas standing there in front of me looking as perfect as ever. \"Hey Ally!\" he said. \"Hey! You look great!\" I said. Wait, don\"t the guys usually say that to the girl first? Why did I say just say that?! \"Thanks!\" he laughed and then smiled at me. We stood there in awkward silence for a minute and I thought to myself how if I was with Austin, we wouldn\"t be this awkward around each other. Shut up! How can you think about Austin and I\"m with Dallas right now! Gosh, the ways this guy can sneak into your head! \"Um...shall we go?\" he asked me. \"Uh, y-yeah!\" I said nervously. I closed my door behind me and locked it and walked to his car in complete silence. \"So where are we going?\" I asked breaking the silence getting into his car. \"Well, I was hoping if you didn\"t mind we could go to an arcade and hang out there.\" he said starting the engine. \"Great! Sounds like fun!\" I said. But I didn\"t really mean it. I hated the arcade and especially for the first date. I was hoping he would take to a movie or a fancy restaurant but I didn\"t mind. As long as I was with him, that was all that matters. As we got to the arcade I could see loud teenagers gathering around games yelling at each other and some guys winning their girlfriends teddy bears and gift after winning each game. I always wanted a guy to win something for me, but I know being who I was no one would go out their way for me to do that. We finally walked into the restaurant portion of the arcade and sat in a booth that was meant for 4, but since we didn\"t have 4 people I sat across from Dallas. \"I\"m really happy you let me take you out tonight Ally. I thought I was going to have to compete to get your attention.\" he said smiling and laughing. I started to get confused. \" Why would you have to compete to get my attention?\" \"You don\"t know?\" he asked raising his eyebrows like I was suppose to. \"Know what?\" I asked confused. \"All the attention Austin gives you, I mean you\"re the only person he bullies and for some reason it seems like you guys are a lot closer now than you were before, but that\"s crazy right? You\"re you and he\"s him.\" he said. How does he know Austin?! He hardly ever talks to him! I couldn\"t help but to get a little mad at that statement. Sure I hate Austin, but that doesn\"t give anyone the right to jump to conclusion about how me and Austin are. \"You know Dallas, can we just not talk about Austin right now?\" I asked him nicely. \"Sure, I\"m sorry that I brought it up.\" he said apologetically. \"It\"s okay, he\"s not here! It\"s just you and me.\" I said. I soon regretted my words as I see a person with blonde floppy hair with a brunette girl with long curly hair. I already knew it was Austin with some random girl he probably just found on the street to take her out. Why did he have to come here out of all the places in Miami to take your date the same time as me and Dallas. I groaned at how this was going to be a long night. Dallas soon noticed where I was looking and turned around and sees Austin too and suddenly Austin catches us both looking at him. He then smiles and walks over with the girl to us. \"Hey guys! Didn\"t know you were here!\" he said sounding innocently. I knew he was lying because out of all the places to pick to go to tonight, he came here. But the more important question was how did he know I was here? I started to glare at him evilly. I knew he was going to do something that I really would hate. \"Well, we can say the same for you!\" Dallas said gritting his teeth. \"Oh, Dallas you know I always bring all my dates here on the first date.\" he said. I looked at Dallas trying to ignore he was here until Austin pushed me over further into the booth and sat next to me while his date sat across from him. \"Mind if we join you?\" he asked looking at me. \"Well of course not! I love going on a date and you suddenly showing up with a girl I don\"t even know sitting at our table.\" I said glaring at him. \"Oh, I meant to do that...Dallas and Dawson, this is Sarah. Sarah this is Dallas and Dawson.\" he said gesturing at me and and Dallas looking at Sarah who was smiling looking clueless. For some reason, I hated that she was even with him in the first place but then realized that I shouldn\"t care cause I\"m here with someone else. But I couldn\"t help but to feel jealous about the whole situation. \"Nice to meet you Dallas and Dawson.\" Sarah said cheerily. \"Name is Ally! Not Dawson.\" I snapped at her a little glaring at her too. \"Way to be very welcoming.\" Austin said looking at me annoyed. I ignored him and turned my attention back to Dallas who had been starring at Sarah ever since she sat next to him. I felt a little hurt that he was checking out another girl while I was sitting right here. \"So Dallas...\" I said trying to break his contact from Sarah. He looked back to me quickly looking a little embarrassed. I could hear Austin smirking at him next to me. \"Oh sorry, Ally! I kinda zoned out for a bit there.\" he said looking down at his menu. \"Yeah, we noticed!\" Austin said wittily. I could see Sarah feel a little awkward when she realized that Dallas was starring at her so she got up out of her seat to face us. \"Excuse me, but I have to go the bathroom.\" she said and walked off in one direction. Now it was just me, Austin, and Dallas. Man, could this date get any more weird. There goes my perfect night I was suppose to have, but didn\"t thanks to Austin freaking Moon. \"Uh...so Ally. What kind of things you like to do?\" Dallas then asked me trying to start conversation. \"Anything that doesn\"t involve you.\" I heard Austin mutter under his breath. Why was he acting like this?! I decided to ignore him and looked to Dallas not taking my eyes off of him. \"Oh, you know I like to play the piano, write songs and-\" I started to say. \"Wait, my phone is ringing I have to answer this.\" he said grabbing his phone out of his pocket and answering it turning his head to the side so he would face me and Austin. I knew it was my chance to fix things before they became ruined by him so I turn my head to him and looked at him coldly. \"Will you get out of here?!\" I asked him angrily. \"You know I would, but I rather just stay here.\" he said to me. \"Why are you trying to ruin this date?!\" I then asked. \"Because I told you I don\"t trust him and I know you, you don\"t really like him.\" he said. \"How do you know I don\"t even like him?!\" I asked getting more angry. \"I just do!\" he snapped back. Who does he think he is telling me who I do or do not like. I was going to prove to him that I liked Dallas. \"Sorry about that, I had to take it.\" Dallas said to me getting off the phone. \"It\"s okay. I don\"t mind.\" I said. \"I do, talk about being rude.\" Austin muttered again. Thank god Dallas couldn\"t hear him but I could and he was getting on my nerves. \"Thanks. See that\"s what I like about you. You\"re always nice to everyone no matter what they do.\" Dallas said to me. I smiled as Austin smirked and just before I thought something worse was going to happen I could see Dallas leaning against the table over to me looking at me into my eyes. He was going to try to kiss me...and with Austin there. Maybe this will teach him who I really do and don\"t like so I started to smile and lean in too until our faces were so close a part when suddenly a menu came in the middle of our faces. \"There are some really expensive things on this menu don\"t you guys think?\" Austin asked holding the menu up. We both looked at him as he looked at us like he didn\"t do anything wrong. I was going to hurt him if I ever got the chance. \"I think I\"m just gonna go to the bathroom now.\" Dallas said getting up from his seat and leaving. It was just me and Austin and I did have a lot of words for him. \"Wow, he lasted longer than I thought he would!\" Austin said sarcastically. I turned my whole body to face Austin so pissed off I didn\"t care who heard me. \"You\"re ruining everything!\" I said angrily. \"I\"m ruining everything?! Ally, I\"m just looking out for you!\" he said facing me. \"I never asked you to look out for me! Now why don\"t you just leave with your stupid little date!\" I shouted to him. \"Why? Are you jealous of her?! You sure acting like it!\" he fired back smirking. \"Oh you would love that wouldn\"t you?! New flash Moon, not every girl gets desperate for your attention! Especially not me!\" I yelled at him. His face quickly turned from anger and annoyance to sad and hurtfulness. But I didn\"t care why! That jerk ruined my date, not that it was going well anyway but he made it worse! I couldn\"t take it anymore so I just pushed him out of my way and grabbed my purse and started to head for the door so I could go home. I didn\"t care about Dallas knowing I left or not, he was probably flirting with Sarah anyway and I surely didn\"t care that Austin was still there so I just opened the front door and left. That was the worst date I\"ve ever had, which was the only that one. When I finally got home I opened up the door to the house and slammed the door shut and ran up to my room and cried into my pillow. I continued doing that until I heard something from my balcony door. A knock. I sat up straight not knowing who it was and looked at my clock and it had been 11:00pm. Who would be at my door at this time? I got up from my bed and wiped my eyes and opened the door and saw the guy who was intently trying to make my night the worst one ever...Austin. I stood there in shocked that he would be there, I thought he would get the hint that I didn\"t want to see him or anyone anymore. \"What are you doing here?! I thought I left you alone!\" I snapped at him. \"I just came here to check on you to make sure you were okay.\" he said pushing past me and into my room. \"Why?! You wouldn\"t care if I was or not anyway!\" I fired at him. \"Ally! I\"m tired of fighting with you! Can we just forget about it?!\" he asked angrily. \"No! Because for the longest time I\"ve been forgetting about all the horrible torture you\"ve put me through the past 7 years! I think it\"s finally time for us to talk about this!\" I yelled at him stepping close to him. \"Fine then! You want to talk, let\"s talk! What do you want to know?!\" he said angrily. \"I just want to know why you\"re trying to be there for me?! Why are you trying to be nice to me all of a sudden?! Why now?! Just answer the question!\" I shouted getting closer and closer to him now that I could see deep into his eyes and I could feel his heavy breathing from all the anger he was giving me. \"And what if I don\"t answer you?\" he asked softly coming up to me that our faces were so close to each other. I could see something in his eyes that I\"ve never seen before. Soon he somehow backed me up against the wall eyeing me up and down starring at me. I wanted to kiss him right here, right now but I tried to stand my ground but I wasn\"t doing it very well. \"T-t-then...\" I stuttered nervously. But what happened next what was so unexpected, so not time, and so fast. He smashes his lips against mine and started kissing me first sweetly then gently. I instantly kissed him back. It felt amazing, wonderful, perfect, exhilarating and every cliche feeling people feel in romantic movies. We kept kissing and eventually things got heated as his kisses started to get rough and more passionate that he grabs my waist and deepens the kiss by sliding his tongue into the kiss as I started to love how amazing it felt. I felt shivers run all through my body as I came to the conclusion that I wanted more. I then wrapped my arms around his neck and up to tugged at his hair. I then heard him groaning and soon moved his lips from mine down to my neck kissing it roughly like he\"s been wanting to do this since he\"s laid eyes on me. The amazing feeling of him touching me was so perfect. He keeps kissing me then stumbles back onto my bed and the next thing I knew I was now kissing his neck. He turns me over so that he was on top of me now biting and kissing my lips harder. He suddenly starts to tug at the hem of my shirt trying to pull it over my head. I then realized what I was getting myself into. I was about to give up everything up to a guy who bullied me for so long, a guy who ruins almost everything, a guy who made my life feel horrible for the longest time, and a guy you can\"t answer my freaking questions. I didn\"t care if it felt so right, this was so wrong. I pulled back panting and pushed him off of me so hard he fell back on the floor. \"Ow!\" he yelped. He immediately sprang up looking at me angrily, annoyed, and mad all at the same time. \"What the heck was that for Ally?!\" he snapped at me. \"You were on me, and I was pushing you off! I thought it was obvious when I did it!\" I fired back at him. \"You didn\"t have to do that! If you didn\"t want me to do it so much you could of just said something!\" he yelled back getting up looking at me. \"Maybe I didn\"t want to!\" I said getting off my bed and fixed my hair and my shirt. \"What\"s the problem?!\" he asked now sounding concerned but still pissed. \"You\"re my problem! How dare you think you could just come up in my room after everything you\"ve done to me and do something like that?!\" I shouted angrily looking at him. It then grew silent for a minute until he started to speak. \"You\"re right. I went too far and I shouldn\"t have. I\"m really sorry Ally.\" he said softly and apologetically. I started to feel bad because the way his facial expression was, but it was the right thing to do before we got carried away. \"I should probably leave now, see you at school tomorrow.\" he said as he headed out my window. I didn\"t say anything, I couldn\"t speak. I was still in shock about what was going to happen if I didn\"t end it when I did. I soon walked up right behind him to close my window he turns around and kissed me once again but this time it was a more loving, sweet but more passionate kiss that had many emotions behind it. And the feelings returned. I swore I could see fireworks and sparks everywhere. It was the most perfect thing I ever experienced. I soon kissed him back, but after what felt like 7 minutes he pulled back and starred at me into my eyes carefully. \"I\"m really sorry for all the things I ever done to you.\" he said honestly. I was about to finally say something after 10 minutes of being silent but before I could he turned around and got up in a tree that was right outside my window and climbed down from it onto the side garage drive thru. Watching him walking away from me and what just happened made me realize one thing that I would never thought I would say. I, Allyson Marie Dawson had officially fallen for my bully, Austin Moon. I hope you like it, there was definitely enough Auslly moments in this one, but this story is long from over so you will be expecting a lot more than this! ;) Author\"s Notes: queenc1- Don\"t worry, he\"s going to become a lot nicer now to her but thanks for reviewing. Frenchie12- She doesn\"t remember it but he\"s going to make her remember it soon and she definitely remembers the one in this chapter. Thanks for reading! :D xRainibowNinjax-I don\"t like it when they do either and yes over the chapters she will gain more confidence. CabbieLoverSAC22-Thanks for loving it so much and I loved the flashback too! I don\"t know why but I always love it whenever I see why Austin likes Ally or the other way around. It\"s just so adorable. haha Isazu- I know it was, but she will remember it eventually I just need an idea on how I\"m going to make her remember it. And Austin was just acting like he was in the last chapter being jealous when she talked to Dallas the first time. Thanks for your review though! :D AusllyGirlLover- Your reviews for every chapter are all types of awesome! Thank you so much that you love it so much I was getting kinda scared many people wouldn\"t like it but I can see that they do. And thanks for your idea I didn\"t even think about that so I put it in here. To answer your question I was thinking this story would be as long as 21 or 22 chapters in it so don\"t worry, we\"re far from over. And yes he will kinda a bad guy I\"m not sure yet and thank you so much that you think I\"m an awesome writer! You\"re an awesome reader! Maximum Immortality- Thank you so much for reading and I know I love the pairing too, it\"s one of the biggest things I\"ve ever shipped. lol midnightridergirl23- Thanks for loving it! You\"re awesome! And just so you know you were the 100th review so I appreciate that! :D Person-It\"s not over yet don\"t worry and thank you so much, I take a lot of writing classes so I tend to get a little bit obsessive about how my punctuation and grammar is but that\"s just me. haha angie-loves-auslly- Thank you for liking it so much! Don\"t worry, this story is far from over. :) Jade Morris- Thank you so much! I try to be as detailed as possible and I will, thanks for reviewing you are awesome! Thank you for all you guest! I love that you love this story! Please Review! Or Favorite or Follow! :D Well I don\"t have anything else to say so see you next time!',\n",
       "       '\"I\"m fine. It\"s just . . . I can\"t believe Dallas keeps ditching me and I\"m starting to think I\"m too clingy and what if he wants to dump me? And then there\"s my dad. He\"s completely obsessed with this girl and I haven\"t even met her yet. I don\"t even know her name! What if he\"s serious about her? What if they get married? She might be like an evil step mother. She might mak me her slave like in Cinderella or lock me in a tower or she might-\" Austin grabbed Ally hands as she tried to bring her hair up to her mouth, ready to chew it. \"Ally, chill!\" Austin interrupted her. \"I don\"t think it\"s possible for one person to have that many worries. Don\"t worry, Dallas would be stupid to dump you and your dad would ask you before he made a big decision like that. And where would someone find a tower to lock you in in Miami?!\" Austin watched as the smile returned to Ally\"s face and realized he was still holding into her hand. He quickly let go as Ally reached up for a hug. \"Thank you, Austin,\" Ally said as she embraced him. \"You always know just what to say. \" \"I know. I\"m amazing,\" Austin joked, popping his collar after Ally let him go. Ally gave him a light slap on his shoulder as her father walked in. \"Ally, what are you doing working?\" he asked. Ally looked confused. \"You should go out. Find love, like I did . . .\" He pushed the pair out of the store and waved goodbye. \"See this is what I mean he\"s being really weird,\" Ally told Austin, looking worried. \"Maybe that\"s what happens when you\"re in love,\" Austin shrugged. \"Whatever. You have the day off again. Lets go find Trish and Dez!\" While the two were wandering the mall, they bumped into Dez. \"Hey Dez, where have you been?\" Austin asked his best friend. \"With Mandy,\" Dez replied as if it were the most obvious answer in the world. Austin looked like he wanted to ask about Mandy but decided against it. \"We\"re going to Connie\"s to look for Trish. Wanna come?\" \"Sure. I needed Connie\"s card anyway. Mandy and I have been having some problems,\" he whispered the last part. The trio arrived at Connie\"s to find it completely packed. They also saw Trish . . . working. She saw the gang and walked over to them. \"Are we in some alternate universe or something?\" Ally joked. \"Are you actually working, Trish?\" \"Yeah. I am,\" Trish replied. \"Connie set me up with Trent. So I owe her.\" \"You\"re with Trent again?!\" Austin said, incredulously. \"After all he did to me. He ...\" \"I got to get back to work,\" Trish said, cutting him off. \"Wait, I need to talk to Connie Mandy and I . . .\" Dez chased after Trish. \"Could this day get any weirder?!\" Ally exclaimed, turning to Austin. \"Do you two need any help?\" Connie suddenly appeared before them, getting a cloudy look in her eyes. \"I sense trouble on its way. Lots of drama. You\"ll come to me soon.\" \"I think it just got weirder,\" Austin whispered to Ally, grabbing her arm and slowly backing out of the store. \"Actually, we were just leaving.\" \"You\"ll be back soon . . .\" Connie watched as they left the store in a hurry. On the way back to Sonic Boom, while Austin and Ally were giggling about Connie, they bumped into Dallas. \"Ally, I tried looking for you at your store but you weren\"t there,\" Dallas to her. \"Oh sorry. I was with Austin,\" Ally explained. Austin, who stood a few feet away to give them privacy, waved when they looked his way. He watched as Ally\"s face went from anger and sadness to joy and happiness throughout the conversation. \"So, I\"m guessing he made it up to you,\" Austin said as Ally walked back to him, a smile on her face. \"Yup,\" Ally confirmed. \"He said he was sorry and that he\"d make it up to me with a date tomorrow!\" \"We\"ll that\"s one of your worries gone,\" Austin said, truly happy for her. Yet he couldn\"t get rid of that feeling in his stomach. The feeling that something was up with Dallas. Oh well, he ignored it. \"So Ms. Dawson, what shall we do today then?\" \"Well Mr. Moon,\" Ally laughed as she played along to his weird little game. \"I was thinking we go to the zoo. You know, visit Pickles?\" \"Why a splendid idea,\" Austin put on his best Britsh accent. \"Off we go.\" He held out his arm for Ally which she gladly took, giggling. After a few minutes of walking and exchanging British banter, Austin suddenly let go if Ally and shouted, \"Race ya to the bus station!\" \"Typical Austin,\" Ally said to herself, smiling as she watched Austin sprint away from her. \"Wait for me!\" she chases after him, running perfectly fine in her heeled boots, not tripping once. The two enjoyed their fun day at the zoo, oblivious to all the mystery that will soon come. So what\"d you guys think of the chapter? I couldn\"t resist adding the little Auslly fluff at the end. Also, I didn\"t feel like rereading so sorry about any mistakes. Please review. :) Chapter 4- Confessions of Love Ally wandered around the park, looking for Dallas. They had agreed on meeting in front of the ice-cream cart by seven. Sure it was only 6:56 but Dallas was usually early. \"Boo,\" a voice behind Ally said, startling her. She turned to face Dallas in a gray blazer and a blue button up shirt. \"Am I late?\" \"No, it\"s only 6:57,\" Ally informed him, checking her phone. \"I would have been here sooner but I was a little busy . . .\" Dallas said, mysteriously. \"Doing what?\" Ally asked. \"I\"ll show you,\" he grabbed her hand and pulled her toward the trees. \"Where are you taking me?\" Ally asked, trying to avoid stepping on the dirt and stay on the path. \"Here we are!\" he opened his arms dramatically. Ally was awestruck. There were standing in a little clearing among the trees. It was where Austin had his date with Kira that one time. Only it looked different today. There was a blanket in the middle on top of the grass, surrounded by candles. A cute basket sat on the blanket, no doubt filled with all of Ally\"s favorite foods. \"It\"s amazing,\" Ally said with a huge smile. \"There\"s more,\" Dallas led Ally to the blanket, sat down, and pulled out a laptop from the basket. \"We can watch a movie. You pick.\" \"Aww . . . Dallas. This is the perfect date!\" Ally exclaimed, hugging him. \"It\"s all for you,\" Dallas said to her, taking a deep breath before beginning his big apology. \"I just wanted to let you know that I\"m sorry. I\"m sorry for blowing you off, and not being a good boyfriend and everything.\" \"It\"s alright Dallas,\" Ally quickly forgave him. \"And you are a good boyfriend.\" Dallas grabbed Ally\"s hand and looked into her eyes. \"Ally,\" he paused for dramatic effect. \"I love you.\" Ally looked a little shocked and soon after began blushing. Before she could respond , Dallas kissed her. ~Later at Sonic Boom~ Ally walked into Sonic Boom after her date. She heard someone playing the piano in the practice room. Ally was confused. No one had the key to the store except her, her father, and Austin. She quickly grabbed a loaf of bread that was randomly lying on the counter, probably because of Dez. Ahe sneakily made her way up the stairs. \"Three . . . Two . . . One . . .\" she whispered to herself before bursting through the door, waving the loaf of bread around and screaming. Austin shrieked and jumped off of the piano bench, surprised. \"Ally?\" Austin grabbed his heart. \"Thanks for the heart attack!\" He took the loaf of bread out of her hand and took a bite out of it. \"If I was a burglar, how would a loaf of bread protect you?\" \"I don\"t know! I heard noises. I needed a weapon and this was the only thing I could find,\" Ally tried to defend herself. \"You could have grabbed a guitar or something.\" \"What are you doing here anyway?\" Ally asked. \"Trish and Dez are busy and you were on a date, so I had no one to hang out with. So I came here,\" Austin explained. \"You wanted to hang out . . . at 11pm?\" \"Hey don\"t judge me! So what are you doing here anyway?\" Austin sat back down on the piano bench and Ally went to join him. \"I just got back form my date with Dallas. Didn\"t really feel like going home yet.\" \"How\"d the date go?\" Austin asked, mainly out of courtesy. He really didn\"t want to hear all the details of her date. \"It was amazing!\" A huge smile grew on Ally\"s face and Austin wondered if her had ever made her smile like that. \"He made me a picnic in that little clearing in the park with candles and -\" \"I remember the last time we went there,\" Austin interrupted. \" I dragged you through the trees.\" He chuckled at the memory of twigs getting stuck in their hair and how much fun they had that day. \"Well, we took the path like normal people,\" Ally sent a look at Austin, who was thinking about how his way was waayyy funner. \"Anyways He put candles around our blanket and we ate pickles and all my favorite foods and then we watched a silent film and then we danced together . . .\" Austin chuckled again, imaging the two of them dancing together. Ally glared at him yet again and continues. \"And then we talked and oh my gosh he gave the sweetest apology and then he told me . . . he told me that he loves me . . . \" Ally stared at the corner of the room with a preoccupied look in her eyes, analyzing what had happened. Austin shifted uncomfortably. He knew that for an old romantic like Ally saying \"I love you\" was a big step in a relationship. \"He didn\"t really give me a chance to reply . . . He just . . . kissed me . . .\" she trailed off again, replaying the night in her head, wondering what she would have said if he hadn\"t kissed her then. \"Hey, why don\"t we take all of this love and turn it into a song?\" Austin suggested, trying to avoid the love conversation with Ally. This seemed more like a Trish-and-Ally talk. Ally snapped out of her trance. \"Yeah, that\"s a great idea!\" She began to mess around with the piano keys trying to find a good melody. Suddenly, the pair heard yelling from downstairs. They glanced at each other before running down to find Trish in her pajamas and Dez dressed in orange pants and a yellow T-shirt that read \"CHEESE.\" \"What are you guys doing here?\" Ally asked trying to get their attention but to no effect. \"GUYS!\" Austin screamed, standing on top of the counter. Dez and Trish stopped mid-sentence and looked up to Austin. \"Why are you guys here?\" He jumped off of the counter. Woah, one at a time guys!\" Ally set the rules when both Dez and Trish began talking at once. \"This Bozo over here came to my bedroom while I was having my beauty sleep and woke me up. And he won\"t leave me alone!\" Trish whined. \"I just need you to solve my problem with Mandy!\" Dez exclaimed. \"How am I supposed to help?!\" Trish yelled. \"Because you work at Connie\"s,\" Dez said in his \"duh\" voice. \"Wait that doesn\"t explain why you\"re both here,\" Austin interjected. \"We knew you two would probably be here,\" Trish explained to him before facing Ally. \"Allllyyyy . . . get him to leave me alone!\" \"Dez, if you\"re having problems with Mandy, why don\"t you just break up with her?\" Ally suggested. \"You always thought she was creepy and annoying.\" \"How could you say that, Ally?\" Dez gasped. \"I love her!\" Ally was sick of that word. Love. What does it even mean?! She grabbed Trish and began walking out of the store. \"Why don\"t you just go to Connie\"s in the morning and she\"ll help you then. Meanwhile let\"s all just go home.\" Ally and Trish took the bus home in silence while Austin and Dez decided to walk. However, Austin soon got tired of him talking about Mandy that he decided to just go back to the store and sleep there. The love song that Austin and Ally had planned on writing was forgotten . . . The next morning Ally got to the store early. She wondered whether she should have asked Trish for advice yesterday about Dallas. Trish was her best friend but she was a little preoccupied lately with Trent and her job. Ally sighed as she unlocked the store door. Everything was changing. Dez was into Mandy, Trish was working, and her dad was in love again. She couldnt believe it. At least Austin is still the same Ally thought to herself. Suddenly she heard snoring feom upstairs. Who could it be? Austin was in his bedroom sleeping probably and she had just seen her dad eating breakfast at her house. No one else could come in. She grabbed a guitar, remembering Austin\"s jokes last night and crept upstairs, feeling de ja vu. This time, however, she did not run in screaming. She slowly sneaked in and giggled at the sight before her. Austin was falling off of the couch, his top half almost touching the floor. His blanket was lying on the floor. Shaking her head and wondering why Austin was sleeping here, she picked the blanket up and put it over him. While she was trying to move Austin\"s head so that it was actually in the couch, Austin grabbed Ally and turned his body, dragging Ally down to him. Ally squeaked, not expecting that to happen. She thought about how this always happened in the books. The guy grabs/hugs the girl in his sleep and they fall asleep together. \"But this isn\"t as romatic because Austin\"s breath stinks,\" Ally accidentally said out loud. \"Yeah that was kind of the point,\" Austin said, not opening his eyes. \"Austin? Your awake?!\" \"Yep. You know you\"re not as sneaky and quiet as you think, especially in those heeled boots,\" Austin commented, enjoying the smell of her hair in his face. Ally giggled a little at the fact that he didnt even have to look to know what shoes she was wearing. Then she realized that she was still on top of him. \"Austin, you can let go of me now.\" \"Oh yeah,\" Austin released his grin on her waist. Ally got up and brushed herself off. \"What are you doing here anyway?\" \"I couldn\"t stand walking home with Dez and listening to him go on and on about Mandy so I just slept here,\" he got up, yawned and stretched, and noticed the guitar lying on the floor. \"You bought a guitar as a weapon this time?\" \"Yup I remembered your advice,\" she said. Then something important crossed her mind. \"Hey, wait, won\"t your parents be worr-\" Ally\"s father barged into the room before Ally could finish. \"Hey Ally honey, how would you like to have a fancy dinner together tonight?\" \"Oh, sure dad. Where are we going?\" \"We\"re not going out to eat,\" he laughed at that idea. As if he woul spend a lot of money just to eat in a fancy dining hall with fancy waiters when he could eat at home. \"We\"ll have it in our dining room that we never use.\" \"Okay but whats the occasion?\" Ally asked a bit confused. \"My girlfriend will be joining us.\" \"ohh...yay...\" Ally tried to sound enthusiastic but failed miserably. \"And you can bring that boy with you, whats his name, umm, Dallas!\" Her father added. \"You too seem to be getting pretty serious...\" \"What? no no,\" Ally tried to deny this and think of excuses. \"and Dallas can\"t come anyway. He\"s busy tonight ... he has uhh homework ... Yeah hes getting an early start on his summer homework...\" Ally saw Austin rubbing his eyes and yawning probably not even paying attention to the conversation. \"Austin can join us!\" Ally blurted. \"I can do what now?\" Austin said, looking up when hearing his name. \"Alright, I\"ll see you two tonight then,\" Ally\"s father walked out the room. \"Ally, what did you get me into?\" \"Please Austin. You have to come to this dinner with me. I have to meet my dad\"s girlfriend and I need you there for moral support,\" Ally begged, sitting down next to Austin on the couch. \"Fine,\" Austin gave in. \"Thank you, thank you, thank you!\" Ally hugged Austin and remembered what she was going to tell him before her dad came in. \"Oh, and Austin you should probably tell your parents you\"re okay. They must be worried sick. \"Damn, I forgot about my parents!\" Austin jumped up and ran out of the room, leaving Ally sitting on the couch. Ally sighed, still wondering what to do about Dallas. Not to mention her dads girlfriend. How did her life get so complicated? What is love anyway? After another sigh, Ally got up to open up the store and start working. ~Later that night~ \"Where is he?\" Ally wondered aloud. I need you here Austin. Please. Ally sent the text and went back to doing her hair. She was humming to herself while curling her hair. She tried to forget the fact that she was meeting a potential step mom. Suddenly, someone fell into her room through her window. \"Austin?!\" Ally jumped up seeing a blonde head through her mirror. \"Ouch!\" Austin got up and brushed himself off before noticing Ally grabbing her finger. \"What happened?\" \"It\"s nothing. I just accidentally burned myself with my curler when you scared me,\" Ally explained trying to brush it off as if it was nothing. She bent down to pick up the curler that she dropped before it burned her carpet. \"You know we have a door, right?\" \"Entering through the door would be boring. I wanted to surprise you,\" he went closer to look at the damage the curler had done. \"Shit, I\"ll get you an ice pack,\" Austin bolted out of Ally\"s room and downstairs to her kitchen where he ran into Mr. Dawson. \"Austin, When\"d you get here?\" He asked confused. \"A few seconds ago through Ally\"s window,\" Austin quickly explained grabbing the ice from the freezer. Allys father looked confused for a second but decided against saying anything. \"Wait,\" Ally\"s dad grabbed Austin before he could leave. \"What color tie should I wear tonight?\" He held up a navy blue tie and a slightly darker navy blue tie. \"Uhh... The one on the right,\" Austin replied without looking. He began to leave the kitchen before pausing and turning around again. \"You really like her don\"t you?\" \"Love is a beautiful thing,\" Mr. Dawson said simply. Austin backed out of the kitchen, remembering Ally. \"Ally, I got the ice. I\"m so sorry. I didn\"t mean to...\" \"Austin,\" Ally cut him off. \"It\"s fine it doesn\"t even hurt that much anymore. My finger barely touched the curler.\" \"Just take the ice,\" he grabbed Ally\"s hand and putting the ice pack in her finger. \"Thanks. Next time just ruse the front door or at least give me a warning,\" she giggled and then noticed her hair in the mirror. \"Now, I have to finish doing my hair. I can\"t go to dinner with my hair half curly.\" \"I think it looks great. It could be the new style!\" Austin complimented her. Ally rolled her eyes taking the ice pack off her finger and grabbing the curler. \"Why are you worrying about it so much anyway? You don\"t need to dress up for a dinner with your dad.\" He threw himself on her bed and propped himself up so he could observe her outfit, taking in the strapless blue dress which stopped an inch above her knees. She looked perfect. \"How many times do we have to go over this?! I\"m meeting my possible future mom! I have to dress to impress!\" Ally began ranting as she curled her hair. \"Okay Ally. I get it,\" he cut her off. He didn\"t want to give her another pep talk. \"You should dress up a little too.\" \"What\"s wrong with what I\"m wearing?\" Austin sat up on the bed and looked down at his outfit. He was wearing a dark blue (almost black) button up shirt, leather jacket, and gray jeans. Ally finished her last curl and put the curler down, taking out the power cord. \"At least wear a tie. \" She got up and dug through her closet for a skinny blue tie. \"You left it here a long time ago,\" Ally explained. She walked over and put the tie around his neck. \"Fine ill wear it. Only because it matches your dress,\" Austin gave in, letting her put it on him. \"But I\"m keeping the jacket on.\" \"Fine,\" Ally sighed, knowing Austin could be stubborn at times. Ally finished his tie and the pair stood there looking into each others eyes, only about 3 inches away. \"Thank you Austin. For being here it means a lot,\" Ally broke the silence. \"It\"s no problem. I\"m always here for you,\" Austin replied still looking into her eyes. This would usually be the moment that the two best friends would slowly lean in without ever breaking and their lips would collide perfectly and all their worries would be forgotten. However, this was reality and in reality, when you stand that close to someone staring into their eyes, all you get is an awkward moment. And in this awkward moment, Ally broke the eye contact first, clearing her throat, and turning away to pack away the rest of her makeup. Austin, confused about what just happened, ran his hands through his hair and plopped down onto the bed again. \"So... Uhh... Maybe we should go down now?\" Austin asked, trying to restore normalcy. \"I mean, if your ready that is.\" \"Yeah, sure,\"Ally replied shoving the rest of her things in the drawer and following Austin out of her room, shutting the door behind her. Hope you all enjoyed this chapter. I was originally planning on making this dinner a really long chapter but this is all I could write so far. And I didn\"t want to leave you guys without a chapter or any longer. So I just posted what I had and divided the dinner into two parts. Im sorry I didn\"t update in forever. I know you don\"t want to hear my excuses but you know school blah blah blah. Also I\"ve kind of lost inspiration for this story. But I will try to finish it since it is my first fanfiction ever. Tomorrow is my last regents exam so I should have the next chapter to you by next week. Maybe even the end of this week if I feel inspired. But I honestly have no idea what I want to happen at this dinner... Anything you guys want to see? Please review. Tell my what you thought. what was your favorite part of this chapter? Should I continue this story? What do you want to happened in the next chapter? Thanks to everyone still reading. thelonelystars'],\n",
       "      dtype=object)"
      ]
     },
     "execution_count": 36,
     "metadata": {},
     "output_type": "execute_result"
    }
   ],
   "source": [
    "texts"
   ]
  },
  {
   "cell_type": "code",
   "execution_count": 37,
   "metadata": {},
   "outputs": [],
   "source": [
    "vect = TfidfVectorizer(max_features=3000, analyzer='char', ngram_range=(4,4))"
   ]
  },
  {
   "cell_type": "code",
   "execution_count": null,
   "metadata": {},
   "outputs": [],
   "source": [
    "vect.fit(texts)"
   ]
  },
  {
   "cell_type": "code",
   "execution_count": null,
   "metadata": {},
   "outputs": [],
   "source": [
    "len(vect.get_feature_names())"
   ]
  },
  {
   "cell_type": "code",
   "execution_count": null,
   "metadata": {},
   "outputs": [],
   "source": [
    "dataset = df_join_training_data.sample(frac=1).reset_index(drop=True)"
   ]
  },
  {
   "cell_type": "code",
   "execution_count": null,
   "metadata": {},
   "outputs": [],
   "source": [
    "dataset = dataset[:10000]"
   ]
  },
  {
   "cell_type": "code",
   "execution_count": null,
   "metadata": {},
   "outputs": [],
   "source": [
    "text1_transform = vect.transform(dataset['text1'].values)\n",
    "text2_transform = vect.transform(dataset['text2'].values)\n",
    "X = text1_transform - text2_transform\n",
    "y = dataset['same'].values\n",
    "X.shape, y.shape\n"
   ]
  },
  {
   "cell_type": "code",
   "execution_count": null,
   "metadata": {},
   "outputs": [],
   "source": [
    "X_train, X_test, y_train, y_test = train_test_split(X, y, test_size=0.2, random_state=13, stratify=y)"
   ]
  },
  {
   "cell_type": "code",
   "execution_count": null,
   "metadata": {},
   "outputs": [],
   "source": [
    "clf = LogisticRegression()\n",
    "clf.fit(X_train, y_train)"
   ]
  },
  {
   "cell_type": "code",
   "execution_count": null,
   "metadata": {},
   "outputs": [],
   "source": [
    "preds = clf.predict(X_test)"
   ]
  },
  {
   "cell_type": "code",
   "execution_count": null,
   "metadata": {},
   "outputs": [],
   "source": [
    "f1_score(y_test, preds, average='macro')"
   ]
  },
  {
   "cell_type": "code",
   "execution_count": null,
   "metadata": {},
   "outputs": [],
   "source": [
    "#!pip install scipy==1.5\n",
    "#!pip install scikit-learn==0.24.1"
   ]
  },
  {
   "cell_type": "code",
   "execution_count": null,
   "metadata": {},
   "outputs": [],
   "source": []
  }
 ],
 "metadata": {
  "kernelspec": {
   "display_name": "Python 3",
   "language": "python",
   "name": "python3"
  },
  "language_info": {
   "codemirror_mode": {
    "name": "ipython",
    "version": 3
   },
   "file_extension": ".py",
   "mimetype": "text/x-python",
   "name": "python",
   "nbconvert_exporter": "python",
   "pygments_lexer": "ipython3",
   "version": "3.7.9"
  }
 },
 "nbformat": 4,
 "nbformat_minor": 2
}

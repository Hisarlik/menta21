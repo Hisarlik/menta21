{
 "cells": [
  {
   "cell_type": "code",
   "execution_count": 17,
   "id": "small-instruction",
   "metadata": {},
   "outputs": [],
   "source": [
    "from sklearn.feature_extraction.text import TfidfVectorizer\n",
    "import pandas as pd"
   ]
  },
  {
   "cell_type": "code",
   "execution_count": 25,
   "id": "modular-camping",
   "metadata": {},
   "outputs": [],
   "source": [
    "corpus = [\n",
    "    \"Hello!. Your are the best, don't you ? .\",\n",
    "    \"Lou Reed is the best.\",\n",
    "    \"I like Python (data scientist), Java (Programming) and C.\"\n",
    "    \n",
    "    \n",
    "]"
   ]
  },
  {
   "cell_type": "code",
   "execution_count": 26,
   "id": "hourly-flexibility",
   "metadata": {},
   "outputs": [],
   "source": [
    "vocab = \"!.?$()\""
   ]
  },
  {
   "cell_type": "code",
   "execution_count": 47,
   "id": "scenic-issue",
   "metadata": {},
   "outputs": [],
   "source": [
    "vect = TfidfVectorizer(vocabulary=vocab, analyzer='char')\n",
    "#vect = TfidfVectorizer(analyzer='char')"
   ]
  },
  {
   "cell_type": "code",
   "execution_count": 48,
   "id": "adolescent-charm",
   "metadata": {},
   "outputs": [],
   "source": [
    "X = vect.fit_transform(corpus)"
   ]
  },
  {
   "cell_type": "code",
   "execution_count": 49,
   "id": "grand-secretary",
   "metadata": {},
   "outputs": [
    {
     "data": {
      "text/plain": [
       "['!', '.', '?', '$', '(', ')']"
      ]
     },
     "execution_count": 49,
     "metadata": {},
     "output_type": "execute_result"
    }
   ],
   "source": [
    "vect.get_feature_names()"
   ]
  },
  {
   "cell_type": "code",
   "execution_count": 50,
   "id": "consolidated-saturn",
   "metadata": {},
   "outputs": [],
   "source": [
    "dense = X.toarray()"
   ]
  },
  {
   "cell_type": "code",
   "execution_count": 51,
   "id": "fifth-platform",
   "metadata": {},
   "outputs": [
    {
     "data": {
      "text/plain": [
       "array([[0.54270061, 0.64105545, 0.54270061, 0.        , 0.        ,\n",
       "        0.        ],\n",
       "       [0.        , 1.        , 0.        , 0.        , 0.        ,\n",
       "        0.        ],\n",
       "       [0.        , 0.20440549, 0.        , 0.        , 0.69217714,\n",
       "        0.69217714]])"
      ]
     },
     "execution_count": 51,
     "metadata": {},
     "output_type": "execute_result"
    }
   ],
   "source": [
    "dense"
   ]
  },
  {
   "cell_type": "code",
   "execution_count": null,
   "id": "completed-bouquet",
   "metadata": {},
   "outputs": [],
   "source": []
  }
 ],
 "metadata": {
  "kernelspec": {
   "display_name": "Python 3",
   "language": "python",
   "name": "python3"
  },
  "language_info": {
   "codemirror_mode": {
    "name": "ipython",
    "version": 3
   },
   "file_extension": ".py",
   "mimetype": "text/x-python",
   "name": "python",
   "nbconvert_exporter": "python",
   "pygments_lexer": "ipython3",
   "version": "3.8.6"
  }
 },
 "nbformat": 4,
 "nbformat_minor": 5
}

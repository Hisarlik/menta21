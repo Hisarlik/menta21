{
 "cells": [
  {
   "cell_type": "code",
   "execution_count": null,
   "id": "chinese-commander",
   "metadata": {},
   "outputs": [],
   "source": [
    "import pandas as pd\n",
    "from sklearn.feature_extraction.text import TfidfVectorizer\n",
    "from sklearn.linear_model import LogisticRegression\n",
    "from sklearn.svm import SVC\n",
    "from sklearn.model_selection import train_test_split\n",
    "from sklearn.metrics import f1_score\n",
    "from sklearn.preprocessing import StandardScaler\n",
    "from sklearn.pipeline import FeatureUnion\n",
    "import numpy as np\n",
    "from sklearn.model_selection import RandomizedSearchCV\n",
    "from scipy.stats import uniform\n",
    "from sklearn.metrics import precision_recall_curve\n",
    "from sklearn.metrics import roc_curve, auc\n",
    "from sklearn.metrics import f1_score\n",
    "from scipy import stats"
   ]
  },
  {
   "cell_type": "code",
   "execution_count": null,
   "id": "amber-soviet",
   "metadata": {},
   "outputs": [],
   "source": [
    "from plotly.offline import init_notebook_mode\n",
    "import plotly.offline as py\n",
    "import plotly.graph_objs as go\n",
    "import plotly.express as px\n",
    "init_notebook_mode(connected=True)"
   ]
  },
  {
   "cell_type": "code",
   "execution_count": null,
   "id": "supposed-republican",
   "metadata": {},
   "outputs": [],
   "source": [
    "train = \"../data/temp/train.csv\"\n",
    "dev = \"../data/temp/dev.csv\""
   ]
  },
  {
   "cell_type": "markdown",
   "id": "amino-roller",
   "metadata": {},
   "source": [
    "##### Load train and dev dataset"
   ]
  },
  {
   "cell_type": "code",
   "execution_count": null,
   "id": "formed-amplifier",
   "metadata": {},
   "outputs": [],
   "source": [
    "train_df = pd.read_csv(train)\n",
    "dev_df = pd.read_csv(dev)"
   ]
  },
  {
   "cell_type": "code",
   "execution_count": null,
   "id": "coated-greenhouse",
   "metadata": {},
   "outputs": [],
   "source": [
    "train_df"
   ]
  },
  {
   "cell_type": "code",
   "execution_count": null,
   "id": "alternative-adams",
   "metadata": {},
   "outputs": [],
   "source": [
    "texts = np.hstack([train_df['text1'].values, train_df['text2'].values])\n",
    "texts1 = train_df['text1']\n",
    "texts2 = train_df['text2']\n",
    "Y_train = train_df['same'].values\n",
    "train_df = None"
   ]
  },
  {
   "cell_type": "code",
   "execution_count": null,
   "id": "commercial-ceiling",
   "metadata": {},
   "outputs": [],
   "source": [
    "texts"
   ]
  },
  {
   "cell_type": "code",
   "execution_count": null,
   "id": "occupational-impression",
   "metadata": {},
   "outputs": [],
   "source": [
    "Y_train"
   ]
  },
  {
   "cell_type": "code",
   "execution_count": null,
   "id": "irish-intersection",
   "metadata": {},
   "outputs": [],
   "source": [
    "vectorizer = TfidfVectorizer(analyzer='char_wb', min_df=0.1, vocabulary=None, norm='l1', ngram_range=(1, 6), max_features=5000)"
   ]
  },
  {
   "cell_type": "code",
   "execution_count": null,
   "id": "diverse-scientist",
   "metadata": {},
   "outputs": [],
   "source": [
    "vectorizer.fit(texts)\n",
    "scaler = StandardScaler(with_mean=False)\n",
    "scaler.fit(texts)"
   ]
  },
  {
   "cell_type": "code",
   "execution_count": null,
   "id": "retained-thailand",
   "metadata": {},
   "outputs": [],
   "source": [
    "x1 = scaler.transform(vectorizer.transform(texts1))\n",
    "x2 = scaler.transform(vectorizer.transform(texts2))\n",
    "X_train = np.abs(x1-x2).todense()\n",
    "texts1=None\n",
    "texts2=None"
   ]
  },
  {
   "cell_type": "markdown",
   "id": "moved-groove",
   "metadata": {},
   "source": [
    "## Logistic Regression"
   ]
  },
  {
   "cell_type": "code",
   "execution_count": null,
   "id": "owned-findings",
   "metadata": {},
   "outputs": [],
   "source": [
    "clf = LogisticRegression(solver='lbfgs', max_iter=500)\n",
    "distributions = dict(C=uniform(loc=0, scale=4), penalty=['l2', 'l1'])\n",
    "param_clf = RandomizedSearchCV(clf, distributions, random_state=0, verbose=2, scoring='roc_auc')\n",
    "search = param_clf.fit(X_train, Y_train)\n",
    "search.best_params_"
   ]
  },
  {
   "cell_type": "code",
   "execution_count": null,
   "id": "buried-paper",
   "metadata": {},
   "outputs": [],
   "source": [
    "clf = LogisticRegression(C=0.226, solver='lbfgs', max_iter=5000, verbose=True)\n",
    "clf.fit(X_train, Y_train)"
   ]
  },
  {
   "cell_type": "markdown",
   "id": "dynamic-sweet",
   "metadata": {},
   "source": [
    "#### test on development data"
   ]
  },
  {
   "cell_type": "code",
   "execution_count": null,
   "id": "passing-findings",
   "metadata": {},
   "outputs": [],
   "source": [
    "texts = np.hstack([dev_df['text1'].values, dev_df['text2'].values])\n",
    "texts1 = dev_df['text1']\n",
    "texts2 = dev_df['text2']\n",
    "Y_dev = dev_df['same'].values"
   ]
  },
  {
   "cell_type": "code",
   "execution_count": null,
   "id": "balanced-relation",
   "metadata": {},
   "outputs": [],
   "source": [
    "x1 = scaler.transform(vectorizer.transform(texts1))\n",
    "x2 = scaler.transform(vectorizer.transform(texts2))\n",
    "X_dev = np.abs(x1-x2).todense()"
   ]
  },
  {
   "cell_type": "code",
   "execution_count": null,
   "id": "affecting-ottawa",
   "metadata": {},
   "outputs": [],
   "source": [
    "preds = clf.predict_proba(X_dev)[:, 1]\n",
    "print('FPR-TRP Curve')\n",
    "\n",
    "fpr, tpr, thresh = roc_curve(Y_dev, preds)\n",
    "roc_auc = auc(fpr, tpr)\n",
    "fig = go.Figure()\n",
    "fig.add_trace(go.Scatter(\n",
    "    x = fpr,\n",
    "    y = tpr,\n",
    "    text = thresh,\n",
    "    mode='lines'\n",
    "))\n",
    "fig.show()\n",
    "print(roc_auc)\n",
    "\n",
    "\n",
    "print('P-R Curve')\n",
    "precision, recall, thresholds = precision_recall_curve(Y_dev, preds)\n",
    "fig = go.Figure()\n",
    "fig.add_trace(go.Scatter(\n",
    "    x=recall,\n",
    "    y=precision,\n",
    "    text=np.array(thresholds).astype(str)\n",
    "))\n",
    "fig.show()\n",
    "print('AUC: ', auc(recall, precision))"
   ]
  },
  {
   "cell_type": "code",
   "execution_count": null,
   "id": "mounted-restoration",
   "metadata": {},
   "outputs": [],
   "source": [
    "preds = clf.predict(X_dev)\n",
    "f1_score(Y_dev, preds, average='macro')"
   ]
  },
  {
   "cell_type": "code",
   "execution_count": null,
   "id": "hindu-appearance",
   "metadata": {},
   "outputs": [],
   "source": [
    "precision, recall, thresholds"
   ]
  },
  {
   "cell_type": "markdown",
   "id": "developing-function",
   "metadata": {},
   "source": [
    "### SVM"
   ]
  },
  {
   "cell_type": "code",
   "execution_count": null,
   "id": "sought-joining",
   "metadata": {},
   "outputs": [],
   "source": [
    "clf = SVC(probability = True, random_state = 1)"
   ]
  },
  {
   "cell_type": "code",
   "execution_count": null,
   "id": "cosmetic-interim",
   "metadata": {},
   "outputs": [],
   "source": [
    "param_dist = {\"C\": stats.uniform(2, 10),\n",
    "             \"gamma\": stats.uniform(0.1, 1)}\n",
    "rand_search = RandomizedSearchCV(clf, param_distributions=param_dist,\n",
    "                                       n_iter=15,n_jobs=-1)\n",
    "rand_search.fit(X_train, Y_train)\n",
    "\n",
    "rand_search.best_params_"
   ]
  },
  {
   "cell_type": "code",
   "execution_count": null,
   "id": "foreign-blame",
   "metadata": {},
   "outputs": [],
   "source": [
    "clf = SVC(probability = True, C=4.33, gamma=1.07)\n",
    "clf.fit(X_train, Y_train)"
   ]
  },
  {
   "cell_type": "code",
   "execution_count": null,
   "id": "medium-astrology",
   "metadata": {},
   "outputs": [],
   "source": [
    "texts = np.hstack([dev_df['text1'].values, dev_df['text2'].values])\n",
    "texts1 = dev_df['text1']\n",
    "texts2 = dev_df['text2']\n",
    "Y_dev = dev_df['same'].values"
   ]
  },
  {
   "cell_type": "code",
   "execution_count": null,
   "id": "thirty-large",
   "metadata": {},
   "outputs": [],
   "source": [
    "x1 = scaler.transform(vectorizer.transform(texts1))\n",
    "x2 = scaler.transform(vectorizer.transform(texts2))\n",
    "X_dev = np.abs(x1-x2).todense()"
   ]
  },
  {
   "cell_type": "code",
   "execution_count": null,
   "id": "governmental-change",
   "metadata": {},
   "outputs": [],
   "source": [
    "preds = clf.predict_proba(X_dev)[:, 1]\n",
    "print('FPR-TRP Curve')\n",
    "\n",
    "fpr, tpr, thresh = roc_curve(Y_dev, preds)\n",
    "roc_auc = auc(fpr, tpr)\n",
    "fig = go.Figure()\n",
    "fig.add_trace(go.Scatter(\n",
    "    x = fpr,\n",
    "    y = tpr,\n",
    "    text = thresh,\n",
    "    mode='lines'\n",
    "))\n",
    "fig.show()\n",
    "print(roc_auc)\n",
    "\n",
    "\n",
    "print('P-R Curve')\n",
    "precision, recall, thresholds = precision_recall_curve(Y_dev, preds)\n",
    "fig = go.Figure()\n",
    "fig.add_trace(go.Scatter(\n",
    "    x=recall,\n",
    "    y=precision,\n",
    "    text=np.array(thresholds).astype(str)\n",
    "))\n",
    "fig.show()\n",
    "print('AUC: ', auc(recall, precision))"
   ]
  },
  {
   "cell_type": "code",
   "execution_count": null,
   "id": "included-patrol",
   "metadata": {},
   "outputs": [],
   "source": [
    "preds = (clf.predict(X_dev))\n",
    "f1_score(Y_dev, preds, average='macro')"
   ]
  },
  {
   "cell_type": "code",
   "execution_count": null,
   "id": "under-nicaragua",
   "metadata": {},
   "outputs": [],
   "source": []
  }
 ],
 "metadata": {
  "kernelspec": {
   "display_name": "Python 3",
   "language": "python",
   "name": "python3"
  },
  "language_info": {
   "codemirror_mode": {
    "name": "ipython",
    "version": 3
   },
   "file_extension": ".py",
   "mimetype": "text/x-python",
   "name": "python",
   "nbconvert_exporter": "python",
   "pygments_lexer": "ipython3",
   "version": "3.8.8-final"
  }
 },
 "nbformat": 4,
 "nbformat_minor": 5
}
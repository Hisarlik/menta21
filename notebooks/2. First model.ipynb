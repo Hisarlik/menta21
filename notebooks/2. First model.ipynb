{
 "cells": [
  {
   "cell_type": "code",
   "execution_count": 1,
   "id": "chinese-commander",
   "metadata": {},
   "outputs": [],
   "source": [
    "import pandas as pd\n",
    "from sklearn.feature_extraction.text import TfidfVectorizer\n",
    "from sklearn.linear_model import LogisticRegression\n",
    "from sklearn.svm import SVC\n",
    "from sklearn.model_selection import train_test_split\n",
    "from sklearn.metrics import f1_score\n",
    "from sklearn.preprocessing import StandardScaler\n",
    "from sklearn.pipeline import FeatureUnion\n",
    "import numpy as np\n",
    "from sklearn.model_selection import RandomizedSearchCV\n",
    "from scipy.stats import uniform\n",
    "from sklearn.metrics import precision_recall_curve\n",
    "from sklearn.metrics import roc_curve, auc\n",
    "from sklearn.metrics import f1_score\n",
    "from scipy import stats"
   ]
  },
  {
   "cell_type": "code",
   "execution_count": 2,
   "id": "amber-soviet",
   "metadata": {},
   "outputs": [
    {
     "data": {
      "text/html": [
       "        <script type=\"text/javascript\">\n",
       "        window.PlotlyConfig = {MathJaxConfig: 'local'};\n",
       "        if (window.MathJax) {MathJax.Hub.Config({SVG: {font: \"STIX-Web\"}});}\n",
       "        if (typeof require !== 'undefined') {\n",
       "        require.undef(\"plotly\");\n",
       "        requirejs.config({\n",
       "            paths: {\n",
       "                'plotly': ['https://cdn.plot.ly/plotly-latest.min']\n",
       "            }\n",
       "        });\n",
       "        require(['plotly'], function(Plotly) {\n",
       "            window._Plotly = Plotly;\n",
       "        });\n",
       "        }\n",
       "        </script>\n",
       "        "
      ]
     },
     "metadata": {},
     "output_type": "display_data"
    }
   ],
   "source": [
    "from plotly.offline import init_notebook_mode\n",
    "import plotly.offline as py\n",
    "import plotly.graph_objs as go\n",
    "import plotly.express as px\n",
    "init_notebook_mode(connected=True)"
   ]
  },
  {
   "cell_type": "code",
   "execution_count": 3,
   "id": "supposed-republican",
   "metadata": {},
   "outputs": [],
   "source": [
    "train = \"../data/temp/train_2000.csv\"\n",
    "dev = \"../data/temp/dev_2000.csv\""
   ]
  },
  {
   "cell_type": "markdown",
   "id": "amino-roller",
   "metadata": {},
   "source": [
    "##### Load train and dev dataset"
   ]
  },
  {
   "cell_type": "code",
   "execution_count": 4,
   "id": "formed-amplifier",
   "metadata": {},
   "outputs": [],
   "source": [
    "train_df = pd.read_csv(train)\n",
    "dev_df = pd.read_csv(dev)"
   ]
  },
  {
   "cell_type": "code",
   "execution_count": 5,
   "id": "coated-greenhouse",
   "metadata": {},
   "outputs": [
    {
     "data": {
      "text/html": [
       "<div>\n",
       "<style scoped>\n",
       "    .dataframe tbody tr th:only-of-type {\n",
       "        vertical-align: middle;\n",
       "    }\n",
       "\n",
       "    .dataframe tbody tr th {\n",
       "        vertical-align: top;\n",
       "    }\n",
       "\n",
       "    .dataframe thead th {\n",
       "        text-align: right;\n",
       "    }\n",
       "</style>\n",
       "<table border=\"1\" class=\"dataframe\">\n",
       "  <thead>\n",
       "    <tr style=\"text-align: right;\">\n",
       "      <th></th>\n",
       "      <th>id</th>\n",
       "      <th>same</th>\n",
       "      <th>text1</th>\n",
       "      <th>text2</th>\n",
       "      <th>author1</th>\n",
       "      <th>author2</th>\n",
       "    </tr>\n",
       "  </thead>\n",
       "  <tbody>\n",
       "    <tr>\n",
       "      <th>0</th>\n",
       "      <td>cc9eaace-b00d-57fa-ac0d-5ffb72bfbdf6</td>\n",
       "      <td>False</td>\n",
       "      <td>The shop was a multilevel one. The work area w...</td>\n",
       "      <td>\"In other words the whole thing was a trap, af...</td>\n",
       "      <td>64258</td>\n",
       "      <td>3481055</td>\n",
       "    </tr>\n",
       "    <tr>\n",
       "      <th>1</th>\n",
       "      <td>791250bc-c697-587b-bc03-58cc38aef564</td>\n",
       "      <td>False</td>\n",
       "      <td>Avoiding any pleasantries, she decided to try ...</td>\n",
       "      <td>With a clarity that surprised her, Alice reali...</td>\n",
       "      <td>4126569</td>\n",
       "      <td>10538973</td>\n",
       "    </tr>\n",
       "    <tr>\n",
       "      <th>2</th>\n",
       "      <td>3af3ff79-582a-50ba-8380-1e1877e4f5e6</td>\n",
       "      <td>True</td>\n",
       "      <td>The Princess was now alone in her large room, ...</td>\n",
       "      <td>The team immediately set out a plan to lure Go...</td>\n",
       "      <td>1680860</td>\n",
       "      <td>1680860</td>\n",
       "    </tr>\n",
       "    <tr>\n",
       "      <th>3</th>\n",
       "      <td>5ef9b629-100b-5aee-b40e-ed1dd50d6257</td>\n",
       "      <td>True</td>\n",
       "      <td>\"Rizzo?\" she moved her position so that Rizzo ...</td>\n",
       "      <td>\"Yes...I like to watch the birds go by,\" she s...</td>\n",
       "      <td>4085372</td>\n",
       "      <td>4085372</td>\n",
       "    </tr>\n",
       "    <tr>\n",
       "      <th>4</th>\n",
       "      <td>9450c779-087e-5aae-aac9-18da5f67d7a1</td>\n",
       "      <td>False</td>\n",
       "      <td>Identifying herself only as Anastasia, she was...</td>\n",
       "      <td>Harry: \"That\"s funny when I play that with my ...</td>\n",
       "      <td>5672503</td>\n",
       "      <td>6696853</td>\n",
       "    </tr>\n",
       "    <tr>\n",
       "      <th>...</th>\n",
       "      <td>...</td>\n",
       "      <td>...</td>\n",
       "      <td>...</td>\n",
       "      <td>...</td>\n",
       "      <td>...</td>\n",
       "      <td>...</td>\n",
       "    </tr>\n",
       "    <tr>\n",
       "      <th>1389</th>\n",
       "      <td>0c1efc81-9417-5afc-8775-1029d4dabdf7</td>\n",
       "      <td>True</td>\n",
       "      <td>Nyx had invited her sons (3) so as not to seem...</td>\n",
       "      <td>\"Come on Princess,\" he teased, tweaking her no...</td>\n",
       "      <td>38709</td>\n",
       "      <td>38709</td>\n",
       "    </tr>\n",
       "    <tr>\n",
       "      <th>1390</th>\n",
       "      <td>b47e84fb-053d-5081-80a5-fc9057acc9e5</td>\n",
       "      <td>True</td>\n",
       "      <td>\"Trick? Another one? I thought we were only do...</td>\n",
       "      <td>Oh, how she missed the way he would speak her ...</td>\n",
       "      <td>1126896</td>\n",
       "      <td>1126896</td>\n",
       "    </tr>\n",
       "    <tr>\n",
       "      <th>1391</th>\n",
       "      <td>262cef40-f694-5c6f-8f26-cae8177f89ef</td>\n",
       "      <td>False</td>\n",
       "      <td>Hayle was having a hard time to hold her tears...</td>\n",
       "      <td>Anyways, just so you knows if you ever end up ...</td>\n",
       "      <td>4372830</td>\n",
       "      <td>10381692</td>\n",
       "    </tr>\n",
       "    <tr>\n",
       "      <th>1392</th>\n",
       "      <td>0ee63acf-5a66-56c8-ad5a-65aef01c657d</td>\n",
       "      <td>True</td>\n",
       "      <td>\"Captain Tony!\" The female captain scolded, \"D...</td>\n",
       "      <td>brother\"s fault! His obsession of Yugioh made ...</td>\n",
       "      <td>909661</td>\n",
       "      <td>909661</td>\n",
       "    </tr>\n",
       "    <tr>\n",
       "      <th>1393</th>\n",
       "      <td>76515e77-d431-5827-97b6-62779cdc25fc</td>\n",
       "      <td>False</td>\n",
       "      <td>In the woods, Keita and Master Yuda are about ...</td>\n",
       "      <td>the past hour? Who were easily routed, I might...</td>\n",
       "      <td>5309767</td>\n",
       "      <td>508630</td>\n",
       "    </tr>\n",
       "  </tbody>\n",
       "</table>\n",
       "<p>1394 rows × 6 columns</p>\n",
       "</div>"
      ],
      "text/plain": [
       "                                        id   same  \\\n",
       "0     cc9eaace-b00d-57fa-ac0d-5ffb72bfbdf6  False   \n",
       "1     791250bc-c697-587b-bc03-58cc38aef564  False   \n",
       "2     3af3ff79-582a-50ba-8380-1e1877e4f5e6   True   \n",
       "3     5ef9b629-100b-5aee-b40e-ed1dd50d6257   True   \n",
       "4     9450c779-087e-5aae-aac9-18da5f67d7a1  False   \n",
       "...                                    ...    ...   \n",
       "1389  0c1efc81-9417-5afc-8775-1029d4dabdf7   True   \n",
       "1390  b47e84fb-053d-5081-80a5-fc9057acc9e5   True   \n",
       "1391  262cef40-f694-5c6f-8f26-cae8177f89ef  False   \n",
       "1392  0ee63acf-5a66-56c8-ad5a-65aef01c657d   True   \n",
       "1393  76515e77-d431-5827-97b6-62779cdc25fc  False   \n",
       "\n",
       "                                                  text1  \\\n",
       "0     The shop was a multilevel one. The work area w...   \n",
       "1     Avoiding any pleasantries, she decided to try ...   \n",
       "2     The Princess was now alone in her large room, ...   \n",
       "3     \"Rizzo?\" she moved her position so that Rizzo ...   \n",
       "4     Identifying herself only as Anastasia, she was...   \n",
       "...                                                 ...   \n",
       "1389  Nyx had invited her sons (3) so as not to seem...   \n",
       "1390  \"Trick? Another one? I thought we were only do...   \n",
       "1391  Hayle was having a hard time to hold her tears...   \n",
       "1392  \"Captain Tony!\" The female captain scolded, \"D...   \n",
       "1393  In the woods, Keita and Master Yuda are about ...   \n",
       "\n",
       "                                                  text2  author1   author2  \n",
       "0     \"In other words the whole thing was a trap, af...    64258   3481055  \n",
       "1     With a clarity that surprised her, Alice reali...  4126569  10538973  \n",
       "2     The team immediately set out a plan to lure Go...  1680860   1680860  \n",
       "3     \"Yes...I like to watch the birds go by,\" she s...  4085372   4085372  \n",
       "4     Harry: \"That\"s funny when I play that with my ...  5672503   6696853  \n",
       "...                                                 ...      ...       ...  \n",
       "1389  \"Come on Princess,\" he teased, tweaking her no...    38709     38709  \n",
       "1390  Oh, how she missed the way he would speak her ...  1126896   1126896  \n",
       "1391  Anyways, just so you knows if you ever end up ...  4372830  10381692  \n",
       "1392  brother\"s fault! His obsession of Yugioh made ...   909661    909661  \n",
       "1393  the past hour? Who were easily routed, I might...  5309767    508630  \n",
       "\n",
       "[1394 rows x 6 columns]"
      ]
     },
     "execution_count": 5,
     "metadata": {},
     "output_type": "execute_result"
    }
   ],
   "source": [
    "train_df"
   ]
  },
  {
   "cell_type": "code",
   "execution_count": 6,
   "id": "alternative-adams",
   "metadata": {},
   "outputs": [],
   "source": [
    "texts = np.hstack([train_df['text1'].values, train_df['text2'].values])\n",
    "texts1 = train_df['text1']\n",
    "texts2 = train_df['text2']\n",
    "Y_train = train_df['same'].values\n",
    "train_df = None"
   ]
  },
  {
   "cell_type": "code",
   "execution_count": 7,
   "id": "commercial-ceiling",
   "metadata": {},
   "outputs": [
    {
     "data": {
      "text/plain": [
       "array(['The shop was a multilevel one. The work area was the bottom floor and Twitty guessed someone lived upstairs. He felt kinda uncomfortable in the area. Surfer guys don\"t exactly fit in with rough necks. And these guys looked about as rough as they get. One guy looked at him as he wiped his hands from his work. He nodded his head at Twitty, In what our young friend figured was the want to know what he wanted. \" Hi. Is Randy James here?\" \" Yeah. On the roof. Ladder\"s outside,\" \" Okay. Thanks man,\" He followed the instructions that were giving to him and went to find the fire escape ladder . There it was just on the right side, down and everything. He quickly scaled it and found her sitting there blowing smoke from her mouth. \" Randy?\" \" Oh, you found me huh?\" She said smiling. \" What are you doing up here?\" \" Thinking. I used to always want to do this when I was younger, but I was to little when we lived out here and when we moved to Miami, we only had one floor and no way to the roof. So,\" Randy replied, \" You wanna play a game?\" \" I guess,\" Twitty said as he stumbled up the peak of the roof and sit right next to her. Very closely mind you. \" Its called matches,\" She said striking a match from a book right in their faces. She then stuck it in her mouth and held it with her teeth and blew smoke out the side of her mouth. \" No way. What\"s the point in it?\" the boy asked. \" Just to be daring,\" the rebel girl answered. \" I think I\"ll pass,\" He said smiling and at the same time slipping. \" Twitty!\" Randy said grabbing his hand and pulling him back up. \" I think we better get off of the roof. It doesn\"t like me much,\" Twitty said, slipping again. \" Yeah, lets get off the roof,\" Randy said down on his level and really near to his face and let off a little laugh of discomfort. Later on, lets say a few minutes later, the duo were walking down the street. Randy with her fingertips in her front pockets slightly shuffling her feet and Twitty frantically kept fixing his hair. \"So how did you know where to find me?\" Randy asked. \" Your jacket,\" Twitty replied \" Oh, duh. Excuse me, I blame the hair color you know,\" She said smiling, \" Actually, I kinda thought that you would get it okay. I wanted to see you again too. I didn\"t have many friends in Florida. I thought that maybe that we could hit it off good. You do the music thing right?\" \" Yeah,\" he said. \" Well, so do I. I write songs, the vocals. I sing too,\" Randy said with a wrinkle in her nose when she said the word too. \" Maybe you could show me that sometime,\" Twitty said playfully and trying hard to be all sexy like. \" Maybe,\" She said stopping in her tracks, \" Oh, man, what time is it?\" \" Oh, a little after four thirty, you taking medicine,\" \" No, but I told my aunt that I would cook. You doing stuff this weekend?\" \" I don\"t know. Louis may want to do something,\" \"Well, find me if you want to do something, I\"m sure I\"ll be around,\" She said turning on her heels. She took about a half of a step and then turned back and kissed him....... on the cheek very discretely. Ever get that feeling where you want to sing old songs like the one that says \" I\"m in Heaven\"? Well that\"s what was going on with our young friend here. He was totally completely thinking he was out of his mind in love, or something like that. Sure he had a lot of female attention at different times, but usually around dance time, but never a girl that he thought he stood a snowball\"s chance in a hot place with. Sure he wasn\"t walking on air, but man, he was close to it when he entered the Steven\"s household. His friend, being well, his friend, saw this bit of change in him. \" What\"s up with you man? You look like you were hanging out at a gas station too long,\" Louis said. \" What\"s up with me? What\"s up? I just got back from seeing Randy. She\"s the coolest. She\"s a singer too,\" Alan said, and continue to go on and on over the details until Louis shut him up. \" Twitty man, I don\"t know about this girl. She just seems like bad news to me. I\"ve got this feeling, what\"s it called? Premon something,\" Louis said. \"Premonition?\" Twitty offered. \" Yes, thank you, premonition. And I don\"t think you should be doing whatever it is that your doing with her,\" Louis said as he repeatedly poked his poor friend. \" What about Tawny, you got no problem with her hanging with Randy. I think your just jealous of it all,\" Twitty said raising his voice some. \" Jealous? Jealous that you\"ve got a crush on some law breaking biker chick? Not even!\" Louis ranted on, \" You know, I could still be in a relationship if I wanted one. Its just that, well you know that, I,\" \" You what? Forget it man, I\"m out,\" Twitty said, not wanting to hear the words of who was to be his best friend. Why is it something so tiny, yet so big could come between two friends as these? Perhaps when word gets to our new companion via her best bud in the world right now, she would seek out both party\"s one at a time. She did, and chose very wisely to seek out Louis first. \" Hey dude, what\"s up?\" She said as she leaned on the locker by his. He in turn basically ignored her. \" I know that you don\"t like me. Its no secret. But I can\"t see why. I mean we haven\"t traded exactly traded words or anything really. And I also know that you don\"t know a whole lot about me,\" \" Let me guess, your name\"s not really Randy is it?\" Louis replied finally. \" Actually no, its Miranda. But Randy is a whole lot better. Your name\"s really Louis right?\" Randy replied. \" Yeah, the lesser known Stevens name,\" he said in return \" Ah, yeah, the whole living in the family\"s shadow\"s frame. Yeah, I know that pretty well. I mean, hello, I\"m related to Jesse James. Both the outlaw and the motorcycle guy. I don\"t know anything much about either of them, but still,\" He kind of laughed at this which sequentially made her smile, \" Just give me a chance before stones are cast,\" and with that she left. It was later on that day when our story picks back up. Our now famous, in our eyes at lest, blond boy was sitting out in the school yard with an acoustical guitar on his lap, playing a song that was famous in the eighties, but still rocks none the less. He didn\"t know that he was being snuck up on from behind. \" But lovers come and lovers always go. And no one\"s really sure who\"s letting go today. Walking away,\" the voice sang, \" If we could take the time to lay it on the line I could rest my head. Just knowing that you were mine, all mine. So if you want to love me then darling don\"t refrain. Or I\"ll just end up walking in the cold November rain,\". The song continued to pour out of the formed mouth of Randy, \" Do you need some time on your own. Do you need some time all alone. Everybody needs some time on their own. Don\"t you know you need some time all alone?\" They just kept on, locked in the music and the others took notice and came and gathered around them. \" I know its hard to keep an open heart, when even friends seem out to harm you. But if you could heal a broken heart, wouldn\"t time be out to charm you? Sometimes I need some time on my own. Sometimes I need some time all alone. Everybody needs sometime on their own. Don\"t you know you need some time all alone?\" She sat down finally beside him as they continued, \" And when your fears subside and shadows still remain, I know that you can love me, when there\"s no one left to blame. So never mind the darkness, we still can find a way, cause nothing last forever, even cold November rain,\" That was the end with a single high note that rang out seemingly like from heaven. The two artists\" eyes were on each other and the rest of the world seemed far away. But unfortunately this moment was interrupted by a hand waving between their faces. \" Yo, Twitty,\" said the voice of Louis, \" What was that?\" \" A jam, we could do it again if that\"s cool with you man.\" \" Nah, that\"s okay . Yeah, we have class now, so, bye Randy,\" \" Yeah, see ya guys later,\" \" Dude! That was awesome,\" Louis said as they where out of Randy\"s ear shot \" Yeah,\" Twitty said giving him five some what discretely. Shortly after the bell ring, Louis was in his usual spot after lunch, getting his coffee in the office. \" Hey sis,\" he said to the lovely Ren Stevens. \" Louis,\" she replied as she nonchalantly took the coffee out of his hands, \"I saw the interesting music display Alan gave today. Who is that girl anyways?\" \" Oh, that girl. Her name is Randy James. She\"s old friends with Tawny. She\"s mean, crude, surly, and man, she rocks,\" Louis replied, \" And I think that she should play with the band some,\" \" Oh, well I don\"t know. I mean all we need is a bassist. I mean, I\"m the singer right?\" Ren stammered, her feeling of the thought of being replaced showing out. \" Hey, Don\"t worry about it Ren. Its just for some fun some time ,\" Louis contradicted these feelings she was having. \" Okay, well, then, I haven\"t any problem with it,\" She said. \" Thanks, you\"re the best,\" Louis said high fiving her. \" Yeah, woo who,\" Ren said in a fake excited tone, \" Yeah, I am the best,\" as she emphasized on the am part. Not long after this sibling moment, our young kinda hero, Mr. Twitty was entering the teacher\"s lounge. No one really knows ,even him, to why, but he felt it was some where he needed to be. No wonder, since the magnificent Randy was also there, getting some half price sodas. \" What are you doing?\" Twitty said once he\"d snuck up behind her, his chin inches away from her right shoulder. \" Man, you scared me. What are you doing might I ask. I have study hall and no need to study that I can find, so I\"m scoring me and Tawny some drinks,\" Randy answered as she turned around, and found herself right in his face. This time, neither them felt too nervous and the want to move really. \" Me, I\"m cutting. And I\"ve never been in here so it seemed like something to do. Don\"t think we\"ll get caught do you?\" He inquired. \"Nah, not this time of day,\" She said as she went over to the brown leather couch. You know, one of those that cling to your legs in the summer, so when you stand up it feels like your skin\"s being ripped off? \" Hey,\" he said taking a seat next to her, \" That was cool earlier,\" \" Well, I always take time away from my day to have a good Guns \"n\" Roses sing along,\" \" Oh, cool. So you write huh?\" \" Yeah. I just got one new one done a few days ago. Its called I Won\"t Be Your Winter,\" \" Cool, care to share?\" \"Sure,\" she said, as she cleared her thought and closed her eyes as the beautiful boy watched her closely. \" I won\"t be your winter anymore. I\"m tired of being your reason to cry. I\"m not giving up...\" He moved in closer to her. She felt him doing so, but did nothing to stop him, \" No I\"m not giving in. I\"m just tired of causing you all this pain. uh huh,\" he inched in closer until he was right by her body that was sitting in the corner of the couch. \" Without your shoulder to rest my head on, it makes me feel so empty. Broken inside. But I\"ve been careless. I haven\"t thought of you. Can\"t I see that I\"ve lost me?\" She didn\"t go on to finish up the song. No, her eyes flung open to the feel of a soft hand on her cheek. Her eyes met his deep pools that ran deep into his heart and soul. Her mouth was now open slightly in wonderment, not knowing really what to do next. He again moved closer, the only difference is that this time, so did she. They stopped, so very close near each other. She then placed her forehead softly against his and he, he tilted his chin up and caused his formed lips to reach hers. The hour slowly slipped away. The two were still there, arms wrapped around each other. Twitty was taking time away from his hair and was curling his fingers around her soft locks. \" Where did you come from?\" He finally said quietly breaking the long silence. \" Um, Miami,\" she teased. \" I don\"t know what it is about you, but ever since I first saw you a few days ago, I knew there was something more to you. Weird how things are like that?\" \" Hey, me and Tawny are going to the coast this weekend. Bring Louis, that is if you two have made amends and he still doesn\"t have a blind hatred for me,\" Randy said. \" No, the only person he ever permanently feels that way for is Larry Beales,\" \" Really, I\"m gonna have to keep that name in mind for future reference,\" Randy said. \" Just don\"t do anything crazy,\" Twitty said. \" Nah, nothing too crazy,\" She replied. He poked her in a playful way, and they began to horse around, but the bell ringing soon interrupted this fun and both of them got up and headed out in the hallway. The unfortunately had to part ways to go to separate classes, but this give us time to catch up with another would be couple. \"Hey Louis,\" Tawny said to her infatuation. \" oh, hi there, Tawny,\" \" You get out of this little spout between you, Twitty, and Randy?\" \" Yeah, basically. I even suggested to Ren that Randy come jam with us sometime,\" Louis chimed in. \" Oh, cool. Well, she and I were hoping you and Twitty would spend the weekend with us down by the coast. You know, at the cabin. My parents said that it was okay, just as long as there was no funny business. And Randy\"s aunt and uncle are okay with it,\" \" She doesn\"t live with her parents?\" Louis said, in wonderment. \" No, they\"re still in Miami. She wanted to come back to school here. She had her reasons, but I\"ll let her tell you about it when she\"s ready,\" Tawny answered \" Sounds good. But wouldn\"t the adults be slightly worried that we\"ll get into trouble?\" Louis inquired of Tawny. \" Oh, they know that we won\"t do anything too bad. Even though rebel is Randy\"s middle name,\" Tawny said. \" Really? That\"s just a cool name. Randy Rebel James. Although it kinda sounds like a wrestler\"s name. But that\"s besides the point,\" Louis said. \" No, Louis, I was joking. Her middle name is Joice. After her grandmother,\" Tawny said, cutting him off. \" Okay. I\"ll see if I can convince my parents to let me go,\" Louis said as he turned and ran off in the other direction so he wouldn\"t be late. Well of course his parents let him go. He just kinda casually left out the fact that Randy would be going. Upon hearing of this the little Harley momma came up with a brilliant idea. \" From what I hear, your dad wishes he knew how to ride, yes?\" Randy said pointing a toward Louis. \"Yeah, he said its his biggest dream,\" he answered. \"Hmm. Yes, that will do,\" Randy said walking in a small circle once. \" What?\" Tawny said. \" I\"ll try to gain your dad\"s trust Louis in this way. Naw, it\"s stupid,\" Randy said, intentionally teasing them. \" No, come on,\" Louis encouraged her more to tell. \" Okay, I will teach your dad to ride,\" She said continuously pointing to Louis, \" If you,\" She pointed then to Twitty, \" will teach me to surf. Fair deal? A skill for a skill,\" \"Well okay, I\"m game,\" Twitty answered \" Yeah, you know I did need to get my dad something for his birthday,\" And while this planning was going on, the blonde duo also had another plan up their sleeves. Oh yes, they were planning on trying to figure out a way to reunite their two best friends. The decided to pair off boy girl. This may prove the best to do. So they thought, let us see. \" Hey, Tawny, could you come help me with something inside?\" Alan said. \" Sure, I guess,\" And the opportunity presents itself. \" So, Louis. Tell me what\"s on your mind,\" Randy said as she watched as his eyes followed Tawny inside until she was out of his sight range. \" Oh, nothing too important,\" \" Please. Louis, I know we\"ve only known each other for about a week, but can you give me a listen here?\" \" Okay,\" \" I know how you feel about Tawny and about how she feels about you too, man. I think its crazy that you two aren\"t together. This coming from someone who is basically herself crazy doesn\"t exactly help,\" She said over the crashing waves \" I hear what your saying, and I believe you. It\"s just that things don\"t really seem like the time is right, right now at lest. She\"s way too mature for me. She needs someone that she can carry out an intelligent conversation with. Someone that can get all angst with her. I mean, I\"m like the Mike Myers to her Emily Dickinson,\" \" No, you know what you can be? The Jimmy Falon to her, well, I would say more that she\"s a Pink. But that\"s just me,\" Randy answered \" Jimmy Falon? You\"d say that?\" \" Yeah, after all, you are a cute dork,\" She said taping his ankle lightly with her boot. Back at the Stevens fort, Ren was busy in her room chatting away with Ruby. \" So, you hear anything new and interesting lately?\" Ren asked the gossip queen. \" Well, there\"s suppose to be a totally hot new guy from Spain coming in next week. His name is Roberto. And lets see, Tracy Torres is newly single after she caught Mark messing around in the back of the gym with Alicia Owens. But that\"s okay because I never felt they went good together anyway. Can you imagine what their kids would look like with his teeth and her nose?\" Ruby said pausing to laugh with Ren, \" Oh,\" she said going on \"and word on the street is that you may be replaced by Twitty\"s new little girlfriend,\" \" I\"m not being replaced! She\"s just going to jam with us some,\" Ren said very sharply but stopped short once the whole message got through, \" Wait, you called her his new girlfriend?\" \" Yeah, Preston told Debra, who in turn told Sammy Jones, that relayed to Jonathan who told me that they were cutting class fifth hour and ended up kissing. And they haven\"t really been apart from each other since,\" Ruby announced. \"Well isn\"t that something. That girl works her magic fast,\" \" You jealous of her because she\"s taking your place?\" \" For the last time! She...Is....Not...Taking...My....PLACE!\" Ren yelled. Good Saturday morning campers and camptresses. The boys and girls stayed up about all night talking to each other. But it was Randy that stayed up the latest of them all. The reason being that around two in the morning sudden inspiration hit her. So, she quietly snuck out of Twitty\"s sleeping touch and grabbed his guitar, a pen, and some paper and quietly went outside to write. She finished just before the sky begin to pink up with the approaching dawn. But soon, sleep caught up with her, and she quickly finished up the last line of lyric before slipping off on the patio deck floor; her arms curled around the possession of one of the best things in her life. And as her eyes began to close, his eyes started to open. This was the day that he was going to start her lessons. But where was she? He knew that he had went to sleep with her right there. Why would she had left? He figured he should better go find her. He went up stairs and found nothing. \"She\"s got to be outside,\\' He though. She was. Call him clairvoyant if you will. He couldn\"t help but smile at her with her arm wrapped around the guitar and her chin resting in the curve of the top. He wanted to lock this picture away inside of him forever. Her so relaxed and her hair blowing in the salt wind. She like that didn\"t make her look so tough. She seemed like she needed protecting somewhat. So small and seemingly alone in a vast world. He couldn\"t reach into the never-ending aspects of his mind to find logic to why she wanted to be with him. He wanted to hold her and take care of her. Be the best thing he could for her. Watch over her when she was afraid. Carry her when she couldn\"t go on anymore on her own power. It was a feeling so strange that it was some kind of overwhelming on his spirit. But he feel so good with it and he didn\"t want that feeling to stray from him. This moment made him think of that Aerosmith song called Angel. From what he could remember, which wasn\"t that good, in the video, there was a blonde going wild somewhat, but deep down, she was amazing too. He couldn\"t hold back anymore. He had to have her in his arms. So, he went over and got on his knees and planted a beautifully tender kiss on her. Then moved the edge of his thumb around the contour of her face. This feeling kept getting stronger in the pit of his stomach. He had no idea what it was. Her eyes were again flung open by his touch. She looked a bit startled and then slightly mad, but she smiled at the now focused sight of his face. \" Hey, what time is it?\" she asked. \" About six thirty,\" he answered \" Man, I was up all night boy,\" \" Doing what?\" \"Writing,\" \" Oh cool. Ready to get started?\" \" On what?\" Randy asked \" Your lessons,\" Twitty replied \" Oh, no. You come here first,\" she said pulling him to her closely, \" Stay here with me for a bit,\" Remember those feelings he was having earlier about being completely out of his mind in love? She was starting to have those feelings too. You thinking maybe that they might be? Only time can tell. \" Come on lets go,\" he said getting up \"Wait,\" She said as she yanked him back down and kissed him the first kiss that she started and the first one that had been witness by anyone. \" Dude, Tawny you see that?\" Louis said from up on the wrap around up stairs balcony. \" Yeah, I did. I think it rocks,\" She said as she handed him something to drink \" Yeah, I kinda do too. But its a bit weird. She\"s only been here a week and look at the damage she\"s done,\" He said and when got a look he soon changed his tone with a clear of his thought, \" So to speak,\" he said with a smile. She then put her hand on his shoulder and gave it a squeeze.',\n",
       "       'Avoiding any pleasantries, she decided to try a different track \"Are you moving back in?\" She willed him to answer more quickly, her patience having already evaporated at about midday. Her husband wasn\"t usually a man of many words but it was apparent that something was wrong. He hadn\"t yet made eye contact, his eyes fixed on a point on the kitchen wall close to a painting Taisie had done in nursery school. \"I was. Then I had a phone call.\" \"What phone call?\" Janet responded immediately, her exasperation beginning to show, which in all honesty didn\"t bode well if he were to move back in. But before she had a chance to analyse this he spoke again. \"From Andy.\" He finally turned round to look at Janet and she could see the anger in his eyes. The penny dropped. Andy. Fuck. Her first emotion had been shock; it hadn\"t even crossed her mind that Andy would do that. She didn\"t really hear the rest of Adrian\"s tirade even though it was no doubt the most he\"d said to her in months. He got up from the kitchen chair, anger now visible in all of his actions. \"You bitch,\" he spat, his usual reserved demeanour gone as he slammed his bag down on the kitchen table. Janet didn\"t even try to defend herself, knew there wasn\"t any point. She couldn\"t even play the \"drunken mistake\" card because there had been other times too, like her first day back at work. She didn\"t know how much Andy had said but even so, now wasn\"t the time for more lies. They\"d already got her into enough trouble. He\"d chucked her out. Well, as good as. Janet was still reeling as she drove across Manchester. Her heart was still thumping in her chest and her hands were still shaking, half anger towards Andy for his spiteful behaviour and half fear over what would happen next. Obviously she was worried about the girls. There was no doubt Aide would tell them, he\"d have to in order to explain his presence and her absence. The uncertainty lay over how much he\"d tell them, whether in his anger he\"d include the sordid details or for both her and the girls\" sakes edit his account. She hoped to god he did otherwise she didn\"t think Taisie and Elise would ever be able to respect her again. When Janet got into her car she hadn\"t thought about her destination, she just needed to escape. Her sensible side - although let\"s be honest, Janet is mostly sensible - knew better than to allow herself to think about what just happened else she\"d cry, which would definitely hinder her escape. Janet could have gone to her mother who no doubt would\"ve offered her a shoulder to cry on. She could\"ve gone to her oldest friend Gill who no doubt would\"ve offered her a glass of red wine or three. But instead she was driving to her best friend who no doubt would offer both of these things. As she pulled noisily into Rachel\"s gravel driveway, it occurred to Janet that Rachel might be out, or be having a romantic evening in with Sean. But she needn\"t have worried as Rachel had the front door open before Janet had even climbed the steps at the front of the property. \"Gravel,\" she said by way of explanation, with a smile. \"Best burglar alarm on the market.\" Then the smile faded as it occurred to her that she wasn\"t expecting Janet and had seen her an hour earlier at work, looking far too glum for someone who\"d just been promoted. Janet had only needed one minute to explain what had happened, but half an hour and a bottle of red later (demolished mostly by Rachel) it was still the main topic of discussion. \"He\"s such a dickhead, Jan. First he tries to get you kicked off MIT and when that doesn\"t work he goes running to Aide,\" Rachel said as she sat forward on the sofa in outrage and gestured at the opposite wall. The conversation reached a lull as both ladies ran out of insults for the lanky sergeant. The atmosphere changed with Janet becoming tangibly more serious as she let out an enormous sigh. \"Thanks Rachel, for all of this. And for taking my side.\" \"Don\"t be silly, that\"s what I\"m here for. It\"s my turn to look after you, after everything you did for me last year.\" \"Can I ... stay?\" Janet was hesitant about asking despite the fact Rachel had stayed with her after the whole Nick Savage fiasco. As Rachel herself had pointed out, Janet was usually the one doing the looking after and that\"s what she was accustomed to. \"\"Course, stay as long as you want. You\"ve already got the spare key,\" she pointed out with a chuckle. Rachel was always losing things; her contribution to the fridge at work demonstrated her level of disorganisation. A few months previously, after locking herself out for the second time in three days Rachel had conceded that leaving spare keys with the most organised person she knew was in fact a good idea, and Janet had the so-called honour. \"Thanks mate,\" Janet visibly relaxed and phoned the girls again, trying to get an answer. A/N: Even if you can\"t bear to read Andy\"s name, bear with me...the next chapter will have lots of Rachel and Janet...I promise. This is set later on the same day :) Also sorry it\"s a bit short, but please review ;) Chapter 2 \"I mean, does he not think he\"s already made enough of a fucking prat of himself. Fucking selfish idiot. God knows what I ever saw in him, Rach.\" Janet vented, whilst pacing up and down Rachel\"s kitchen, on the verge of tears again. \"I\"m gonna go and see him, give him a piece of my mind.\" She suddenly said decisively, heading towards the door. Seeing Rachel begin to open her mouth and protest, she quickly continued. \"I know it won\"t make anything better but at least when I bump into him at work in a couple of months I won\"t have anything left to yell.\" Rachel half-heartedly tried to stop her, but was struck by the irony. Their friendship never worked this way; it was always Rachel doing the reckless things. \"Alright, just don\"t end up in his bed, Jan.\" That was Rachel\"s advice, yelled across the front drive and reaching Janet moments before her car door slammed shut. \"As if I would,\" muttered Janet as she swung her car out of the drive. That\"s probably what you\"re thinking too, but you\"d be surprised what otherwise sensible women do in these sorts of situations. Just ask Rachel. All too soon she pulled up outside his house, hating how familiar it felt. As she killed the engine and sat in undisturbed darkness she suddenly felt the guilt she should have experienced all those months previously when this had still felt new and exciting. As usual, Andy answered the door quickly. She hadn\"t even stepped through the door before her anger escaped. \"You just couldn\"t resist, could you?\" She was past caring if the entire street heard. \"Just \"cos we didn\"t work out you had to go and ruin what was left of my life. Aide knowing is one thing but when he throws me out...he\"ll tell the girls, I know he will, he\"ll turn them against me and I\"ll lose them. I can\"t lose them.\" She shrieked at him but before she\"d even stopped to draw breath the tears began to escape. \"Janet, I\"m so sorry, I was just jealous. First I lose you and then you get my job as well, it was never meant to end like this. I\"m sorry for screwing everything up, I really am... Janet, you\"re amazing and you don\"t deserve an idiot like me messing you around.\" Janet looked up to see his eyes glittering, matching hers. \"Come here\" he whispered hesitantly and Janet did, surprising herself almost as much as him. As they held each other each wallowing in their own faults and regrets, Rachel\"s parting words completely slipped her mind. That might be why she accepted when he offered her a glass of wine. Her favourite, no doubt bought especially for an occasion which never arrived. It might also be why she didn\"t object when he rested his arm around her shoulder and pulled her towards him. They stayed like this in companionable silence, the television which Andy hadn\"t stopped to turn off continued droning on in the background yet neither of them were paying enough attention to identify the programme. It felt comfortable and familiar and for those minutes, hours even, she could forget what the world knew about her. She could forget the world\"s judgements. When he laid a kiss on the top of her head, stroking her hair she\"d looked up at him, questioning but with softness in her eyes. When he kissed her it felt just as good as always. She knew she should pull away, that this wasn\"t what she truly wanted but right now it was better than facing up to reality. And that was how it happened. Exactly what she shouldn\"t have done, what she wasn\"t planning on doing, what she had scoffed at when Rachel warned her against it. Her phone lay somewhere near the front door, the display telling the interior of her handbag she had thirteen missed calls from Taisie. She\"d see them when she crept out at three am, wondering, not for the first time, just what she\"d done now. A/N: Thank you for all the lovely reviews, this is for anyone still reading this. Sorry the update\"s taken so long :) Please R&R if you have time! \"Morning,\" Rachel greeted Janet as she wandered into the kitchen, dressed in one of her usual shirt and skirt combinations, looking shorter than normal without her semi-permanent heels. \"You got back late last night.\" That was Rachel, subtle as a sledgehammer as she handed her friend a steaming mug of coffee. Janet almost chuckled; she didn\"t think the word subtle was in Rachel\"s vocabulary. Didn\"t think even the most generous person could use that adjective to describe Rachel. \"Yeah,\" Janet said defensively, she\"d known the interrogation was inevitable; Rachel wasn\"t called Sherlock for nothing. \"Who made you my mother?\" she snapped back slightly sharper than intended but didn\"t bother to rectify it. The message was clear and Rachel knew better than to push it. \"So what\"s the interview strategy for Freddie Small today?\" Rachel moved onto safer ground, Janet responded and they were back to normal. Just two cops doing their jobs. \"Janet,\" Gill called her into her office before she\"d even got a chance to take her coat off. She and Rachel had travelled to work separately due to irreconcilable differences in car radio station and despite Rachel\"s haphazard driving, Janet had still reached the office first. \"Right cock, you\"re in charge of this one. Don\"t let the power go to your head.\" Gill said, and after a short pause glanced up from her desk to find out why Janet hadn\"t responded. From the blank look on the blonde lady\"s face she could immediately tell something was wrong and showed a rare bit of concern as she lowered her voice; \"Are you OK?\" Janet thought back to the telephone conversation - if you could call it that - she\"d had with Taisie earlier. She had tried her best to placate her daughter but it was clear she had already worked herself up into a state. Janet had known the conversation was coming but the words \"I hate you\" were burned into her mind and had once again made her regret her actions. Elise had been less vocal with her judgements but in a way her quietness had been worse. Janet had heard her muffled attempts to stop Taisie\"s shouting but once her older daughter had gained control of the phone the conversation hadn\"t improved. Janet had tried to arrange to see her daughters; she knew she needed to talk to them in person and would rather avoid an encounter with Adrian as well. Elise made their excuses; Dad was taking them out for the day. In truth that sentence had hurt her more than her younger daughter\"s declaration of hate; it was nothing she hadn\"t said before but Adrian\"s day trip triggered a whole mountain of guilt. There was no doubt her husband was - and always had been - the more attentive parent. Gill let out a delicate cough in an attempt to get Janet\"s attention, but resisted making a sarcastic comment before she\"d got a response to her question. \"Yeah I\"m fine, just didn\"t sleep very well last night.\" She didn\"t want Gill to know, definitely not yet, ideally not ever. God knows how she\"d word that. Janet had spent hours sympathising with Gill about Dave and his infidelity. She\"d condemned it wholeheartedly - of course she had - but what she\"d done was really no better. Rachel had made her mistakes too, wasn\"t as perfect as Gill and that had made it easier to tell her last night. Gill wasn\"t convinced by her denial but she knew Janet was a private person and would tell her eventually. Now wasn\"t really the time for a heart-to-heart anyway as she could sense, rather than hear, that Kevin had arrived and was already winding Rachel up. It was almost the end of a demanding day in Manchester\"s Major Incident Team. There was an air of restlessness around the room; Kevin was making blu-tack models of their main suspect\"s car and even Janet had stopped working to check her phone. Three missed calls and two text messages, which was pretty good going if any of them had been from her daughters. Instead they were all from Andy and Janet let out a disgruntled sigh so loud that it made Rachel stop her frantic typing and look at her friend in concern. Rachel had heard half of Janet\"s phone call with the girls earlier, but hadn\"t mentioned it. After Janet\"s touchiness about where she\"d been the night before, her lesser used diplomacy had told her it wouldn\"t be wise. Plus, she knew nothing she could say would actually help. She hadn\"t planned to interfere but before she could talk herself out of it the brunette detective leapt up and fled the room, hoping for once that Janet wouldn\"t follow. Scrolling down the contact list on her phone she quickly reached Elise\"s name, but as she listened to the dull calling tone Rachel was beginning to think she wasn\"t going to pick up. \"Hello?\" Elise sounded uncertain, probably wondering why Rachel was phoning her. \"Hey kid, it\"s Rachel. Do you and Taisie want to come round for tea tomorrow? I know your Mum would like to see you. Indian or Chinese? Your choice.\" Rachel\"s telephone manner was short and to the point even during personal calls. She hadn\"t really left much manoeuvring space to say no, but that was deliberate. \"Can\"t we have pizza? It has to be the one with the cheesy crust.\" She answered back and Rachel smiled. Mission accomplished. A/N: I\"m not really happy with this, but I\"ve spent days rewording sentences and I\"m sick of it now! :p This is dedicated to Sophie, Jill, Amy, Manda, Gabby and Megan for their lovely reviews :) \"You do realise having you to stay has made my fridge look a whole lot more unhealthy? It\"s full of wine and pizza; you\"re a bad influence, Janet Scott,\" Rachel complained in a good natured manner. In response she received only a half smile and Rachel inwardly sighed and gave up, leaving Janet to her thoughts as she sat on a stool in Rachel\"s kitchen, nursing a small glass of wine. Janet had been unusually serious all afternoon and her best friend could tell she was slightly apprehensive about how the evening would turn out. Before long the doorbell interrupted Janet\"s contemplation and she quickly slipped off the stool, abandoning her drink on the worktop and made towards the hallway to greet her daughters. Elise was her normal bubbly self but Taisie seemed to be conducting the conversation with as few words as possible. She wasn\"t being as rude as to completely not answer but you wouldn\"t exactly describe her as chatty. \"How did your presentation go in English class?\" Janet had only known about this because Aide had been complaining that he\"d had to watch the many practice runs alone, but she had remembered. She had remembered because she cared. \"Alright. Yeah, good thanks,\" Taisie responded with more words than strictly necessary but still wasn\"t particularly informative. \"What mark did you get?\" Elise prompted; her maturity showing as she made an effort to thaw the atmosphere. \"Seventy percent.\" \"Taisie, kid, do you want to come and help me with the pizzas?\" Rachel didn\"t really have any natural cooking skill, but even she was capable of following the instructions on a pizza packet. This was clearly a ruse to talk to Janet\"s youngest daughter, but Rachel was past caring if she was being obvious. Rachel knew the girls looked up to her, god knows why but Janet was always saying she was on a par with Lady Gaga. Having heard Janet cry herself to sleep the last couple of nights Rachel just wished she could help. She couldn\"t really be of any help with Adrian, wasn\"t even sure if Janet knew what she wanted where her husband was concerned, but she could at least help to get her relationship with the girls back on track. \"Look your mum isn\"t proud of what she did, but just because she and your dad have got their differences doesn\"t mean she loves you any less y\"know.\" Rachel grimaced into the oven as she reached in for the hot pizza tray; she didn\"t do emotional conversations. The detective didn\"t usually engage her brain before she opened her mouth and for this reason, her emotional chats usually ended with too much honesty. If she had been Taisie, she would have probably asked how many times that sentence had been rehearsed in her head. But luckily she didn\"t have as much of an attitude problem as Rachel and so smiled in return, accepting Rachel\"s point and murmuring her agreement. Several hours later they were all sitting around the living room, aimlessly chatting and laughing at the awful singers auditioning for the talent show on the television. Janet sighed; as much as she was enjoying herself she knew it was getting late. \"I think it\"s probably time you girls were home,\" Janet said, knowing it was past their normal curfew and expecting an earful from Adrian about upsetting their routine and undermining him. \"Can\"t we stay?\" Elise asked very quickly, just before Taisie, who was about to say the same thing. \"No, Rachel\"s not running a hotel! Anyway, you\"ve got school in the morning.\" Janet was firm, but secretly delighted that her daughters wanted to stay and that their relationship was back to normal. \"Come on, I\"ll drop you off.\" She had deliberately held back on the wine so that she was able to drive, not that she had needed alcohol to drown her sorrows tonight; Janet had a genuine smile on her face for the first time in days. As Janet pulled up outside their - her - home she was tempted to stay in the car and avoid acknowledging Adrian, simply because she didn\"t want to give him the chance to ruin her good mood. This cheerfulness, however, gave her the confidence to face him. Just a friendly \"hello\" was all she needed to manage. \"Hello, sorry we\"re a bit late. How are you?\" Immediately Janet regretted apologising for spending time with her daughters, but didn\"t really mind if it broke the ice. \"I just had a phone call from Gill,\" he responded with this information, which was entirely unrelated to her comments. Janet didn\"t like the way this conversation was going; it seemed to mirror far too much the words her husband had said to her the day he chucked her out. In all honesty, she didn\"t understand why Gill\"s phone call was so significant; she was pretty sure she had no other secrets which her boss could have revealed. \"Trying to keep her from knowing about your dirty little secret were you?\" Adrian spat at her, his bitterness indicating he had clearly taken great delight in updating Gill on where Janet was currently staying and why. Janet sighed. \"No, I just haven\"t told her yet because she\"s got enough on her plate with Sammy.\" That was the truth; Gill had phoned her last week panicking about her son\"s intentions to become a policeman and Janet didn\"t want her worrying about anything else. As the girls said goodbye, Janet quickly made for her car. If Adrian had said that in front of the girls, she didn\"t want to hang around to find out what he had to say in private. Janet drove back to Rachel\"s slightly too fast through the rain, her cheerfulness gone as she wondered how she was going to explain herself to Gill. Gill sat at her desk, aimlessly scrolling through her emails and stewing. Janet was her closest friend and had been for nineteen years and she wasn\"t sure whether she was more bothered by Janet\"s actions or the fact she had found out about it via Adrian. She was also slightly miffed that even with her profession; she hadn\"t picked up on it. Janet had decided not to address the issue with Gill yet; Gill had no idea that Adrian had told her about the phone call and work wasn\"t really the ideal location to discuss it anyway. \"Morning boss,\" Janet called, in her usual cheerful tone, from the doorway of Gill\"s office. \"Morning cock,\" came the response, somewhat lacking in enthusiasm as she emerged from her office, ready to conduct the morning briefing now that she was satisfied everyone was present. As Gill told the team about the lab results they\"d just received in relation to the shooting of a man called Adrian Woodlans, she was finding it difficult to meet Janet\"s eye. Janet was her usual inquisitive self; asking pertinent questions, picking up on inconsistencies and generally being the brilliant sergeant Gill knew she would be when she offered her the job. However, Gill was unusually quiet in response today; none of the comments resulted in their usual snappy conversations where everyone chipped in and Kevin only caught up with what was going on ten minutes later.',\n",
       "       'The Princess was now alone in her large room, with the rays of sunlight peeking out from her open window and wind whipping the fresh air in, ruffling the blankets on her large wooden bed. A large circular table sat in the center the room, where a vase of freshly picked flowers was arranged daily by the maids, keeping the room fresh with the presences of the flowers. A large bookshelf as tall as a basketball player stood close to the bed, shelving a vast majority of novels, all hand-written by writers from the Delahi village who gave her the first editions of their book as for gift of her kindness to them. Others were spell books passed down through the royal family, filled with the secrets of the Delahi people and their powers from long ago. It was a plain, simple room, when Akela thought about it. Not much furniture, as she did not want to feel as if she need all of the elegant furniture that most princesses would want. She would much rather have a simple room that would be easy to move around in. That and it was easier to practice the new abilities that were printed inside of the books. She scanned through the bookshelf in search of a specific book that contained the most ancient of techniques passed down through time. Shelf after shelf, she searched for the book. She always hated hunting for the book after throwing it back onto the shelf, after hearing someone walking down the halls right about to enter her room when she was working on a technique. Just when she was about to give up the search she found the book, it was almost the size of her forearm, stuffed with page after page of knowledge. The cover was ocean green and was well worn after all the uses it had seen over t over the years. Thousands of markers marked page after page of the book, keeping track of what was used for what. As heavy as it was, it was a real hassle just carrying the thing back to the table a few feet away from the bookshelf. \"Next time I should just cloak this with No Sight so I don\"t have to do this every time.\" Akela wiped the sweat from her brow, evidence of her effort to carry the large book. \"Let\"s see now, where is that page? I know it was in here somewhere.\" Akela thumbed through the book until she reached a page written in a script far different then our own; almost as if they were runes painted on the page, curving and weaving their way across the paper in beautiful artwork. All connecting, parting, dipping, as if a dance was written within the pages as Akela read the words inside her head. Memorizing and letting the lettering soak into her mind as the words seemed to pop out of the tan paper. After stared at the page for several minutes, Akela walked over to her door to shut it, closed and locking it hoping that no one would dare to open the door on her now that she was working. \"I hope that this works, if not I don\"t know what to do.\" Akela closed the book now not needing it now for whatever reason she had in mind. Grabbing a bottle of pure white sand that lay hidden under her bed, Akela began to pour the sand onto the floor into a circle; a method she had perfected after agonizing days of practice. Throwing the empty bottle onto her bed, Akela stood in the center of the circle moving her hand toward the candles that rested on the highest shelf of the bookcase. Slowly they floated toward the sand circle, the candles creating five points along the rim of the sand, Akela had hoped they would. She pointed her index finger toward the wicks of the candles, causing fire to sprout forth with a faint crackle like embers popping in a camp fire. Once the candles were all lit she closed her window, covering it it with a thick blanket that she normally used for cold nights. The room was dark, with the flicker of the candles\" light casting uncanny shadows throughout the room. Akela sat crossed-legged in the center of the circle, eyes closed as she focused on her meditation in order for this to work out. She floated several inches off of the ground, legs still crossed and hands resting on her lap with her fingers interlocking. All but her but her index fingers and her thumbs were touching one another in her meditation. Her eyes flashed open, glowing yellow covering her whole eye, masking her stunning green eyes. Fire crackling voice spoke softly out of her lips and soon became visible, swirling round and round the circle as the electrons around the nucleus. Faster and faster they rotated around Akela, as she chanted the fire-crackle of the verses. The candlelight soon went out from a light breeze. Bright light filled the circle like the sun brightens the day of the morning; warmth coursed through Akela\"s veins like water surging through the river bend, down toward a waterfall where it would soon converge into the ocean. Then Akela simply vanished in a flash of light, leaving the room dark and empty. Still in her trance, Akela remained sitting in a light orb as it floated through dimensions blurring passed as they were water colors splashed on a clean canvas. Gradually the large orb slowed itself as it reached a dark land where sinister clouds blocking the glorious sunlight. Standing on the ground Akela looked around the desolate land, seeing no sign of life anywhere in sight. How is it that he could be in a place like this? The stories she heard from her mother after the world was saved implied otherwise. \"Now if I were someone who wasn\"t meant for Hel,l where would I be hiding?\" Akela pondered, walking down the large ravine that was as deep as a skyscraper is high. Menacing peaks of darkness loomed, where demons could be lurking in every corner, as she walked farther and farther into the darkness. \"It sure is creepy down here. I knew I should have brought a flashlight with me.\" \"Well, if my eyes don\"t deceive me, I think I see a fair maiden strolling down the path of darkness,\" an elderly man spoke from where he sat crossed-legged on top of a boulder with a wooden staff in his hand. He was bald with well defined wrinkles on his brow. A snow white beard covered his chin and reminded Akela of Santa Claus. He was frail though, just skin and bones, no meat at all connected to the bone. The man wore a robe of red that had tears on his sleeves with brown splotches splashed upon them. Akela hoped that it was just dirt and not dried blood. \"By the looks of you, you look like you don\"t belong down here.\" \"Yes, I\"m here on important business,\" Akela smiled sweetly, hoping she hid the fact that she was scared out of her wits talking to the man. \"We normally don\"t get girls like you all the time,\" the man said, hopping off of his perch and hobbling closer to Akela. \"Yes, well I\"m sure of that. After all, this is Hell, a world full of sorrow and despair. If you\"d excuse I\"m off in search of someone.\" Akela backed away slowly with a nervous laugh, hoping that would give the final hint that she didn\"t want to talk with this old geezer anymore. \"Wait, you seek someone that was sent here unfairly right?\" the old man questioned, stopping Akela dead in her tracks. \"How did you kno-\" Akela started but was cut off once she noticed the man was only a few feet away from her. When she had last spoke with him he was a few yards away. \"I know much young lady. I\"ll help you to see him, but first you must do me a favor,\" the old man said deviously. Why is it that I have a bad feeling? Akela thought to herself. \"What is the favor?\" She wished she didn\"t have to ask, seeing the man looking up and down her, like she was a model on a runway, with the hungry eyes of a predator ready to pounce on its prey. \"Well, how about making sweet love with me?\" the old man blurted out with a large grin on his face. Akela\"s face contorted with disgust just thinking of such a thing! She had principles, standards even, and this was not part of them. Smiling, Akela bolted out of there and didn\"t look back, hoping that the old man wasn\"t fast enough to catch up with her sprint. Behind she could hear steady footsteps racing toward her. Not daring to look back, she kept on running until she reached the end of the road which was blocked with fallen boulders from the top of the ravine. Why, oh why did this have to happen now, when there was a creep right behind me? Great, just perfect! Akela thought, franticly trying to find someplace to hide, but it was too late. The old geezer was standing right in front of her, laughing at her effort to get away from him. Creeping closer and closer toward Akela, and dropping his staff onto the ground, he opened his arms wide open, waiting for Akela to race into his arms. An earth-shattering scream escaped her trembling lips * * * Sitting crossed-legged on the peak of a mountaintop was a muscular green figure meditating in the darkness. His eyes were closed tight, as if trying to focus on something unreachable. A white turban rested on his bald head, hiding the two antennas mounted just above his eyebrows. Flowing behind him was his pure white cape flapping in the cool breeze that smelled of earth and blood. The old metallic smell you get from a cut that was long forgotten. The same old tang that he was used to living with now, in a place that drowned in that smell. A scream jolted him to his feet with the speed of sound and he scanned the area for the source. \"SOMEONE HELP ME!\" a female voice sounded frantic as her cries were echoed through the canyon, bouncing every which direction. Zooming off of his perching, heading with the speed of a jet plane down into the canyon, he spotted a young woman with pale skin covered with filth. Her flowing blonde hair was tussled, pinned to her face by the wind whipped around her. She ran like a gazelle leaping away from a hungry lion. Fear was glazed over her emerald cat-like eyes as she raced farther down the canyon, that sent her flying, landing on her face. Behind her was an elderly man with a dirty look on his face, leering at the girl down with her face masked in fear. Disgusting how most men are when they see a young woman in distress the way this was in. It was like watching Master Roshi spying on woman whenever he was out and about the city, or just watching the morning workout session on TV. \"When are you going to learn that you can\"t outrun a dead guy whose soul has been lost in darkness for over two hundred years?\" The old man knelt down beside the woman, caressing her arm. \"Get your vile hands off of me!\" The woman smacked his hand away from her, stunning him before he gave off another filthy smile. \"I always like a woman who has some fight left in her,\" the man snickered under his breath, ripping a small section of her dress just at the shoulder. \"You are quick, but sooner or later I\"ll get you.\" \"Try this then!\" Akela kicked him in the jaw with her right foot before bolting away, but was stopped by the man again, who was suddenly standing in front of her. \"What did I say about trying to outrun me?\" The man shook his head as a parent would do when their child goes off and disobeys them. \"It\"s useless, just give up and it will be over quickly.\" The way \"quickly\" hissed out of his chapped lips is what scared her the most \"Why don\"t you just go and find some she-demon to harass, old man?\" the green man said coldly, landing behind the man with his arms crossed over his chest. \"Well, if it isn\"t the Guardian of Hell!\" the old man countered sarcastically, even though he was really shaking where he stood as the woman snuck away to stand behind the green man. \"Are you going to do what I said old man?\" \"How about... no.\" The old man charged the green man with full force. Dodging his blow swiftly, the green man elbowed him on the back of the neck, sending him down to the floor and leaving a massive impact crater. Grabbing him by the scruff of his neck, the green man threw him into the canyon wall sending boulders racing down from the top of the canyon and piling on top of the old man. The woman staggered toward the green man when she thought it was safe enough with the man buried under the rubble. \"Thank you so mu-\" the woman said but was cut off. \"Don\"t thank me just yet, he\"s still alive.\" The man readied himself as the rubble began to move, knocking over the large boulders until the old man stood in the center, looking up into the blackened skies. \"My, my, that was the first time I\"ve ever had a good fight. This might be interesting.\" The old man looked at the green man with hungery eyes that were far different than the eyes that he looked at the woman. They were eyes wiled of pleasure, like when one sees a meal after being lost in a desert for months, eating nothing but snakes and insects the whole time. \"I must tell you young man that I should not be underestimated.\" \"Same goes for me, old man, now are we here to talk or are we here to fight?\" \"My, my, Piccolo you are in a foul mood today aren\"t you?\" the old man said, tilting his head to the side like a curious bird. \"After what you were planning to do with this woman, why wouldn\"t I be pissed off?\" Piccolo asked, aggravated. The old man said nothing, letting the breeze with the smell of blood and earth pass by before flinging himself forward and striking out at Piccolo with lightning quick punches and jabs. Dodging them all, Piccolo moved his head side to side, back and forth not even bothering to strike back. Piccolo back-flipped on the stack of boulders that had been piled on top of the man. The man flew toward Piccolo, fist ready like Superman flying through the sky. When he was just inches away from Piccolo\"s face, Piccolo clutched the fist in his hand. Shocked, the old man stared at Piccolo, wide eyed, not knowing what he was going to do next. Piccolo grinned, tightening his grip on the clenched fist of the man breaking his hand as his crimson blood spilled onto the ground and was left on Piccolo\"s green hand. \"Now, are you going to leave this woman alone?\" Piccolo asked, shaking his hand splashing and the blood clean from it. \"How about not. You may have broken my hand, but I can still fight.\" The old man charged toward Piccolo again, kicking and jabbing as Piccolo dodged every attack easily. Flying up into the dark clouds, both kept striking one another not even laying a dent in the other\"s body. The fighte lasted for over thirty minutes with Piccolo and the old geezer fighting that soon tiring the old man and slowing his pace. Piccolo just had to keep on dodging for now and wait until the old man was too tired enough to dodge Piccolo\"s final attack. I have to give credit to the old man, he is strong. Yet his age makes it harder for him to keep a steady pace in his attacks. Piccolo dodged another drop-kick effortlessly, watching the energy was waning in the old man. Not waiting too long for the old man to tire out Piccolo began to fight back kicking, punching not showing any signs on letting up on the poor old man. Punching him square on the face sending him to comet down to the earth leaving a large crater where he lay unmoving where he lay. Blood trickled down his partly opened lips from the impact; puncturing his internal organs killing him painfully. Landing at the rim of the impact, Piccolo made sure that he was truly dead and wasn\"t playing possum on him. He stared at the corpse for a few moments before switching his attention to the woman, who was busy dusting off her white dress from the dirt with no luck. Piccolo walked over to her. She looked up and he could see that the fear had left her gaze. Joy, purity now was in her eyes, her face. How is it that she could bounce back after what the old man had in his vile, corrupted mind? Most women would fling themselves onto their rescuer, crying about how scared they were. In a way it relieved Piccolo. He didn\"t like it too much when woman were blubbering their fear or feelings to him. \"Thank you, Piccolo.\" She bowed her head in respect with a smile on her beautiful face. \"I\"m Akela, daughter of the Delahi, a long tribe from Earth,\" she introduced herself. \"What are you doing here?\" Piccolo asked as if she hadn\"t said a word. \"You don\"t belong here do you?\" \"That\"s right. I\"m not part of this world that you live in at the moment, and frankly neither are you,\" Akela replied, looking at Piccolo with thoughtful eyes. \"Never mind that, what are you doing here?\" Piccolo asked. \"I\"m here to get you out of here Piccolo. You don\"t belong in a place like this. Earth still needs you there is a darkness rising within the earth!\" urgency was in her voice. \"Without you the darkness will spread and destroy everything on Earth!\" Piccolo was silent for a moment looking at the corpse that was nothing but bone now after the effect of dying in Hell. He thought of what would happen if he stayed in Hell and waited for an angel to come down from Heaven and offer to free him from having to stay here for eternity. Would he have gone with them? Would he stay in this world of night forever, or would he go back to Earth and live there and die and hopefully go to Heaven... or back to Hell. Should he go back, should he risk his life for the people of Earth? Piccolo, why are you questioning yourself? Kami\"s wise, gentle voice echoed through his mind. C\"mon Piccolo go with the girl Earth still needs you! Nail joined Kami. Why should I go with her? Piccolo snapped at the two voices inside his head. Silence echoed throughout his mind as Nail and Kami did not answer, leaving Piccolo alone with his question as it echoed within in his mind. Why did they always do that to him? \"Piccolo, you don\"t understand what this means for Earth do you?\" Akela took hold of Piccolo\"s large green hand in her small pale ones. \"If the Earth goes into the darkness, that\"s it, life as we know it will end!\" Piccolo looked down at her hand on his, feeling his heart beat faster than it ever did before. Most people that would have come down here and asked him for help he would just turned aside. But for her he was willing to help in any way he could. What was this feeling that was deep inside of him? Looking away, he gently pulling his hands from her grip, hiding it into his cape as he looked up at the darkened sky. \"Alright, I\"ll come with you back to Earth,\" Piccolo finally said, looking back to see a huge smile planted on her. \"Alright, now to just get you and myself back to Earth!\" Akela skipped off, bending over when she was near a pile that had been over the old pervert. Grabbing a fist full of the sand she skipped back to Piccolo and began to trace a circle around him and herself with it. Clapping her hands clean after the circle was completed, she entered the center of the circle with the bewildered Piccolo watching as she busied herself like a mother cleaning a messy house before her guest arrive. She snapped her fingers appear and five candles appeared, forming outside of the circle into five points with flickering red flames. \"What in the world are you doing?\" Piccolo asked, standing next to her, watching her sit crossed-legged in the center. \"Quiet please, I need to concentrate for this spell to work,\" Akela said as she started the fire-crackle chant again. Her eyes filled with yellow light like they had before as the crackle language continued. Rune-shaped figures formed circles around them like electrons around the nucleus of an atom. Light filled the circle, blinding Piccolo; he wasn\"t used to so much light after days of darkness in Hell. They raced through dimensions, Piccolo only seeing glimpses of other dimensions. Such dimensions were strange indeed, with him in another life, dark and shrouded in black. What dimension would that be, he wondered, as they whizzed through, not stopping at all. Akela still continued with her chant, too focused on her spell to notice the different worlds they were passing. In view Piccolo could see a spacious room indeed with closed windows and a large book resting open on a large table. They landed in the center of the room, the light vanished as did the candles flame and Akela left her trance, standing up and stretching her arms while looking around her room. \"Wow, we made it just before lunch. That\"s way quicker than when I was in Heaven looking for you last month.\" Akela removed the heavy blanket from the window, seeing the sun just barely high enough in the sky to be after noon. \"Why would I be in Heaven?\" Piccolo asked, looking around the room, seeing the green book on the table and trying to read the runic writing. \"Well, for starters, I thought you should be there but someone, Gohan I think, said that you were still in Hell. Odd really.\" Akela unlocked her door peeking out into the halls, making sure it was clear to widen the door. \"Gohan is dead. Huh, how long have I been gone?\" Piccolo asked. \"Well I would have to say between fifty years and a hundred years,\" Akela replied, placing her index finger to her chin while trying to think of the exact year. Piccolo grew silent, thinking of everyone he knew having died during his absence. I see,\" was all Piccolo managed to say. He soon regretted on saying that as Akela took hold of his hand again, looking at his palm intently as if trying to figure out what lines meant what, following the curves of his hand seeing the pattern of life and of death. Maybe that was another line that she had been looking at for the longest time; she was never good at palmistry. Strange how his palms were so much larger than hers, as she held them in her small hands that seemed to be dwarfed by his. So strong, that she felt safe in his hands.',\n",
       "       ...,\n",
       "       'Anyways, just so you knows if you ever end up tangled \"n a chore like this, know that dead drops are never, an\" I mean never, located \"n pleasant spots. Though to be fair, this time we was fairly lucky since it involved no trundlin\" through sewers with a metal detector or havin\" to climb a rocky cliff to get to some eagle\"s nest or whatever th\"fuck that one was. I swear on me grandmother\"s grave, some people\"s brains just ain\"t capable of doin\" things the easy way, y\"know? Not this time though. Dead drop was \"n this ruined city of old - place\"d been like that since \"fore the war - in this sort of archive or somethin\". Rotten place was \"n the middle of a square, n\" a fairly big one at that. Now open spaces in cities, they\"re a proper two-edged-sword, as the sayin\" goes, since if we had any kind of trouble plannin\" to ruin our day, we could see it comin\", but at the same time said trouble could just as easily see us go in. Which \"s just what they did, by the way. But back to me \"n Haywire. We cross the square, we get in, weapons at the ready, but we weren\"t expectin\" no trouble, truth be told. At least not the way in, \"cause, if anyone was watchin\", they\"d have waited for us to come out so they could take whatever info we\"d found from our cold dead hands instead of havin\" to look for it themselves. So we get into this archive, or whatever it was. Haywire starts lookin\" for the dead drop\"s location, while I take a look around and see what\"s what. Now, the people comfortably chillin\" up there in our barge, they were watchin\" a live feed from our helmets, and among our audience, there were Heartlock \"n Shindig, as should be obvious. And as I\"m looking at a bunch of shelves, I hear Shindig holding his breath, then askin\" me to retrace some o\" my steps. An\" I wonder, what in the blue blazes has the lad seen now? An\" I get back to this shelf with a bunch of rectangular plastic boxes an\" Shindig\"s getting all excited an\" as I grab one o\" those he starts blabberin\" about dee-vu-dees or somethin\", I have no idea. An\" this box is orange tinted with some guys \"n it wieldin\" weapons my grandfather might\"ve been usin\" back when he was young an\" I don\"t think he ever was, truth be told, but Shindig goes on tellin\" me it\"s a long-lost cult classic or somethin\" and I grab some other boxes and he gets more excited by the minute an\" he\"s askin\" me if I can bring them up top. Now, imagine th\" quandary I was facin\" down there. I was gettin\" my feet wet \"n a place I didn\"t want to be in, doin\" somethin\" I didn\"t particularly enjoy, an\" Shindig, who\"s a good lad all things considered, was pesterin\" me about somethin\" that wasn\"t even pertainin\" to mission parameters. If I was Nosedive, I\"d have shut down communication with him as soon as he\"d started blatherin\" about those plastic boxes, but I wasn\"t him, right? Thas\" why I even considered playin\" the role of the glorified delivery boy an\" makin\" the lad happy, but truth be told, I never got the chance to, since the next few seconds were, ah...quite hectic, yes, thas\" a good word. In order: first Haywire calls me, \"cause he\"s found the thing we\"d came to look for. Then, our eyes \"n the sky notify me that we\"ve got tangos creepin\" towards us, as well expected, an\" they\"ve got a couple Reapers with them, which was a wee bit less expected, y\"know? Then, we go look for the secondary exit \"n the back of the place, \"cept Haywire\"s blueprints forgot to mention it was crumbled, so that was a no go. Now you\"re probably thinkin\", \"you\"re a goddamn Pilot, why didn\"t you use a window\", \"cept that goddamn rat trap had, for reasons that escape me comprehension, barred windows like it was some sort o\" jail, \"cause we don\"t want scraps of paper an\" plastic boxes to grow wings an\" fly away, now do we? So now we got hostiles enterin\" the place, we\"s stuck with no real way out an\" a firefight n\" our hands we don\"t really want to get bogged in, but luckily we\"ve also got friends \"n the sky, don\"t we? An\" as I call for support, Heartlock tells me they\"re already \"n their way an\" that I should keep my head down because he\"s landin\" close. \"What do you mean, close\", I ask, an\" he\"s like, \"You\"ll see\", an\" thas\" when I hear the familiar an\" oh-so-comforting sound of a Titan breachin\" atmosphere an\" blazin\" towards the ground. \"Cept I didn\"t have much time to feel comforted \"cause Heartlock, seein\" as how we were about to get swamped, elected to land his Tone straight on the buildin\". The very same buildin\" which, I feel obligated to remind you, me \"n Haywire were in. Always the pragmatical one, Heartlock, \"cept those times when he ain\"t, as I told you. Poor sods comin\" to get us didn\"t expect a few tons of metal \"n rubble to land on their heads, an\" despite havin\" to go through a bit of a concrete-filled kerfuffle ourselves, me \"n Haywire were in a relatively safe area, or at least, as safe as you can be in a buildin\" thas\" about to wave goodbye. But hey, at least it meant we could get out of the damn place, didn\"t it? Plenty o\" ways out in a buildin\" that\"s bein\" smashed to bits. An\" we did that just in time too, otherwise we\"d have missed the show. I don\"t know if Reapers are supposed to be \"fraid, but I don\"t think the two that were there felt any kind o\" glee at the sight o\" two Tones rainin\" on their parade, hehe. An\" it\"s not like the IMC footsoldiers were much better off - don\"t think they \"spected a similar display of force \"n our side. Whatever piece o\" info it was we were sent to retrieve, must\"ve meant more to us than it did to them. Anyways, once the fightin\" was over we met up with the other two, an\" I see Shindig lookin\" at what\"s left of the archive, then comin\" towards me, lookin\" a bit downcast, an\" he asks me \"Hey Goat, I guess you didn\"t have time to...?\" an\" as if to underline what the lad was about to say, th\" building behind me finishes collapsin\" with a rumble, an\" it looked like somethin\" inside o\" Shindig was crumblin\" as well. I never managed to try an\" comfort the poor lad though, \"cause before I could say anythin\", I got interrupted by Shindig\"s own Tone, of all things. \"PILOT\", it said, \"SERVER-SIDE COPIES OF ANY DOCUMENT STORED ON-SITE WERE PRESENT. IT IS UNKNOWN WHETHER ANY OF IT WAS VALUABLE.\", an\" Shindig looks at it like he\"s not sure what it\"s tryin\" to say, an\" the Tone goes on, \"TO DETERMINE THEIR VALUE, THOROUGH EXAMINATION IS REQUIRED. I HAVE MADE A COPY OF THEM AND THEY CAN BE UPLOADED TO A TERMINAL OF YOUR CHOICE.\" an\" I could see realization slowly dawnin\" on the lad and then he was lookin\" at his own Tone like it was Santa Claus with \"is flyin\" reindeers and I swear he looked like he wanted to hug th\" chunk of metal. Thas\" Titans for you. One minute you\"re cursin\" their logic routines, an\" the next you\"re left wonderin\" \"sactly what goes on in that metal brain of theirs, y\"know? An\" trust me, you\"ll realize it soon \"nough as well. When you\"ve been through as much as me an\" my Ion have, Titans are no longer just that warmachine who gets you out o\" a bad spot. They\"re one o\" your squadmates. Although if your Titan ever tells you anythin\" about tossin\" you over a gap bein\" the most reasonable course o\" action, you tell it to eff off, you hear me? I still got back aches now an\" then after that one time. Mission demands you to get across a chasm o\" some sorts, Briggs herself can come \"n ferry me over, if she so desires. So despite all my complainin\", turned out there actually was somethin\" useful \"n that thing we was sent to retrieve. Apparently some IMC egghead had decided he\"d had \"nough an\" went rogue. Now, guy must\"ve been smart, but not too bright, seein\" how he did a poor job at hidin\" his tracks, an\" the IMC was already of a mind to go an\" say hello t\"him. At the same time though, the man was bright \"nough to pick \"n outer rim planet as his hidey hole, \"n one part \"o the neutral zone at that, which meant his former employers couldn\"t just barge in \"n full force an\" drag him away in chains. They might be vicious \"n tyrannical, but even the IMC has to abide to some rules, y\"know? Most of the time, anyways. So that meant they had to go about quietly, an\" \"course, the same was true for us as well. Couldn\"t just let\"em get one o\" their assets back, not if we had anythin\" to say about it, which we did, an\" by \"we\" I mean \"me \"n the rest of the squad\". Since we were th\" ones who\"d retrieved the info \"n the first place, we were fully intendin\" to see where it all went, so we volunteered to go an\" get our man. \"Cept there was one tiny issue. Mission would\"ve to be undercover, but since Nosedive looks an\" acts too much like a soldier, Shindig\"s a bit of a goof at times an\" Haywire gets twitchy if he doesn\"t have access to military-grade software, that only left me an\" Heartlock. Just me \"n him then, donnin\" the cloaks of civilians an\" embarkin\" on the next ferry shuttle to some backwater planet. We had to look the part, see, so we couldn\"t just pick up one o\" our own transports an\" get dropped there; we had to look like people runnin\" away from th\" conflict or from our own past. Anyone lives on a planet where automation\"s a luxury rather than commonplace, there\"s got to be a good reason for it. Now, thanks to the data we\"d found, we knew this scientist of ours was livin\" somewhere in the vicinity of a town known as Woodcutter\"s Gulch. Yeah, apparently even now that we\"ve mastered th\" secrets of interplanetary travel, there\"s still people who do woodcuttin\" for a livin\". Guess wood\"s cheaper than steel an\" easier to work with, which would just \"splain why so many shacks \"n hovels were made out o\" logs \"round there. An\" to reach the place, we had to take a half-day trip on some sort \"o wheeled transport that looked like it\"d come straight out \"o another century, rust \"n worrisome rattlin\" included. An\" then we reached it, Woodcutter\"s Gulch. I called it a town before, didn\"t I? Well, let\"s just say I was bein\" awfully generous, seein\" how it was just n\" assortment o\" few dozen or so huts, a couple sawmills an\" what passed for an inn. Place certainly was quaint, I\"ll give it that, hah. Granted, it had its perks. Namely, the fact that people livin\" there, they don\"t go around askin\" questions as long as you\"re willin\" to do your part to be a productive member of their, uh, society, if you can call it that, an\" both me an\" Heartlock didn\"t mind some exercise to keep us \"n good shape. Yes, \"course I mean woodcuttin\", what else do you think there\"s to do in a place thas\" named after that? But, obviously, we had a job to do, didn\"t we? Findin\" out our guy wasn\"t too hard, truth be told. He\"d apparently taken residence \"n some shack out \"n the woods, not too far from th\" town but not too close either, an\" he got by thanks t\" his knack for repairin\" an\" improvin\" what machinery they had there. He also didn\"t really hang out often there \"n the Gulch, only got out o\" his shack to buy supplies or when he\"d work to do. Now, as I told you, people livin\" there didn\"t ask no questions, but to someone who came lookin\" for him, he stuck out like a stain on Nosedive\"s uniform. But that was only part \"o our assignment. IMC was also lookin\" for him, remember? An\" we didn\"t know what they knew or where they were at th\" time, so we couldn\"t just, go greet the guy an\" tell him we were there t\" rescue him. Best case scenario, he wouldn\"t have trusted us, \"cause why would you trust two strangers tellin\" you they\"re your saviors, an\" worst case scenario, we\"d give the bad guys a proper chance to kill two birds with one stone, an\" in our case, I mean that literally. So we just had to wait, blend in as much as we could, an\" act like we was some sort \"o guardian angels for the guy. Accordin\" to our intel though, we knew the plan to grab th\" guy an\" bring him offworld was still in its plannin\" stages when we\"d become aware of it, an\" seein\" as our dear scientist was still livin\" his days as Woodcutter\"s Gulch tech-savvy weirdo, either they weren\"t there yet or they\"d been waitin\" for somethin\". Now, that infernal contraption that passes for a public transport \"round there only arrived twice a day, so either me or Heartlock would always make sure to be there to check what it was deliverin\" to this not-so-promised land, an\" sure \"nough, it didn\"t take long before our foresight paid its dividends, so to speak. As I was busy bein\" a proper member of this community, Heartlock calls me via comms an\" tells me that four conspicuous-lookin\" sons of a taint had just arrived there \"n the Gulch. Those might not have been his actual words, by the way, I\"m just paraphrasing, y\"know? Here\"s where things got a bit tricky. Y\"see, we couldn\"t just have a shootout with \"em right there at noon n\" the city square like we was in some movie of old. First of all, bystanders might\"ve gotten hurt, an\" thas\" a no-no in my book. Secondly, killin\" them was out of the question \"s long as we were \"n that planet, no matter the where an\" when. Not that we couldn\"t have or didn\"t want to, mind - but as I told you, we were on neutral ground, remember? An\" while neither we nor them should\"ve been there, givin\" the IMC some o\" their own shot up to pieces to show would\"ve shifted th\" guilt balance \"gainst us - while the footin\" on which their own were there was at best a bit shaky, outright military action on our side would\"ve been a blatant breach o\" treaties, an\" we didn\"t want t\" give any more ammunition to IMC\"s propaganda. That said, roughin\" \"em up a bit was fair game; more n\" that, it would\"ve been at the very least an embarrassment for them, hehe. Now, accordin\" to what Heartlock told me, those four newcomers didn\"t exactly bother too much with the blendin\" in, like we did. Not that they were goin\" around flauntin\" that they were IMC, \"course, but they weren\"t particularly interested in gettin\" acquainted with the locals either, an\" you could tell that they were up to no good. Which also meant they weren\"t plannin\" on wastin\" no time, and they would\"ve acted soon as possible, likely at night, seein\" as durin\" the day there was always the chance some townsfolk were of a mind to go visit our target, an\" I doubt bein\" caught \"n the act was in their interest. Granted, we didn\"t know they would act the same night o\" their arrival, but we\"d a feelin\" that\"d be the case, an\" as it turned out, we weren\"t wrong. So by sundown, we were already gettin\" ready. Once we\"d found out where the man\"s shack was, we\"d filled the trail leadin\" up to it an\" the surroundin\" area with low-frequency motion sensors, somethin\" Haywire had come up with in its free time an\", accordin\" to him, pretty much untraceable by most wave-frequency detectors. They were also wee little things, so hidin\" them out \"o sight was easy \"nough, an\" as long as we were close by, we\"d be warned of anyone approachin\". We also had set up a not-too-conspicuous hidin\" spot - the scientist\"s shack was surrounded by forest all \"round, so it wasn\"t too hard to gather up enough branches an\" assorted greenery. Place didn\"t have the best line \"o sight on the clearing \"round the shack, but it didn\"t matter since as I told you, we\"d have ample warning anyway. Now it was just a matter of good ol\" patience, which we didn\"t lack, but as a couple hours went by... Well, there\"s only so much time you can spend sittin\" still in a humid place with bugs crawlin\" over you before you start wonderin\" how long \"till you go insane, or fall asleep. Whichever comes first. So I can\"t remember who was the first, but me \"n Heartlock started talkin\". Truth be told, I remember it was mostly him talkin\" - first about mission-related stuff, then the conversation kind of took a different path an\" he started tellin\" me \"bout his family. Yeah, the man\"s married, you didn\"t know that? He also has two little daughters, an\" hearing him talk about them, you\"d think there\"s nothing else matters more \"n them to him. Anyway, he starts talkin\" about how they recently had their first days o\" middle school an\" the holophotos they sent him an\" how proud of a father he is. An\" then he takes a pause, an\" asks me, \"Hey Goat, listen. After this is over...the war, I mean...Why don\"t you come stay with us, for a while? The girls already call you Uncle Goat, you know, haha.\" I didn\"t reply. Not because I didn\"t want to, or \"cause I thought \"twas a stupid question. But, y\"know... I\"m not big on plannin\" long term, right? An\" Heartlock, askin\" me right out of the blue what I\"m goin\" to do after the war... I didn\"t know what to tell him. So I just sat there, silent, lookin\" at the trail like \"twas the only thing I had \"n mind at the time. An\" him, I think he didn\"t know what else to say either, so there was just silence. We were saved by a warnin\" appeared on our PDA, of all things - one of the motion sensors got triggered, and soon enough we saw them. They were our four newcomers all right, comin\" up on the trail an\" all brewin\" trouble. They certainly weren\"t plannin\" on wastin\" no time, an\" the fact that they acted despite it bein\" full moon only served as a remark o\" that. Time had come to make our move, then. But not towards the four no-gooders, as I\"m sure you\"re thinkin\" in that head o\" yours. No, we started movin\" silently towards the back of the shack, circlin\" around it. Y\"see, if you don\"t put your brain to work, you ain\"t gonna last long \"n the field. IMC must\"ve had at least a hunch we knew \"bout their operation here, right? An\" these guys went straight for the guy\"s shack, like they already knew where he was, an\" didn\"t exactly put much effort into keepin\" a low profile. So either they were both the dumbest an\" the luckiest morons IMC had available, or they weren\"t the only ones here. An\" a second warnin\" from the motion sensors proved we were right. Short after that, we hear some ruckus an\" some swearin\" comin\" from the from the front side o\" the shack - idiots must\"ve tripped in some of the traps our common friend had set up, as we knew he did, which doesn\"t exactly speak in favor of them not bein\" morons. No chance the scientist didn\"t know there was someone comin\" for him, but thas\" what the other fools - two of \"em, as it turned out - were there for, right? To halt the man\"s escape should he decide to cut and run, which was just about what they were doin\" as we got the jump on \"em an\" knocked them out cold. Luckily our egghead friend got a grasp of the situation fairly quickly an\" decided comin\" with us was better than takin\" his chances with the thugs who\"d just unceremoniously broken down his shack\"s door. Fellas must\"ve been mighty pissed, thas\" for sure. All the better for us. Not keepin\" a clear mind is the first mistake you can do when you\"re on the field, no matter if you\"re inside your Titan or out in the wild apprehendin\" some guy dissatisfied with his employer. Now, unlike them, we like to do our homework, to cover our bases, so to speak. We knew the four dunderheads wouldn\"t just give up an\" call it a day, so we made sure not to bother coverin\" our tracks. Y\"see, we wanted them to follow us, \"cause then we could lead them to one neat surprise we\"d readied just for them. A good ol\" net trap, like the ones my grandfather taught me to build \"n hide when I was just a wee little child. We\"re so used to technology, sometimes we forget about the methods of old, y\"know? An\" apparently these guys did twice in a row, seein\" as even after trippin\" into doc\"s intruder-dissuadin\" contraptions, they didn\"t think we\"d have the same idea. Shows how much they knew. \"Course, doesn\"t mean you can\"t improve on old methods. Namely, we\"d used titanium alloy ropes, so they couldn\"t just cut \"em with a knife an\" set themselves free - they\"d have to wait for their friends to wake up, an\" they didn\"t look like they were plannin\" to do just that anytime soon. Not that we were of a mind to wait for them. Our ride was waitin\" for us, an\" no, I don\"t mean that hellish museum piece we\"d taken to get to Woodcutter\"s Gulch. This time us \"n our newfound friend would have a proper ride out of here - an\" old smuggler friend of mine who owed me one. Yeah, \"course we didn\"t just call one o\" our transports - neutral territory, remember? One of ours blitzin\" in an\" out would have been awfully suspicious, don\"t you think? Good thing good ol\" Goat here has friends in all the right places, hah. So, here\"s the lesson for you tonight. Out there \"n the field, you might have plenty o\" gadgets an\" doohickeys that look like they do all the work for you. But that ain\"t what makes a Pilot, well, a Pilot. They help, \"course. But electronics might get jammed, or hacked, or stop workin\" because sometimes, they just do, or even not tell you all there is to know. Only thing you can really rely on out there to stay alive, is keepin\" your own wits about you. Your brain, your eyes, your aim, that\"s what you should trust, an\" those of your friends, \"course. That\"s what makes a Pilot a Pilot, you hear me? Don\"t go becomin\" like Haywire, who wouldn\"t even know when to piss if his PDA didn\"t tell him.',\n",
       "       'brother\"s fault! His obsession of Yugioh made me obsessed too! He is now the second... or sixth animefreak in my family! Okay... the pairings are... SetoxSerenity, YugixTea, JoeyxMai, BakuraxRebecca, MarikxTara(OC) and IshizuxShadi. This is when Serenity is in high school... junior year (so she\"s sixteen years old). I need someone to check over my spelling and grammar for this story. I am the worse grammar checker in my high school life! So please volunteer to help me! Summary: Serenity carries a secret with a friend away from her friends for two months. Now, Serenity has been arranged to be married to the coldhearted Kaiba who took sudden interest, or liking, in her. How could she keep her secret a secret while dealing with a curious, handsome Kaiba in her life? Silentshipping Chapter 1: Daily Life \"Oh no! I\"m late!\" A sixteen year old, light auburn haired, olive eyed girl was running through the streets of Battle City to get to school. Her silky soft hair flew with the wind current as she ran quickly toward school. After the battle against the Pharaoh, they moved on and changed a lot over the last two years. Ever since Yugi\"s gang and him graduated from her high school, Serenity was alone with no friends around her age. They were all in different colleges and were being successful. Yugi and Tea moved to America to go to a college that they applied. Joey lived with Mai after he proposed to her and was working in the Game Shop where Yugi\"s grandfather owned, not to mention getting a better salary. Serenity was happy for the both of them because she knew that Mai and Joey were meant to be together but sad at the same time because she couldn\"t live with her brother anymore. Her mother agreed to move back to Japan with much of Serenity\"s pleading and take Joey in their care when the father died. It became very normal to the family of three until Joey moved and applied to a college. Joey sometimes called both his mother and his little sister to know how are they doing without him. Tristan and Duke\"s crush on Serenity faded away and moved on to a college... much to Serenity\"s relief from the continuous flirts. Rebecca\"s crush on Yugi faded away, but she has her eyes set on the British accent boy, Ryou Bakura. Serenity was attending the same high school where her older brother attended, and she was getting good grades. However, she didn\"t have any new friends when she moved in. The students around her only recognized her as Joey\"s little sister. They tried to make friends with her, but Serenity stayed away from them because they were being nice to the final duelist\"s little sister. She only wanted to make friends who only see her as herself... not someone else. On the first day of Domino High, she was alone at first because no one wanted to hang out with a shy, silent girl. The only friends she made was Marik, who had his family moved in to Battle City since there was no reason to stay in Egypt and started one year ahead, and Mokuba, who is now a freshman at the age of twelve. However, on that day, she met her first friend on a strange occurrence. Serenity made a turn that leads to her high school, but a stranger also turned towards Serenity. Her eyes went wide and realized that both of them were about to collide in the corner. She made a quick thinking and halted her pace. At one second, she stepped aside to go around the stranger while spinning with one foot like she was taking ballet. After she was at the stranger\"s side without any physical contact, she made a mad dash while waving without acknowledging the stranger or seeing the face. \"I\"m sorry! I\"m in a hurry today!\" She continued to run quickly to the high school until she disappeared inside the gates. The cobalt eyes stared where the petite girl disappear in his old high school. He turned his eyes back to his destination and walked away, letting his dark violet trench coat fly behind him. He gave a smirk toward the girl who avoided the collision and contact. \"Hmph. Whatever, my dear.\" \"Seren! Where the hell were ya! Get in before the bell rings!\" A shout came across the hallways where Serenity was in. Serenity smiled as she met her first friend at the entrance of the door, wearing a different pair of shoes that was for entering the classroom. \"Sorry, Tara! I overslept!\" Serenity replied with a smile. Tara Strong was in the same class as her and became her first friend after the strange occurrence between them. She had choppy, jet black hair that reached to her chin. Her two strands of her hair were split above the middle of forehead. Her dark olive eyes looked like it was pitch black or gray instead. Her personality was the opposite from Serenity\"s. Serenity was shy, silent, and dependent on others while she cheered on her friends. Tara, however, was loud, outgoing, and independent while she does the right action to boost the moral. Ever since they met, they became friends, and the both of the friends rubbed each other\"s personality. Serenity had more confidence in her, and Tara learned how to control her excitement and anger. Serenity quickly changed her shoes and got in the class before the bell rung ten seconds ago. They got to their seat on the far left corner where they could see what\"s going on outside. \"Geez. Set your alarm early, Seren.\" Tara whispered, sitting at Serenity\"s right side. Serenity smiled and whispered back. \"Sorry.\" The teacher walked in the classroom and announced. \"Okay. Settle down, class. Get your books out and turned to page...\" Serenity glanced out from the window and noticed a black limousine outside of the gates. She also saw the two flags that held the sign of Kaiba Corp. Kaiba\"s here? She didn\"t hear anything about Seto Kaiba for a long time. Probably, it is because she didn\"t pay attention to the elder brother while her friends graduated from high school. Kaiba hated to go to this school because it was too easy, people wanted to be friends with him to be popular, fangirls adore him and claim false announcements about love that wasn\"t reached, and Yugi and his gang were there the most. Serenity didn\"t understand why Joey and Kaiba didn\"t get along when they first saw each other. She also ignore the glares from the man and the comments Kaiba made when the two met or pass by. Then, what is he doing here? She found a figure next to the right gate. There stood a tall, wiry man, wearing a dark violet trench coat, black pants, black clean shoes, and a black turtle neck shirt, looking at her with cobalt eyes through his chestnut hair. He smirked at something... or rather smirked at her. At the same time when the man smirked, Serenity quickly turn her attention back to the teacher who was writing on her chalkboard. She felt a light small blush on her cheeks when she felt the stare from the man, boring into her head. \"Serenity?\" The auburn haired girl turned her attention to her whispering friend beside her. From the corner of Tara\"s eye, the look was concern and worry about her friend. Serenity shook her head with a smile on her face. Tara nodded slightly and looked back to the teacher. Serenity glanced back to the gates where Seto Kaiba and his limousine were before she turned her attention back to the teacher. No one was there. It must\"ve been my imagination. Get a grip, girl! He graduated and is never gonna step on this school ground again! It was lunch time, and everyone was enjoying the talking, scene, and sometimes food. He or she chose to stay inside or go outside, if the day was sunny. Some went down and buy lunch from the cafeteria instead. However, two students didn\"t have time to grab their lunch or have a nice chit-chat with the boys. Instead, they were running up the stairs to the roof door, frantically. They both hoped that nothing went wrong around the school. Oh man. Thanks to one person who sensed something wrong on the roof. They have to skip lunch to beat whatever what up there. \"You sure it\"s them?\" \"Yes, Tara! Do you think that my sixth sense went wrong?\" \"No! I never said anything about that! Let\"s hurry up and beat them before they could harm anyone else!\" Tara almost tripped on the 107th step. \"I hate the stairs!\" \"Good thing we have to make up an excuse for the boys to NOT come with us! You did a good excuse THIS time!\" \"Sh-shut up!\" They were rushing up in spirals and were feeling their legs giving away. However, when they reached to the door up in the roof, Serenity slid down on her butt while clutching the handle bar, and Tara was holding herself up on her knees to balance herself from the long run. In a few minutes, they regain some of the energy and stood up straight. Serenity and Tara took a deep breath as Tara held the door knob and twist it. Click. The door was open, and she pushed the door forward to see the light blind them for a second. After the light subsided, there stood two black hooded figures who had their Dueling Disks out. Tara and Serenity put up a stern face and walked out. Tara closed the door and walked to the left side as Serenity was on the right side. \"So, you two are the dragon duelists our men were talking about...\" One of the hooded men commented. Tara rolled her eyes and glared at the two. Her fists were on her hips to show that she was mad. \"Gee. How do you know? Listen, could you just wait after school or something? I\"m not in the mood right now. M\"kay?\" Serenity glanced at her friend from the corner of her eyes and shook her head. \"Tara... they\"re not gonna listen. It\"s been like this almost everyday. We\"re just going have to deal with it.\" Tara sighed and held out her left arm in front of her aiming at the black hooded man in front of her. Around her arm, a bright light with black on the edges glowed and formed into one of Kaiba Corp\"s creations in the Battle City finals. It was a Duel Disk, but it was just not any Duel Disk. It resembled to the Red Eyes Black Dragon. The Duel Disk looked like it was modified carefully to have the same functions like the ordinary disk. The wing was used for the cards to hold them in place; the neck curved to the head that had its mouth open for drawing the cards; the left front leg under the head of the dragon covered over the hole where the cards were sent to the graveyard; and the rest of the body was holding tightly on the girl\"s arm. \"Oh well. I\"ll just have to deal with you two with my Hell Deck.\" Tara smirked as the wing were connected and slid to the front of the Red Eyes Black Dragon\"s head. Not only that, two black dragon wings appeared on her back. Serenity sighed and held out her left arm. A bright light with blue edges engulfed the girl\"s arm to form the same modified Duel Disk like Tara\"s. However, she has the Blue Eyes White Dragon. \"I\"ll use my Heaven Deck to help you.\" Serenity\"s Duel Disk was set up for battle and her white dragon wings appeared. Tara snapped her fingers, and everything in the world stood still, literally. \"I\"m not gonna waste my lunch time, so I\"ll stop time until this battle is over.\" Serenity and Tara focused and began the double duel against the hooded men. The four spoke out at the same time. \"LET\"S DUEL!\" Unknown to them, they didn\"t notice cold cobalt eyes watching the duel behind the two girls from another building\"s roof. He smirked and crossed his arms over his chest, observing their tactics and strategies in the time freeze realm against the mysterious hooded men. I don\"t believe in freezing time, but this duel intrigues me. That woman, Ishizu, did say something about her playing an important role. I wonder how much she has improved over the last two years. He observed the wings on the girls\" backs, like he have seen them before. He held his chin and pondered. Those wings... they look familiar. First time, but don\"t review just yet. There\"s a second one. This chapter is confusing at first, but when you read later on, you\"ll understand why did Serenity have a Blue Eyes White Dragon Duel Disk and other powerful cards. I checked over my mistakes from both the chapters, and I really need help. So, please. Volunteer to correct me on grammar, spelling, vocabulary, and keep the story in line. I don\"t own Yugioh or the characters, and this is going to be the last time you\"ll know. If you see something like this (1), it means that I made it up. Chapter 2: Serenity and Tara\"s Encounter \"Since your turn is over, I\"ll draw one card.\" Tara drew one card and smirked, giving their opponents a bad sign. It should have been ten minutes when it began, but since they were in a time freeze, they didn\"t have to deal with missing their lunchtime. Not only that, they stopped time before anyone else may have searched for them and see an astonishing card duel. On the playing field, there were different kinds of monsters on the battlefield. However, the battlefield looked like it was getting intense if time continued or not. The black hooded men had four monsters on their field. The Harpy\"s Brother and Twin Headed Thunder Dragon were on the right side, and the Dark Magician that is wearing red and Jinzo on the left. The four monsters were on attack mode. There was one card on each side. One was faced down, but the other had been activated as Dragon Jar to immobilize any dragons from attacking. On the girls\" sides, the monsters they summoned were a shocker. On Serenity\"s side, no one could tell if that dragon belonged to her because it was rightfully owned by the CEO. There stood the great Blue Eyes Ultimate Dragon and St. Joan that was protecting its owner. She had three face down cards just in case if the two mysterious men tried to pull a move on her monsters or her partner. The dragon was on attack mode, but her St. Joan was on defensive because the man on her side activated \"Block Attack\" on his previous turn. Tara had her Meteor Black Dragon, her Kuriboh, and her Wretched Ghost in the Attic (looks like the darker version of Kuriboh) on her field. Her dragon was also on attack mode, while the two furry fiends were on defensive mode. There was one face up card, and it was the ring that Rebecca used for her Millennium Shield against Yugi two years ago. Tara had 1950 life points, and Serenity had 2100. The two other men had 1500 on Tara\"s side and 2000 on Serenity\"s side. It was a daily routine for the two during a double duel, which made it both exciting and nervous. It was the most difficult and rare game that almost everyone had played. It takes trust, courage, sacrifice, risks, and partnership between the two players. Serenity and Tara had done quite a lot and made themselves more focused and trustworthy. They both sacrificed two of their monsters to risk each other\"s lives to save another, and it was like this ever since they both met. It was school hours first, lunch (sometimes if Serenity didn\"t sense one or two men up in the roof), study, walking back together to Serenity\"s house to drop off (many times was dueling the hooded men with their chosen deck or other opponents with their original deck), and Tara leaving to her home. \"All right! Now... I activate \"Pot of Greed.\\' You already know what I am about to do.\" The black haired girl took two cards from her deck and looked at them. She made the smirk bigger and turned her attention to the men. \"Now... I activate \"Giant Trunade\". You all know what to do.\" All of the duelists took their traps and magic cards back to their hand. Serenity gave a smile to her partner as Tara was highly amused at the two men who were sweating like crazy, knowing that the hooded men are in a tight spot. \"Now... I activate my Magic Card, \"Fiend Bond (1).\\' Since this card is new to you, it increases all Fiend monsters on our side by 500 ATK and DEF points.\" The two monsters on Tara\"s side growled as it gain more power. \"However, I sacrifice 1000 of my life points when I activate this card.\" Tara smiled sadly as her life points decrease to 950. \"Now... say goodbye to...\" She glanced at the Twin Headed Thunder Dragon and smirked, taking a guess that his partner wouldn\"t do anything to save him. \"Your Twin Headed Thunder Dragon!\" \"No!\" The hooded man protested as her Meteor Black Dragon attacked the dragon. His life points went down from 1500 to 800, making Tara\"s haunch right. \"Now... I activate my Magic Card, Ring of Magnetism, and attach it to my Meteor Black Dragon.\" The Magic Card revealed itself, and a ring appeared around the dragon. \"I end my turn.\" Tara stated as she looked at the man in front of her. No words are needed from the hooded men. Tara and Serenity already dealt with this many times. Sometimes, the men explained what the card does when the one of the girls asked what does it do. The man drew a card and frowned, not choosing the right one. It was obvious that the man set down a magic card due to the Giant Trunade and ended his turn due to the Ring of Magnetism around the Meteor Black Dragon. \"Serenity...\" \"Right.\" She drew a card and smiled. Things were going too well for the both of them. \"Alright! I place two cards on the field...\" She inserted two cards in the wing as two cards appeared on the field. \"I switch my St. Joan to attack mode...\" Serenity switched her horizontal card to vertical as St. Joan stood up ready to fight. \"... and I activate \"Harpy\"s Feather Duster\"! Say goodbye to the only card on the field.\" The man gritted his teeth and reluctantly took the card out and put it in the graveyard. \"I place \"Helping Hands\"!(2)\" She activated a card in the wing, and the card from the left showed up. \"This card can choose up to monsters who are level three or lower on my... or should I say our side of the field and aid my St. Joan to increase her attack points by 300 each. Any monsters have a power equip increases the attack by how many attack points the equip card says. Since Tara\"s \"Fiend Bond\" increased her Kuriboh and Wretched Ghost in the Attic by 500, my St. Joan has an increase of 1600 attack points. Now my St. Joan has the total of 4400 attack points.\" The two fiend monsters flew to St. Joan\"s side, and her attack points increased. \"Now... St. Joan! Atta-\" Serenity was cut off by the roar from her dragon. She silently winced and looked at the Blue Eyes Ultimate Dragon that had it\"s right head looking right back at her. \"You want to attack?\" The dragon nodded as Serenity looked at her St. Joan. \"Is it okay for you?\" The woman nodded with a smile and kindly step back. Serenity sighed in relief. \"Alright. Blue Eyes Ultimate Dragon!\" The dragon seemed to roar with happiness and determination. \"Attack the Dark Magician!\" Serenity commanded it, and the dragon had beams coming out from three of its mouths toward the Dark Magician. Since it was in attack mode, the monster disappeared, destroying the owner\"s life points completely. Serenity turned to his partner who was panicking right now. \"Are you ready, you three?\" St. Joan, Kuriboh, and the Wretched Ghost in the Attic turned their heads to Serenity and nodded. \"Okay. Go! Attack Harpy\"s Brother!\" The three charged toward the man with wings as the man tried to swipe the three monsters with his claw. However, St. Joan broke the claw with her sword as the twins tackled the man down, shattering the man and depleting the life points of the owner into nothing. The two kneeled down and disappeared into black smoke, leaving two cards behind. \"Yay! We did it!\" Serenity jumped in joy as Tara sighed in relief. The five monsters didn\"t disappear because they wanted a praise from their owners. The Kuriboh and its look alike flew back to Tara\"s side. \"You, three, did a great job. I\"m proud of you.\" She ruffled the two fiends\" heads as they jumped with joy in midair. She also patted the head of the Meteor Black Dragon as a thanks. She took out the graveyard cards and her playing cards, put them back to the deck, and reshuffled them. \"You all did a great job. You deserve a rest.\" The three monsters disappeared back to her deck. She was about the dismiss her Duel Disk, but she glanced at her side, making her snicker at the scene. Looks like Seren is still having trouble handling the three headed beasts. It was true. The auburn girl was merciless tickled by the tongues of the Blue Eyes Ultimate Dragon by the face. She laughed as St. Joan joined the tickle war. Tara shook her head. Ever since the deck Serenity received appeared at the same day the two met, the deck and cards seem to enjoy hanging out with the pure innocent girl. \"Ahh! Tara! Help! Hehehe! It tickles!\" Serenity pleaded through laughter. Ignoring her partner\"s pleas, Tara walked toward the two cards and picked them up where the two stood. \"Hahaha! Okay! Okay! I give! Hahaha!\" The two stopped attacking Serenity as she breathed in with relief. \"You guys did great out there! You and the cards earn a well deserved rest.\" She hugged her St. Joan as the woman patted her head and hugged the Blue Eyes Ultimate Dragon by the middle head as the two other heads rubbed both of her cheeks. The two disappeared back to her deck, and Serenity took all the discard cards and playing cards back to her deck, reshuffled. \"Damn! It\"s just Magic cards again!\" Serenity turned her head to her partner and shook her head in disbelief. Even though we won, she is still looking for stronger cards. Serenity walked toward the fuming girl and placed her hand on Tara\"s shoulder. \"Hey, calm down. It\"s kinda rare to find useful Magic and Trap cards to help us. You might need them to fight against these hooded men that are after us.\" Serenity calmed Tara who sighed to control her',\n",
       "       'the past hour? Who were easily routed, I might add. They could be falling back, getting on that train, and running away. Wouldn\"t that make you feel stupid?\" \"Superintendent, I have no time for your condescending crap right now. The reason that we haven\"t been attacked in a while is because the enemy is retasking its main force to help unload the military equipment it just hijacked. Don\"t worry, those attacks will come as soon as they\"re finished getting the crap off the train cars. That\"s when the real fun starts. Massive waves of infantry, tanks blowing holes in the building, APCs running right over the crappy walls around this place and disembarking troops right on our doorstep, rockets zipping by, bullets tearing up windows and walls, people dying, oh, don\"t worry, it\"ll start soon enough. But I can\"t be bothered with imagining the slaughter right now, because I\"m too damn busy trying to save our asses. If the Japanese government would give my superiors authorization, then I could start using air support to beat back the enemy, armor could punch through to us and we could evacuate the civilians, and so on. But no, I\"m arguing with you right now so go away, thank you.\" Surai was smiling at the exchange. \"You\"d make a great Marine, Rivera. Too bad you\"re in the Army.\" \"Thanks a lot, Captain.\" \"No problem.\" Miyuki finished typing and sent the documents away to headquarters and the capitol district. \"Inspector Kinoshita?\" \"Yes, Kobayakowa?\" \"Do you suppose that the government will help us soon? From the way Arleigh is acting the situation looks pretty dire.\" Kaoruko gazed over at the flustered Lieutenant and then returned his eyes to Miyuki. \"I sure hope so. But I don\"t think they can do much. If they provide troops, how are we supposed to tell the difference between the good guys and the bad guys? They\"ll both be using Japanese equipment. We could end up shooting at the wrong people.\" \"True. But they have to do something. Even if it is just giving the Americans more freedom to work. I\"m very worried about all the civilians in the Sumida Ward. They\"re completely unprotected. Even the civilians we have here, tiny in numbers compared to the ones out there, aren\"t very safe. And what if we get people who are wounded so badly that they need to be evacuated to proper medical facilities? We have no way of doing that.\" \"I know.\" Arleigh walked over at that point. \"Stupid politicians. Crying and moaning over collateral damage and civilians casualties that might arise due to the support I want. They are just not understanding how much more there will be if the terrorists go on unchecked. Anyway, that was to no one in particular. Thinking aloud. Okay, did you send that report out?\" \"Yes.\" \"Good. There\"s not much more you can do for now, sorry. Go get some food or some rest. You\"re going to need a lot of rest.\" \"Okay.\" Arleigh checked his watch as he returned to the maps. \"Right, 1:12 PM. The train came into the district over an hour ago. Enough equipment to level this place should already be unloaded. Ryker, as soon as command comes back up with a reply to my support request, you get me, no matter what I\"m doing.\" \"Roger that.\" He motioned next to his second in command, Anderson. \"Jake, go distribute the half of the AT4s to the D-boys [slang for Delta operators]. Okay, next the Marines. Captain?\" \"Yes?\" \"My guys are pretty much set once they get their AT4s. Not much else they can do. I\"ve ordered my HMMWV gunners to assume the driver\"s controls as soon as armor makes a break for the station to save the trucks. If its just infantry, they are going to continue to man the guns, but if armor shows up, then they get the hell out of there. How about your guys?\" \"Same thing. I don\"t want risk losing our fifties and grenade launchers to the tanks so they are going to move. Some of the officers opened up the motor pool so we can stash the HMMWVs if things get hairy. Then they\"ll fall back inside and take up fortified positions.\" \"Okay, I guess that settles it for now. Back to trying to get support.\" Downstairs in the cafeteria, Natsumi, Aoi, Miyuki, and Yoriko sat together talking over what might come later. \"I just don\"t understand how an entire brigade of Japanese soldiers can turn on their country like this. How can they kill their own countrymen?\" Aoi nibbled at some bread while she spoke. \"That doesn\"t make any sense to me, either. If it weren\"t true, they wouldn\"t have told us. Not something like that.\" Natsumi likewise was eating a little. Miyuki just stared at the ceiling. \"That\"s not too far-fetched. It\"s not unprecedented. Do you know how World War II actually ended?\" Yoriko replied, \"Well of course. Every Japanese citizen knows that the Americans dropped the Atomic bombs on us and we eventually surrendered.\" The black-haired officer shook her head. \"No, not really, actually. The decision to surrender was made on the day prior to its announcement, which the Americans call \"Victory in Japan Day,\" August 15th. On the 14th of August, Hirohito decided to surrender. His cabinet was astonished, and a little hurt. They expected the War to go on because surrender was so dishonorable and Japan had never done so. Well, the Japanese military was royally pissed off. One officer, a Major Hatanaka, started a rebellion. He eventually enlisted the aide of a couple thousand soldiers to capture the Imperial palace, specifically the Emperor, and stop him from recording the surrender message, or, if it was too late to do that, stop it from being played. The soldiers followed his orders, and were more than willing to kill any of their countrymen that got in their way. Hatanaka himself executed the commanding officer of the Palace\"s guards because he wouldn\"t help the revolting men. Thankfully for the world, the revolt failed because of an American bombing raid. Everyone thought the planes were coming to drop another Atomic bomb on Tokyo, but they weren\"t. Because of the blackout caused by the planes flying by the city to their target in Akita, Japan, they revolt failed and the Emperor\"s message went out. And that\"s how World War II ended.\" \"Wow, where did you learn that, Miyuki?\" Yoriko was a bit amazed. \"Oh, Arleigh told me. And I read two books on it after he told me, one Japanese and one American, both saying the same thing. Anyway, so you see, the Japanese military has gone against its own country in the past. Now, Natsumi said that JGSDF reported that the commander went rogue, along with his men. So it is possible that the commander has been tainted by something that has caused him to fall in with the terrorists. We\"re all Japanese, so we know that we\"re all very protective of our homeland. A lot of terrorist groups have agendas that they claim are designed to protect something dear to them. This group may have infiltrated the military at different levels within this brigade and convinced the soldiers that something here was a severe threat to the existence of Japan. Brainwashing, false information, bribery, whatever the case, these soldiers are prepared to kill their own countrymen. And that, quite frankly, scares me. A lot.\" Natsumi nodded. \"I agree with you. As for me, above being Japanese, I\"m a human being. And if someone wants to try and kill me, I have no problems with defending my life and the lives of my friends, even if I have to kill that person or persons, even if they are Japanese. They\"ve already killed civilians, so I see no point in giving them doubt now.\" The other three women nodded, even Yoriko, who spoke next. \"Well, Arleigh told us all to get some sleep, so I\"m going to go do just that.\" Aoi followed her from the table. \"Sounds good to me. At least I\"ll have some peace and quiet away from all this commotion for awhile.\" That left the pair sitting together at the table. \"Never in a million years did I think something like this could happen in our city, Miyuki. We were separated from each other for so a year doing other things around the precinct, and then we come back and all the crap starts happening. Our first week back we find all these weapons, get kidnapped, then rescued by someone who had just disappeared from Japan four months earlier. After that we found more weapons. Now, there\"s this. We work so hard every day to protect this place and look what\"s happened. I can\"t help but think that there was something more I could\"ve done to help prevent this. Maybe if we had found more of the weapons, of the warehouses where all those trucks were kept or built, maybe we could\"ve scared them into thinking it wouldn\"t have worked and they\"d would have abandoned their plan.\" Miyuki sighed. \"Natsumi, you know that they would\"ve tried again. There was nothing we could have to done to prevent or even stall something this huge. We\"re going to do everything possible to help defeat this, though, that\"s for sure. I\"ll take up a rifle if I have to, if that means that someone who I don\"t even know gets a chance to live longer because the terrorist scum who would\"ve killed them, got killed by me first.\" \"Well, not if Arleigh has anything to say about it. He\"ll probably keep us down here the whole time.\" \"Well he\"ll just have to deal with us.\" \"Is it just me, or do we keep coming back to whether or not he\"s going to let us do anything?\" \"No, we keep coming back to it.\" \"Okay, just wanted to make sure.\" \"Right.\" Natsumi checked her watch. \"It\"s only 1:30. I doubt those two will be getting much sleep. The troops will probably attack soon. I\"m going to bring some food and water ready the rest of the police defending the building. Coming?\" \"Right behind you.\" Miyuki finished a cup of water and tossed it into a trashcan. Arleigh yawned and looked at his watch. \"It\"s only 1:30. Well, I\"ve got time. Might as well work on my rifle.\" He set to work attaching the M203 40mm grenade launcher to his Colt M4A1 compact assault rifle. \"If the enemy gets so close that I need the MasterKey shotgun I have, then, well, we\"re all pretty much going to hell.\" The operation was simple. Just remove the heat-shield panels from around the barrel, slide the launcher onto the rifle, secure it to the muzzle and housing, and attach the sight to the top plate of the barrel. It was done in a few minutes. Arleigh loaded a grenade and put the rest into empty pouches on his utility belt. After yawning again, he shouldered the weapon. \"Jeez, I can\"t be getting sleepy now. I need sugar.\" Breaking out a candy bar from his pack, he sat down to think things over. \"Okay, here\"s the deal. We\"ve got enemy armor units being unloaded. If I had authorization, I\"d launch a preemptive strike, but I don\"t so I have to sit here and wait for everyone to get killed. Next, I\"ll have to get some of my guys up on the roof with sniper rifles. This is a pretty tall building, and the roof isn\"t succeeded by many buildings around it, so they should be relatively safe.\\' \"Anderson!\" \"Yeah?\" \"Have Smith and Morris get two of the sniper rifles from the ammo dump and take up overwatch on the roof. Place them at the two northerly corners of the roof.\" \"Roger that.\" Arleigh took another bite from the bar and leaned back in the chair. \"Okay, now where was I? Right, now, the cops and the civilians are my next priority. I need to get them the hell out of here. Civilians first, I guess. Right now I\"m strapped for men so I\"ll need a large portion of the men to stay behind and defend the station until more reinforcements arrive. I\"ll probably have to evacuate the out by air. I don\"t think it would be a good idea to have the pickups occur on the roof. Too high profile. A tank far enough away with a clear line of sight can elevate the barrel enough to knock off the chopper. I\"ll have to have them land either in front, which is probably suicide, or by the motor pool area. The SOAR boys can probably fit their MH-60s into the space between the garages and the station. It would take forever using the MH-6s and, besides, the civilians probably wouldn\"t like being strapped to those damn benches on the sides of the bird. Thank God it\"s Sunday or there\"d be far more civilians here. That\"s just about the only thing good so far. Why am I even thinking about this? This is supposing I even get air support. Wonderful. I didn\"t even think about that part of the evacuation. Yeah, completely forget how the choppers are going to get here. Smart.\\' Surai walked over. \"Lieutenant. A minute of your time, please?\" Arleigh rested the chair back down on the floor. \"Yes, sir.\" \"I just wanted to go over with you the plans for defending this place against attack. Now, I have my men all around the building on every level with windows above this floor. Anything below and they can\"t see the road over the trees along the perimeter. Now, how do you plan to go about armor attacks outside the wall?\" Arleigh scratched at his chin. \"Pretty much, I don\"t have a solid plan. This building offers us extremely limited options. Now, if we had more men I\"d be sending them across the road right now to occupy other buildings to give us the advantage of high ground all around our main strongpoint, being the station. As for armor, we can\"t really take them on at ground level. Not that I\"d want to, anyway. Any attack from armor will have to be dealt with from the upper levels. Well, not really. I\"ve had some of the police bring up some ladders from the basement and had them set up along the walls at different points. My last-ditch-effort plan is to send men over the wall with anti-tank equipment, and surprise the armor at ground level with attacks on their flanks and rear. However, that is extremely risky and basically suicidal if the armor has infantry with it. That is why I\"ve got two snipers on the roof. By the way, can you spare any of your better marksmen to snipe from the roof or from a high level? In the ammo trailer my guys brought we have about ten M24 7.62mm bolt-action sniper rifles, basically the same as the M40 you Marines use. Two of them are being used by my snipers right now, and I\"ve got our only Designated Marksman Rifle.\" He tapped his MSG-90A1 resting against the wall behind him. \"Yeah, I can spare a couple. I heard what you did with your two guys. Want me to have them cover two different directions?\" \"Please, sir.\" \"Okay, I\"ll get that order out right away.\" Surai did so, making his company\"s executive officer carry out the order. \"Anyway, I\"m pretty sure that\"s all we can do unless we get support. Are we authorized to use those mortars I brought? As near as I can assess, we\"re only allowed to use direct-fire weapons inside the perimeter or within reasonable distance from the perimeter to defend ourselves.\" \"No, we\"re not and yeah, that\"s pretty much all we can do.\" \"Great. Well, I guess that\"s it for now.\" \"Affirmative, sir. Time for the U.S. Military motto. \"Let\"s hurry up and wait.\\'\" \"I hear that, Rivera, I hear that.\" Surai laughed as he left the room. \"Back to thinking. Okay, that\"s settled a few things. Now for the issue of the generators. One major thing I need is more fuel for them. If I recall correctly from the only time we had to use them when I was stationed here, we have enough fuel for one day of continuous operation at 50% capacity. Well, we\"re living without air conditioning, I guess. And I\"ll have them turn off the circuits supplying power to non-essential areas. That will be a very high priority if and when I get air support. Thankfully they use standard diesel fuel. Plus, we\"ve got enough refills to keep the generators running for three days. I think. I hope. Fuel shouldn\"t be hard to come by in a pinch, though. There\"s bound to be some diesel vehicles outside the perimeter intact that I can bring in and siphon their load out of. Plus, I have ten diesel-driven 2.5-ton trucks the Marines used to get here. I can take some of their fuel. Okay, next issue. Hmm. What next?\\' Arleigh stood and made his way to the bathroom. \"Ah, nothing like thinking while using the head facilities.\\' \"Yeah, we\"re pretty much playing the waiting game.\" The chief fished a cigarette out of the container. Tokuno turned down a cigarette offer and continued to scan the area around the service entrance of the station. \"Never thought it would be this big. I figured it was just gun running, not some major terrorist action.\" \"I don\"t think anyone thought it would be this.\" \"The place has gone to hell real fast.\" \"I wonder how long we\"ll be here. Hopefully the government or the Americans will mount some kind of rescue operation. It\"s only a matter of time before these guys attack and overrun our little defense right here.\" \"Depends on how willing the government is to let more American soldiers operate in the area. I find it hard to believe that Arleigh or any of these guys had prior authorization. They responded way too quickly. We can probably get people out by helicopter, but we\"d have to protect them well. There\"s no telling how many enemy soldiers will occupy the buildings surrounding us. One helicopter lands, and poof. They hit it.\" He took a drag from the cigarette and blew the smoke out. \"Real possibility there. Anyway, I wish we had more help back here. If they attack from the front and can\"t get through, they\"ll move back here and attack at our weakest point. I hope Arleigh realizes that.\" \"I don\"t think he could do much about it. Not nearly enough weapons to deal with attacks on all sides.\" \"People will have to be moved around, then.\" \"I guess so.\" Something nagged at the back of the Chief\"s mind. He just couldn\"t shake that this attack had something to do with the program. \"How would they even know about it? Impossible.\\' \"Alright, Lieutenant. Here are our defenses so far. We\"ve got 165 Marines, 12 Delta operators including you, and about 104 police officers of various departments using captured weapons and weapons we keep here in the station. There are some more weapons left and some police, so I don\"t know if they\"ll be taking up positions, too.\" Kinoshita had returned from a task that Arleigh had assigned her to check on the manpower in the station. Arleigh had just ordered Miyuki to go down and shut down electricity to certain parts of the station so the Mitsubishi industrial generators in the basement wouldn\"t waste fuel. Now he was listening to Kaoruko\"s report. \"Okay, that gives us a grand total of 281 personnel in combat positions right now against at least five thousand enemy soldiers. How grand this all is. Right, very well. When Kobayakowa comes back, tell her I need to see her. And you, too. But wait until she gets back.\" A few minutes later, the three convened. \"Alright, here\"s the deal. When the big stuff starts, I\"m going to need all the Marines I can spare. Now, that means I\"ll have to shift them off of some vital tasks. You\"re the two most technology-oriented people I\"ve got, so here\"s what you\"ll be doing.\" He took them to a set of laptops hooked up to the radios. \"Okay, these two are being used as mediums for photos of the Ward. You won\"t be talking directly with any outside commands, but you\"ll be receiving their photos. Captain Surai will be running the Tactical Operations Center during combat; I\"ll be directing the fight from the front lines, so to speak, even though the front is just outside the door. When photos come in, you\"re going to need to send them to his terminal over there. It\"s Network PC #1. You\"re #2 and #3 on the chain. Now, when we get out of this mess, you can\"t say a damn word to anyone about this. I\"m basically committing an offense that can warrant a court-martial. These photos, coming from satellites in orbit and reconnaissance flights circling overhead, are very deeply classified unless an authority above says they can be shown to people without proper authorization, and you two aren\"t even in the military, let alone not even American, so you know that\"s unacceptable. Just send them straight away to Surai and he\"ll put them to good use. Got it?\" Both acknowledged him. \"Good, that settles that. That\"ll be all for now.\" Ryker, sitting at a radio, looked up in surprise. \"Lieutenant! Command wants to talk to you. I think it\"s about the support.\" Arleigh smiled and ran over. \"Great!\" He grabbed the handset. \"Delta Five-One, here. Go ahead, over.\" \"Rivera, this is General Walker at Camp Zama. The line is secure, yes? Over.\" \"Yes, General.\" \"Good. The Japanese government and the U.S. State Department and Department of Defense have reached an agreement. You\"re going to get your support. First, your air support. Unfortunately, fixed-wing craft were not authorized. So the Navy and Air Force will not be allowed to provide cover, but you will continue to receive digital recon photos from Navy F-14 Tomcats flying over. However, rotary wing craft are allowed. So the Army\"s 25th Division and the Marine\"s 3rd MEF are supplying their anti-tank Apache and Cobra gunships. Granted, the risks to choppers are far greater, but they are more accurate up close. The government does not want an errant bomb from a plane hitting civilians. The 160th SOAR and the rest of the 25th\"s Aviation Brigade have been retasked to help you. You can start calling in supply runs and I\"d assume you want to evacuate civilians. Next, your request for naval gunfire has been approved on one condition. You must use a laser-designator. There are two Arleigh Burke-Class'],\n",
       "      dtype=object)"
      ]
     },
     "execution_count": 7,
     "metadata": {},
     "output_type": "execute_result"
    }
   ],
   "source": [
    "texts"
   ]
  },
  {
   "cell_type": "code",
   "execution_count": 8,
   "id": "occupational-impression",
   "metadata": {},
   "outputs": [
    {
     "data": {
      "text/plain": [
       "array([False, False,  True, ..., False,  True, False])"
      ]
     },
     "execution_count": 8,
     "metadata": {},
     "output_type": "execute_result"
    }
   ],
   "source": [
    "Y_train"
   ]
  },
  {
   "cell_type": "code",
   "execution_count": 9,
   "id": "irish-intersection",
   "metadata": {},
   "outputs": [],
   "source": [
    "vectorizer = TfidfVectorizer(analyzer='char_wb', min_df=0.1, vocabulary=None, norm='l1', ngram_range=(1, 6))"
   ]
  },
  {
   "cell_type": "code",
   "execution_count": 14,
   "id": "diverse-scientist",
   "metadata": {},
   "outputs": [
    {
     "data": {
      "text/plain": [
       "<2788x29096 sparse matrix of type '<class 'numpy.float64'>'\n",
       "\twith 29397667 stored elements in Compressed Sparse Row format>"
      ]
     },
     "execution_count": 14,
     "metadata": {},
     "output_type": "execute_result"
    }
   ],
   "source": [
    "x = vectorizer.fit_transform(texts)\n",
    "scaler = StandardScaler(with_mean=False)\n",
    "scaler.fit_transform(x)"
   ]
  },
  {
   "cell_type": "code",
   "execution_count": 15,
   "id": "retained-thailand",
   "metadata": {},
   "outputs": [],
   "source": [
    "x1 = scaler.transform(vectorizer.transform(texts1))\n",
    "x2 = scaler.transform(vectorizer.transform(texts2))\n",
    "X_train = np.abs(x1-x2).todense()\n",
    "texts1=None\n",
    "texts2=None"
   ]
  },
  {
   "cell_type": "markdown",
   "id": "moved-groove",
   "metadata": {},
   "source": [
    "## Logistic Regression"
   ]
  },
  {
   "cell_type": "code",
   "execution_count": 16,
   "id": "owned-findings",
   "metadata": {},
   "outputs": [
    {
     "name": "stdout",
     "output_type": "stream",
     "text": [
      "Fitting 5 folds for each of 10 candidates, totalling 50 fits\n",
      "[CV] C=2.195254015709299, penalty=l1 .................................\n",
      "[CV] .................. C=2.195254015709299, penalty=l1, total=   0.2s\n"
     ]
    },
    {
     "name": "stderr",
     "output_type": "stream",
     "text": [
      "[Parallel(n_jobs=1)]: Using backend SequentialBackend with 1 concurrent workers.\n",
      "C:\\Users\\Antonio\\miniconda3\\envs\\authorship\\lib\\site-packages\\sklearn\\model_selection\\_validation.py:548: FitFailedWarning:\n",
      "\n",
      "Estimator fit failed. The score on this train-test partition for these parameters will be set to nan. Details: \n",
      "Traceback (most recent call last):\n",
      "  File \"C:\\Users\\Antonio\\miniconda3\\envs\\authorship\\lib\\site-packages\\sklearn\\model_selection\\_validation.py\", line 531, in _fit_and_score\n",
      "    estimator.fit(X_train, y_train, **fit_params)\n",
      "  File \"C:\\Users\\Antonio\\miniconda3\\envs\\authorship\\lib\\site-packages\\sklearn\\linear_model\\_logistic.py\", line 1304, in fit\n",
      "    solver = _check_solver(self.solver, self.penalty, self.dual)\n",
      "  File \"C:\\Users\\Antonio\\miniconda3\\envs\\authorship\\lib\\site-packages\\sklearn\\linear_model\\_logistic.py\", line 442, in _check_solver\n",
      "    raise ValueError(\"Solver %s supports only 'l2' or 'none' penalties, \"\n",
      "ValueError: Solver lbfgs supports only 'l2' or 'none' penalties, got l1 penalty.\n",
      "\n",
      "\n"
     ]
    },
    {
     "name": "stdout",
     "output_type": "stream",
     "text": [
      "[CV] C=2.195254015709299, penalty=l1 .................................\n",
      "[CV] .................. C=2.195254015709299, penalty=l1, total=   0.1s\n",
      "[CV] C=2.195254015709299, penalty=l1 .................................\n",
      "[CV] .................. C=2.195254015709299, penalty=l1, total=   0.1s\n",
      "[CV] C=2.195254015709299, penalty=l1 .................................\n",
      "[CV] .................. C=2.195254015709299, penalty=l1, total=   0.1s\n",
      "[CV] C=2.195254015709299, penalty=l1 .................................\n",
      "[CV] .................. C=2.195254015709299, penalty=l1, total=   0.1s\n",
      "[CV] C=3.3770629943240693, penalty=l1 ................................\n",
      "[CV] ................. C=3.3770629943240693, penalty=l1, total=   0.1s\n",
      "[CV] C=3.3770629943240693, penalty=l1 ................................\n",
      "[CV] ................. C=3.3770629943240693, penalty=l1, total=   0.1s\n",
      "[CV] C=3.3770629943240693, penalty=l1 ................................\n",
      "[CV] ................. C=3.3770629943240693, penalty=l1, total=   0.1s\n",
      "[CV] C=3.3770629943240693, penalty=l1 ................................\n",
      "[CV] ................. C=3.3770629943240693, penalty=l1, total=   0.1s\n",
      "[CV] C=3.3770629943240693, penalty=l1 ................................\n",
      "[CV] ................. C=3.3770629943240693, penalty=l1, total=   0.1s\n",
      "[CV] C=2.1795327319875875, penalty=l1 ................................\n",
      "[CV] ................. C=2.1795327319875875, penalty=l1, total=   0.1s\n",
      "[CV] C=2.1795327319875875, penalty=l1 ................................\n",
      "[CV] ................. C=2.1795327319875875, penalty=l1, total=   0.1s\n",
      "[CV] C=2.1795327319875875, penalty=l1 ................................\n",
      "[CV] ................. C=2.1795327319875875, penalty=l1, total=   0.1s\n",
      "[CV] C=2.1795327319875875, penalty=l1 ................................\n",
      "[CV] ................. C=2.1795327319875875, penalty=l1, total=   0.1s\n",
      "[CV] C=2.1795327319875875, penalty=l1 ................................\n",
      "[CV] ................. C=2.1795327319875875, penalty=l1, total=   0.1s\n",
      "[CV] C=2.4942547871438894, penalty=l2 ................................\n",
      "[CV] ................. C=2.4942547871438894, penalty=l2, total=   7.7s\n",
      "[CV] C=2.4942547871438894, penalty=l2 ................................\n",
      "[CV] ................. C=2.4942547871438894, penalty=l2, total=   7.3s\n",
      "[CV] C=2.4942547871438894, penalty=l2 ................................\n",
      "[CV] ................. C=2.4942547871438894, penalty=l2, total=   6.0s\n",
      "[CV] C=2.4942547871438894, penalty=l2 ................................\n",
      "[CV] ................. C=2.4942547871438894, penalty=l2, total=   7.5s\n",
      "[CV] C=2.4942547871438894, penalty=l2 ................................\n",
      "[CV] ................. C=2.4942547871438894, penalty=l2, total=   7.3s\n",
      "[CV] C=1.75034884505077, penalty=l2 ..................................\n",
      "[CV] ................... C=1.75034884505077, penalty=l2, total=   6.8s\n",
      "[CV] C=1.75034884505077, penalty=l2 ..................................\n",
      "[CV] ................... C=1.75034884505077, penalty=l2, total=   7.0s\n",
      "[CV] C=1.75034884505077, penalty=l2 ..................................\n",
      "[CV] ................... C=1.75034884505077, penalty=l2, total=   7.6s\n",
      "[CV] C=1.75034884505077, penalty=l2 ..................................\n",
      "[CV] ................... C=1.75034884505077, penalty=l2, total=   7.4s\n",
      "[CV] C=1.75034884505077, penalty=l2 ..................................\n",
      "[CV] ................... C=1.75034884505077, penalty=l2, total=   7.1s\n",
      "[CV] C=0.22685190926977272, penalty=l2 ...............................\n",
      "[CV] ................ C=0.22685190926977272, penalty=l2, total=   6.5s\n",
      "[CV] C=0.22685190926977272, penalty=l2 ...............................\n",
      "[CV] ................ C=0.22685190926977272, penalty=l2, total=   6.2s\n",
      "[CV] C=0.22685190926977272, penalty=l2 ...............................\n",
      "[CV] ................ C=0.22685190926977272, penalty=l2, total=   8.5s\n",
      "[CV] C=0.22685190926977272, penalty=l2 ...............................\n",
      "[CV] ................ C=0.22685190926977272, penalty=l2, total=   7.3s\n",
      "[CV] C=0.22685190926977272, penalty=l2 ...............................\n",
      "[CV] ................ C=0.22685190926977272, penalty=l2, total=   6.3s\n",
      "[CV] C=1.5337660753031108, penalty=l2 ................................\n",
      "[CV] ................. C=1.5337660753031108, penalty=l2, total=   7.8s\n",
      "[CV] C=1.5337660753031108, penalty=l2 ................................\n",
      "[CV] ................. C=1.5337660753031108, penalty=l2, total=   6.7s\n",
      "[CV] C=1.5337660753031108, penalty=l2 ................................\n",
      "[CV] ................. C=1.5337660753031108, penalty=l2, total=   7.6s\n",
      "[CV] C=1.5337660753031108, penalty=l2 ................................\n",
      "[CV] ................. C=1.5337660753031108, penalty=l2, total=   6.9s\n",
      "[CV] C=1.5337660753031108, penalty=l2 ................................\n",
      "[CV] ................. C=1.5337660753031108, penalty=l2, total=   6.9s\n",
      "[CV] C=3.2486749151019727, penalty=l2 ................................\n",
      "[CV] ................. C=3.2486749151019727, penalty=l2, total=   7.5s\n",
      "[CV] C=3.2486749151019727, penalty=l2 ................................\n",
      "[CV] ................. C=3.2486749151019727, penalty=l2, total=   7.5s\n",
      "[CV] C=3.2486749151019727, penalty=l2 ................................\n",
      "[CV] ................. C=3.2486749151019727, penalty=l2, total=   7.4s\n",
      "[CV] C=3.2486749151019727, penalty=l2 ................................\n",
      "[CV] ................. C=3.2486749151019727, penalty=l2, total=   6.9s\n",
      "[CV] C=3.2486749151019727, penalty=l2 ................................\n",
      "[CV] ................. C=3.2486749151019727, penalty=l2, total=   7.6s\n",
      "[CV] C=2.2721782443757292, penalty=l1 ................................\n",
      "[CV] ................. C=2.2721782443757292, penalty=l1, total=   0.2s\n"
     ]
    },
    {
     "name": "stderr",
     "output_type": "stream",
     "text": [
      "[Parallel(n_jobs=1)]: Done   1 out of   1 | elapsed:    0.1s remaining:    0.0s\n",
      "C:\\Users\\Antonio\\miniconda3\\envs\\authorship\\lib\\site-packages\\sklearn\\model_selection\\_validation.py:548: FitFailedWarning:\n",
      "\n",
      "Estimator fit failed. The score on this train-test partition for these parameters will be set to nan. Details: \n",
      "Traceback (most recent call last):\n",
      "  File \"C:\\Users\\Antonio\\miniconda3\\envs\\authorship\\lib\\site-packages\\sklearn\\model_selection\\_validation.py\", line 531, in _fit_and_score\n",
      "    estimator.fit(X_train, y_train, **fit_params)\n",
      "  File \"C:\\Users\\Antonio\\miniconda3\\envs\\authorship\\lib\\site-packages\\sklearn\\linear_model\\_logistic.py\", line 1304, in fit\n",
      "    solver = _check_solver(self.solver, self.penalty, self.dual)\n",
      "  File \"C:\\Users\\Antonio\\miniconda3\\envs\\authorship\\lib\\site-packages\\sklearn\\linear_model\\_logistic.py\", line 442, in _check_solver\n",
      "    raise ValueError(\"Solver %s supports only 'l2' or 'none' penalties, \"\n",
      "ValueError: Solver lbfgs supports only 'l2' or 'none' penalties, got l1 penalty.\n",
      "\n",
      "\n"
     ]
    },
    {
     "name": "stdout",
     "output_type": "stream",
     "text": [
      "[CV] C=2.2721782443757292, penalty=l1 ................................\n",
      "[CV] ................. C=2.2721782443757292, penalty=l1, total=   0.1s\n",
      "[CV] C=2.2721782443757292, penalty=l1 ................................\n",
      "[CV] ................. C=2.2721782443757292, penalty=l1, total=   0.1s\n",
      "[CV] C=2.2721782443757292, penalty=l1 ................................\n",
      "[CV] ................. C=2.2721782443757292, penalty=l1, total=   0.1s\n",
      "[CV] C=2.2721782443757292, penalty=l1 ................................\n",
      "[CV] ................. C=2.2721782443757292, penalty=l1, total=   0.1s\n",
      "[CV] C=3.34431505414951, penalty=l2 ..................................\n",
      "[CV] ................... C=3.34431505414951, penalty=l2, total=   7.4s\n",
      "[CV] C=3.34431505414951, penalty=l2 ..................................\n",
      "[CV] ................... C=3.34431505414951, penalty=l2, total=   6.3s\n",
      "[CV] C=3.34431505414951, penalty=l2 ..................................\n",
      "[CV] ................... C=3.34431505414951, penalty=l2, total=   6.4s\n",
      "[CV] C=3.34431505414951, penalty=l2 ..................................\n",
      "[CV] ................... C=3.34431505414951, penalty=l2, total=   8.1s\n",
      "[CV] C=3.34431505414951, penalty=l2 ..................................\n",
      "[CV] ................... C=3.34431505414951, penalty=l2, total=   9.1s\n"
     ]
    },
    {
     "name": "stderr",
     "output_type": "stream",
     "text": [
      "[Parallel(n_jobs=1)]: Done  50 out of  50 | elapsed:  3.7min finished\n"
     ]
    },
    {
     "data": {
      "text/plain": [
       "{'C': 0.22685190926977272, 'penalty': 'l2'}"
      ]
     },
     "execution_count": 16,
     "metadata": {},
     "output_type": "execute_result"
    }
   ],
   "source": [
    "clf = LogisticRegression(solver='lbfgs', max_iter=500)\n",
    "distributions = dict(C=uniform(loc=0, scale=4), penalty=['l2', 'l1'])\n",
    "param_clf = RandomizedSearchCV(clf, distributions, random_state=0, verbose=2, scoring='roc_auc')\n",
    "search = param_clf.fit(X_train, Y_train)\n",
    "search.best_params_"
   ]
  },
  {
   "cell_type": "code",
   "execution_count": 17,
   "id": "buried-paper",
   "metadata": {},
   "outputs": [
    {
     "name": "stderr",
     "output_type": "stream",
     "text": [
      "[Parallel(n_jobs=1)]: Using backend SequentialBackend with 1 concurrent workers.\n",
      "[Parallel(n_jobs=1)]: Done   1 out of   1 | elapsed:    7.2s finished\n"
     ]
    },
    {
     "data": {
      "text/plain": [
       "LogisticRegression(C=0.226, max_iter=5000, verbose=True)"
      ]
     },
     "execution_count": 17,
     "metadata": {},
     "output_type": "execute_result"
    }
   ],
   "source": [
    "clf = LogisticRegression(C=0.226, solver='lbfgs', max_iter=5000, verbose=True)\n",
    "clf.fit(X_train, Y_train)"
   ]
  },
  {
   "cell_type": "markdown",
   "id": "dynamic-sweet",
   "metadata": {},
   "source": [
    "#### test on development data"
   ]
  },
  {
   "cell_type": "code",
   "execution_count": 18,
   "id": "passing-findings",
   "metadata": {},
   "outputs": [],
   "source": [
    "texts = np.hstack([dev_df['text1'].values, dev_df['text2'].values])\n",
    "texts1 = dev_df['text1']\n",
    "texts2 = dev_df['text2']\n",
    "Y_dev = dev_df['same'].values"
   ]
  },
  {
   "cell_type": "code",
   "execution_count": 19,
   "id": "balanced-relation",
   "metadata": {},
   "outputs": [],
   "source": [
    "x1 = scaler.transform(vectorizer.transform(texts1))\n",
    "x2 = scaler.transform(vectorizer.transform(texts2))\n",
    "X_dev = np.abs(x1-x2).todense()"
   ]
  },
  {
   "cell_type": "code",
   "execution_count": 20,
   "id": "affecting-ottawa",
   "metadata": {},
   "outputs": [
    {
     "name": "stdout",
     "output_type": "stream",
     "text": [
      "FPR-TRP Curve\n"
     ]
    },
    {
     "data": {
      "application/vnd.plotly.v1+json": {
       "config": {
        "plotlyServerURL": "https://plot.ly"
       },
       "data": [
        {
         "mode": "lines",
         "text": [
          1.9999995227412959,
          0.9999995227412959,
          0.994480315981862,
          0.9941881660549842,
          0.9773686031443728,
          0.9760546852830095,
          0.9551475024121793,
          0.9543642887291739,
          0.9413337797761953,
          0.9385849305426083,
          0.9261661945230476,
          0.9186909710460642,
          0.9010221075261694,
          0.8695628328390294,
          0.8300768966189436,
          0.8294240129856044,
          0.7897792246992286,
          0.7812605248547007,
          0.7655482250838019,
          0.7624298905171037,
          0.6978519859582426,
          0.6969734683560781,
          0.696769009601256,
          0.6966350169875835,
          0.6551172870651042,
          0.6337839936406865,
          0.6234669684453161,
          0.5542760454452689,
          0.5449900666320248,
          0.3841862624007619,
          0.38157974714344894,
          0.3760876351556729,
          0.3538119028743232,
          0.3504723904740972,
          0.34856304065914323,
          0.30905428289751513,
          0.30455788413053764,
          0.24299227063274192,
          0.2234310875047165,
          0.1554379394632447,
          0.1426387752434177,
          0.13246608672456897,
          0.11053375303456506,
          0.09935343031796667,
          0.09268316613444585,
          0.08811656484260054,
          0.07727771360760198,
          0.07109957091649591,
          0.06143964347442122,
          0.03937594203585854,
          0.038219821577384745,
          0.035141033542562955,
          0.03394734489284455,
          0.033207802128985796,
          0.03297645311469054,
          0.019112524532214268,
          0.018775311712175728,
          0.004457533377211908,
          0.0038330016061026402,
          0.0029091595931972115,
          0.002323283751760269,
          0.0015441792632511137,
          0.0013533943781007154,
          0.001284781169174497,
          0.00125917626024825,
          0.0009044642645478385,
          0.0008916493656675236,
          0.00019347327364330262,
          0.00011346807104133652,
          2.2726525747985476e-09
         ],
         "type": "scatter",
         "x": [
          0,
          0,
          0,
          0.006756756756756757,
          0.006756756756756757,
          0.02027027027027027,
          0.02027027027027027,
          0.02702702702702703,
          0.02702702702702703,
          0.033783783783783786,
          0.033783783783783786,
          0.0472972972972973,
          0.0472972972972973,
          0.060810810810810814,
          0.060810810810810814,
          0.06756756756756757,
          0.06756756756756757,
          0.07432432432432433,
          0.07432432432432433,
          0.08108108108108109,
          0.08108108108108109,
          0.08783783783783784,
          0.08783783783783784,
          0.0945945945945946,
          0.0945945945945946,
          0.10135135135135136,
          0.10135135135135136,
          0.12837837837837837,
          0.12837837837837837,
          0.19594594594594594,
          0.19594594594594594,
          0.20945945945945946,
          0.20945945945945946,
          0.21621621621621623,
          0.21621621621621623,
          0.23648648648648649,
          0.23648648648648649,
          0.2702702702702703,
          0.2702702702702703,
          0.3108108108108108,
          0.3108108108108108,
          0.32432432432432434,
          0.32432432432432434,
          0.33783783783783783,
          0.33783783783783783,
          0.34459459459459457,
          0.34459459459459457,
          0.35135135135135137,
          0.35135135135135137,
          0.41216216216216217,
          0.41216216216216217,
          0.43243243243243246,
          0.43243243243243246,
          0.44594594594594594,
          0.44594594594594594,
          0.5,
          0.5,
          0.6283783783783784,
          0.6283783783783784,
          0.6756756756756757,
          0.6756756756756757,
          0.7094594594594594,
          0.7094594594594594,
          0.722972972972973,
          0.722972972972973,
          0.75,
          0.75,
          0.831081081081081,
          0.831081081081081,
          1
         ],
         "y": [
          0,
          0.006329113924050633,
          0.4620253164556962,
          0.4620253164556962,
          0.6075949367088608,
          0.6075949367088608,
          0.6518987341772152,
          0.6518987341772152,
          0.6708860759493671,
          0.6708860759493671,
          0.6835443037974683,
          0.6835443037974683,
          0.7215189873417721,
          0.7215189873417721,
          0.7531645569620253,
          0.7531645569620253,
          0.7784810126582279,
          0.7784810126582279,
          0.7911392405063291,
          0.7911392405063291,
          0.8164556962025317,
          0.8164556962025317,
          0.8227848101265823,
          0.8227848101265823,
          0.8291139240506329,
          0.8291139240506329,
          0.8354430379746836,
          0.8354430379746836,
          0.8417721518987342,
          0.8417721518987342,
          0.8481012658227848,
          0.8481012658227848,
          0.8607594936708861,
          0.8607594936708861,
          0.8670886075949367,
          0.8670886075949367,
          0.8734177215189873,
          0.8734177215189873,
          0.8860759493670886,
          0.8860759493670886,
          0.8987341772151899,
          0.8987341772151899,
          0.9177215189873418,
          0.9177215189873418,
          0.9240506329113924,
          0.9240506329113924,
          0.930379746835443,
          0.930379746835443,
          0.9367088607594937,
          0.9367088607594937,
          0.9430379746835443,
          0.9430379746835443,
          0.9493670886075949,
          0.9493670886075949,
          0.9556962025316456,
          0.9556962025316456,
          0.9620253164556962,
          0.9620253164556962,
          0.9683544303797469,
          0.9683544303797469,
          0.9746835443037974,
          0.9746835443037974,
          0.9810126582278481,
          0.9810126582278481,
          0.9873417721518988,
          0.9873417721518988,
          0.9936708860759493,
          0.9936708860759493,
          1,
          1
         ]
        }
       ],
       "layout": {
        "template": {
         "data": {
          "bar": [
           {
            "error_x": {
             "color": "#2a3f5f"
            },
            "error_y": {
             "color": "#2a3f5f"
            },
            "marker": {
             "line": {
              "color": "#E5ECF6",
              "width": 0.5
             }
            },
            "type": "bar"
           }
          ],
          "barpolar": [
           {
            "marker": {
             "line": {
              "color": "#E5ECF6",
              "width": 0.5
             }
            },
            "type": "barpolar"
           }
          ],
          "carpet": [
           {
            "aaxis": {
             "endlinecolor": "#2a3f5f",
             "gridcolor": "white",
             "linecolor": "white",
             "minorgridcolor": "white",
             "startlinecolor": "#2a3f5f"
            },
            "baxis": {
             "endlinecolor": "#2a3f5f",
             "gridcolor": "white",
             "linecolor": "white",
             "minorgridcolor": "white",
             "startlinecolor": "#2a3f5f"
            },
            "type": "carpet"
           }
          ],
          "choropleth": [
           {
            "colorbar": {
             "outlinewidth": 0,
             "ticks": ""
            },
            "type": "choropleth"
           }
          ],
          "contour": [
           {
            "colorbar": {
             "outlinewidth": 0,
             "ticks": ""
            },
            "colorscale": [
             [
              0,
              "#0d0887"
             ],
             [
              0.1111111111111111,
              "#46039f"
             ],
             [
              0.2222222222222222,
              "#7201a8"
             ],
             [
              0.3333333333333333,
              "#9c179e"
             ],
             [
              0.4444444444444444,
              "#bd3786"
             ],
             [
              0.5555555555555556,
              "#d8576b"
             ],
             [
              0.6666666666666666,
              "#ed7953"
             ],
             [
              0.7777777777777778,
              "#fb9f3a"
             ],
             [
              0.8888888888888888,
              "#fdca26"
             ],
             [
              1,
              "#f0f921"
             ]
            ],
            "type": "contour"
           }
          ],
          "contourcarpet": [
           {
            "colorbar": {
             "outlinewidth": 0,
             "ticks": ""
            },
            "type": "contourcarpet"
           }
          ],
          "heatmap": [
           {
            "colorbar": {
             "outlinewidth": 0,
             "ticks": ""
            },
            "colorscale": [
             [
              0,
              "#0d0887"
             ],
             [
              0.1111111111111111,
              "#46039f"
             ],
             [
              0.2222222222222222,
              "#7201a8"
             ],
             [
              0.3333333333333333,
              "#9c179e"
             ],
             [
              0.4444444444444444,
              "#bd3786"
             ],
             [
              0.5555555555555556,
              "#d8576b"
             ],
             [
              0.6666666666666666,
              "#ed7953"
             ],
             [
              0.7777777777777778,
              "#fb9f3a"
             ],
             [
              0.8888888888888888,
              "#fdca26"
             ],
             [
              1,
              "#f0f921"
             ]
            ],
            "type": "heatmap"
           }
          ],
          "heatmapgl": [
           {
            "colorbar": {
             "outlinewidth": 0,
             "ticks": ""
            },
            "colorscale": [
             [
              0,
              "#0d0887"
             ],
             [
              0.1111111111111111,
              "#46039f"
             ],
             [
              0.2222222222222222,
              "#7201a8"
             ],
             [
              0.3333333333333333,
              "#9c179e"
             ],
             [
              0.4444444444444444,
              "#bd3786"
             ],
             [
              0.5555555555555556,
              "#d8576b"
             ],
             [
              0.6666666666666666,
              "#ed7953"
             ],
             [
              0.7777777777777778,
              "#fb9f3a"
             ],
             [
              0.8888888888888888,
              "#fdca26"
             ],
             [
              1,
              "#f0f921"
             ]
            ],
            "type": "heatmapgl"
           }
          ],
          "histogram": [
           {
            "marker": {
             "colorbar": {
              "outlinewidth": 0,
              "ticks": ""
             }
            },
            "type": "histogram"
           }
          ],
          "histogram2d": [
           {
            "colorbar": {
             "outlinewidth": 0,
             "ticks": ""
            },
            "colorscale": [
             [
              0,
              "#0d0887"
             ],
             [
              0.1111111111111111,
              "#46039f"
             ],
             [
              0.2222222222222222,
              "#7201a8"
             ],
             [
              0.3333333333333333,
              "#9c179e"
             ],
             [
              0.4444444444444444,
              "#bd3786"
             ],
             [
              0.5555555555555556,
              "#d8576b"
             ],
             [
              0.6666666666666666,
              "#ed7953"
             ],
             [
              0.7777777777777778,
              "#fb9f3a"
             ],
             [
              0.8888888888888888,
              "#fdca26"
             ],
             [
              1,
              "#f0f921"
             ]
            ],
            "type": "histogram2d"
           }
          ],
          "histogram2dcontour": [
           {
            "colorbar": {
             "outlinewidth": 0,
             "ticks": ""
            },
            "colorscale": [
             [
              0,
              "#0d0887"
             ],
             [
              0.1111111111111111,
              "#46039f"
             ],
             [
              0.2222222222222222,
              "#7201a8"
             ],
             [
              0.3333333333333333,
              "#9c179e"
             ],
             [
              0.4444444444444444,
              "#bd3786"
             ],
             [
              0.5555555555555556,
              "#d8576b"
             ],
             [
              0.6666666666666666,
              "#ed7953"
             ],
             [
              0.7777777777777778,
              "#fb9f3a"
             ],
             [
              0.8888888888888888,
              "#fdca26"
             ],
             [
              1,
              "#f0f921"
             ]
            ],
            "type": "histogram2dcontour"
           }
          ],
          "mesh3d": [
           {
            "colorbar": {
             "outlinewidth": 0,
             "ticks": ""
            },
            "type": "mesh3d"
           }
          ],
          "parcoords": [
           {
            "line": {
             "colorbar": {
              "outlinewidth": 0,
              "ticks": ""
             }
            },
            "type": "parcoords"
           }
          ],
          "pie": [
           {
            "automargin": true,
            "type": "pie"
           }
          ],
          "scatter": [
           {
            "marker": {
             "colorbar": {
              "outlinewidth": 0,
              "ticks": ""
             }
            },
            "type": "scatter"
           }
          ],
          "scatter3d": [
           {
            "line": {
             "colorbar": {
              "outlinewidth": 0,
              "ticks": ""
             }
            },
            "marker": {
             "colorbar": {
              "outlinewidth": 0,
              "ticks": ""
             }
            },
            "type": "scatter3d"
           }
          ],
          "scattercarpet": [
           {
            "marker": {
             "colorbar": {
              "outlinewidth": 0,
              "ticks": ""
             }
            },
            "type": "scattercarpet"
           }
          ],
          "scattergeo": [
           {
            "marker": {
             "colorbar": {
              "outlinewidth": 0,
              "ticks": ""
             }
            },
            "type": "scattergeo"
           }
          ],
          "scattergl": [
           {
            "marker": {
             "colorbar": {
              "outlinewidth": 0,
              "ticks": ""
             }
            },
            "type": "scattergl"
           }
          ],
          "scattermapbox": [
           {
            "marker": {
             "colorbar": {
              "outlinewidth": 0,
              "ticks": ""
             }
            },
            "type": "scattermapbox"
           }
          ],
          "scatterpolar": [
           {
            "marker": {
             "colorbar": {
              "outlinewidth": 0,
              "ticks": ""
             }
            },
            "type": "scatterpolar"
           }
          ],
          "scatterpolargl": [
           {
            "marker": {
             "colorbar": {
              "outlinewidth": 0,
              "ticks": ""
             }
            },
            "type": "scatterpolargl"
           }
          ],
          "scatterternary": [
           {
            "marker": {
             "colorbar": {
              "outlinewidth": 0,
              "ticks": ""
             }
            },
            "type": "scatterternary"
           }
          ],
          "surface": [
           {
            "colorbar": {
             "outlinewidth": 0,
             "ticks": ""
            },
            "colorscale": [
             [
              0,
              "#0d0887"
             ],
             [
              0.1111111111111111,
              "#46039f"
             ],
             [
              0.2222222222222222,
              "#7201a8"
             ],
             [
              0.3333333333333333,
              "#9c179e"
             ],
             [
              0.4444444444444444,
              "#bd3786"
             ],
             [
              0.5555555555555556,
              "#d8576b"
             ],
             [
              0.6666666666666666,
              "#ed7953"
             ],
             [
              0.7777777777777778,
              "#fb9f3a"
             ],
             [
              0.8888888888888888,
              "#fdca26"
             ],
             [
              1,
              "#f0f921"
             ]
            ],
            "type": "surface"
           }
          ],
          "table": [
           {
            "cells": {
             "fill": {
              "color": "#EBF0F8"
             },
             "line": {
              "color": "white"
             }
            },
            "header": {
             "fill": {
              "color": "#C8D4E3"
             },
             "line": {
              "color": "white"
             }
            },
            "type": "table"
           }
          ]
         },
         "layout": {
          "annotationdefaults": {
           "arrowcolor": "#2a3f5f",
           "arrowhead": 0,
           "arrowwidth": 1
          },
          "autotypenumbers": "strict",
          "coloraxis": {
           "colorbar": {
            "outlinewidth": 0,
            "ticks": ""
           }
          },
          "colorscale": {
           "diverging": [
            [
             0,
             "#8e0152"
            ],
            [
             0.1,
             "#c51b7d"
            ],
            [
             0.2,
             "#de77ae"
            ],
            [
             0.3,
             "#f1b6da"
            ],
            [
             0.4,
             "#fde0ef"
            ],
            [
             0.5,
             "#f7f7f7"
            ],
            [
             0.6,
             "#e6f5d0"
            ],
            [
             0.7,
             "#b8e186"
            ],
            [
             0.8,
             "#7fbc41"
            ],
            [
             0.9,
             "#4d9221"
            ],
            [
             1,
             "#276419"
            ]
           ],
           "sequential": [
            [
             0,
             "#0d0887"
            ],
            [
             0.1111111111111111,
             "#46039f"
            ],
            [
             0.2222222222222222,
             "#7201a8"
            ],
            [
             0.3333333333333333,
             "#9c179e"
            ],
            [
             0.4444444444444444,
             "#bd3786"
            ],
            [
             0.5555555555555556,
             "#d8576b"
            ],
            [
             0.6666666666666666,
             "#ed7953"
            ],
            [
             0.7777777777777778,
             "#fb9f3a"
            ],
            [
             0.8888888888888888,
             "#fdca26"
            ],
            [
             1,
             "#f0f921"
            ]
           ],
           "sequentialminus": [
            [
             0,
             "#0d0887"
            ],
            [
             0.1111111111111111,
             "#46039f"
            ],
            [
             0.2222222222222222,
             "#7201a8"
            ],
            [
             0.3333333333333333,
             "#9c179e"
            ],
            [
             0.4444444444444444,
             "#bd3786"
            ],
            [
             0.5555555555555556,
             "#d8576b"
            ],
            [
             0.6666666666666666,
             "#ed7953"
            ],
            [
             0.7777777777777778,
             "#fb9f3a"
            ],
            [
             0.8888888888888888,
             "#fdca26"
            ],
            [
             1,
             "#f0f921"
            ]
           ]
          },
          "colorway": [
           "#636efa",
           "#EF553B",
           "#00cc96",
           "#ab63fa",
           "#FFA15A",
           "#19d3f3",
           "#FF6692",
           "#B6E880",
           "#FF97FF",
           "#FECB52"
          ],
          "font": {
           "color": "#2a3f5f"
          },
          "geo": {
           "bgcolor": "white",
           "lakecolor": "white",
           "landcolor": "#E5ECF6",
           "showlakes": true,
           "showland": true,
           "subunitcolor": "white"
          },
          "hoverlabel": {
           "align": "left"
          },
          "hovermode": "closest",
          "mapbox": {
           "style": "light"
          },
          "paper_bgcolor": "white",
          "plot_bgcolor": "#E5ECF6",
          "polar": {
           "angularaxis": {
            "gridcolor": "white",
            "linecolor": "white",
            "ticks": ""
           },
           "bgcolor": "#E5ECF6",
           "radialaxis": {
            "gridcolor": "white",
            "linecolor": "white",
            "ticks": ""
           }
          },
          "scene": {
           "xaxis": {
            "backgroundcolor": "#E5ECF6",
            "gridcolor": "white",
            "gridwidth": 2,
            "linecolor": "white",
            "showbackground": true,
            "ticks": "",
            "zerolinecolor": "white"
           },
           "yaxis": {
            "backgroundcolor": "#E5ECF6",
            "gridcolor": "white",
            "gridwidth": 2,
            "linecolor": "white",
            "showbackground": true,
            "ticks": "",
            "zerolinecolor": "white"
           },
           "zaxis": {
            "backgroundcolor": "#E5ECF6",
            "gridcolor": "white",
            "gridwidth": 2,
            "linecolor": "white",
            "showbackground": true,
            "ticks": "",
            "zerolinecolor": "white"
           }
          },
          "shapedefaults": {
           "line": {
            "color": "#2a3f5f"
           }
          },
          "ternary": {
           "aaxis": {
            "gridcolor": "white",
            "linecolor": "white",
            "ticks": ""
           },
           "baxis": {
            "gridcolor": "white",
            "linecolor": "white",
            "ticks": ""
           },
           "bgcolor": "#E5ECF6",
           "caxis": {
            "gridcolor": "white",
            "linecolor": "white",
            "ticks": ""
           }
          },
          "title": {
           "x": 0.05
          },
          "xaxis": {
           "automargin": true,
           "gridcolor": "white",
           "linecolor": "white",
           "ticks": "",
           "title": {
            "standoff": 15
           },
           "zerolinecolor": "white",
           "zerolinewidth": 2
          },
          "yaxis": {
           "automargin": true,
           "gridcolor": "white",
           "linecolor": "white",
           "ticks": "",
           "title": {
            "standoff": 15
           },
           "zerolinecolor": "white",
           "zerolinewidth": 2
          }
         }
        }
       }
      },
      "text/html": [
       "<div>                            <div id=\"3a8f56fc-812e-4267-a0c1-c1ec3c408983\" class=\"plotly-graph-div\" style=\"height:525px; width:100%;\"></div>            <script type=\"text/javascript\">                require([\"plotly\"], function(Plotly) {                    window.PLOTLYENV=window.PLOTLYENV || {};                                    if (document.getElementById(\"3a8f56fc-812e-4267-a0c1-c1ec3c408983\")) {                    Plotly.newPlot(                        \"3a8f56fc-812e-4267-a0c1-c1ec3c408983\",                        [{\"mode\": \"lines\", \"text\": [1.9999995227412959, 0.9999995227412959, 0.994480315981862, 0.9941881660549842, 0.9773686031443728, 0.9760546852830095, 0.9551475024121793, 0.9543642887291739, 0.9413337797761953, 0.9385849305426083, 0.9261661945230476, 0.9186909710460642, 0.9010221075261694, 0.8695628328390294, 0.8300768966189436, 0.8294240129856044, 0.7897792246992286, 0.7812605248547007, 0.7655482250838019, 0.7624298905171037, 0.6978519859582426, 0.6969734683560781, 0.696769009601256, 0.6966350169875835, 0.6551172870651042, 0.6337839936406865, 0.6234669684453161, 0.5542760454452689, 0.5449900666320248, 0.3841862624007619, 0.38157974714344894, 0.3760876351556729, 0.3538119028743232, 0.3504723904740972, 0.34856304065914323, 0.30905428289751513, 0.30455788413053764, 0.24299227063274192, 0.2234310875047165, 0.1554379394632447, 0.1426387752434177, 0.13246608672456897, 0.11053375303456506, 0.09935343031796667, 0.09268316613444585, 0.08811656484260054, 0.07727771360760198, 0.07109957091649591, 0.06143964347442122, 0.03937594203585854, 0.038219821577384745, 0.035141033542562955, 0.03394734489284455, 0.033207802128985796, 0.03297645311469054, 0.019112524532214268, 0.018775311712175728, 0.004457533377211908, 0.0038330016061026402, 0.0029091595931972115, 0.002323283751760269, 0.0015441792632511137, 0.0013533943781007154, 0.001284781169174497, 0.00125917626024825, 0.0009044642645478385, 0.0008916493656675236, 0.00019347327364330262, 0.00011346807104133652, 2.2726525747985476e-09], \"type\": \"scatter\", \"x\": [0.0, 0.0, 0.0, 0.006756756756756757, 0.006756756756756757, 0.02027027027027027, 0.02027027027027027, 0.02702702702702703, 0.02702702702702703, 0.033783783783783786, 0.033783783783783786, 0.0472972972972973, 0.0472972972972973, 0.060810810810810814, 0.060810810810810814, 0.06756756756756757, 0.06756756756756757, 0.07432432432432433, 0.07432432432432433, 0.08108108108108109, 0.08108108108108109, 0.08783783783783784, 0.08783783783783784, 0.0945945945945946, 0.0945945945945946, 0.10135135135135136, 0.10135135135135136, 0.12837837837837837, 0.12837837837837837, 0.19594594594594594, 0.19594594594594594, 0.20945945945945946, 0.20945945945945946, 0.21621621621621623, 0.21621621621621623, 0.23648648648648649, 0.23648648648648649, 0.2702702702702703, 0.2702702702702703, 0.3108108108108108, 0.3108108108108108, 0.32432432432432434, 0.32432432432432434, 0.33783783783783783, 0.33783783783783783, 0.34459459459459457, 0.34459459459459457, 0.35135135135135137, 0.35135135135135137, 0.41216216216216217, 0.41216216216216217, 0.43243243243243246, 0.43243243243243246, 0.44594594594594594, 0.44594594594594594, 0.5, 0.5, 0.6283783783783784, 0.6283783783783784, 0.6756756756756757, 0.6756756756756757, 0.7094594594594594, 0.7094594594594594, 0.722972972972973, 0.722972972972973, 0.75, 0.75, 0.831081081081081, 0.831081081081081, 1.0], \"y\": [0.0, 0.006329113924050633, 0.4620253164556962, 0.4620253164556962, 0.6075949367088608, 0.6075949367088608, 0.6518987341772152, 0.6518987341772152, 0.6708860759493671, 0.6708860759493671, 0.6835443037974683, 0.6835443037974683, 0.7215189873417721, 0.7215189873417721, 0.7531645569620253, 0.7531645569620253, 0.7784810126582279, 0.7784810126582279, 0.7911392405063291, 0.7911392405063291, 0.8164556962025317, 0.8164556962025317, 0.8227848101265823, 0.8227848101265823, 0.8291139240506329, 0.8291139240506329, 0.8354430379746836, 0.8354430379746836, 0.8417721518987342, 0.8417721518987342, 0.8481012658227848, 0.8481012658227848, 0.8607594936708861, 0.8607594936708861, 0.8670886075949367, 0.8670886075949367, 0.8734177215189873, 0.8734177215189873, 0.8860759493670886, 0.8860759493670886, 0.8987341772151899, 0.8987341772151899, 0.9177215189873418, 0.9177215189873418, 0.9240506329113924, 0.9240506329113924, 0.930379746835443, 0.930379746835443, 0.9367088607594937, 0.9367088607594937, 0.9430379746835443, 0.9430379746835443, 0.9493670886075949, 0.9493670886075949, 0.9556962025316456, 0.9556962025316456, 0.9620253164556962, 0.9620253164556962, 0.9683544303797469, 0.9683544303797469, 0.9746835443037974, 0.9746835443037974, 0.9810126582278481, 0.9810126582278481, 0.9873417721518988, 0.9873417721518988, 0.9936708860759493, 0.9936708860759493, 1.0, 1.0]}],                        {\"template\": {\"data\": {\"bar\": [{\"error_x\": {\"color\": \"#2a3f5f\"}, \"error_y\": {\"color\": \"#2a3f5f\"}, \"marker\": {\"line\": {\"color\": \"#E5ECF6\", \"width\": 0.5}}, \"type\": \"bar\"}], \"barpolar\": [{\"marker\": {\"line\": {\"color\": \"#E5ECF6\", \"width\": 0.5}}, \"type\": \"barpolar\"}], \"carpet\": [{\"aaxis\": {\"endlinecolor\": \"#2a3f5f\", \"gridcolor\": \"white\", \"linecolor\": \"white\", \"minorgridcolor\": \"white\", \"startlinecolor\": \"#2a3f5f\"}, \"baxis\": {\"endlinecolor\": \"#2a3f5f\", \"gridcolor\": \"white\", \"linecolor\": \"white\", \"minorgridcolor\": \"white\", \"startlinecolor\": \"#2a3f5f\"}, \"type\": \"carpet\"}], \"choropleth\": [{\"colorbar\": {\"outlinewidth\": 0, \"ticks\": \"\"}, \"type\": \"choropleth\"}], \"contour\": [{\"colorbar\": {\"outlinewidth\": 0, \"ticks\": \"\"}, \"colorscale\": [[0.0, \"#0d0887\"], [0.1111111111111111, \"#46039f\"], [0.2222222222222222, \"#7201a8\"], [0.3333333333333333, \"#9c179e\"], [0.4444444444444444, \"#bd3786\"], [0.5555555555555556, \"#d8576b\"], [0.6666666666666666, \"#ed7953\"], [0.7777777777777778, \"#fb9f3a\"], [0.8888888888888888, \"#fdca26\"], [1.0, \"#f0f921\"]], \"type\": \"contour\"}], \"contourcarpet\": [{\"colorbar\": {\"outlinewidth\": 0, \"ticks\": \"\"}, \"type\": \"contourcarpet\"}], \"heatmap\": [{\"colorbar\": {\"outlinewidth\": 0, \"ticks\": \"\"}, \"colorscale\": [[0.0, \"#0d0887\"], [0.1111111111111111, \"#46039f\"], [0.2222222222222222, \"#7201a8\"], [0.3333333333333333, \"#9c179e\"], [0.4444444444444444, \"#bd3786\"], [0.5555555555555556, \"#d8576b\"], [0.6666666666666666, \"#ed7953\"], [0.7777777777777778, \"#fb9f3a\"], [0.8888888888888888, \"#fdca26\"], [1.0, \"#f0f921\"]], \"type\": \"heatmap\"}], \"heatmapgl\": [{\"colorbar\": {\"outlinewidth\": 0, \"ticks\": \"\"}, \"colorscale\": [[0.0, \"#0d0887\"], [0.1111111111111111, \"#46039f\"], [0.2222222222222222, \"#7201a8\"], [0.3333333333333333, \"#9c179e\"], [0.4444444444444444, \"#bd3786\"], [0.5555555555555556, \"#d8576b\"], [0.6666666666666666, \"#ed7953\"], [0.7777777777777778, \"#fb9f3a\"], [0.8888888888888888, \"#fdca26\"], [1.0, \"#f0f921\"]], \"type\": \"heatmapgl\"}], \"histogram\": [{\"marker\": {\"colorbar\": {\"outlinewidth\": 0, \"ticks\": \"\"}}, \"type\": \"histogram\"}], \"histogram2d\": [{\"colorbar\": {\"outlinewidth\": 0, \"ticks\": \"\"}, \"colorscale\": [[0.0, \"#0d0887\"], [0.1111111111111111, \"#46039f\"], [0.2222222222222222, \"#7201a8\"], [0.3333333333333333, \"#9c179e\"], [0.4444444444444444, \"#bd3786\"], [0.5555555555555556, \"#d8576b\"], [0.6666666666666666, \"#ed7953\"], [0.7777777777777778, \"#fb9f3a\"], [0.8888888888888888, \"#fdca26\"], [1.0, \"#f0f921\"]], \"type\": \"histogram2d\"}], \"histogram2dcontour\": [{\"colorbar\": {\"outlinewidth\": 0, \"ticks\": \"\"}, \"colorscale\": [[0.0, \"#0d0887\"], [0.1111111111111111, \"#46039f\"], [0.2222222222222222, \"#7201a8\"], [0.3333333333333333, \"#9c179e\"], [0.4444444444444444, \"#bd3786\"], [0.5555555555555556, \"#d8576b\"], [0.6666666666666666, \"#ed7953\"], [0.7777777777777778, \"#fb9f3a\"], [0.8888888888888888, \"#fdca26\"], [1.0, \"#f0f921\"]], \"type\": \"histogram2dcontour\"}], \"mesh3d\": [{\"colorbar\": {\"outlinewidth\": 0, \"ticks\": \"\"}, \"type\": \"mesh3d\"}], \"parcoords\": [{\"line\": {\"colorbar\": {\"outlinewidth\": 0, \"ticks\": \"\"}}, \"type\": \"parcoords\"}], \"pie\": [{\"automargin\": true, \"type\": \"pie\"}], \"scatter\": [{\"marker\": {\"colorbar\": {\"outlinewidth\": 0, \"ticks\": \"\"}}, \"type\": \"scatter\"}], \"scatter3d\": [{\"line\": {\"colorbar\": {\"outlinewidth\": 0, \"ticks\": \"\"}}, \"marker\": {\"colorbar\": {\"outlinewidth\": 0, \"ticks\": \"\"}}, \"type\": \"scatter3d\"}], \"scattercarpet\": [{\"marker\": {\"colorbar\": {\"outlinewidth\": 0, \"ticks\": \"\"}}, \"type\": \"scattercarpet\"}], \"scattergeo\": [{\"marker\": {\"colorbar\": {\"outlinewidth\": 0, \"ticks\": \"\"}}, \"type\": \"scattergeo\"}], \"scattergl\": [{\"marker\": {\"colorbar\": {\"outlinewidth\": 0, \"ticks\": \"\"}}, \"type\": \"scattergl\"}], \"scattermapbox\": [{\"marker\": {\"colorbar\": {\"outlinewidth\": 0, \"ticks\": \"\"}}, \"type\": \"scattermapbox\"}], \"scatterpolar\": [{\"marker\": {\"colorbar\": {\"outlinewidth\": 0, \"ticks\": \"\"}}, \"type\": \"scatterpolar\"}], \"scatterpolargl\": [{\"marker\": {\"colorbar\": {\"outlinewidth\": 0, \"ticks\": \"\"}}, \"type\": \"scatterpolargl\"}], \"scatterternary\": [{\"marker\": {\"colorbar\": {\"outlinewidth\": 0, \"ticks\": \"\"}}, \"type\": \"scatterternary\"}], \"surface\": [{\"colorbar\": {\"outlinewidth\": 0, \"ticks\": \"\"}, \"colorscale\": [[0.0, \"#0d0887\"], [0.1111111111111111, \"#46039f\"], [0.2222222222222222, \"#7201a8\"], [0.3333333333333333, \"#9c179e\"], [0.4444444444444444, \"#bd3786\"], [0.5555555555555556, \"#d8576b\"], [0.6666666666666666, \"#ed7953\"], [0.7777777777777778, \"#fb9f3a\"], [0.8888888888888888, \"#fdca26\"], [1.0, \"#f0f921\"]], \"type\": \"surface\"}], \"table\": [{\"cells\": {\"fill\": {\"color\": \"#EBF0F8\"}, \"line\": {\"color\": \"white\"}}, \"header\": {\"fill\": {\"color\": \"#C8D4E3\"}, \"line\": {\"color\": \"white\"}}, \"type\": \"table\"}]}, \"layout\": {\"annotationdefaults\": {\"arrowcolor\": \"#2a3f5f\", \"arrowhead\": 0, \"arrowwidth\": 1}, \"autotypenumbers\": \"strict\", \"coloraxis\": {\"colorbar\": {\"outlinewidth\": 0, \"ticks\": \"\"}}, \"colorscale\": {\"diverging\": [[0, \"#8e0152\"], [0.1, \"#c51b7d\"], [0.2, \"#de77ae\"], [0.3, \"#f1b6da\"], [0.4, \"#fde0ef\"], [0.5, \"#f7f7f7\"], [0.6, \"#e6f5d0\"], [0.7, \"#b8e186\"], [0.8, \"#7fbc41\"], [0.9, \"#4d9221\"], [1, \"#276419\"]], \"sequential\": [[0.0, \"#0d0887\"], [0.1111111111111111, \"#46039f\"], [0.2222222222222222, \"#7201a8\"], [0.3333333333333333, \"#9c179e\"], [0.4444444444444444, \"#bd3786\"], [0.5555555555555556, \"#d8576b\"], [0.6666666666666666, \"#ed7953\"], [0.7777777777777778, \"#fb9f3a\"], [0.8888888888888888, \"#fdca26\"], [1.0, \"#f0f921\"]], \"sequentialminus\": [[0.0, \"#0d0887\"], [0.1111111111111111, \"#46039f\"], [0.2222222222222222, \"#7201a8\"], [0.3333333333333333, \"#9c179e\"], [0.4444444444444444, \"#bd3786\"], [0.5555555555555556, \"#d8576b\"], [0.6666666666666666, \"#ed7953\"], [0.7777777777777778, \"#fb9f3a\"], [0.8888888888888888, \"#fdca26\"], [1.0, \"#f0f921\"]]}, \"colorway\": [\"#636efa\", \"#EF553B\", \"#00cc96\", \"#ab63fa\", \"#FFA15A\", \"#19d3f3\", \"#FF6692\", \"#B6E880\", \"#FF97FF\", \"#FECB52\"], \"font\": {\"color\": \"#2a3f5f\"}, \"geo\": {\"bgcolor\": \"white\", \"lakecolor\": \"white\", \"landcolor\": \"#E5ECF6\", \"showlakes\": true, \"showland\": true, \"subunitcolor\": \"white\"}, \"hoverlabel\": {\"align\": \"left\"}, \"hovermode\": \"closest\", \"mapbox\": {\"style\": \"light\"}, \"paper_bgcolor\": \"white\", \"plot_bgcolor\": \"#E5ECF6\", \"polar\": {\"angularaxis\": {\"gridcolor\": \"white\", \"linecolor\": \"white\", \"ticks\": \"\"}, \"bgcolor\": \"#E5ECF6\", \"radialaxis\": {\"gridcolor\": \"white\", \"linecolor\": \"white\", \"ticks\": \"\"}}, \"scene\": {\"xaxis\": {\"backgroundcolor\": \"#E5ECF6\", \"gridcolor\": \"white\", \"gridwidth\": 2, \"linecolor\": \"white\", \"showbackground\": true, \"ticks\": \"\", \"zerolinecolor\": \"white\"}, \"yaxis\": {\"backgroundcolor\": \"#E5ECF6\", \"gridcolor\": \"white\", \"gridwidth\": 2, \"linecolor\": \"white\", \"showbackground\": true, \"ticks\": \"\", \"zerolinecolor\": \"white\"}, \"zaxis\": {\"backgroundcolor\": \"#E5ECF6\", \"gridcolor\": \"white\", \"gridwidth\": 2, \"linecolor\": \"white\", \"showbackground\": true, \"ticks\": \"\", \"zerolinecolor\": \"white\"}}, \"shapedefaults\": {\"line\": {\"color\": \"#2a3f5f\"}}, \"ternary\": {\"aaxis\": {\"gridcolor\": \"white\", \"linecolor\": \"white\", \"ticks\": \"\"}, \"baxis\": {\"gridcolor\": \"white\", \"linecolor\": \"white\", \"ticks\": \"\"}, \"bgcolor\": \"#E5ECF6\", \"caxis\": {\"gridcolor\": \"white\", \"linecolor\": \"white\", \"ticks\": \"\"}}, \"title\": {\"x\": 0.05}, \"xaxis\": {\"automargin\": true, \"gridcolor\": \"white\", \"linecolor\": \"white\", \"ticks\": \"\", \"title\": {\"standoff\": 15}, \"zerolinecolor\": \"white\", \"zerolinewidth\": 2}, \"yaxis\": {\"automargin\": true, \"gridcolor\": \"white\", \"linecolor\": \"white\", \"ticks\": \"\", \"title\": {\"standoff\": 15}, \"zerolinecolor\": \"white\", \"zerolinewidth\": 2}}}},                        {\"responsive\": true}                    ).then(function(){\n",
       "                            \n",
       "var gd = document.getElementById('3a8f56fc-812e-4267-a0c1-c1ec3c408983');\n",
       "var x = new MutationObserver(function (mutations, observer) {{\n",
       "        var display = window.getComputedStyle(gd).display;\n",
       "        if (!display || display === 'none') {{\n",
       "            console.log([gd, 'removed!']);\n",
       "            Plotly.purge(gd);\n",
       "            observer.disconnect();\n",
       "        }}\n",
       "}});\n",
       "\n",
       "// Listen for the removal of the full notebook cells\n",
       "var notebookContainer = gd.closest('#notebook-container');\n",
       "if (notebookContainer) {{\n",
       "    x.observe(notebookContainer, {childList: true});\n",
       "}}\n",
       "\n",
       "// Listen for the clearing of the current output cell\n",
       "var outputEl = gd.closest('.output');\n",
       "if (outputEl) {{\n",
       "    x.observe(outputEl, {childList: true});\n",
       "}}\n",
       "\n",
       "                        })                };                });            </script>        </div>"
      ]
     },
     "metadata": {},
     "output_type": "display_data"
    },
    {
     "name": "stdout",
     "output_type": "stream",
     "text": [
      "0.920672254533014\n",
      "P-R Curve\n"
     ]
    },
    {
     "data": {
      "application/vnd.plotly.v1+json": {
       "config": {
        "plotlyServerURL": "https://plot.ly"
       },
       "data": [
        {
         "text": [
          "0.00011346807104133652",
          "0.00019347327364330262",
          "0.00020390496812111152",
          "0.00022441156329078518",
          "0.00024360003145669043",
          "0.0003493683818841947",
          "0.00036083432026455954",
          "0.0004233370540418214",
          "0.0005152973205319588",
          "0.0005317260567010214",
          "0.000609802637374493",
          "0.0006324103725856042",
          "0.0007234076589819275",
          "0.0008916493656675236",
          "0.0009044642645478385",
          "0.0010121139497236598",
          "0.0010966213541317876",
          "0.0012012593126389118",
          "0.00125917626024825",
          "0.001284781169174497",
          "0.0013134796736318623",
          "0.0013533943781007154",
          "0.0015441792632511137",
          "0.00167538635451955",
          "0.0017700929692752055",
          "0.002158135421484871",
          "0.0022141460014912765",
          "0.002323283751760269",
          "0.0029091595931972115",
          "0.0029442353085649938",
          "0.003149367818227751",
          "0.003308762577953683",
          "0.003397274833469417",
          "0.003589654515780701",
          "0.003615070137183568",
          "0.0038330016061026402",
          "0.004457533377211908",
          "0.004467692999391315",
          "0.005037871612008728",
          "0.005064658674810452",
          "0.005200042402200277",
          "0.006178123943039511",
          "0.006656524475544243",
          "0.007349635421126396",
          "0.007549737535220586",
          "0.007582860513271289",
          "0.008699130593571686",
          "0.009158059866658389",
          "0.009208415943670252",
          "0.01031163631507213",
          "0.011216596481500786",
          "0.01666138645575363",
          "0.016814454673196963",
          "0.01800683668207409",
          "0.01808612189460745",
          "0.018775311712175728",
          "0.019112524532214268",
          "0.020578211718501053",
          "0.022829651881284965",
          "0.02513407009920794",
          "0.027826588948297672",
          "0.028428488365423672",
          "0.02925586624841412",
          "0.030564372231126676",
          "0.03297645311469054",
          "0.033207802128985796",
          "0.03388432711250909",
          "0.03394734489284455",
          "0.035141033542562955",
          "0.03517861793021309",
          "0.037441250927713436",
          "0.038219821577384745",
          "0.03937594203585854",
          "0.04084517029800933",
          "0.04134162187732498",
          "0.048505827954699585",
          "0.054679727137160704",
          "0.055693834699799716",
          "0.05640610448078653",
          "0.05678744042292391",
          "0.06052121964926646",
          "0.06143964347442122",
          "0.07109957091649591",
          "0.07727771360760198",
          "0.08811656484260054",
          "0.09268316613444585",
          "0.09935343031796667",
          "0.10025872556443126",
          "0.11053375303456506",
          "0.11621116674037259",
          "0.12948930358522096",
          "0.13246608672456897",
          "0.1351978424306644",
          "0.1426387752434177",
          "0.1527955244379287",
          "0.1554379394632447",
          "0.17874086225950056",
          "0.1820829520325556",
          "0.18655908653814748",
          "0.18917929642624873",
          "0.2183287760031092",
          "0.2234310875047165",
          "0.23521678717613828",
          "0.24299227063274192",
          "0.27377691747576344",
          "0.28540214642636336",
          "0.29706755830362475",
          "0.30030165650816054",
          "0.30455788413053764",
          "0.30905428289751513",
          "0.316093874609012",
          "0.3286465384816028",
          "0.34856304065914323",
          "0.3504723904740972",
          "0.3538119028743232",
          "0.37390545037695394",
          "0.3760876351556729",
          "0.378324987556787",
          "0.38157974714344894",
          "0.3841862624007619",
          "0.3874203784751572",
          "0.39182957219672565",
          "0.3935798777692592",
          "0.4094174951651291",
          "0.4232615329386429",
          "0.4403817291076888",
          "0.4806001308002921",
          "0.48827109365587235",
          "0.5367035619477657",
          "0.5449900666320248",
          "0.5542760454452689",
          "0.5548418564196025",
          "0.5674413959564293",
          "0.5730290216390846",
          "0.6234669684453161",
          "0.6337839936406865",
          "0.6551172870651042",
          "0.6966350169875835",
          "0.696769009601256",
          "0.6969734683560781",
          "0.6978519859582426",
          "0.7043834744963048",
          "0.7286781286112981",
          "0.7303557295539933",
          "0.7624298905171037",
          "0.7655482250838019",
          "0.7782887093430063",
          "0.7812605248547007",
          "0.7897792246992286",
          "0.7939584206228625",
          "0.8099697515955478",
          "0.8153874603917003",
          "0.8294240129856044",
          "0.8300768966189436",
          "0.8426529199563103",
          "0.8428256379597299",
          "0.8575943838671748",
          "0.8675099519236555",
          "0.8695628328390294",
          "0.8737775989431129",
          "0.9010221075261694",
          "0.9011499645301699",
          "0.9016355763447892",
          "0.9153767749594494",
          "0.9155959806339473",
          "0.9178404611418896",
          "0.9186909710460642",
          "0.9213479390618973",
          "0.9261661945230476",
          "0.9297707208232135",
          "0.9385849305426083",
          "0.9413337797761953",
          "0.9414927344891403",
          "0.9467415217138766",
          "0.9543642887291739",
          "0.9551475024121793",
          "0.9570013988262707",
          "0.9644247317118907",
          "0.9673686854868917",
          "0.968212622438041",
          "0.9706094604501093",
          "0.9732118466247897",
          "0.9760546852830095",
          "0.9762427299230646",
          "0.9773686031443728",
          "0.9777380675267388",
          "0.9819691349806057",
          "0.9822670616583302",
          "0.9831871842875582",
          "0.9836413684429867",
          "0.9849043689968686",
          "0.9855115399048205",
          "0.9863757972658587",
          "0.9864728396424024",
          "0.9869845660068065",
          "0.9876558895590317",
          "0.9882559782619895",
          "0.9885652951552358",
          "0.9890888615479111",
          "0.9897144920863578",
          "0.9911179357790969",
          "0.9912345625958624",
          "0.9922471997358189",
          "0.9928824422344483",
          "0.9931822153176701",
          "0.9936047094765688",
          "0.9938813022232792",
          "0.9941881660549842",
          "0.994480315981862",
          "0.9945413182695708",
          "0.9947622730765976",
          "0.9956115021150229",
          "0.9956475461803013",
          "0.99566716087293",
          "0.9966698365632249",
          "0.9973605232469078",
          "0.9974266421326304",
          "0.9975039210205259",
          "0.9975721271278685",
          "0.9977428638100831",
          "0.998051313438963",
          "0.9980628611372997",
          "0.9982871311679206",
          "0.9982890528441275",
          "0.998416800558988",
          "0.998572271799759",
          "0.9986311615480219",
          "0.9986409290734175",
          "0.9986419624733222",
          "0.9986730541635603",
          "0.9988370890146115",
          "0.9989198311290572",
          "0.999066401707269",
          "0.9991425255350764",
          "0.9991548789384375",
          "0.9992618462777961",
          "0.9992717639136348",
          "0.9992774414823982",
          "0.9993258260569804",
          "0.9994442344583192",
          "0.9994475003509509",
          "0.999459445321903",
          "0.9994659995562735",
          "0.9994664095134237",
          "0.9994817492003885",
          "0.9995040738766044",
          "0.9995351952847166",
          "0.9995422217685493",
          "0.9996133662747422",
          "0.9996586974230546",
          "0.9996714059979438",
          "0.9996739657393328",
          "0.999777076323624",
          "0.9997775069346273",
          "0.999828986087816",
          "0.9998351898291628",
          "0.9998664911403745",
          "0.9998788170334999",
          "0.9998957378805255",
          "0.9999017775927193",
          "0.9999048004807",
          "0.9999155431537062",
          "0.999930494170584",
          "0.9999338686436133",
          "0.999936580787474",
          "0.9999427953439005",
          "0.9999649444527798",
          "0.9999731449998892",
          "0.9999771065161269",
          "0.9999811497384605",
          "0.9999814910449789",
          "0.9999844146723652",
          "0.9999862809995755",
          "0.9999875005930564",
          "0.9999896528965453",
          "0.9999926147534065",
          "0.9999958325590637",
          "0.9999988846736366",
          "0.9999990389324753",
          "0.9999990905515652",
          "0.9999995227412959"
         ],
         "type": "scatter",
         "x": [
          1,
          0.9936708860759493,
          0.9936708860759493,
          0.9936708860759493,
          0.9936708860759493,
          0.9936708860759493,
          0.9936708860759493,
          0.9936708860759493,
          0.9936708860759493,
          0.9936708860759493,
          0.9936708860759493,
          0.9936708860759493,
          0.9936708860759493,
          0.9936708860759493,
          0.9873417721518988,
          0.9873417721518988,
          0.9873417721518988,
          0.9873417721518988,
          0.9873417721518988,
          0.9810126582278481,
          0.9810126582278481,
          0.9810126582278481,
          0.9746835443037974,
          0.9746835443037974,
          0.9746835443037974,
          0.9746835443037974,
          0.9746835443037974,
          0.9746835443037974,
          0.9683544303797469,
          0.9683544303797469,
          0.9683544303797469,
          0.9683544303797469,
          0.9683544303797469,
          0.9683544303797469,
          0.9683544303797469,
          0.9683544303797469,
          0.9620253164556962,
          0.9620253164556962,
          0.9620253164556962,
          0.9620253164556962,
          0.9620253164556962,
          0.9620253164556962,
          0.9620253164556962,
          0.9620253164556962,
          0.9620253164556962,
          0.9620253164556962,
          0.9620253164556962,
          0.9620253164556962,
          0.9620253164556962,
          0.9620253164556962,
          0.9620253164556962,
          0.9620253164556962,
          0.9620253164556962,
          0.9620253164556962,
          0.9620253164556962,
          0.9620253164556962,
          0.9556962025316456,
          0.9556962025316456,
          0.9556962025316456,
          0.9556962025316456,
          0.9556962025316456,
          0.9556962025316456,
          0.9556962025316456,
          0.9556962025316456,
          0.9556962025316456,
          0.9493670886075949,
          0.9493670886075949,
          0.9493670886075949,
          0.9430379746835443,
          0.9430379746835443,
          0.9430379746835443,
          0.9430379746835443,
          0.9367088607594937,
          0.9367088607594937,
          0.9367088607594937,
          0.9367088607594937,
          0.9367088607594937,
          0.9367088607594937,
          0.9367088607594937,
          0.9367088607594937,
          0.9367088607594937,
          0.9367088607594937,
          0.930379746835443,
          0.930379746835443,
          0.9240506329113924,
          0.9240506329113924,
          0.9177215189873418,
          0.9177215189873418,
          0.9177215189873418,
          0.9113924050632911,
          0.9050632911392406,
          0.8987341772151899,
          0.8987341772151899,
          0.8987341772151899,
          0.8924050632911392,
          0.8860759493670886,
          0.8860759493670886,
          0.8860759493670886,
          0.8860759493670886,
          0.8860759493670886,
          0.8860759493670886,
          0.8860759493670886,
          0.879746835443038,
          0.8734177215189873,
          0.8734177215189873,
          0.8734177215189873,
          0.8734177215189873,
          0.8734177215189873,
          0.8734177215189873,
          0.8670886075949367,
          0.8670886075949367,
          0.8670886075949367,
          0.8670886075949367,
          0.8607594936708861,
          0.8607594936708861,
          0.8544303797468354,
          0.8481012658227848,
          0.8481012658227848,
          0.8481012658227848,
          0.8417721518987342,
          0.8417721518987342,
          0.8417721518987342,
          0.8417721518987342,
          0.8417721518987342,
          0.8417721518987342,
          0.8417721518987342,
          0.8417721518987342,
          0.8417721518987342,
          0.8417721518987342,
          0.8417721518987342,
          0.8354430379746836,
          0.8354430379746836,
          0.8354430379746836,
          0.8354430379746836,
          0.8354430379746836,
          0.8291139240506329,
          0.8291139240506329,
          0.8227848101265823,
          0.8227848101265823,
          0.8164556962025317,
          0.8164556962025317,
          0.810126582278481,
          0.8037974683544303,
          0.7974683544303798,
          0.7911392405063291,
          0.7911392405063291,
          0.7848101265822784,
          0.7784810126582279,
          0.7784810126582279,
          0.7721518987341772,
          0.7658227848101266,
          0.759493670886076,
          0.7531645569620253,
          0.7531645569620253,
          0.7468354430379747,
          0.740506329113924,
          0.7341772151898734,
          0.7278481012658228,
          0.7215189873417721,
          0.7215189873417721,
          0.7215189873417721,
          0.7151898734177216,
          0.7088607594936709,
          0.7025316455696202,
          0.6962025316455697,
          0.689873417721519,
          0.6835443037974683,
          0.6835443037974683,
          0.6835443037974683,
          0.6772151898734177,
          0.6708860759493671,
          0.6708860759493671,
          0.6645569620253164,
          0.6582278481012658,
          0.6518987341772152,
          0.6518987341772152,
          0.6455696202531646,
          0.6392405063291139,
          0.6329113924050633,
          0.6265822784810127,
          0.620253164556962,
          0.6139240506329114,
          0.6075949367088608,
          0.6075949367088608,
          0.6075949367088608,
          0.6012658227848101,
          0.5949367088607594,
          0.5886075949367089,
          0.5822784810126582,
          0.5759493670886076,
          0.569620253164557,
          0.5632911392405063,
          0.5569620253164557,
          0.5506329113924051,
          0.5443037974683544,
          0.5379746835443038,
          0.5316455696202531,
          0.5253164556962026,
          0.5189873417721519,
          0.5126582278481012,
          0.5063291139240507,
          0.5,
          0.4936708860759494,
          0.4873417721518987,
          0.4810126582278481,
          0.47468354430379744,
          0.46835443037974683,
          0.4620253164556962,
          0.4620253164556962,
          0.45569620253164556,
          0.44936708860759494,
          0.4430379746835443,
          0.43670886075949367,
          0.43037974683544306,
          0.4240506329113924,
          0.4177215189873418,
          0.41139240506329117,
          0.4050632911392405,
          0.3987341772151899,
          0.3924050632911392,
          0.3860759493670886,
          0.379746835443038,
          0.37341772151898733,
          0.3670886075949367,
          0.36075949367088606,
          0.35443037974683544,
          0.34810126582278483,
          0.34177215189873417,
          0.33544303797468356,
          0.3291139240506329,
          0.3227848101265823,
          0.31645569620253167,
          0.310126582278481,
          0.3037974683544304,
          0.2974683544303797,
          0.2911392405063291,
          0.2848101265822785,
          0.27848101265822783,
          0.2721518987341772,
          0.26582278481012656,
          0.25949367088607594,
          0.25316455696202533,
          0.2468354430379747,
          0.24050632911392406,
          0.23417721518987342,
          0.22784810126582278,
          0.22151898734177214,
          0.21518987341772153,
          0.2088607594936709,
          0.20253164556962025,
          0.1962025316455696,
          0.189873417721519,
          0.18354430379746836,
          0.17721518987341772,
          0.17088607594936708,
          0.16455696202531644,
          0.15822784810126583,
          0.1518987341772152,
          0.14556962025316456,
          0.13924050632911392,
          0.13291139240506328,
          0.12658227848101267,
          0.12025316455696203,
          0.11392405063291139,
          0.10759493670886076,
          0.10126582278481013,
          0.0949367088607595,
          0.08860759493670886,
          0.08227848101265822,
          0.0759493670886076,
          0.06962025316455696,
          0.06329113924050633,
          0.056962025316455694,
          0.05063291139240506,
          0.04430379746835443,
          0.0379746835443038,
          0.03164556962025317,
          0.02531645569620253,
          0.0189873417721519,
          0.012658227848101266,
          0.006329113924050633,
          0
         ],
         "y": [
          0.5622775800711743,
          0.5607142857142857,
          0.5627240143369175,
          0.564748201438849,
          0.5667870036101083,
          0.5688405797101449,
          0.5709090909090909,
          0.572992700729927,
          0.575091575091575,
          0.5772058823529411,
          0.5793357933579336,
          0.5814814814814815,
          0.5836431226765799,
          0.585820895522388,
          0.5842696629213483,
          0.5864661654135338,
          0.5886792452830188,
          0.5909090909090909,
          0.5931558935361216,
          0.5916030534351145,
          0.5938697318007663,
          0.5961538461538461,
          0.5945945945945946,
          0.5968992248062015,
          0.5992217898832685,
          0.6015625,
          0.6039215686274509,
          0.6062992125984252,
          0.6047430830039525,
          0.6071428571428571,
          0.6095617529880478,
          0.612,
          0.6144578313253012,
          0.6169354838709677,
          0.6194331983805668,
          0.6219512195121951,
          0.6204081632653061,
          0.6229508196721312,
          0.6255144032921811,
          0.628099173553719,
          0.6307053941908713,
          0.6333333333333333,
          0.6359832635983264,
          0.6386554621848739,
          0.6413502109704642,
          0.6440677966101694,
          0.6468085106382979,
          0.6495726495726496,
          0.6523605150214592,
          0.6551724137931034,
          0.658008658008658,
          0.6608695652173913,
          0.6637554585152838,
          0.6666666666666666,
          0.6696035242290749,
          0.672566371681416,
          0.6711111111111111,
          0.6741071428571429,
          0.6771300448430493,
          0.6801801801801802,
          0.6832579185520362,
          0.6863636363636364,
          0.6894977168949772,
          0.6926605504587156,
          0.695852534562212,
          0.6944444444444444,
          0.6976744186046512,
          0.7009345794392523,
          0.6995305164319249,
          0.7028301886792453,
          0.7061611374407583,
          0.7095238095238096,
          0.7081339712918661,
          0.7115384615384616,
          0.714975845410628,
          0.7184466019417476,
          0.7219512195121951,
          0.7254901960784313,
          0.729064039408867,
          0.7326732673267327,
          0.736318407960199,
          0.74,
          0.7386934673366834,
          0.7424242424242424,
          0.7411167512690355,
          0.7448979591836735,
          0.7435897435897436,
          0.7474226804123711,
          0.7512953367875648,
          0.75,
          0.7486910994764397,
          0.7473684210526316,
          0.7513227513227513,
          0.7553191489361702,
          0.7540106951871658,
          0.7526881720430108,
          0.7567567567567568,
          0.7608695652173914,
          0.7650273224043715,
          0.7692307692307693,
          0.7734806629834254,
          0.7777777777777778,
          0.776536312849162,
          0.7752808988764045,
          0.7796610169491526,
          0.7840909090909091,
          0.7885714285714286,
          0.7931034482758621,
          0.7976878612716763,
          0.7965116279069767,
          0.8011695906432749,
          0.8058823529411765,
          0.8106508875739645,
          0.8095238095238095,
          0.8143712574850299,
          0.8132530120481928,
          0.8121212121212121,
          0.8170731707317073,
          0.8220858895705522,
          0.8209876543209876,
          0.8260869565217391,
          0.83125,
          0.8364779874213837,
          0.8417721518987342,
          0.8471337579617835,
          0.8525641025641025,
          0.8580645161290322,
          0.8636363636363636,
          0.869281045751634,
          0.875,
          0.8741721854304636,
          0.88,
          0.8859060402684564,
          0.8918918918918919,
          0.8979591836734694,
          0.8972602739726028,
          0.903448275862069,
          0.9027777777777778,
          0.9090909090909091,
          0.9084507042253521,
          0.9148936170212766,
          0.9142857142857143,
          0.9136690647482014,
          0.9130434782608695,
          0.9124087591240876,
          0.9191176470588235,
          0.9185185185185185,
          0.917910447761194,
          0.924812030075188,
          0.9242424242424242,
          0.9236641221374046,
          0.9230769230769231,
          0.9224806201550387,
          0.9296875,
          0.9291338582677166,
          0.9285714285714286,
          0.928,
          0.9274193548387096,
          0.926829268292683,
          0.9344262295081968,
          0.9421487603305785,
          0.9416666666666667,
          0.9411764705882353,
          0.940677966101695,
          0.9401709401709402,
          0.9396551724137931,
          0.9391304347826087,
          0.9473684210526315,
          0.9557522123893806,
          0.9553571428571429,
          0.954954954954955,
          0.9636363636363636,
          0.963302752293578,
          0.9629629629629629,
          0.9626168224299065,
          0.9716981132075472,
          0.9714285714285714,
          0.9711538461538461,
          0.970873786407767,
          0.9705882352941176,
          0.9702970297029703,
          0.97,
          0.9696969696969697,
          0.9795918367346939,
          0.9896907216494846,
          0.9895833333333334,
          0.9894736842105263,
          0.9893617021276596,
          0.989247311827957,
          0.9891304347826086,
          0.989010989010989,
          0.9888888888888889,
          0.9887640449438202,
          0.9886363636363636,
          0.9885057471264368,
          0.9883720930232558,
          0.9882352941176471,
          0.9880952380952381,
          0.9879518072289156,
          0.9878048780487805,
          0.9876543209876543,
          0.9875,
          0.9873417721518988,
          0.9871794871794872,
          0.987012987012987,
          0.9868421052631579,
          0.9866666666666667,
          0.9864864864864865,
          1,
          1,
          1,
          1,
          1,
          1,
          1,
          1,
          1,
          1,
          1,
          1,
          1,
          1,
          1,
          1,
          1,
          1,
          1,
          1,
          1,
          1,
          1,
          1,
          1,
          1,
          1,
          1,
          1,
          1,
          1,
          1,
          1,
          1,
          1,
          1,
          1,
          1,
          1,
          1,
          1,
          1,
          1,
          1,
          1,
          1,
          1,
          1,
          1,
          1,
          1,
          1,
          1,
          1,
          1,
          1,
          1,
          1,
          1,
          1,
          1,
          1,
          1,
          1,
          1,
          1,
          1,
          1,
          1,
          1,
          1,
          1,
          1,
          1
         ]
        }
       ],
       "layout": {
        "template": {
         "data": {
          "bar": [
           {
            "error_x": {
             "color": "#2a3f5f"
            },
            "error_y": {
             "color": "#2a3f5f"
            },
            "marker": {
             "line": {
              "color": "#E5ECF6",
              "width": 0.5
             }
            },
            "type": "bar"
           }
          ],
          "barpolar": [
           {
            "marker": {
             "line": {
              "color": "#E5ECF6",
              "width": 0.5
             }
            },
            "type": "barpolar"
           }
          ],
          "carpet": [
           {
            "aaxis": {
             "endlinecolor": "#2a3f5f",
             "gridcolor": "white",
             "linecolor": "white",
             "minorgridcolor": "white",
             "startlinecolor": "#2a3f5f"
            },
            "baxis": {
             "endlinecolor": "#2a3f5f",
             "gridcolor": "white",
             "linecolor": "white",
             "minorgridcolor": "white",
             "startlinecolor": "#2a3f5f"
            },
            "type": "carpet"
           }
          ],
          "choropleth": [
           {
            "colorbar": {
             "outlinewidth": 0,
             "ticks": ""
            },
            "type": "choropleth"
           }
          ],
          "contour": [
           {
            "colorbar": {
             "outlinewidth": 0,
             "ticks": ""
            },
            "colorscale": [
             [
              0,
              "#0d0887"
             ],
             [
              0.1111111111111111,
              "#46039f"
             ],
             [
              0.2222222222222222,
              "#7201a8"
             ],
             [
              0.3333333333333333,
              "#9c179e"
             ],
             [
              0.4444444444444444,
              "#bd3786"
             ],
             [
              0.5555555555555556,
              "#d8576b"
             ],
             [
              0.6666666666666666,
              "#ed7953"
             ],
             [
              0.7777777777777778,
              "#fb9f3a"
             ],
             [
              0.8888888888888888,
              "#fdca26"
             ],
             [
              1,
              "#f0f921"
             ]
            ],
            "type": "contour"
           }
          ],
          "contourcarpet": [
           {
            "colorbar": {
             "outlinewidth": 0,
             "ticks": ""
            },
            "type": "contourcarpet"
           }
          ],
          "heatmap": [
           {
            "colorbar": {
             "outlinewidth": 0,
             "ticks": ""
            },
            "colorscale": [
             [
              0,
              "#0d0887"
             ],
             [
              0.1111111111111111,
              "#46039f"
             ],
             [
              0.2222222222222222,
              "#7201a8"
             ],
             [
              0.3333333333333333,
              "#9c179e"
             ],
             [
              0.4444444444444444,
              "#bd3786"
             ],
             [
              0.5555555555555556,
              "#d8576b"
             ],
             [
              0.6666666666666666,
              "#ed7953"
             ],
             [
              0.7777777777777778,
              "#fb9f3a"
             ],
             [
              0.8888888888888888,
              "#fdca26"
             ],
             [
              1,
              "#f0f921"
             ]
            ],
            "type": "heatmap"
           }
          ],
          "heatmapgl": [
           {
            "colorbar": {
             "outlinewidth": 0,
             "ticks": ""
            },
            "colorscale": [
             [
              0,
              "#0d0887"
             ],
             [
              0.1111111111111111,
              "#46039f"
             ],
             [
              0.2222222222222222,
              "#7201a8"
             ],
             [
              0.3333333333333333,
              "#9c179e"
             ],
             [
              0.4444444444444444,
              "#bd3786"
             ],
             [
              0.5555555555555556,
              "#d8576b"
             ],
             [
              0.6666666666666666,
              "#ed7953"
             ],
             [
              0.7777777777777778,
              "#fb9f3a"
             ],
             [
              0.8888888888888888,
              "#fdca26"
             ],
             [
              1,
              "#f0f921"
             ]
            ],
            "type": "heatmapgl"
           }
          ],
          "histogram": [
           {
            "marker": {
             "colorbar": {
              "outlinewidth": 0,
              "ticks": ""
             }
            },
            "type": "histogram"
           }
          ],
          "histogram2d": [
           {
            "colorbar": {
             "outlinewidth": 0,
             "ticks": ""
            },
            "colorscale": [
             [
              0,
              "#0d0887"
             ],
             [
              0.1111111111111111,
              "#46039f"
             ],
             [
              0.2222222222222222,
              "#7201a8"
             ],
             [
              0.3333333333333333,
              "#9c179e"
             ],
             [
              0.4444444444444444,
              "#bd3786"
             ],
             [
              0.5555555555555556,
              "#d8576b"
             ],
             [
              0.6666666666666666,
              "#ed7953"
             ],
             [
              0.7777777777777778,
              "#fb9f3a"
             ],
             [
              0.8888888888888888,
              "#fdca26"
             ],
             [
              1,
              "#f0f921"
             ]
            ],
            "type": "histogram2d"
           }
          ],
          "histogram2dcontour": [
           {
            "colorbar": {
             "outlinewidth": 0,
             "ticks": ""
            },
            "colorscale": [
             [
              0,
              "#0d0887"
             ],
             [
              0.1111111111111111,
              "#46039f"
             ],
             [
              0.2222222222222222,
              "#7201a8"
             ],
             [
              0.3333333333333333,
              "#9c179e"
             ],
             [
              0.4444444444444444,
              "#bd3786"
             ],
             [
              0.5555555555555556,
              "#d8576b"
             ],
             [
              0.6666666666666666,
              "#ed7953"
             ],
             [
              0.7777777777777778,
              "#fb9f3a"
             ],
             [
              0.8888888888888888,
              "#fdca26"
             ],
             [
              1,
              "#f0f921"
             ]
            ],
            "type": "histogram2dcontour"
           }
          ],
          "mesh3d": [
           {
            "colorbar": {
             "outlinewidth": 0,
             "ticks": ""
            },
            "type": "mesh3d"
           }
          ],
          "parcoords": [
           {
            "line": {
             "colorbar": {
              "outlinewidth": 0,
              "ticks": ""
             }
            },
            "type": "parcoords"
           }
          ],
          "pie": [
           {
            "automargin": true,
            "type": "pie"
           }
          ],
          "scatter": [
           {
            "marker": {
             "colorbar": {
              "outlinewidth": 0,
              "ticks": ""
             }
            },
            "type": "scatter"
           }
          ],
          "scatter3d": [
           {
            "line": {
             "colorbar": {
              "outlinewidth": 0,
              "ticks": ""
             }
            },
            "marker": {
             "colorbar": {
              "outlinewidth": 0,
              "ticks": ""
             }
            },
            "type": "scatter3d"
           }
          ],
          "scattercarpet": [
           {
            "marker": {
             "colorbar": {
              "outlinewidth": 0,
              "ticks": ""
             }
            },
            "type": "scattercarpet"
           }
          ],
          "scattergeo": [
           {
            "marker": {
             "colorbar": {
              "outlinewidth": 0,
              "ticks": ""
             }
            },
            "type": "scattergeo"
           }
          ],
          "scattergl": [
           {
            "marker": {
             "colorbar": {
              "outlinewidth": 0,
              "ticks": ""
             }
            },
            "type": "scattergl"
           }
          ],
          "scattermapbox": [
           {
            "marker": {
             "colorbar": {
              "outlinewidth": 0,
              "ticks": ""
             }
            },
            "type": "scattermapbox"
           }
          ],
          "scatterpolar": [
           {
            "marker": {
             "colorbar": {
              "outlinewidth": 0,
              "ticks": ""
             }
            },
            "type": "scatterpolar"
           }
          ],
          "scatterpolargl": [
           {
            "marker": {
             "colorbar": {
              "outlinewidth": 0,
              "ticks": ""
             }
            },
            "type": "scatterpolargl"
           }
          ],
          "scatterternary": [
           {
            "marker": {
             "colorbar": {
              "outlinewidth": 0,
              "ticks": ""
             }
            },
            "type": "scatterternary"
           }
          ],
          "surface": [
           {
            "colorbar": {
             "outlinewidth": 0,
             "ticks": ""
            },
            "colorscale": [
             [
              0,
              "#0d0887"
             ],
             [
              0.1111111111111111,
              "#46039f"
             ],
             [
              0.2222222222222222,
              "#7201a8"
             ],
             [
              0.3333333333333333,
              "#9c179e"
             ],
             [
              0.4444444444444444,
              "#bd3786"
             ],
             [
              0.5555555555555556,
              "#d8576b"
             ],
             [
              0.6666666666666666,
              "#ed7953"
             ],
             [
              0.7777777777777778,
              "#fb9f3a"
             ],
             [
              0.8888888888888888,
              "#fdca26"
             ],
             [
              1,
              "#f0f921"
             ]
            ],
            "type": "surface"
           }
          ],
          "table": [
           {
            "cells": {
             "fill": {
              "color": "#EBF0F8"
             },
             "line": {
              "color": "white"
             }
            },
            "header": {
             "fill": {
              "color": "#C8D4E3"
             },
             "line": {
              "color": "white"
             }
            },
            "type": "table"
           }
          ]
         },
         "layout": {
          "annotationdefaults": {
           "arrowcolor": "#2a3f5f",
           "arrowhead": 0,
           "arrowwidth": 1
          },
          "autotypenumbers": "strict",
          "coloraxis": {
           "colorbar": {
            "outlinewidth": 0,
            "ticks": ""
           }
          },
          "colorscale": {
           "diverging": [
            [
             0,
             "#8e0152"
            ],
            [
             0.1,
             "#c51b7d"
            ],
            [
             0.2,
             "#de77ae"
            ],
            [
             0.3,
             "#f1b6da"
            ],
            [
             0.4,
             "#fde0ef"
            ],
            [
             0.5,
             "#f7f7f7"
            ],
            [
             0.6,
             "#e6f5d0"
            ],
            [
             0.7,
             "#b8e186"
            ],
            [
             0.8,
             "#7fbc41"
            ],
            [
             0.9,
             "#4d9221"
            ],
            [
             1,
             "#276419"
            ]
           ],
           "sequential": [
            [
             0,
             "#0d0887"
            ],
            [
             0.1111111111111111,
             "#46039f"
            ],
            [
             0.2222222222222222,
             "#7201a8"
            ],
            [
             0.3333333333333333,
             "#9c179e"
            ],
            [
             0.4444444444444444,
             "#bd3786"
            ],
            [
             0.5555555555555556,
             "#d8576b"
            ],
            [
             0.6666666666666666,
             "#ed7953"
            ],
            [
             0.7777777777777778,
             "#fb9f3a"
            ],
            [
             0.8888888888888888,
             "#fdca26"
            ],
            [
             1,
             "#f0f921"
            ]
           ],
           "sequentialminus": [
            [
             0,
             "#0d0887"
            ],
            [
             0.1111111111111111,
             "#46039f"
            ],
            [
             0.2222222222222222,
             "#7201a8"
            ],
            [
             0.3333333333333333,
             "#9c179e"
            ],
            [
             0.4444444444444444,
             "#bd3786"
            ],
            [
             0.5555555555555556,
             "#d8576b"
            ],
            [
             0.6666666666666666,
             "#ed7953"
            ],
            [
             0.7777777777777778,
             "#fb9f3a"
            ],
            [
             0.8888888888888888,
             "#fdca26"
            ],
            [
             1,
             "#f0f921"
            ]
           ]
          },
          "colorway": [
           "#636efa",
           "#EF553B",
           "#00cc96",
           "#ab63fa",
           "#FFA15A",
           "#19d3f3",
           "#FF6692",
           "#B6E880",
           "#FF97FF",
           "#FECB52"
          ],
          "font": {
           "color": "#2a3f5f"
          },
          "geo": {
           "bgcolor": "white",
           "lakecolor": "white",
           "landcolor": "#E5ECF6",
           "showlakes": true,
           "showland": true,
           "subunitcolor": "white"
          },
          "hoverlabel": {
           "align": "left"
          },
          "hovermode": "closest",
          "mapbox": {
           "style": "light"
          },
          "paper_bgcolor": "white",
          "plot_bgcolor": "#E5ECF6",
          "polar": {
           "angularaxis": {
            "gridcolor": "white",
            "linecolor": "white",
            "ticks": ""
           },
           "bgcolor": "#E5ECF6",
           "radialaxis": {
            "gridcolor": "white",
            "linecolor": "white",
            "ticks": ""
           }
          },
          "scene": {
           "xaxis": {
            "backgroundcolor": "#E5ECF6",
            "gridcolor": "white",
            "gridwidth": 2,
            "linecolor": "white",
            "showbackground": true,
            "ticks": "",
            "zerolinecolor": "white"
           },
           "yaxis": {
            "backgroundcolor": "#E5ECF6",
            "gridcolor": "white",
            "gridwidth": 2,
            "linecolor": "white",
            "showbackground": true,
            "ticks": "",
            "zerolinecolor": "white"
           },
           "zaxis": {
            "backgroundcolor": "#E5ECF6",
            "gridcolor": "white",
            "gridwidth": 2,
            "linecolor": "white",
            "showbackground": true,
            "ticks": "",
            "zerolinecolor": "white"
           }
          },
          "shapedefaults": {
           "line": {
            "color": "#2a3f5f"
           }
          },
          "ternary": {
           "aaxis": {
            "gridcolor": "white",
            "linecolor": "white",
            "ticks": ""
           },
           "baxis": {
            "gridcolor": "white",
            "linecolor": "white",
            "ticks": ""
           },
           "bgcolor": "#E5ECF6",
           "caxis": {
            "gridcolor": "white",
            "linecolor": "white",
            "ticks": ""
           }
          },
          "title": {
           "x": 0.05
          },
          "xaxis": {
           "automargin": true,
           "gridcolor": "white",
           "linecolor": "white",
           "ticks": "",
           "title": {
            "standoff": 15
           },
           "zerolinecolor": "white",
           "zerolinewidth": 2
          },
          "yaxis": {
           "automargin": true,
           "gridcolor": "white",
           "linecolor": "white",
           "ticks": "",
           "title": {
            "standoff": 15
           },
           "zerolinecolor": "white",
           "zerolinewidth": 2
          }
         }
        }
       }
      },
      "text/html": [
       "<div>                            <div id=\"db4f520d-4456-4fef-8618-d40c5862c5e2\" class=\"plotly-graph-div\" style=\"height:525px; width:100%;\"></div>            <script type=\"text/javascript\">                require([\"plotly\"], function(Plotly) {                    window.PLOTLYENV=window.PLOTLYENV || {};                                    if (document.getElementById(\"db4f520d-4456-4fef-8618-d40c5862c5e2\")) {                    Plotly.newPlot(                        \"db4f520d-4456-4fef-8618-d40c5862c5e2\",                        [{\"text\": [\"0.00011346807104133652\", \"0.00019347327364330262\", \"0.00020390496812111152\", \"0.00022441156329078518\", \"0.00024360003145669043\", \"0.0003493683818841947\", \"0.00036083432026455954\", \"0.0004233370540418214\", \"0.0005152973205319588\", \"0.0005317260567010214\", \"0.000609802637374493\", \"0.0006324103725856042\", \"0.0007234076589819275\", \"0.0008916493656675236\", \"0.0009044642645478385\", \"0.0010121139497236598\", \"0.0010966213541317876\", \"0.0012012593126389118\", \"0.00125917626024825\", \"0.001284781169174497\", \"0.0013134796736318623\", \"0.0013533943781007154\", \"0.0015441792632511137\", \"0.00167538635451955\", \"0.0017700929692752055\", \"0.002158135421484871\", \"0.0022141460014912765\", \"0.002323283751760269\", \"0.0029091595931972115\", \"0.0029442353085649938\", \"0.003149367818227751\", \"0.003308762577953683\", \"0.003397274833469417\", \"0.003589654515780701\", \"0.003615070137183568\", \"0.0038330016061026402\", \"0.004457533377211908\", \"0.004467692999391315\", \"0.005037871612008728\", \"0.005064658674810452\", \"0.005200042402200277\", \"0.006178123943039511\", \"0.006656524475544243\", \"0.007349635421126396\", \"0.007549737535220586\", \"0.007582860513271289\", \"0.008699130593571686\", \"0.009158059866658389\", \"0.009208415943670252\", \"0.01031163631507213\", \"0.011216596481500786\", \"0.01666138645575363\", \"0.016814454673196963\", \"0.01800683668207409\", \"0.01808612189460745\", \"0.018775311712175728\", \"0.019112524532214268\", \"0.020578211718501053\", \"0.022829651881284965\", \"0.02513407009920794\", \"0.027826588948297672\", \"0.028428488365423672\", \"0.02925586624841412\", \"0.030564372231126676\", \"0.03297645311469054\", \"0.033207802128985796\", \"0.03388432711250909\", \"0.03394734489284455\", \"0.035141033542562955\", \"0.03517861793021309\", \"0.037441250927713436\", \"0.038219821577384745\", \"0.03937594203585854\", \"0.04084517029800933\", \"0.04134162187732498\", \"0.048505827954699585\", \"0.054679727137160704\", \"0.055693834699799716\", \"0.05640610448078653\", \"0.05678744042292391\", \"0.06052121964926646\", \"0.06143964347442122\", \"0.07109957091649591\", \"0.07727771360760198\", \"0.08811656484260054\", \"0.09268316613444585\", \"0.09935343031796667\", \"0.10025872556443126\", \"0.11053375303456506\", \"0.11621116674037259\", \"0.12948930358522096\", \"0.13246608672456897\", \"0.1351978424306644\", \"0.1426387752434177\", \"0.1527955244379287\", \"0.1554379394632447\", \"0.17874086225950056\", \"0.1820829520325556\", \"0.18655908653814748\", \"0.18917929642624873\", \"0.2183287760031092\", \"0.2234310875047165\", \"0.23521678717613828\", \"0.24299227063274192\", \"0.27377691747576344\", \"0.28540214642636336\", \"0.29706755830362475\", \"0.30030165650816054\", \"0.30455788413053764\", \"0.30905428289751513\", \"0.316093874609012\", \"0.3286465384816028\", \"0.34856304065914323\", \"0.3504723904740972\", \"0.3538119028743232\", \"0.37390545037695394\", \"0.3760876351556729\", \"0.378324987556787\", \"0.38157974714344894\", \"0.3841862624007619\", \"0.3874203784751572\", \"0.39182957219672565\", \"0.3935798777692592\", \"0.4094174951651291\", \"0.4232615329386429\", \"0.4403817291076888\", \"0.4806001308002921\", \"0.48827109365587235\", \"0.5367035619477657\", \"0.5449900666320248\", \"0.5542760454452689\", \"0.5548418564196025\", \"0.5674413959564293\", \"0.5730290216390846\", \"0.6234669684453161\", \"0.6337839936406865\", \"0.6551172870651042\", \"0.6966350169875835\", \"0.696769009601256\", \"0.6969734683560781\", \"0.6978519859582426\", \"0.7043834744963048\", \"0.7286781286112981\", \"0.7303557295539933\", \"0.7624298905171037\", \"0.7655482250838019\", \"0.7782887093430063\", \"0.7812605248547007\", \"0.7897792246992286\", \"0.7939584206228625\", \"0.8099697515955478\", \"0.8153874603917003\", \"0.8294240129856044\", \"0.8300768966189436\", \"0.8426529199563103\", \"0.8428256379597299\", \"0.8575943838671748\", \"0.8675099519236555\", \"0.8695628328390294\", \"0.8737775989431129\", \"0.9010221075261694\", \"0.9011499645301699\", \"0.9016355763447892\", \"0.9153767749594494\", \"0.9155959806339473\", \"0.9178404611418896\", \"0.9186909710460642\", \"0.9213479390618973\", \"0.9261661945230476\", \"0.9297707208232135\", \"0.9385849305426083\", \"0.9413337797761953\", \"0.9414927344891403\", \"0.9467415217138766\", \"0.9543642887291739\", \"0.9551475024121793\", \"0.9570013988262707\", \"0.9644247317118907\", \"0.9673686854868917\", \"0.968212622438041\", \"0.9706094604501093\", \"0.9732118466247897\", \"0.9760546852830095\", \"0.9762427299230646\", \"0.9773686031443728\", \"0.9777380675267388\", \"0.9819691349806057\", \"0.9822670616583302\", \"0.9831871842875582\", \"0.9836413684429867\", \"0.9849043689968686\", \"0.9855115399048205\", \"0.9863757972658587\", \"0.9864728396424024\", \"0.9869845660068065\", \"0.9876558895590317\", \"0.9882559782619895\", \"0.9885652951552358\", \"0.9890888615479111\", \"0.9897144920863578\", \"0.9911179357790969\", \"0.9912345625958624\", \"0.9922471997358189\", \"0.9928824422344483\", \"0.9931822153176701\", \"0.9936047094765688\", \"0.9938813022232792\", \"0.9941881660549842\", \"0.994480315981862\", \"0.9945413182695708\", \"0.9947622730765976\", \"0.9956115021150229\", \"0.9956475461803013\", \"0.99566716087293\", \"0.9966698365632249\", \"0.9973605232469078\", \"0.9974266421326304\", \"0.9975039210205259\", \"0.9975721271278685\", \"0.9977428638100831\", \"0.998051313438963\", \"0.9980628611372997\", \"0.9982871311679206\", \"0.9982890528441275\", \"0.998416800558988\", \"0.998572271799759\", \"0.9986311615480219\", \"0.9986409290734175\", \"0.9986419624733222\", \"0.9986730541635603\", \"0.9988370890146115\", \"0.9989198311290572\", \"0.999066401707269\", \"0.9991425255350764\", \"0.9991548789384375\", \"0.9992618462777961\", \"0.9992717639136348\", \"0.9992774414823982\", \"0.9993258260569804\", \"0.9994442344583192\", \"0.9994475003509509\", \"0.999459445321903\", \"0.9994659995562735\", \"0.9994664095134237\", \"0.9994817492003885\", \"0.9995040738766044\", \"0.9995351952847166\", \"0.9995422217685493\", \"0.9996133662747422\", \"0.9996586974230546\", \"0.9996714059979438\", \"0.9996739657393328\", \"0.999777076323624\", \"0.9997775069346273\", \"0.999828986087816\", \"0.9998351898291628\", \"0.9998664911403745\", \"0.9998788170334999\", \"0.9998957378805255\", \"0.9999017775927193\", \"0.9999048004807\", \"0.9999155431537062\", \"0.999930494170584\", \"0.9999338686436133\", \"0.999936580787474\", \"0.9999427953439005\", \"0.9999649444527798\", \"0.9999731449998892\", \"0.9999771065161269\", \"0.9999811497384605\", \"0.9999814910449789\", \"0.9999844146723652\", \"0.9999862809995755\", \"0.9999875005930564\", \"0.9999896528965453\", \"0.9999926147534065\", \"0.9999958325590637\", \"0.9999988846736366\", \"0.9999990389324753\", \"0.9999990905515652\", \"0.9999995227412959\"], \"type\": \"scatter\", \"x\": [1.0, 0.9936708860759493, 0.9936708860759493, 0.9936708860759493, 0.9936708860759493, 0.9936708860759493, 0.9936708860759493, 0.9936708860759493, 0.9936708860759493, 0.9936708860759493, 0.9936708860759493, 0.9936708860759493, 0.9936708860759493, 0.9936708860759493, 0.9873417721518988, 0.9873417721518988, 0.9873417721518988, 0.9873417721518988, 0.9873417721518988, 0.9810126582278481, 0.9810126582278481, 0.9810126582278481, 0.9746835443037974, 0.9746835443037974, 0.9746835443037974, 0.9746835443037974, 0.9746835443037974, 0.9746835443037974, 0.9683544303797469, 0.9683544303797469, 0.9683544303797469, 0.9683544303797469, 0.9683544303797469, 0.9683544303797469, 0.9683544303797469, 0.9683544303797469, 0.9620253164556962, 0.9620253164556962, 0.9620253164556962, 0.9620253164556962, 0.9620253164556962, 0.9620253164556962, 0.9620253164556962, 0.9620253164556962, 0.9620253164556962, 0.9620253164556962, 0.9620253164556962, 0.9620253164556962, 0.9620253164556962, 0.9620253164556962, 0.9620253164556962, 0.9620253164556962, 0.9620253164556962, 0.9620253164556962, 0.9620253164556962, 0.9620253164556962, 0.9556962025316456, 0.9556962025316456, 0.9556962025316456, 0.9556962025316456, 0.9556962025316456, 0.9556962025316456, 0.9556962025316456, 0.9556962025316456, 0.9556962025316456, 0.9493670886075949, 0.9493670886075949, 0.9493670886075949, 0.9430379746835443, 0.9430379746835443, 0.9430379746835443, 0.9430379746835443, 0.9367088607594937, 0.9367088607594937, 0.9367088607594937, 0.9367088607594937, 0.9367088607594937, 0.9367088607594937, 0.9367088607594937, 0.9367088607594937, 0.9367088607594937, 0.9367088607594937, 0.930379746835443, 0.930379746835443, 0.9240506329113924, 0.9240506329113924, 0.9177215189873418, 0.9177215189873418, 0.9177215189873418, 0.9113924050632911, 0.9050632911392406, 0.8987341772151899, 0.8987341772151899, 0.8987341772151899, 0.8924050632911392, 0.8860759493670886, 0.8860759493670886, 0.8860759493670886, 0.8860759493670886, 0.8860759493670886, 0.8860759493670886, 0.8860759493670886, 0.879746835443038, 0.8734177215189873, 0.8734177215189873, 0.8734177215189873, 0.8734177215189873, 0.8734177215189873, 0.8734177215189873, 0.8670886075949367, 0.8670886075949367, 0.8670886075949367, 0.8670886075949367, 0.8607594936708861, 0.8607594936708861, 0.8544303797468354, 0.8481012658227848, 0.8481012658227848, 0.8481012658227848, 0.8417721518987342, 0.8417721518987342, 0.8417721518987342, 0.8417721518987342, 0.8417721518987342, 0.8417721518987342, 0.8417721518987342, 0.8417721518987342, 0.8417721518987342, 0.8417721518987342, 0.8417721518987342, 0.8354430379746836, 0.8354430379746836, 0.8354430379746836, 0.8354430379746836, 0.8354430379746836, 0.8291139240506329, 0.8291139240506329, 0.8227848101265823, 0.8227848101265823, 0.8164556962025317, 0.8164556962025317, 0.810126582278481, 0.8037974683544303, 0.7974683544303798, 0.7911392405063291, 0.7911392405063291, 0.7848101265822784, 0.7784810126582279, 0.7784810126582279, 0.7721518987341772, 0.7658227848101266, 0.759493670886076, 0.7531645569620253, 0.7531645569620253, 0.7468354430379747, 0.740506329113924, 0.7341772151898734, 0.7278481012658228, 0.7215189873417721, 0.7215189873417721, 0.7215189873417721, 0.7151898734177216, 0.7088607594936709, 0.7025316455696202, 0.6962025316455697, 0.689873417721519, 0.6835443037974683, 0.6835443037974683, 0.6835443037974683, 0.6772151898734177, 0.6708860759493671, 0.6708860759493671, 0.6645569620253164, 0.6582278481012658, 0.6518987341772152, 0.6518987341772152, 0.6455696202531646, 0.6392405063291139, 0.6329113924050633, 0.6265822784810127, 0.620253164556962, 0.6139240506329114, 0.6075949367088608, 0.6075949367088608, 0.6075949367088608, 0.6012658227848101, 0.5949367088607594, 0.5886075949367089, 0.5822784810126582, 0.5759493670886076, 0.569620253164557, 0.5632911392405063, 0.5569620253164557, 0.5506329113924051, 0.5443037974683544, 0.5379746835443038, 0.5316455696202531, 0.5253164556962026, 0.5189873417721519, 0.5126582278481012, 0.5063291139240507, 0.5, 0.4936708860759494, 0.4873417721518987, 0.4810126582278481, 0.47468354430379744, 0.46835443037974683, 0.4620253164556962, 0.4620253164556962, 0.45569620253164556, 0.44936708860759494, 0.4430379746835443, 0.43670886075949367, 0.43037974683544306, 0.4240506329113924, 0.4177215189873418, 0.41139240506329117, 0.4050632911392405, 0.3987341772151899, 0.3924050632911392, 0.3860759493670886, 0.379746835443038, 0.37341772151898733, 0.3670886075949367, 0.36075949367088606, 0.35443037974683544, 0.34810126582278483, 0.34177215189873417, 0.33544303797468356, 0.3291139240506329, 0.3227848101265823, 0.31645569620253167, 0.310126582278481, 0.3037974683544304, 0.2974683544303797, 0.2911392405063291, 0.2848101265822785, 0.27848101265822783, 0.2721518987341772, 0.26582278481012656, 0.25949367088607594, 0.25316455696202533, 0.2468354430379747, 0.24050632911392406, 0.23417721518987342, 0.22784810126582278, 0.22151898734177214, 0.21518987341772153, 0.2088607594936709, 0.20253164556962025, 0.1962025316455696, 0.189873417721519, 0.18354430379746836, 0.17721518987341772, 0.17088607594936708, 0.16455696202531644, 0.15822784810126583, 0.1518987341772152, 0.14556962025316456, 0.13924050632911392, 0.13291139240506328, 0.12658227848101267, 0.12025316455696203, 0.11392405063291139, 0.10759493670886076, 0.10126582278481013, 0.0949367088607595, 0.08860759493670886, 0.08227848101265822, 0.0759493670886076, 0.06962025316455696, 0.06329113924050633, 0.056962025316455694, 0.05063291139240506, 0.04430379746835443, 0.0379746835443038, 0.03164556962025317, 0.02531645569620253, 0.0189873417721519, 0.012658227848101266, 0.006329113924050633, 0.0], \"y\": [0.5622775800711743, 0.5607142857142857, 0.5627240143369175, 0.564748201438849, 0.5667870036101083, 0.5688405797101449, 0.5709090909090909, 0.572992700729927, 0.575091575091575, 0.5772058823529411, 0.5793357933579336, 0.5814814814814815, 0.5836431226765799, 0.585820895522388, 0.5842696629213483, 0.5864661654135338, 0.5886792452830188, 0.5909090909090909, 0.5931558935361216, 0.5916030534351145, 0.5938697318007663, 0.5961538461538461, 0.5945945945945946, 0.5968992248062015, 0.5992217898832685, 0.6015625, 0.6039215686274509, 0.6062992125984252, 0.6047430830039525, 0.6071428571428571, 0.6095617529880478, 0.612, 0.6144578313253012, 0.6169354838709677, 0.6194331983805668, 0.6219512195121951, 0.6204081632653061, 0.6229508196721312, 0.6255144032921811, 0.628099173553719, 0.6307053941908713, 0.6333333333333333, 0.6359832635983264, 0.6386554621848739, 0.6413502109704642, 0.6440677966101694, 0.6468085106382979, 0.6495726495726496, 0.6523605150214592, 0.6551724137931034, 0.658008658008658, 0.6608695652173913, 0.6637554585152838, 0.6666666666666666, 0.6696035242290749, 0.672566371681416, 0.6711111111111111, 0.6741071428571429, 0.6771300448430493, 0.6801801801801802, 0.6832579185520362, 0.6863636363636364, 0.6894977168949772, 0.6926605504587156, 0.695852534562212, 0.6944444444444444, 0.6976744186046512, 0.7009345794392523, 0.6995305164319249, 0.7028301886792453, 0.7061611374407583, 0.7095238095238096, 0.7081339712918661, 0.7115384615384616, 0.714975845410628, 0.7184466019417476, 0.7219512195121951, 0.7254901960784313, 0.729064039408867, 0.7326732673267327, 0.736318407960199, 0.74, 0.7386934673366834, 0.7424242424242424, 0.7411167512690355, 0.7448979591836735, 0.7435897435897436, 0.7474226804123711, 0.7512953367875648, 0.75, 0.7486910994764397, 0.7473684210526316, 0.7513227513227513, 0.7553191489361702, 0.7540106951871658, 0.7526881720430108, 0.7567567567567568, 0.7608695652173914, 0.7650273224043715, 0.7692307692307693, 0.7734806629834254, 0.7777777777777778, 0.776536312849162, 0.7752808988764045, 0.7796610169491526, 0.7840909090909091, 0.7885714285714286, 0.7931034482758621, 0.7976878612716763, 0.7965116279069767, 0.8011695906432749, 0.8058823529411765, 0.8106508875739645, 0.8095238095238095, 0.8143712574850299, 0.8132530120481928, 0.8121212121212121, 0.8170731707317073, 0.8220858895705522, 0.8209876543209876, 0.8260869565217391, 0.83125, 0.8364779874213837, 0.8417721518987342, 0.8471337579617835, 0.8525641025641025, 0.8580645161290322, 0.8636363636363636, 0.869281045751634, 0.875, 0.8741721854304636, 0.88, 0.8859060402684564, 0.8918918918918919, 0.8979591836734694, 0.8972602739726028, 0.903448275862069, 0.9027777777777778, 0.9090909090909091, 0.9084507042253521, 0.9148936170212766, 0.9142857142857143, 0.9136690647482014, 0.9130434782608695, 0.9124087591240876, 0.9191176470588235, 0.9185185185185185, 0.917910447761194, 0.924812030075188, 0.9242424242424242, 0.9236641221374046, 0.9230769230769231, 0.9224806201550387, 0.9296875, 0.9291338582677166, 0.9285714285714286, 0.928, 0.9274193548387096, 0.926829268292683, 0.9344262295081968, 0.9421487603305785, 0.9416666666666667, 0.9411764705882353, 0.940677966101695, 0.9401709401709402, 0.9396551724137931, 0.9391304347826087, 0.9473684210526315, 0.9557522123893806, 0.9553571428571429, 0.954954954954955, 0.9636363636363636, 0.963302752293578, 0.9629629629629629, 0.9626168224299065, 0.9716981132075472, 0.9714285714285714, 0.9711538461538461, 0.970873786407767, 0.9705882352941176, 0.9702970297029703, 0.97, 0.9696969696969697, 0.9795918367346939, 0.9896907216494846, 0.9895833333333334, 0.9894736842105263, 0.9893617021276596, 0.989247311827957, 0.9891304347826086, 0.989010989010989, 0.9888888888888889, 0.9887640449438202, 0.9886363636363636, 0.9885057471264368, 0.9883720930232558, 0.9882352941176471, 0.9880952380952381, 0.9879518072289156, 0.9878048780487805, 0.9876543209876543, 0.9875, 0.9873417721518988, 0.9871794871794872, 0.987012987012987, 0.9868421052631579, 0.9866666666666667, 0.9864864864864865, 1.0, 1.0, 1.0, 1.0, 1.0, 1.0, 1.0, 1.0, 1.0, 1.0, 1.0, 1.0, 1.0, 1.0, 1.0, 1.0, 1.0, 1.0, 1.0, 1.0, 1.0, 1.0, 1.0, 1.0, 1.0, 1.0, 1.0, 1.0, 1.0, 1.0, 1.0, 1.0, 1.0, 1.0, 1.0, 1.0, 1.0, 1.0, 1.0, 1.0, 1.0, 1.0, 1.0, 1.0, 1.0, 1.0, 1.0, 1.0, 1.0, 1.0, 1.0, 1.0, 1.0, 1.0, 1.0, 1.0, 1.0, 1.0, 1.0, 1.0, 1.0, 1.0, 1.0, 1.0, 1.0, 1.0, 1.0, 1.0, 1.0, 1.0, 1.0, 1.0, 1.0, 1.0]}],                        {\"template\": {\"data\": {\"bar\": [{\"error_x\": {\"color\": \"#2a3f5f\"}, \"error_y\": {\"color\": \"#2a3f5f\"}, \"marker\": {\"line\": {\"color\": \"#E5ECF6\", \"width\": 0.5}}, \"type\": \"bar\"}], \"barpolar\": [{\"marker\": {\"line\": {\"color\": \"#E5ECF6\", \"width\": 0.5}}, \"type\": \"barpolar\"}], \"carpet\": [{\"aaxis\": {\"endlinecolor\": \"#2a3f5f\", \"gridcolor\": \"white\", \"linecolor\": \"white\", \"minorgridcolor\": \"white\", \"startlinecolor\": \"#2a3f5f\"}, \"baxis\": {\"endlinecolor\": \"#2a3f5f\", \"gridcolor\": \"white\", \"linecolor\": \"white\", \"minorgridcolor\": \"white\", \"startlinecolor\": \"#2a3f5f\"}, \"type\": \"carpet\"}], \"choropleth\": [{\"colorbar\": {\"outlinewidth\": 0, \"ticks\": \"\"}, \"type\": \"choropleth\"}], \"contour\": [{\"colorbar\": {\"outlinewidth\": 0, \"ticks\": \"\"}, \"colorscale\": [[0.0, \"#0d0887\"], [0.1111111111111111, \"#46039f\"], [0.2222222222222222, \"#7201a8\"], [0.3333333333333333, \"#9c179e\"], [0.4444444444444444, \"#bd3786\"], [0.5555555555555556, \"#d8576b\"], [0.6666666666666666, \"#ed7953\"], [0.7777777777777778, \"#fb9f3a\"], [0.8888888888888888, \"#fdca26\"], [1.0, \"#f0f921\"]], \"type\": \"contour\"}], \"contourcarpet\": [{\"colorbar\": {\"outlinewidth\": 0, \"ticks\": \"\"}, \"type\": \"contourcarpet\"}], \"heatmap\": [{\"colorbar\": {\"outlinewidth\": 0, \"ticks\": \"\"}, \"colorscale\": [[0.0, \"#0d0887\"], [0.1111111111111111, \"#46039f\"], [0.2222222222222222, \"#7201a8\"], [0.3333333333333333, \"#9c179e\"], [0.4444444444444444, \"#bd3786\"], [0.5555555555555556, \"#d8576b\"], [0.6666666666666666, \"#ed7953\"], [0.7777777777777778, \"#fb9f3a\"], [0.8888888888888888, \"#fdca26\"], [1.0, \"#f0f921\"]], \"type\": \"heatmap\"}], \"heatmapgl\": [{\"colorbar\": {\"outlinewidth\": 0, \"ticks\": \"\"}, \"colorscale\": [[0.0, \"#0d0887\"], [0.1111111111111111, \"#46039f\"], [0.2222222222222222, \"#7201a8\"], [0.3333333333333333, \"#9c179e\"], [0.4444444444444444, \"#bd3786\"], [0.5555555555555556, \"#d8576b\"], [0.6666666666666666, \"#ed7953\"], [0.7777777777777778, \"#fb9f3a\"], [0.8888888888888888, \"#fdca26\"], [1.0, \"#f0f921\"]], \"type\": \"heatmapgl\"}], \"histogram\": [{\"marker\": {\"colorbar\": {\"outlinewidth\": 0, \"ticks\": \"\"}}, \"type\": \"histogram\"}], \"histogram2d\": [{\"colorbar\": {\"outlinewidth\": 0, \"ticks\": \"\"}, \"colorscale\": [[0.0, \"#0d0887\"], [0.1111111111111111, \"#46039f\"], [0.2222222222222222, \"#7201a8\"], [0.3333333333333333, \"#9c179e\"], [0.4444444444444444, \"#bd3786\"], [0.5555555555555556, \"#d8576b\"], [0.6666666666666666, \"#ed7953\"], [0.7777777777777778, \"#fb9f3a\"], [0.8888888888888888, \"#fdca26\"], [1.0, \"#f0f921\"]], \"type\": \"histogram2d\"}], \"histogram2dcontour\": [{\"colorbar\": {\"outlinewidth\": 0, \"ticks\": \"\"}, \"colorscale\": [[0.0, \"#0d0887\"], [0.1111111111111111, \"#46039f\"], [0.2222222222222222, \"#7201a8\"], [0.3333333333333333, \"#9c179e\"], [0.4444444444444444, \"#bd3786\"], [0.5555555555555556, \"#d8576b\"], [0.6666666666666666, \"#ed7953\"], [0.7777777777777778, \"#fb9f3a\"], [0.8888888888888888, \"#fdca26\"], [1.0, \"#f0f921\"]], \"type\": \"histogram2dcontour\"}], \"mesh3d\": [{\"colorbar\": {\"outlinewidth\": 0, \"ticks\": \"\"}, \"type\": \"mesh3d\"}], \"parcoords\": [{\"line\": {\"colorbar\": {\"outlinewidth\": 0, \"ticks\": \"\"}}, \"type\": \"parcoords\"}], \"pie\": [{\"automargin\": true, \"type\": \"pie\"}], \"scatter\": [{\"marker\": {\"colorbar\": {\"outlinewidth\": 0, \"ticks\": \"\"}}, \"type\": \"scatter\"}], \"scatter3d\": [{\"line\": {\"colorbar\": {\"outlinewidth\": 0, \"ticks\": \"\"}}, \"marker\": {\"colorbar\": {\"outlinewidth\": 0, \"ticks\": \"\"}}, \"type\": \"scatter3d\"}], \"scattercarpet\": [{\"marker\": {\"colorbar\": {\"outlinewidth\": 0, \"ticks\": \"\"}}, \"type\": \"scattercarpet\"}], \"scattergeo\": [{\"marker\": {\"colorbar\": {\"outlinewidth\": 0, \"ticks\": \"\"}}, \"type\": \"scattergeo\"}], \"scattergl\": [{\"marker\": {\"colorbar\": {\"outlinewidth\": 0, \"ticks\": \"\"}}, \"type\": \"scattergl\"}], \"scattermapbox\": [{\"marker\": {\"colorbar\": {\"outlinewidth\": 0, \"ticks\": \"\"}}, \"type\": \"scattermapbox\"}], \"scatterpolar\": [{\"marker\": {\"colorbar\": {\"outlinewidth\": 0, \"ticks\": \"\"}}, \"type\": \"scatterpolar\"}], \"scatterpolargl\": [{\"marker\": {\"colorbar\": {\"outlinewidth\": 0, \"ticks\": \"\"}}, \"type\": \"scatterpolargl\"}], \"scatterternary\": [{\"marker\": {\"colorbar\": {\"outlinewidth\": 0, \"ticks\": \"\"}}, \"type\": \"scatterternary\"}], \"surface\": [{\"colorbar\": {\"outlinewidth\": 0, \"ticks\": \"\"}, \"colorscale\": [[0.0, \"#0d0887\"], [0.1111111111111111, \"#46039f\"], [0.2222222222222222, \"#7201a8\"], [0.3333333333333333, \"#9c179e\"], [0.4444444444444444, \"#bd3786\"], [0.5555555555555556, \"#d8576b\"], [0.6666666666666666, \"#ed7953\"], [0.7777777777777778, \"#fb9f3a\"], [0.8888888888888888, \"#fdca26\"], [1.0, \"#f0f921\"]], \"type\": \"surface\"}], \"table\": [{\"cells\": {\"fill\": {\"color\": \"#EBF0F8\"}, \"line\": {\"color\": \"white\"}}, \"header\": {\"fill\": {\"color\": \"#C8D4E3\"}, \"line\": {\"color\": \"white\"}}, \"type\": \"table\"}]}, \"layout\": {\"annotationdefaults\": {\"arrowcolor\": \"#2a3f5f\", \"arrowhead\": 0, \"arrowwidth\": 1}, \"autotypenumbers\": \"strict\", \"coloraxis\": {\"colorbar\": {\"outlinewidth\": 0, \"ticks\": \"\"}}, \"colorscale\": {\"diverging\": [[0, \"#8e0152\"], [0.1, \"#c51b7d\"], [0.2, \"#de77ae\"], [0.3, \"#f1b6da\"], [0.4, \"#fde0ef\"], [0.5, \"#f7f7f7\"], [0.6, \"#e6f5d0\"], [0.7, \"#b8e186\"], [0.8, \"#7fbc41\"], [0.9, \"#4d9221\"], [1, \"#276419\"]], \"sequential\": [[0.0, \"#0d0887\"], [0.1111111111111111, \"#46039f\"], [0.2222222222222222, \"#7201a8\"], [0.3333333333333333, \"#9c179e\"], [0.4444444444444444, \"#bd3786\"], [0.5555555555555556, \"#d8576b\"], [0.6666666666666666, \"#ed7953\"], [0.7777777777777778, \"#fb9f3a\"], [0.8888888888888888, \"#fdca26\"], [1.0, \"#f0f921\"]], \"sequentialminus\": [[0.0, \"#0d0887\"], [0.1111111111111111, \"#46039f\"], [0.2222222222222222, \"#7201a8\"], [0.3333333333333333, \"#9c179e\"], [0.4444444444444444, \"#bd3786\"], [0.5555555555555556, \"#d8576b\"], [0.6666666666666666, \"#ed7953\"], [0.7777777777777778, \"#fb9f3a\"], [0.8888888888888888, \"#fdca26\"], [1.0, \"#f0f921\"]]}, \"colorway\": [\"#636efa\", \"#EF553B\", \"#00cc96\", \"#ab63fa\", \"#FFA15A\", \"#19d3f3\", \"#FF6692\", \"#B6E880\", \"#FF97FF\", \"#FECB52\"], \"font\": {\"color\": \"#2a3f5f\"}, \"geo\": {\"bgcolor\": \"white\", \"lakecolor\": \"white\", \"landcolor\": \"#E5ECF6\", \"showlakes\": true, \"showland\": true, \"subunitcolor\": \"white\"}, \"hoverlabel\": {\"align\": \"left\"}, \"hovermode\": \"closest\", \"mapbox\": {\"style\": \"light\"}, \"paper_bgcolor\": \"white\", \"plot_bgcolor\": \"#E5ECF6\", \"polar\": {\"angularaxis\": {\"gridcolor\": \"white\", \"linecolor\": \"white\", \"ticks\": \"\"}, \"bgcolor\": \"#E5ECF6\", \"radialaxis\": {\"gridcolor\": \"white\", \"linecolor\": \"white\", \"ticks\": \"\"}}, \"scene\": {\"xaxis\": {\"backgroundcolor\": \"#E5ECF6\", \"gridcolor\": \"white\", \"gridwidth\": 2, \"linecolor\": \"white\", \"showbackground\": true, \"ticks\": \"\", \"zerolinecolor\": \"white\"}, \"yaxis\": {\"backgroundcolor\": \"#E5ECF6\", \"gridcolor\": \"white\", \"gridwidth\": 2, \"linecolor\": \"white\", \"showbackground\": true, \"ticks\": \"\", \"zerolinecolor\": \"white\"}, \"zaxis\": {\"backgroundcolor\": \"#E5ECF6\", \"gridcolor\": \"white\", \"gridwidth\": 2, \"linecolor\": \"white\", \"showbackground\": true, \"ticks\": \"\", \"zerolinecolor\": \"white\"}}, \"shapedefaults\": {\"line\": {\"color\": \"#2a3f5f\"}}, \"ternary\": {\"aaxis\": {\"gridcolor\": \"white\", \"linecolor\": \"white\", \"ticks\": \"\"}, \"baxis\": {\"gridcolor\": \"white\", \"linecolor\": \"white\", \"ticks\": \"\"}, \"bgcolor\": \"#E5ECF6\", \"caxis\": {\"gridcolor\": \"white\", \"linecolor\": \"white\", \"ticks\": \"\"}}, \"title\": {\"x\": 0.05}, \"xaxis\": {\"automargin\": true, \"gridcolor\": \"white\", \"linecolor\": \"white\", \"ticks\": \"\", \"title\": {\"standoff\": 15}, \"zerolinecolor\": \"white\", \"zerolinewidth\": 2}, \"yaxis\": {\"automargin\": true, \"gridcolor\": \"white\", \"linecolor\": \"white\", \"ticks\": \"\", \"title\": {\"standoff\": 15}, \"zerolinecolor\": \"white\", \"zerolinewidth\": 2}}}},                        {\"responsive\": true}                    ).then(function(){\n",
       "                            \n",
       "var gd = document.getElementById('db4f520d-4456-4fef-8618-d40c5862c5e2');\n",
       "var x = new MutationObserver(function (mutations, observer) {{\n",
       "        var display = window.getComputedStyle(gd).display;\n",
       "        if (!display || display === 'none') {{\n",
       "            console.log([gd, 'removed!']);\n",
       "            Plotly.purge(gd);\n",
       "            observer.disconnect();\n",
       "        }}\n",
       "}});\n",
       "\n",
       "// Listen for the removal of the full notebook cells\n",
       "var notebookContainer = gd.closest('#notebook-container');\n",
       "if (notebookContainer) {{\n",
       "    x.observe(notebookContainer, {childList: true});\n",
       "}}\n",
       "\n",
       "// Listen for the clearing of the current output cell\n",
       "var outputEl = gd.closest('.output');\n",
       "if (outputEl) {{\n",
       "    x.observe(outputEl, {childList: true});\n",
       "}}\n",
       "\n",
       "                        })                };                });            </script>        </div>"
      ]
     },
     "metadata": {},
     "output_type": "display_data"
    },
    {
     "name": "stdout",
     "output_type": "stream",
     "text": [
      "AUC:  0.9386517891942469\n"
     ]
    }
   ],
   "source": [
    "preds = clf.predict_proba(X_dev)[:, 1]\n",
    "print('FPR-TRP Curve')\n",
    "\n",
    "fpr, tpr, thresh = roc_curve(Y_dev, preds)\n",
    "roc_auc = auc(fpr, tpr)\n",
    "fig = go.Figure()\n",
    "fig.add_trace(go.Scatter(\n",
    "    x = fpr,\n",
    "    y = tpr,\n",
    "    text = thresh,\n",
    "    mode='lines'\n",
    "))\n",
    "fig.show()\n",
    "print(roc_auc)\n",
    "\n",
    "\n",
    "print('P-R Curve')\n",
    "precision, recall, thresholds = precision_recall_curve(Y_dev, preds)\n",
    "fig = go.Figure()\n",
    "fig.add_trace(go.Scatter(\n",
    "    x=recall,\n",
    "    y=precision,\n",
    "    text=np.array(thresholds).astype(str)\n",
    "))\n",
    "fig.show()\n",
    "print('AUC: ', auc(recall, precision))"
   ]
  },
  {
   "cell_type": "code",
   "execution_count": 21,
   "id": "mounted-restoration",
   "metadata": {},
   "outputs": [
    {
     "data": {
      "text/plain": [
       "0.852901902554187"
      ]
     },
     "execution_count": 21,
     "metadata": {},
     "output_type": "execute_result"
    }
   ],
   "source": [
    "preds = clf.predict(X_dev)\n",
    "f1_score(Y_dev, preds, average='macro')"
   ]
  },
  {
   "cell_type": "code",
   "execution_count": 22,
   "id": "hindu-appearance",
   "metadata": {},
   "outputs": [
    {
     "data": {
      "text/plain": [
       "(array([0.56227758, 0.56071429, 0.56272401, 0.5647482 , 0.566787  ,\n",
       "        0.56884058, 0.57090909, 0.5729927 , 0.57509158, 0.57720588,\n",
       "        0.57933579, 0.58148148, 0.58364312, 0.5858209 , 0.58426966,\n",
       "        0.58646617, 0.58867925, 0.59090909, 0.59315589, 0.59160305,\n",
       "        0.59386973, 0.59615385, 0.59459459, 0.59689922, 0.59922179,\n",
       "        0.6015625 , 0.60392157, 0.60629921, 0.60474308, 0.60714286,\n",
       "        0.60956175, 0.612     , 0.61445783, 0.61693548, 0.6194332 ,\n",
       "        0.62195122, 0.62040816, 0.62295082, 0.6255144 , 0.62809917,\n",
       "        0.63070539, 0.63333333, 0.63598326, 0.63865546, 0.64135021,\n",
       "        0.6440678 , 0.64680851, 0.64957265, 0.65236052, 0.65517241,\n",
       "        0.65800866, 0.66086957, 0.66375546, 0.66666667, 0.66960352,\n",
       "        0.67256637, 0.67111111, 0.67410714, 0.67713004, 0.68018018,\n",
       "        0.68325792, 0.68636364, 0.68949772, 0.69266055, 0.69585253,\n",
       "        0.69444444, 0.69767442, 0.70093458, 0.69953052, 0.70283019,\n",
       "        0.70616114, 0.70952381, 0.70813397, 0.71153846, 0.71497585,\n",
       "        0.7184466 , 0.72195122, 0.7254902 , 0.72906404, 0.73267327,\n",
       "        0.73631841, 0.74      , 0.73869347, 0.74242424, 0.74111675,\n",
       "        0.74489796, 0.74358974, 0.74742268, 0.75129534, 0.75      ,\n",
       "        0.7486911 , 0.74736842, 0.75132275, 0.75531915, 0.7540107 ,\n",
       "        0.75268817, 0.75675676, 0.76086957, 0.76502732, 0.76923077,\n",
       "        0.77348066, 0.77777778, 0.77653631, 0.7752809 , 0.77966102,\n",
       "        0.78409091, 0.78857143, 0.79310345, 0.79768786, 0.79651163,\n",
       "        0.80116959, 0.80588235, 0.81065089, 0.80952381, 0.81437126,\n",
       "        0.81325301, 0.81212121, 0.81707317, 0.82208589, 0.82098765,\n",
       "        0.82608696, 0.83125   , 0.83647799, 0.84177215, 0.84713376,\n",
       "        0.8525641 , 0.85806452, 0.86363636, 0.86928105, 0.875     ,\n",
       "        0.87417219, 0.88      , 0.88590604, 0.89189189, 0.89795918,\n",
       "        0.89726027, 0.90344828, 0.90277778, 0.90909091, 0.9084507 ,\n",
       "        0.91489362, 0.91428571, 0.91366906, 0.91304348, 0.91240876,\n",
       "        0.91911765, 0.91851852, 0.91791045, 0.92481203, 0.92424242,\n",
       "        0.92366412, 0.92307692, 0.92248062, 0.9296875 , 0.92913386,\n",
       "        0.92857143, 0.928     , 0.92741935, 0.92682927, 0.93442623,\n",
       "        0.94214876, 0.94166667, 0.94117647, 0.94067797, 0.94017094,\n",
       "        0.93965517, 0.93913043, 0.94736842, 0.95575221, 0.95535714,\n",
       "        0.95495495, 0.96363636, 0.96330275, 0.96296296, 0.96261682,\n",
       "        0.97169811, 0.97142857, 0.97115385, 0.97087379, 0.97058824,\n",
       "        0.97029703, 0.97      , 0.96969697, 0.97959184, 0.98969072,\n",
       "        0.98958333, 0.98947368, 0.9893617 , 0.98924731, 0.98913043,\n",
       "        0.98901099, 0.98888889, 0.98876404, 0.98863636, 0.98850575,\n",
       "        0.98837209, 0.98823529, 0.98809524, 0.98795181, 0.98780488,\n",
       "        0.98765432, 0.9875    , 0.98734177, 0.98717949, 0.98701299,\n",
       "        0.98684211, 0.98666667, 0.98648649, 1.        , 1.        ,\n",
       "        1.        , 1.        , 1.        , 1.        , 1.        ,\n",
       "        1.        , 1.        , 1.        , 1.        , 1.        ,\n",
       "        1.        , 1.        , 1.        , 1.        , 1.        ,\n",
       "        1.        , 1.        , 1.        , 1.        , 1.        ,\n",
       "        1.        , 1.        , 1.        , 1.        , 1.        ,\n",
       "        1.        , 1.        , 1.        , 1.        , 1.        ,\n",
       "        1.        , 1.        , 1.        , 1.        , 1.        ,\n",
       "        1.        , 1.        , 1.        , 1.        , 1.        ,\n",
       "        1.        , 1.        , 1.        , 1.        , 1.        ,\n",
       "        1.        , 1.        , 1.        , 1.        , 1.        ,\n",
       "        1.        , 1.        , 1.        , 1.        , 1.        ,\n",
       "        1.        , 1.        , 1.        , 1.        , 1.        ,\n",
       "        1.        , 1.        , 1.        , 1.        , 1.        ,\n",
       "        1.        , 1.        , 1.        , 1.        , 1.        ,\n",
       "        1.        , 1.        ]),\n",
       " array([1.        , 0.99367089, 0.99367089, 0.99367089, 0.99367089,\n",
       "        0.99367089, 0.99367089, 0.99367089, 0.99367089, 0.99367089,\n",
       "        0.99367089, 0.99367089, 0.99367089, 0.99367089, 0.98734177,\n",
       "        0.98734177, 0.98734177, 0.98734177, 0.98734177, 0.98101266,\n",
       "        0.98101266, 0.98101266, 0.97468354, 0.97468354, 0.97468354,\n",
       "        0.97468354, 0.97468354, 0.97468354, 0.96835443, 0.96835443,\n",
       "        0.96835443, 0.96835443, 0.96835443, 0.96835443, 0.96835443,\n",
       "        0.96835443, 0.96202532, 0.96202532, 0.96202532, 0.96202532,\n",
       "        0.96202532, 0.96202532, 0.96202532, 0.96202532, 0.96202532,\n",
       "        0.96202532, 0.96202532, 0.96202532, 0.96202532, 0.96202532,\n",
       "        0.96202532, 0.96202532, 0.96202532, 0.96202532, 0.96202532,\n",
       "        0.96202532, 0.9556962 , 0.9556962 , 0.9556962 , 0.9556962 ,\n",
       "        0.9556962 , 0.9556962 , 0.9556962 , 0.9556962 , 0.9556962 ,\n",
       "        0.94936709, 0.94936709, 0.94936709, 0.94303797, 0.94303797,\n",
       "        0.94303797, 0.94303797, 0.93670886, 0.93670886, 0.93670886,\n",
       "        0.93670886, 0.93670886, 0.93670886, 0.93670886, 0.93670886,\n",
       "        0.93670886, 0.93670886, 0.93037975, 0.93037975, 0.92405063,\n",
       "        0.92405063, 0.91772152, 0.91772152, 0.91772152, 0.91139241,\n",
       "        0.90506329, 0.89873418, 0.89873418, 0.89873418, 0.89240506,\n",
       "        0.88607595, 0.88607595, 0.88607595, 0.88607595, 0.88607595,\n",
       "        0.88607595, 0.88607595, 0.87974684, 0.87341772, 0.87341772,\n",
       "        0.87341772, 0.87341772, 0.87341772, 0.87341772, 0.86708861,\n",
       "        0.86708861, 0.86708861, 0.86708861, 0.86075949, 0.86075949,\n",
       "        0.85443038, 0.84810127, 0.84810127, 0.84810127, 0.84177215,\n",
       "        0.84177215, 0.84177215, 0.84177215, 0.84177215, 0.84177215,\n",
       "        0.84177215, 0.84177215, 0.84177215, 0.84177215, 0.84177215,\n",
       "        0.83544304, 0.83544304, 0.83544304, 0.83544304, 0.83544304,\n",
       "        0.82911392, 0.82911392, 0.82278481, 0.82278481, 0.8164557 ,\n",
       "        0.8164557 , 0.81012658, 0.80379747, 0.79746835, 0.79113924,\n",
       "        0.79113924, 0.78481013, 0.77848101, 0.77848101, 0.7721519 ,\n",
       "        0.76582278, 0.75949367, 0.75316456, 0.75316456, 0.74683544,\n",
       "        0.74050633, 0.73417722, 0.7278481 , 0.72151899, 0.72151899,\n",
       "        0.72151899, 0.71518987, 0.70886076, 0.70253165, 0.69620253,\n",
       "        0.68987342, 0.6835443 , 0.6835443 , 0.6835443 , 0.67721519,\n",
       "        0.67088608, 0.67088608, 0.66455696, 0.65822785, 0.65189873,\n",
       "        0.65189873, 0.64556962, 0.63924051, 0.63291139, 0.62658228,\n",
       "        0.62025316, 0.61392405, 0.60759494, 0.60759494, 0.60759494,\n",
       "        0.60126582, 0.59493671, 0.58860759, 0.58227848, 0.57594937,\n",
       "        0.56962025, 0.56329114, 0.55696203, 0.55063291, 0.5443038 ,\n",
       "        0.53797468, 0.53164557, 0.52531646, 0.51898734, 0.51265823,\n",
       "        0.50632911, 0.5       , 0.49367089, 0.48734177, 0.48101266,\n",
       "        0.47468354, 0.46835443, 0.46202532, 0.46202532, 0.4556962 ,\n",
       "        0.44936709, 0.44303797, 0.43670886, 0.43037975, 0.42405063,\n",
       "        0.41772152, 0.41139241, 0.40506329, 0.39873418, 0.39240506,\n",
       "        0.38607595, 0.37974684, 0.37341772, 0.36708861, 0.36075949,\n",
       "        0.35443038, 0.34810127, 0.34177215, 0.33544304, 0.32911392,\n",
       "        0.32278481, 0.3164557 , 0.31012658, 0.30379747, 0.29746835,\n",
       "        0.29113924, 0.28481013, 0.27848101, 0.2721519 , 0.26582278,\n",
       "        0.25949367, 0.25316456, 0.24683544, 0.24050633, 0.23417722,\n",
       "        0.2278481 , 0.22151899, 0.21518987, 0.20886076, 0.20253165,\n",
       "        0.19620253, 0.18987342, 0.1835443 , 0.17721519, 0.17088608,\n",
       "        0.16455696, 0.15822785, 0.15189873, 0.14556962, 0.13924051,\n",
       "        0.13291139, 0.12658228, 0.12025316, 0.11392405, 0.10759494,\n",
       "        0.10126582, 0.09493671, 0.08860759, 0.08227848, 0.07594937,\n",
       "        0.06962025, 0.06329114, 0.05696203, 0.05063291, 0.0443038 ,\n",
       "        0.03797468, 0.03164557, 0.02531646, 0.01898734, 0.01265823,\n",
       "        0.00632911, 0.        ]),\n",
       " array([1.13468071e-04, 1.93473274e-04, 2.03904968e-04, 2.24411563e-04,\n",
       "        2.43600031e-04, 3.49368382e-04, 3.60834320e-04, 4.23337054e-04,\n",
       "        5.15297321e-04, 5.31726057e-04, 6.09802637e-04, 6.32410373e-04,\n",
       "        7.23407659e-04, 8.91649366e-04, 9.04464265e-04, 1.01211395e-03,\n",
       "        1.09662135e-03, 1.20125931e-03, 1.25917626e-03, 1.28478117e-03,\n",
       "        1.31347967e-03, 1.35339438e-03, 1.54417926e-03, 1.67538635e-03,\n",
       "        1.77009297e-03, 2.15813542e-03, 2.21414600e-03, 2.32328375e-03,\n",
       "        2.90915959e-03, 2.94423531e-03, 3.14936782e-03, 3.30876258e-03,\n",
       "        3.39727483e-03, 3.58965452e-03, 3.61507014e-03, 3.83300161e-03,\n",
       "        4.45753338e-03, 4.46769300e-03, 5.03787161e-03, 5.06465867e-03,\n",
       "        5.20004240e-03, 6.17812394e-03, 6.65652448e-03, 7.34963542e-03,\n",
       "        7.54973754e-03, 7.58286051e-03, 8.69913059e-03, 9.15805987e-03,\n",
       "        9.20841594e-03, 1.03116363e-02, 1.12165965e-02, 1.66613865e-02,\n",
       "        1.68144547e-02, 1.80068367e-02, 1.80861219e-02, 1.87753117e-02,\n",
       "        1.91125245e-02, 2.05782117e-02, 2.28296519e-02, 2.51340701e-02,\n",
       "        2.78265889e-02, 2.84284884e-02, 2.92558662e-02, 3.05643722e-02,\n",
       "        3.29764531e-02, 3.32078021e-02, 3.38843271e-02, 3.39473449e-02,\n",
       "        3.51410335e-02, 3.51786179e-02, 3.74412509e-02, 3.82198216e-02,\n",
       "        3.93759420e-02, 4.08451703e-02, 4.13416219e-02, 4.85058280e-02,\n",
       "        5.46797271e-02, 5.56938347e-02, 5.64061045e-02, 5.67874404e-02,\n",
       "        6.05212196e-02, 6.14396435e-02, 7.10995709e-02, 7.72777136e-02,\n",
       "        8.81165648e-02, 9.26831661e-02, 9.93534303e-02, 1.00258726e-01,\n",
       "        1.10533753e-01, 1.16211167e-01, 1.29489304e-01, 1.32466087e-01,\n",
       "        1.35197842e-01, 1.42638775e-01, 1.52795524e-01, 1.55437939e-01,\n",
       "        1.78740862e-01, 1.82082952e-01, 1.86559087e-01, 1.89179296e-01,\n",
       "        2.18328776e-01, 2.23431088e-01, 2.35216787e-01, 2.42992271e-01,\n",
       "        2.73776917e-01, 2.85402146e-01, 2.97067558e-01, 3.00301657e-01,\n",
       "        3.04557884e-01, 3.09054283e-01, 3.16093875e-01, 3.28646538e-01,\n",
       "        3.48563041e-01, 3.50472390e-01, 3.53811903e-01, 3.73905450e-01,\n",
       "        3.76087635e-01, 3.78324988e-01, 3.81579747e-01, 3.84186262e-01,\n",
       "        3.87420378e-01, 3.91829572e-01, 3.93579878e-01, 4.09417495e-01,\n",
       "        4.23261533e-01, 4.40381729e-01, 4.80600131e-01, 4.88271094e-01,\n",
       "        5.36703562e-01, 5.44990067e-01, 5.54276045e-01, 5.54841856e-01,\n",
       "        5.67441396e-01, 5.73029022e-01, 6.23466968e-01, 6.33783994e-01,\n",
       "        6.55117287e-01, 6.96635017e-01, 6.96769010e-01, 6.96973468e-01,\n",
       "        6.97851986e-01, 7.04383474e-01, 7.28678129e-01, 7.30355730e-01,\n",
       "        7.62429891e-01, 7.65548225e-01, 7.78288709e-01, 7.81260525e-01,\n",
       "        7.89779225e-01, 7.93958421e-01, 8.09969752e-01, 8.15387460e-01,\n",
       "        8.29424013e-01, 8.30076897e-01, 8.42652920e-01, 8.42825638e-01,\n",
       "        8.57594384e-01, 8.67509952e-01, 8.69562833e-01, 8.73777599e-01,\n",
       "        9.01022108e-01, 9.01149965e-01, 9.01635576e-01, 9.15376775e-01,\n",
       "        9.15595981e-01, 9.17840461e-01, 9.18690971e-01, 9.21347939e-01,\n",
       "        9.26166195e-01, 9.29770721e-01, 9.38584931e-01, 9.41333780e-01,\n",
       "        9.41492734e-01, 9.46741522e-01, 9.54364289e-01, 9.55147502e-01,\n",
       "        9.57001399e-01, 9.64424732e-01, 9.67368685e-01, 9.68212622e-01,\n",
       "        9.70609460e-01, 9.73211847e-01, 9.76054685e-01, 9.76242730e-01,\n",
       "        9.77368603e-01, 9.77738068e-01, 9.81969135e-01, 9.82267062e-01,\n",
       "        9.83187184e-01, 9.83641368e-01, 9.84904369e-01, 9.85511540e-01,\n",
       "        9.86375797e-01, 9.86472840e-01, 9.86984566e-01, 9.87655890e-01,\n",
       "        9.88255978e-01, 9.88565295e-01, 9.89088862e-01, 9.89714492e-01,\n",
       "        9.91117936e-01, 9.91234563e-01, 9.92247200e-01, 9.92882442e-01,\n",
       "        9.93182215e-01, 9.93604709e-01, 9.93881302e-01, 9.94188166e-01,\n",
       "        9.94480316e-01, 9.94541318e-01, 9.94762273e-01, 9.95611502e-01,\n",
       "        9.95647546e-01, 9.95667161e-01, 9.96669837e-01, 9.97360523e-01,\n",
       "        9.97426642e-01, 9.97503921e-01, 9.97572127e-01, 9.97742864e-01,\n",
       "        9.98051313e-01, 9.98062861e-01, 9.98287131e-01, 9.98289053e-01,\n",
       "        9.98416801e-01, 9.98572272e-01, 9.98631162e-01, 9.98640929e-01,\n",
       "        9.98641962e-01, 9.98673054e-01, 9.98837089e-01, 9.98919831e-01,\n",
       "        9.99066402e-01, 9.99142526e-01, 9.99154879e-01, 9.99261846e-01,\n",
       "        9.99271764e-01, 9.99277441e-01, 9.99325826e-01, 9.99444234e-01,\n",
       "        9.99447500e-01, 9.99459445e-01, 9.99466000e-01, 9.99466410e-01,\n",
       "        9.99481749e-01, 9.99504074e-01, 9.99535195e-01, 9.99542222e-01,\n",
       "        9.99613366e-01, 9.99658697e-01, 9.99671406e-01, 9.99673966e-01,\n",
       "        9.99777076e-01, 9.99777507e-01, 9.99828986e-01, 9.99835190e-01,\n",
       "        9.99866491e-01, 9.99878817e-01, 9.99895738e-01, 9.99901778e-01,\n",
       "        9.99904800e-01, 9.99915543e-01, 9.99930494e-01, 9.99933869e-01,\n",
       "        9.99936581e-01, 9.99942795e-01, 9.99964944e-01, 9.99973145e-01,\n",
       "        9.99977107e-01, 9.99981150e-01, 9.99981491e-01, 9.99984415e-01,\n",
       "        9.99986281e-01, 9.99987501e-01, 9.99989653e-01, 9.99992615e-01,\n",
       "        9.99995833e-01, 9.99998885e-01, 9.99999039e-01, 9.99999091e-01,\n",
       "        9.99999523e-01]))"
      ]
     },
     "execution_count": 22,
     "metadata": {},
     "output_type": "execute_result"
    }
   ],
   "source": [
    "precision, recall, thresholds"
   ]
  },
  {
   "cell_type": "markdown",
   "id": "developing-function",
   "metadata": {},
   "source": [
    "### SVM"
   ]
  },
  {
   "cell_type": "code",
   "execution_count": null,
   "id": "sought-joining",
   "metadata": {},
   "outputs": [],
   "source": [
    "clf = SVC(probability = True, random_state = 1)"
   ]
  },
  {
   "cell_type": "code",
   "execution_count": null,
   "id": "cosmetic-interim",
   "metadata": {},
   "outputs": [],
   "source": [
    "param_dist = {\"C\": stats.uniform(2, 10),\n",
    "             \"gamma\": stats.uniform(0.1, 1)}\n",
    "rand_search = RandomizedSearchCV(clf, param_distributions=param_dist,\n",
    "                                       n_iter=15,n_jobs=-1)\n",
    "rand_search.fit(X_train, Y_train)\n",
    "\n",
    "rand_search.best_params_"
   ]
  },
  {
   "cell_type": "code",
   "execution_count": null,
   "id": "foreign-blame",
   "metadata": {},
   "outputs": [],
   "source": [
    "clf = SVC(probability = True, C=4.33, gamma=1.07)\n",
    "clf.fit(X_train, Y_train)"
   ]
  },
  {
   "cell_type": "code",
   "execution_count": null,
   "id": "medium-astrology",
   "metadata": {},
   "outputs": [],
   "source": [
    "texts = np.hstack([dev_df['text1'].values, dev_df['text2'].values])\n",
    "texts1 = dev_df['text1']\n",
    "texts2 = dev_df['text2']\n",
    "Y_dev = dev_df['same'].values"
   ]
  },
  {
   "cell_type": "code",
   "execution_count": null,
   "id": "thirty-large",
   "metadata": {},
   "outputs": [],
   "source": [
    "x1 = scaler.transform(vectorizer.transform(texts1))\n",
    "x2 = scaler.transform(vectorizer.transform(texts2))\n",
    "X_dev = np.abs(x1-x2).todense()"
   ]
  },
  {
   "cell_type": "code",
   "execution_count": null,
   "id": "governmental-change",
   "metadata": {},
   "outputs": [],
   "source": [
    "preds = clf.predict_proba(X_dev)[:, 1]\n",
    "print('FPR-TRP Curve')\n",
    "\n",
    "fpr, tpr, thresh = roc_curve(Y_dev, preds)\n",
    "roc_auc = auc(fpr, tpr)\n",
    "fig = go.Figure()\n",
    "fig.add_trace(go.Scatter(\n",
    "    x = fpr,\n",
    "    y = tpr,\n",
    "    text = thresh,\n",
    "    mode='lines'\n",
    "))\n",
    "fig.show()\n",
    "print(roc_auc)\n",
    "\n",
    "\n",
    "print('P-R Curve')\n",
    "precision, recall, thresholds = precision_recall_curve(Y_dev, preds)\n",
    "fig = go.Figure()\n",
    "fig.add_trace(go.Scatter(\n",
    "    x=recall,\n",
    "    y=precision,\n",
    "    text=np.array(thresholds).astype(str)\n",
    "))\n",
    "fig.show()\n",
    "print('AUC: ', auc(recall, precision))"
   ]
  },
  {
   "cell_type": "code",
   "execution_count": null,
   "id": "included-patrol",
   "metadata": {},
   "outputs": [],
   "source": [
    "preds = (clf.predict(X_dev))\n",
    "f1_score(Y_dev, preds, average='macro')"
   ]
  },
  {
   "cell_type": "code",
   "execution_count": null,
   "id": "under-nicaragua",
   "metadata": {},
   "outputs": [],
   "source": []
  }
 ],
 "metadata": {
  "kernelspec": {
   "display_name": "Python 3",
   "language": "python",
   "name": "python3"
  },
  "language_info": {
   "codemirror_mode": {
    "name": "ipython",
    "version": 3
   },
   "file_extension": ".py",
   "mimetype": "text/x-python",
   "name": "python",
   "nbconvert_exporter": "python",
   "pygments_lexer": "ipython3",
   "version": "3.8.5"
  }
 },
 "nbformat": 4,
 "nbformat_minor": 5
}
